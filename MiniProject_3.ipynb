{
  "nbformat": 4,
  "nbformat_minor": 0,
  "metadata": {
    "kernelspec": {
      "display_name": "Python 3",
      "language": "python",
      "name": "python3"
    },
    "language_info": {
      "codemirror_mode": {
        "name": "ipython",
        "version": 3
      },
      "file_extension": ".py",
      "mimetype": "text/x-python",
      "name": "python",
      "nbconvert_exporter": "python",
      "pygments_lexer": "ipython3",
      "version": "3.8.5"
    },
    "colab": {
      "name": "MiniProject_3.ipynb",
      "provenance": [],
      "collapsed_sections": [],
      "include_colab_link": true
    },
    "accelerator": "GPU"
  },
  "cells": [
    {
      "cell_type": "markdown",
      "metadata": {
        "id": "view-in-github",
        "colab_type": "text"
      },
      "source": [
        "<a href=\"https://colab.research.google.com/github/du-hr/MNIST-CNN/blob/Teresa/MiniProject_3.ipynb\" target=\"_parent\"><img src=\"https://colab.research.google.com/assets/colab-badge.svg\" alt=\"Open In Colab\"/></a>"
      ]
    },
    {
      "cell_type": "markdown",
      "metadata": {
        "id": "TwdLP40A4X-A"
      },
      "source": [
        "# MiniProject 3: Multi-label Classification of Image Data\n",
        "\n",
        "\n",
        "> MiniProject 3 of COMP 551 (Fall 2020) at McGill University\n",
        "\n",
        "\n",
        "> Authors (G17): Haoran Du (260776911), Robin Cho (260806783), Teresa Lee (260715070)\n",
        "\n",
        "\n",
        "\n"
      ]
    },
    {
      "cell_type": "code",
      "metadata": {
        "id": "CGhQKetcGX8y",
        "colab": {
          "base_uri": "https://localhost:8080/"
        },
        "outputId": "531273eb-baf6-46b4-9088-6a1a70c5421c"
      },
      "source": [
        "import numpy as np\n",
        "import scipy as sci\n",
        "import pandas as pd\n",
        "import h5py\n",
        "import torch\n",
        "from google.colab import drive\n",
        "# ignore the follwoing line if running locally\n",
        "drive.mount('/content/drive')\n",
        "# make path = './' if running locally\n",
        "path = '/content/drive/My Drive/'\n",
        "\n",
        "#%matplotlib notebook\n",
        "%matplotlib inline\n",
        "import matplotlib.pyplot as plt\n"
      ],
      "execution_count": null,
      "outputs": [
        {
          "output_type": "stream",
          "text": [
            "Mounted at /content/drive\n"
          ],
          "name": "stdout"
        }
      ]
    },
    {
      "cell_type": "markdown",
      "metadata": {
        "id": "P5VYQqenQbc4"
      },
      "source": [
        "## **1. Datasets**"
      ]
    },
    {
      "cell_type": "markdown",
      "metadata": {
        "id": "WcWAWxDGWb5N"
      },
      "source": [
        "### **1.1 Import Data**"
      ]
    },
    {
      "cell_type": "code",
      "metadata": {
        "id": "F3U3KGvMOWxI",
        "colab": {
          "base_uri": "https://localhost:8080/",
          "height": 313
        },
        "outputId": "1d2f6062-1b31-44cf-ac68-e698e3fa7083"
      },
      "source": [
        "# load the datasets\n",
        "with h5py.File(path+'MNIST_synthetic.h5', 'r') as hdfid:\n",
        "     print(hdfid.keys())\n",
        "     test_images = hdfid['test_dataset'][()]\n",
        "     train_images = hdfid['train_dataset'][()]\n",
        "     train_labels = hdfid['train_labels'][()]\n",
        "\n",
        "# display train_images properties\n",
        "print(train_images.shape)\n",
        "# print(train_iamges[10][30])\n",
        "\n",
        "# plot first 3 images in train_images\n",
        "images=[]\n",
        "titles=[]\n",
        "images.append(np.array(train_images[0], dtype='float').reshape(64,64))\n",
        "titles.append(\"img_1\")\n",
        "images.append(np.array(train_images[1], dtype='float').reshape(64,64))\n",
        "titles.append(\"img_2\")\n",
        "images.append(np.array(train_images[2], dtype='float').reshape(64,64))\n",
        "titles.append(\"img_3\")\n",
        "\n",
        "for i in range(3):\n",
        "    plt.subplot(1,3,i+1),plt.imshow(images[i])\n",
        "    plt.title(titles[i])\n",
        "    plt.xticks([]),plt.yticks([])\n",
        "\n",
        "plt.show()\n",
        "\n",
        "# display train_labels properties\n",
        "print(train_labels.shape)\n",
        "print(train_labels)"
      ],
      "execution_count": null,
      "outputs": [
        {
          "output_type": "stream",
          "text": [
            "<KeysViewHDF5 ['test_dataset', 'train_dataset', 'train_labels']>\n",
            "(56000, 64, 64, 1)\n"
          ],
          "name": "stdout"
        },
        {
          "output_type": "display_data",
          "data": {
            "image/png": "[encoded data removed]",
            "text/plain": [
              "<Figure size 432x288 with 3 Axes>"
            ]
          },
          "metadata": {
            "tags": []
          }
        },
        {
          "output_type": "stream",
          "text": [
            "(56000, 5)\n",
            "[[ 8  5  0  3 10]\n",
            " [ 8  9  9  8  7]\n",
            " [ 1  7  9  1  8]\n",
            " ...\n",
            " [ 4  4 10 10 10]\n",
            " [ 7  9  8 10 10]\n",
            " [ 6 10 10 10 10]]\n"
          ],
          "name": "stdout"
        }
      ]
    },
    {
      "cell_type": "markdown",
      "metadata": {
        "id": "_V7Rym-vWRc0"
      },
      "source": [
        "### **1.2 Data Preprocessing**"
      ]
    },
    {
      "cell_type": "markdown",
      "metadata": {
        "id": "ELeEfetpnnuT"
      },
      "source": [
        "###**1.2.1 One Hot Encoding**"
      ]
    },
    {
      "cell_type": "code",
      "metadata": {
        "id": "ihpulb94Wg5y"
      },
      "source": [
        "#First, perform OHE on training labels\n",
        "from keras.utils import to_categorical\n",
        "\n",
        "train_new_labels = to_categorical(train_labels)\n",
        "Y_train = torch.from_numpy(train_new_labels) #save the oneHotEncoded labels as tensor"
      ],
      "execution_count": null,
      "outputs": []
    },
    {
      "cell_type": "code",
      "metadata": {
        "id": "ApXhhzBjoGeX",
        "colab": {
          "base_uri": "https://localhost:8080/"
        },
        "outputId": "0d00895d-7596-419a-cf20-8e9c8bd753a4"
      },
      "source": [
        "Y_train"
      ],
      "execution_count": null,
      "outputs": [
        {
          "output_type": "execute_result",
          "data": {
            "text/plain": [
              "tensor([[[0., 0., 0.,  ..., 1., 0., 0.],\n",
              "         [0., 0., 0.,  ..., 0., 0., 0.],\n",
              "         [1., 0., 0.,  ..., 0., 0., 0.],\n",
              "         [0., 0., 0.,  ..., 0., 0., 0.],\n",
              "         [0., 0., 0.,  ..., 0., 0., 1.]],\n",
              "\n",
              "        [[0., 0., 0.,  ..., 1., 0., 0.],\n",
              "         [0., 0., 0.,  ..., 0., 1., 0.],\n",
              "         [0., 0., 0.,  ..., 0., 1., 0.],\n",
              "         [0., 0., 0.,  ..., 1., 0., 0.],\n",
              "         [0., 0., 0.,  ..., 0., 0., 0.]],\n",
              "\n",
              "        [[0., 1., 0.,  ..., 0., 0., 0.],\n",
              "         [0., 0., 0.,  ..., 0., 0., 0.],\n",
              "         [0., 0., 0.,  ..., 0., 1., 0.],\n",
              "         [0., 1., 0.,  ..., 0., 0., 0.],\n",
              "         [0., 0., 0.,  ..., 1., 0., 0.]],\n",
              "\n",
              "        ...,\n",
              "\n",
              "        [[0., 0., 0.,  ..., 0., 0., 0.],\n",
              "         [0., 0., 0.,  ..., 0., 0., 0.],\n",
              "         [0., 0., 0.,  ..., 0., 0., 1.],\n",
              "         [0., 0., 0.,  ..., 0., 0., 1.],\n",
              "         [0., 0., 0.,  ..., 0., 0., 1.]],\n",
              "\n",
              "        [[0., 0., 0.,  ..., 0., 0., 0.],\n",
              "         [0., 0., 0.,  ..., 0., 1., 0.],\n",
              "         [0., 0., 0.,  ..., 1., 0., 0.],\n",
              "         [0., 0., 0.,  ..., 0., 0., 1.],\n",
              "         [0., 0., 0.,  ..., 0., 0., 1.]],\n",
              "\n",
              "        [[0., 0., 0.,  ..., 0., 0., 0.],\n",
              "         [0., 0., 0.,  ..., 0., 0., 1.],\n",
              "         [0., 0., 0.,  ..., 0., 0., 1.],\n",
              "         [0., 0., 0.,  ..., 0., 0., 1.],\n",
              "         [0., 0., 0.,  ..., 0., 0., 1.]]])"
            ]
          },
          "metadata": {
            "tags": []
          },
          "execution_count": 4
        }
      ]
    },
    {
      "cell_type": "code",
      "metadata": {
        "colab": {
          "base_uri": "https://localhost:8080/"
        },
        "id": "xLAJOrRgdpib",
        "outputId": "22cee308-8c66-49da-b77c-130c40e3ea22"
      },
      "source": [
        "Y_train.shape"
      ],
      "execution_count": null,
      "outputs": [
        {
          "output_type": "execute_result",
          "data": {
            "text/plain": [
              "torch.Size([56000, 5, 11])"
            ]
          },
          "metadata": {
            "tags": []
          },
          "execution_count": 5
        }
      ]
    },
    {
      "cell_type": "markdown",
      "metadata": {
        "id": "f7iV-2cYn4rn"
      },
      "source": [
        "### **1.2.2 Data Normalization**"
      ]
    },
    {
      "cell_type": "code",
      "metadata": {
        "id": "t4fnW9LJwNLO"
      },
      "source": [
        "# normalize to range 0-1 with typecast to float\n",
        "def data_scaled(x):\n",
        "  scaled_x = x.astype('float32') / 255.0\n",
        "  return scaled_x\n",
        "\n",
        "scaled_train_images = data_normalized(train_images)\n",
        "X_train = torch.from_numpy(scaled_train_images)"
      ],
      "execution_count": null,
      "outputs": []
    },
    {
      "cell_type": "code",
      "metadata": {
        "id": "_iY1y3r69yVI"
      },
      "source": [
        "def data_standardized(x):\n",
        "  mean = torch.mean(x, 1, keepdim = True)\n",
        "  std = torch.std(x. 1, keepdim = True)\n",
        "  normalized_x = (x - mean)/std\n",
        "  return normalized_x\n",
        "\n",
        "#X_train = data_standardized(X_train)"
      ],
      "execution_count": null,
      "outputs": []
    },
    {
      "cell_type": "markdown",
      "metadata": {
        "id": "1oGTptaF2_x9"
      },
      "source": [
        "###**1.2.3 Detecting the number of digits**"
      ]
    },
    {
      "cell_type": "code",
      "metadata": {
        "id": "0cY7Y3emwYOe"
      },
      "source": [
        "import cv2\n",
        "threshold = 1 #Hyperparameter?\n",
        "width = 12\n",
        "height = 12"
      ],
      "execution_count": null,
      "outputs": []
    },
    {
      "cell_type": "code",
      "metadata": {
        "id": "r2dRRAe8wRIl"
      },
      "source": [
        "def findDigits(img):\n",
        "  #Note that a normalized image does not work\n",
        "  ret,thresh = cv2.threshold(img,threshold,255,0)\n",
        "  contours, hierarchy = cv2.findContours(thresh, cv2.RETR_EXTERNAL, cv2.CHAIN_APPROX_SIMPLE)\n",
        "\n",
        "  #print(len(contours))\n",
        "  def getKey(item):\n",
        "    return item[0]\n",
        "\n",
        "  digitsLoc = []\n",
        "  minArea = 15\n",
        "  for cnt in contours:\n",
        "    x, y, w, h = cv2.boundingRect(cnt)\n",
        "    if w == 1 and h > 4:\n",
        "      listTemp = [x, y, w, h]\n",
        "      digitsLoc.append(listTemp)\n",
        "    \n",
        "    elif w * h > minArea:\n",
        "      listTemp = [x, y, w, h]\n",
        "      digitsLoc.append(listTemp)\n",
        "  \n",
        "  return sorted(digitsLoc, key = lambda x: x[0])"
      ],
      "execution_count": null,
      "outputs": []
    },
    {
      "cell_type": "code",
      "metadata": {
        "id": "Ic8U8B8bzf_p",
        "colab": {
          "base_uri": "https://localhost:8080/",
          "height": 1000
        },
        "outputId": "0b4465fb-be6a-4dcd-b7e3-cb0fe6894af2"
      },
      "source": [
        "images_scaled=[]\n",
        "images_scaled.append(np.array(train_images[4476], dtype='float').reshape(64,64))\n",
        "sample = plt.imshow(images_scaled[0])\n",
        "plt.show()\n",
        "\n",
        "#x = findDigits(train_images[3282])\n",
        "passed = 0\n",
        "total = 0\n",
        "\n",
        "for i in range(0, 56000):\n",
        "  x = len(findDigits(train_images[i]))\n",
        "  n = 0\n",
        "  for c in train_labels[i]:\n",
        "    if c != 10:\n",
        "      n = n + 1\n",
        "  \n",
        "  if n == x:\n",
        "    passed = passed + 1\n",
        "  else:\n",
        "    print(\"Case#: \",i, \"Detected: \" ,x, \" Expected: \", n)\n",
        "  total = total + 1\n",
        "\n",
        "print(passed/total)"
      ],
      "execution_count": null,
      "outputs": [
        {
          "output_type": "display_data",
          "data": {
            "image/png": "[encoded data removed]",
            "text/plain": [
              "<Figure size 432x288 with 1 Axes>"
            ]
          },
          "metadata": {
            "tags": [],
            "needs_background": "light"
          }
        },
        {
          "output_type": "stream",
          "text": [
            "Case#:  264 Detected:  3  Expected:  4\n",
            "Case#:  1530 Detected:  4  Expected:  5\n",
            "Case#:  3344 Detected:  1  Expected:  2\n",
            "Case#:  3709 Detected:  3  Expected:  4\n",
            "Case#:  4142 Detected:  4  Expected:  5\n",
            "Case#:  4155 Detected:  3  Expected:  4\n",
            "Case#:  4757 Detected:  3  Expected:  4\n",
            "Case#:  5245 Detected:  1  Expected:  2\n",
            "Case#:  7023 Detected:  4  Expected:  5\n",
            "Case#:  7348 Detected:  6  Expected:  5\n",
            "Case#:  7491 Detected:  4  Expected:  5\n",
            "Case#:  7958 Detected:  5  Expected:  4\n",
            "Case#:  9140 Detected:  3  Expected:  4\n",
            "Case#:  10223 Detected:  2  Expected:  3\n",
            "Case#:  11408 Detected:  2  Expected:  3\n",
            "Case#:  11739 Detected:  4  Expected:  5\n",
            "Case#:  12629 Detected:  2  Expected:  3\n",
            "Case#:  13291 Detected:  3  Expected:  4\n",
            "Case#:  13551 Detected:  4  Expected:  5\n",
            "Case#:  16801 Detected:  3  Expected:  4\n",
            "Case#:  17768 Detected:  6  Expected:  5\n",
            "Case#:  18127 Detected:  4  Expected:  5\n",
            "Case#:  20220 Detected:  3  Expected:  4\n",
            "Case#:  22505 Detected:  1  Expected:  2\n",
            "Case#:  22884 Detected:  5  Expected:  4\n",
            "Case#:  23959 Detected:  4  Expected:  5\n",
            "Case#:  26042 Detected:  3  Expected:  4\n",
            "Case#:  27399 Detected:  4  Expected:  5\n",
            "Case#:  28246 Detected:  5  Expected:  4\n",
            "Case#:  29910 Detected:  4  Expected:  5\n",
            "Case#:  31619 Detected:  3  Expected:  2\n",
            "Case#:  32954 Detected:  3  Expected:  4\n",
            "Case#:  33640 Detected:  6  Expected:  5\n",
            "Case#:  33935 Detected:  3  Expected:  4\n",
            "Case#:  35350 Detected:  4  Expected:  5\n",
            "Case#:  37873 Detected:  5  Expected:  4\n",
            "Case#:  39165 Detected:  3  Expected:  4\n",
            "Case#:  39721 Detected:  4  Expected:  5\n",
            "Case#:  41435 Detected:  4  Expected:  3\n",
            "Case#:  42162 Detected:  3  Expected:  4\n",
            "Case#:  42649 Detected:  5  Expected:  4\n",
            "Case#:  44362 Detected:  2  Expected:  3\n",
            "Case#:  46295 Detected:  4  Expected:  3\n",
            "Case#:  46373 Detected:  4  Expected:  5\n",
            "Case#:  48651 Detected:  3  Expected:  4\n",
            "Case#:  49483 Detected:  3  Expected:  2\n",
            "Case#:  50935 Detected:  3  Expected:  4\n",
            "Case#:  53330 Detected:  1  Expected:  2\n",
            "Case#:  54436 Detected:  2  Expected:  3\n",
            "Case#:  55359 Detected:  3  Expected:  4\n",
            "0.9991071428571429\n"
          ],
          "name": "stdout"
        }
      ]
    },
    {
      "cell_type": "markdown",
      "metadata": {
        "id": "VtJy-sffpYok"
      },
      "source": [
        "### **1.2.4 Class Distribution**\n"
      ]
    },
    {
      "cell_type": "code",
      "metadata": {
        "id": "5Vwee0UprjPB",
        "colab": {
          "base_uri": "https://localhost:8080/",
          "height": 280
        },
        "outputId": "b5e582b4-ba09-4345-c390-e49115f11cae"
      },
      "source": [
        "unique_y1, counts_y1 = np.unique(train_labels[:, 0], return_counts=True)\n",
        "plt.bar(unique_y1, counts_y1/sum(counts_y1))\n",
        "plt.xticks(unique_y1, unique_y1)\n",
        "plt.title(f\"Class Distribution of the first column\")\n",
        "plt.show()"
      ],
      "execution_count": null,
      "outputs": [
        {
          "output_type": "display_data",
          "data": {
            "image/png": "[encoded data removed]",
            "text/plain": [
              "<Figure size 432x288 with 1 Axes>"
            ]
          },
          "metadata": {
            "tags": [],
            "needs_background": "light"
          }
        }
      ]
    },
    {
      "cell_type": "code",
      "metadata": {
        "id": "dAJ4C4nbrtg2",
        "colab": {
          "base_uri": "https://localhost:8080/",
          "height": 280
        },
        "outputId": "c062afd4-ea98-4ca5-8fc3-5562fdbf70f3"
      },
      "source": [
        "unique_y2, counts_y2 = np.unique(train_labels[:, 1], return_counts=True)\n",
        "plt.bar(unique_y2, counts_y2/sum(counts_y2))\n",
        "plt.xticks(unique_y2, unique_y2)\n",
        "plt.title(f\"Class Distribution of the second column\")\n",
        "plt.show()"
      ],
      "execution_count": null,
      "outputs": [
        {
          "output_type": "display_data",
          "data": {
            "image/png": "[encoded data removed]",
            "text/plain": [
              "<Figure size 432x288 with 1 Axes>"
            ]
          },
          "metadata": {
            "tags": [],
            "needs_background": "light"
          }
        }
      ]
    },
    {
      "cell_type": "code",
      "metadata": {
        "id": "DQln8QrArt3D",
        "colab": {
          "base_uri": "https://localhost:8080/",
          "height": 280
        },
        "outputId": "de2698e6-be4a-44bf-b916-46b6e26b4149"
      },
      "source": [
        "unique_y3, counts_y3 = np.unique(train_labels[:, 2], return_counts=True)\n",
        "plt.bar(unique_y3, counts_y3/sum(counts_y3))\n",
        "plt.xticks(unique_y3, unique_y3)\n",
        "plt.title(f\"Class Distribution of the third column\")\n",
        "plt.show()"
      ],
      "execution_count": null,
      "outputs": [
        {
          "output_type": "display_data",
          "data": {
            "image/png": "[encoded data removed]",
            "text/plain": [
              "<Figure size 432x288 with 1 Axes>"
            ]
          },
          "metadata": {
            "tags": [],
            "needs_background": "light"
          }
        }
      ]
    },
    {
      "cell_type": "code",
      "metadata": {
        "id": "ADQMb2X6ruMT",
        "colab": {
          "base_uri": "https://localhost:8080/",
          "height": 280
        },
        "outputId": "a4e7aed3-a97f-4c39-e2af-849529ab47ac"
      },
      "source": [
        "unique_y4, counts_y4 = np.unique(train_labels[:, 3], return_counts=True)\n",
        "plt.bar(unique_y4, counts_y4/sum(counts_y4))\n",
        "plt.xticks(unique_y4, unique_y4)\n",
        "plt.title(f\"Class Distribution of the fourth column\")\n",
        "plt.show()"
      ],
      "execution_count": null,
      "outputs": [
        {
          "output_type": "display_data",
          "data": {
            "image/png": "[encoded data removed]",
            "text/plain": [
              "<Figure size 432x288 with 1 Axes>"
            ]
          },
          "metadata": {
            "tags": [],
            "needs_background": "light"
          }
        }
      ]
    },
    {
      "cell_type": "code",
      "metadata": {
        "id": "vYuwvAWQru7I",
        "colab": {
          "base_uri": "https://localhost:8080/",
          "height": 280
        },
        "outputId": "a2b31265-09cb-40d8-905b-978ae5ee0b60"
      },
      "source": [
        "unique_y5, counts_y5 = np.unique(train_labels[:, 4], return_counts=True)\n",
        "plt.bar(unique_y5, counts_y5/sum(counts_y5))\n",
        "plt.xticks(unique_y5, unique_y5)\n",
        "plt.title(f\"Class Distribution of the fifth column\")\n",
        "plt.show()"
      ],
      "execution_count": null,
      "outputs": [
        {
          "output_type": "display_data",
          "data": {
            "image/png": "[encoded data removed]",
            "text/plain": [
              "<Figure size 432x288 with 1 Axes>"
            ]
          },
          "metadata": {
            "tags": [],
            "needs_background": "light"
          }
        }
      ]
    },
    {
      "cell_type": "markdown",
      "metadata": {
        "id": "SlLoNgfSoKD2"
      },
      "source": [
        "### **1.2.4 Calculate the bounds of the images**\n"
      ]
    },
    {
      "cell_type": "code",
      "metadata": {
        "id": "NF7LOKX5oJRk"
      },
      "source": [
        "def lowerBound(x):\n",
        "  N = x.shape[1]\n",
        "  D = x.shape[0]\n",
        "  lowerBounds = [0]*D\n",
        "  bound = x[0, 0]\n",
        "  for i in list(range(0, D)):\n",
        "    for j in list(range(0, N)):\n",
        "      if torch.all(torch.eq(x[i, j], bound)):\n",
        "        lowerBounds[i] = j + 1\n",
        "      else:\n",
        "        break\n",
        "  return min(lowerBounds)\n",
        "  \n",
        "def upperBound(x):\n",
        "  N = x.shape[1]\n",
        "  D = x.shape[0]\n",
        "  upperBounds = [64]*D\n",
        "  bound = x[0, 0]\n",
        "  for i in list(range(0, D)):\n",
        "    for j in list(range(0, N)):\n",
        "      if torch.all(torch.eq(x[i, 63-j], bound)):\n",
        "        upperBounds[i] = 63-j\n",
        "      else:\n",
        "        break\n",
        "  return max(upperBounds)"
      ],
      "execution_count": null,
      "outputs": []
    },
    {
      "cell_type": "code",
      "metadata": {
        "id": "aDiUbLpdIdkF"
      },
      "source": [
        "def leftBound(x):\n",
        "  N = x.shape[2]\n",
        "  D = x.shape[0]\n",
        "  leftBounds = [0]*D\n",
        "  bound = x[0, :, 0]\n",
        "  for i in list(range(0, D)):\n",
        "    for j in list(range(0, N)):\n",
        "      if torch.all(torch.eq(x[i, :, j], bound)):\n",
        "        leftBounds[i] = j + 1\n",
        "      else:\n",
        "        break\n",
        "  return min(leftBounds)\n",
        "  \n",
        "def rightBound(x):\n",
        "  N = x.shape[2]\n",
        "  D = x.shape[0]\n",
        "  rightBounds = [64]*D\n",
        "  bound = x[0, :, 0]\n",
        "  for i in list(range(0, D)):\n",
        "    for j in list(range(0, N)):\n",
        "      if torch.all(torch.eq(x[i, :, 63 - j], bound)):\n",
        "        rightBounds[i] = 63 - j\n",
        "      else:\n",
        "        break\n",
        "  return max(rightBounds)"
      ],
      "execution_count": null,
      "outputs": []
    },
    {
      "cell_type": "code",
      "metadata": {
        "id": "metobBdpqBXv",
        "colab": {
          "base_uri": "https://localhost:8080/"
        },
        "outputId": "3669fe40-bdfb-4480-e4fa-16e9da48abbd"
      },
      "source": [
        "u = upperBound(X_train)\n",
        "l = lowerBound(X_train)\n",
        "l2 = leftBound(X_train)\n",
        "r = rightBound(X_train)\n",
        "\n",
        "print(\"Upper bound: \", u,\", Lower bound:\", l, \", Left bound: \", l2,\", Right bound:\", r)"
      ],
      "execution_count": null,
      "outputs": [
        {
          "output_type": "stream",
          "text": [
            "Upper bound:  38 , Lower bound: 26 , Left bound:  2 , Right bound: 62\n"
          ],
          "name": "stdout"
        }
      ]
    },
    {
      "cell_type": "markdown",
      "metadata": {
        "id": "g7ghhGf6wzaV"
      },
      "source": [
        "### **1.2.5 Partitioning the data**\n"
      ]
    },
    {
      "cell_type": "code",
      "metadata": {
        "id": "Uiuu_L9T4XJ7"
      },
      "source": [
        "def leftBound_digit(x, initial_column):\n",
        "  N = x.shape[1] #column\n",
        "  leftBound = 0\n",
        "  bound = torch.full(x[:, 0].shape, 0.2)\n",
        "  for i in list(range(initial_column, N)):\n",
        "    if torch.all(torch.le(x[:, i], bound)):\n",
        "      leftBound = i + 1\n",
        "    else:\n",
        "      break\n",
        "  return leftBound"
      ],
      "execution_count": null,
      "outputs": []
    },
    {
      "cell_type": "code",
      "metadata": {
        "id": "gCell7HW-kbp"
      },
      "source": [
        "def rightBound_digit(x, initial_column):\n",
        "  N = x.shape[1] #column\n",
        "  leftBound = 0\n",
        "  bound = torch.full(x[:, 0].shape, 0.2)\n",
        "  for i in list(range(initial_column, N)):\n",
        "    if torch.all(torch.le(x[:, i], bound)) == False:\n",
        "      leftBound = i + 1\n",
        "    else:\n",
        "      break\n",
        "  return leftBound"
      ],
      "execution_count": null,
      "outputs": []
    },
    {
      "cell_type": "code",
      "metadata": {
        "id": "V2wzc_uZZCTk"
      },
      "source": [
        "def partition_image(x):\n",
        "  x = x.reshape(64, 64)\n",
        "  l = leftBound_digit(x, 0)\n",
        "  r = rightBound_digit(x, l)\n",
        "  x_1 = torch.zeros((12, 12))\n",
        "  x_1[0:12, 0: x[26:38,l:r].shape[1]] = x[26:38,l:r]\n",
        "\n",
        "  l = leftBound_digit(x, r)\n",
        "  if l == 64: #i.e. one digit\n",
        "    x_2 = torch.zeros((12, 12))\n",
        "    x_3 = torch.zeros((12, 12))\n",
        "    x_4 = torch.zeros((12, 12))\n",
        "    x_5 = torch.zeros((12, 12))\n",
        "  else:\n",
        "    r = rightBound_digit(x, l)\n",
        "    x_2 = torch.zeros((12, 12))\n",
        "    x_2[0:12, 0: x[26:38,l:r].shape[1]] = x[26:38,l:r]\n",
        "\n",
        "    l = leftBound_digit(x, r)\n",
        "\n",
        "    if l == 64: #i.e. two digits\n",
        "      x_3 = torch.zeros((12, 12))\n",
        "      x_4 = torch.zeros((12, 12))\n",
        "      x_5 = torch.zeros((12, 12))\n",
        "    else:\n",
        "      r = rightBound_digit(x, l)\n",
        "      x_3 = torch.zeros((12, 12))\n",
        "      x_3[0:12, 0: x[26:38,l:r].shape[1]] = x[26:38,l:r]\n",
        "      l = leftBound_digit(x, r)\n",
        "\n",
        "      if l == 64: #i.e. three digits\n",
        "        x_4 = torch.zeros((12, 12))\n",
        "        x_5 = torch.zeros((12, 12))\n",
        "      else:\n",
        "        r = rightBound_digit(x, l)\n",
        "        x_4 = torch.zeros((12, 12))\n",
        "        x_4[0:12, 0: x[26:38,l:r].shape[1]] = x[26:38,l:r]\n",
        "        l = leftBound_digit(x, r)\n",
        "\n",
        "        if l == 64:  #i.e. four digits\n",
        "          x_5 = torch.zeros((12, 12))\n",
        "        else: #i.e. five digits\n",
        "          r = rightBound_digit(x, l)\n",
        "          x_5 = torch.zeros((12, 12))\n",
        "          x_5[0:12, 0: x[26:38,l:r].shape[1]] = x[26:38,l:r]\n",
        "    \n",
        "  x_0 = torch.stack((x_1, x_2, x_3, x_4, x_5))\n",
        "\n",
        "  return x_0"
      ],
      "execution_count": null,
      "outputs": []
    },
    {
      "cell_type": "code",
      "metadata": {
        "colab": {
          "base_uri": "https://localhost:8080/",
          "height": 285
        },
        "id": "JK0E9O98qRmR",
        "outputId": "e50577d7-e431-441a-bc66-bdf8ba64ce1b"
      },
      "source": [
        "x_try = X_train[0].reshape(64, 64)\n",
        "plt.imshow(x_try)"
      ],
      "execution_count": null,
      "outputs": [
        {
          "output_type": "execute_result",
          "data": {
            "text/plain": [
              "<matplotlib.image.AxesImage at 0x7fb336b3ea90>"
            ]
          },
          "metadata": {
            "tags": []
          },
          "execution_count": 9
        },
        {
          "output_type": "display_data",
          "data": {
            "image/png": "[encoded data removed]",
            "text/plain": [
              "<Figure size 432x288 with 1 Axes>"
            ]
          },
          "metadata": {
            "tags": [],
            "needs_background": "light"
          }
        }
      ]
    },
    {
      "cell_type": "code",
      "metadata": {
        "colab": {
          "base_uri": "https://localhost:8080/",
          "height": 91
        },
        "id": "cnSIGZZlHScx",
        "outputId": "7ec0fdff-f354-4925-f645-3a0f8f5bb3a0"
      },
      "source": [
        "x_try_part = partition_image(x_try)\n",
        "for i in range(5):\n",
        "    plt.subplot(1,5,i+1),plt.imshow(x_try_part[i, :, :])\n",
        "    plt.xticks([]),plt.yticks([])"
      ],
      "execution_count": null,
      "outputs": [
        {
          "output_type": "display_data",
          "data": {
            "image/png": "[encoded data removed]",
            "text/plain": [
              "<Figure size 432x288 with 5 Axes>"
            ]
          },
          "metadata": {
            "tags": []
          }
        }
      ]
    },
    {
      "cell_type": "code",
      "metadata": {
        "id": "ltEpUY3XGNm7"
      },
      "source": [
        "#this code checks the accuracy per image\n",
        "def partition_image_number_of_digits_accuracy(x):\n",
        "  x = x.reshape(64, 64)\n",
        "  l = leftBound_digit(x, 0)\n",
        "  r = rightBound_digit(x, l)\n",
        "  l = leftBound_digit(x, r)\n",
        "  if l == 64: #i.e. one digit\n",
        "    n = 1\n",
        "  else:\n",
        "    r = rightBound_digit(x, l)\n",
        "    l = leftBound_digit(x, r)\n",
        "\n",
        "    if l == 64: #i.e. two digits\n",
        "      n = 2\n",
        "    else:\n",
        "      r = rightBound_digit(x, l)\n",
        "      l = leftBound_digit(x, r)\n",
        "\n",
        "      if l == 64: #i.e. three digits\n",
        "        n = 3\n",
        "      else:\n",
        "        r = rightBound_digit(x, l)\n",
        "        l = leftBound_digit(x, r)\n",
        "\n",
        "        if l == 64:  #i.e. four digits\n",
        "          n = 4\n",
        "        else: #i.e. five digits\n",
        "          r = rightBound_digit(x, l)\n",
        "          n = 5\n",
        "  return n"
      ],
      "execution_count": null,
      "outputs": []
    },
    {
      "cell_type": "code",
      "metadata": {
        "id": "wnM0GDqqGjac"
      },
      "source": [
        "def accuracy_check(x, y):\n",
        "  D = x.shape[0]\n",
        "  Y_true = torch.zeros(D)\n",
        "  for i in list(range(0, D)):\n",
        "    n = 0\n",
        "    for c in y[i]:\n",
        "      if c != 10:\n",
        "        n = n + 1\n",
        "    Y_true[i] = n\n",
        "\n",
        "  correct = 0\n",
        "  incorrect = 0\n",
        "  for i in list(range(0, D)):\n",
        "    if Y_true[i] == partition_image_number_of_digits_accuracy(x[i]):\n",
        "      correct = correct + 1\n",
        "    else:\n",
        "      incorrect = incorrect +1\n",
        "  return correct/(incorrect+correct)"
      ],
      "execution_count": null,
      "outputs": []
    },
    {
      "cell_type": "code",
      "metadata": {
        "id": "LIbR-6lBJEOd",
        "colab": {
          "base_uri": "https://localhost:8080/"
        },
        "outputId": "50aff262-af0f-43bb-e301-625af309d77b"
      },
      "source": [
        "accuracy_check(X_train, train_labels)"
      ],
      "execution_count": null,
      "outputs": [
        {
          "output_type": "execute_result",
          "data": {
            "text/plain": [
              "0.997375"
            ]
          },
          "metadata": {
            "tags": []
          },
          "execution_count": 137
        }
      ]
    },
    {
      "cell_type": "code",
      "metadata": {
        "id": "A-wkegnYllIf"
      },
      "source": [
        "#The accuracy is 0.994 when set threshold = 0\n",
        "#The accuracy is 0.996 when set threshold = 0.25\n",
        "#The accuracy is 0.986 when set threshold = 0.361"
      ],
      "execution_count": null,
      "outputs": []
    },
    {
      "cell_type": "code",
      "metadata": {
        "id": "LyWvd72NPzTA"
      },
      "source": [
        "def incorrect_list(x, y):\n",
        "  D = x.shape[0]\n",
        "  Y_true = torch.zeros(D)\n",
        "  for i in list(range(0, D)):\n",
        "    n = 0\n",
        "    for c in y[i]:\n",
        "      if c != 10:\n",
        "        n = n + 1\n",
        "    Y_true[i] = n\n",
        "\n",
        "  correct = 0\n",
        "  incorrect = []\n",
        "  for i in list(range(0, D)):\n",
        "    if Y_true[i] == partition_image_number_of_digits_accuracy(x[i]):\n",
        "      correct = correct + 1\n",
        "    else:\n",
        "      incorrect.append(i)\n",
        "  return incorrect"
      ],
      "execution_count": null,
      "outputs": []
    },
    {
      "cell_type": "code",
      "metadata": {
        "id": "dnJa-EH6QZdE"
      },
      "source": [
        "incorrect_digits = incorrect_list(X_train, train_labels)"
      ],
      "execution_count": null,
      "outputs": []
    },
    {
      "cell_type": "code",
      "metadata": {
        "colab": {
          "base_uri": "https://localhost:8080/"
        },
        "id": "rkW7qQviQOfG",
        "outputId": "d4e7fe6e-3246-412c-ecca-bec1d577d391"
      },
      "source": [
        "print(np.array(incorrect_digits))"
      ],
      "execution_count": null,
      "outputs": [
        {
          "output_type": "stream",
          "text": [
            "[  678  1576  2110  3254  3771  3878  3883  4011  4447  4639  4890  5011\n",
            "  5809  5892  6708  7021  8597  8698  8941  9070  9722  9860 10545 10792\n",
            " 11090 11622 12806 13824 14131 14150 14748 14896 15874 16268 16488 16553\n",
            " 16984 17030 17310 18127 18772 18861 19104 19660 20243 20666 21407 21578\n",
            " 21692 21839 21917 22832 22864 23438 24124 24360 24786 24809 25190 25273\n",
            " 25292 25376 25913 26042 26601 27695 27704 27942 28690 28919 29189 29444\n",
            " 29616 29623 29800 30120 30169 30386 30907 31392 31598 32187 32383 32557\n",
            " 32752 32944 33049 33167 33354 34909 35422 36550 36780 36787 37239 37607\n",
            " 37859 38355 38495 38753 38965 39331 39693 40349 40780 40917 41084 41329\n",
            " 41479 41913 42324 42451 43557 44071 44245 44650 45009 45074 45089 45187\n",
            " 45719 46256 46543 46742 47255 47595 48072 48985 49179 49303 49305 50225\n",
            " 50737 50840 51106 51592 52326 52705 53779 54048 54282 54814 54831 55088\n",
            " 55823 55847 55849]\n"
          ],
          "name": "stdout"
        }
      ]
    },
    {
      "cell_type": "code",
      "metadata": {
        "id": "uz2BeAYTUeMZ"
      },
      "source": [
        "correct_digits = list(range(0, X_train.shape[0]))\n",
        "correct_digits = list(np.delete(np.array(correct_digits), (incorrect_digits), axis=0))"
      ],
      "execution_count": null,
      "outputs": []
    },
    {
      "cell_type": "code",
      "metadata": {
        "colab": {
          "base_uri": "https://localhost:8080/"
        },
        "id": "qbz6iQFGa_vd",
        "outputId": "d71e423f-ad4b-4b9b-cfba-f05afc56271a"
      },
      "source": [
        "np.array(correct_digits).shape"
      ],
      "execution_count": null,
      "outputs": [
        {
          "output_type": "execute_result",
          "data": {
            "text/plain": [
              "(55853,)"
            ]
          },
          "metadata": {
            "tags": []
          },
          "execution_count": 34
        }
      ]
    },
    {
      "cell_type": "code",
      "metadata": {
        "colab": {
          "base_uri": "https://localhost:8080/"
        },
        "id": "pzFsC2NEZqka",
        "outputId": "f11f4e31-1283-40aa-faf8-953097694903"
      },
      "source": [
        "accuracy_check(X_train[correct_digits, :], train_labels[correct_digits, :])"
      ],
      "execution_count": null,
      "outputs": [
        {
          "output_type": "execute_result",
          "data": {
            "text/plain": [
              "1.0"
            ]
          },
          "metadata": {
            "tags": []
          },
          "execution_count": 27
        }
      ]
    },
    {
      "cell_type": "code",
      "metadata": {
        "id": "9LTsJ1nkcJSG"
      },
      "source": [
        "def dataset_images_partition(x):\n",
        "  d1 = x.shape[0]\n",
        "  d2 = 5\n",
        "  d3 = 14\n",
        "  d4 = 14\n",
        "  X_new = torch.zeros((d1, d2, d3, d4))\n",
        "  for i in list(range(0, d1)):\n",
        "    X_new[i] = partition_image(x[i])\n",
        "  return X_new"
      ],
      "execution_count": null,
      "outputs": []
    },
    {
      "cell_type": "code",
      "metadata": {
        "id": "vn4Xzl_pc-gc"
      },
      "source": [
        "X_train_part = dataset_images_partition(X_train[correct_digits, :])\n",
        "Y_train_part = Y_train[correct_digits, :]"
      ],
      "execution_count": null,
      "outputs": []
    },
    {
      "cell_type": "code",
      "metadata": {
        "colab": {
          "base_uri": "https://localhost:8080/"
        },
        "id": "QmG8IofXa6aQ",
        "outputId": "afd08ad4-1459-4c0a-9eb5-efb95cc3540e"
      },
      "source": [
        "X_train_part.shape"
      ],
      "execution_count": null,
      "outputs": [
        {
          "output_type": "execute_result",
          "data": {
            "text/plain": [
              "torch.Size([55853, 5, 14, 14])"
            ]
          },
          "metadata": {
            "tags": []
          },
          "execution_count": 33
        }
      ]
    },
    {
      "cell_type": "markdown",
      "metadata": {
        "id": "dRUoe-A8Wgs2"
      },
      "source": [
        "## **2. Neural Network Models**"
      ]
    },
    {
      "cell_type": "markdown",
      "metadata": {
        "id": "PtV8OBc6b1RM"
      },
      "source": [
        "### **2.1 Convolutional Neural Network**"
      ]
    },
    {
      "cell_type": "code",
      "metadata": {
        "id": "JwL0Rac0jUB9"
      },
      "source": [
        ""
      ],
      "execution_count": null,
      "outputs": []
    },
    {
      "cell_type": "markdown",
      "metadata": {
        "id": "f552nCyKb_2D"
      },
      "source": [
        "### **2.2 Convolutional Neural Network 2**\n",
        "\n"
      ]
    },
    {
      "cell_type": "code",
      "metadata": {
        "id": "SKo-pWow_M6B"
      },
      "source": [
        "'''\n",
        "from sklearn.model_selection import train_test_split\n",
        "train_df, test_df = train_test_split(df,test_size = 0.2)\n",
        "'''"
      ],
      "execution_count": null,
      "outputs": []
    },
    {
      "cell_type": "code",
      "metadata": {
        "id": "WjFthGpUerBl",
        "outputId": "d327cfb4-47be-4a0d-8282-4411f11d7f1f",
        "colab": {
          "base_uri": "https://localhost:8080/"
        }
      },
      "source": [
        "from keras.models import Sequential\n",
        "from keras.layers import Dense, Flatten\n",
        "\n",
        "model2 = Sequential()\n",
        "model2.add(Flatten(input_shape=(5, 12, 12)))\n",
        "model2.add(Dense(512, activation = 'relu')) #neuron = 512, this is a hidden layer\n",
        "model2.add(Dense(256, activation = 'relu'))\n",
        "model2.add(Dense(128, activation = 'relu'))\n",
        "model2.add(Dense(64, activation = 'relu'))\n",
        "model2.add(Dense(11, activation = 'relu'))\n",
        "\n",
        "model2.compile(loss = 'categorical_crossentropy', optimizer = 'adam', metrics = ['accuracy'])\n",
        "model2.summary()"
      ],
      "execution_count": 4,
      "outputs": [
        {
          "output_type": "stream",
          "text": [
            "Model: \"sequential_3\"\n",
            "_________________________________________________________________\n",
            "Layer (type)                 Output Shape              Param #   \n",
            "=================================================================\n",
            "flatten_3 (Flatten)          (None, 720)               0         \n",
            "_________________________________________________________________\n",
            "dense_10 (Dense)             (None, 512)               369152    \n",
            "_________________________________________________________________\n",
            "dense_11 (Dense)             (None, 256)               131328    \n",
            "_________________________________________________________________\n",
            "dense_12 (Dense)             (None, 128)               32896     \n",
            "_________________________________________________________________\n",
            "dense_13 (Dense)             (None, 64)                8256      \n",
            "_________________________________________________________________\n",
            "dense_14 (Dense)             (None, 11)                715       \n",
            "=================================================================\n",
            "Total params: 542,347\n",
            "Trainable params: 542,347\n",
            "Non-trainable params: 0\n",
            "_________________________________________________________________\n"
          ],
          "name": "stdout"
        }
      ]
    },
    {
      "cell_type": "code",
      "metadata": {
        "id": "O8TTDVJ9Ge1E"
      },
      "source": [
        ""
      ],
      "execution_count": null,
      "outputs": []
    },
    {
      "cell_type": "code",
      "metadata": {
        "id": "Gw3CR84x-0j7"
      },
      "source": [
        "'''\n",
        "y_pred = model.predict(X_test)\n",
        "#Converting predictions to label\n",
        "pred = list()\n",
        "for i in range(len(y_pred)):\n",
        "    pred.append(np.argmax(y_pred[i]))\n",
        "#Converting one hot encoded test label to label\n",
        "test = list()\n",
        "for i in range(len(y_test)):\n",
        "    test.append(np.argmax(y_test[i]))\n",
        "'''"
      ],
      "execution_count": null,
      "outputs": []
    },
    {
      "cell_type": "code",
      "metadata": {
        "id": "VNA7psPv-2SA"
      },
      "source": [
        "'''\n",
        "from sklearn.metrics import accuracy_score\n",
        "a = accuracy_score(pred,test)\n",
        "print('Accuracy is:', a*100)\n",
        "'''"
      ],
      "execution_count": null,
      "outputs": []
    },
    {
      "cell_type": "code",
      "metadata": {
        "id": "O9Ga7ELh-_Df"
      },
      "source": [
        "'''\n",
        "import matplotlib.pyplot as plt\n",
        "plt.plot(history.history['acc'])\n",
        "plt.plot(history.history['val_acc'])\n",
        "plt.title('Model accuracy')\n",
        "plt.ylabel('Accuracy')\n",
        "plt.xlabel('Epoch')\n",
        "plt.legend(['Train', 'Test'], loc='upper left')\n",
        "plt.show()\n",
        "'''"
      ],
      "execution_count": null,
      "outputs": []
    },
    {
      "cell_type": "code",
      "metadata": {
        "id": "vHGU0IvM_B7s"
      },
      "source": [
        "'''\n",
        "plt.plot(history.history['loss']) plt.plot(history.history['val_loss']) \n",
        "plt.title('Model loss') \n",
        "plt.ylabel('Loss') \n",
        "plt.xlabel('Epoch') \n",
        "plt.legend(['Train', 'Test'], loc='upper left') \n",
        "plt.show()\n",
        "'''"
      ],
      "execution_count": null,
      "outputs": []
    },
    {
      "cell_type": "markdown",
      "metadata": {
        "id": "_znBeX41cJ3A"
      },
      "source": [
        "### **2.3 Another Neural Network model?**"
      ]
    },
    {
      "cell_type": "code",
      "metadata": {
        "id": "pY302QCecIe9"
      },
      "source": [
        ""
      ],
      "execution_count": null,
      "outputs": []
    },
    {
      "cell_type": "markdown",
      "metadata": {
        "id": "vbZFVFikWsSP"
      },
      "source": [
        "## **3. Performance**"
      ]
    },
    {
      "cell_type": "markdown",
      "metadata": {
        "id": "Fe2at6MbcSkg"
      },
      "source": [
        "### **3.1 Hyperparameters Tuning**"
      ]
    },
    {
      "cell_type": "code",
      "metadata": {
        "id": "DWYfO-mfcQUG"
      },
      "source": [
        ""
      ],
      "execution_count": null,
      "outputs": []
    },
    {
      "cell_type": "markdown",
      "metadata": {
        "id": "HfoMDzsZcjnu"
      },
      "source": [
        "###**3.1.1 Convolutional Neural Network**"
      ]
    },
    {
      "cell_type": "code",
      "metadata": {
        "id": "XQVIY8Y8cxWn"
      },
      "source": [
        ""
      ],
      "execution_count": null,
      "outputs": []
    },
    {
      "cell_type": "markdown",
      "metadata": {
        "id": "eWvM76ygczqN"
      },
      "source": [
        "###**3.1.2 Neural Network with a Clustering Layer**"
      ]
    },
    {
      "cell_type": "code",
      "metadata": {
        "id": "bqHXh3-wcxrw"
      },
      "source": [
        ""
      ],
      "execution_count": null,
      "outputs": []
    },
    {
      "cell_type": "markdown",
      "metadata": {
        "id": "GD421dfPc5Tm"
      },
      "source": [
        "###**3.1.3 Another model?**"
      ]
    },
    {
      "cell_type": "code",
      "metadata": {
        "id": "nkkMqluucy6U"
      },
      "source": [
        ""
      ],
      "execution_count": null,
      "outputs": []
    },
    {
      "cell_type": "markdown",
      "metadata": {
        "id": "Zz5Ln090cZlw"
      },
      "source": [
        "### **3.2 Model Accuracy**"
      ]
    },
    {
      "cell_type": "code",
      "metadata": {
        "id": "GD5KC8MyW1LV"
      },
      "source": [
        ""
      ],
      "execution_count": null,
      "outputs": []
    },
    {
      "cell_type": "markdown",
      "metadata": {
        "id": "awQVg43K4J4j"
      },
      "source": [
        "## **4. Application to the Testing Images**"
      ]
    },
    {
      "cell_type": "code",
      "metadata": {
        "id": "rY9D20DVmalq"
      },
      "source": [
        "scaled_test_images = data_normalized(test_images)\n",
        "X_test = torch.from_numpy(scaled_test_images)\n",
        "X_test_part = dataset_images_partition(X_test)"
      ],
      "execution_count": null,
      "outputs": []
    },
    {
      "cell_type": "code",
      "metadata": {
        "id": "VC2BpWlhdCjY"
      },
      "source": [
        ""
      ],
      "execution_count": null,
      "outputs": []
    }
  ]
}