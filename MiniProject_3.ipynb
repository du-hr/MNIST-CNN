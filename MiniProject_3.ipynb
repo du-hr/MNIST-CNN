{
  "nbformat": 4,
  "nbformat_minor": 0,
  "metadata": {
    "kernelspec": {
      "display_name": "Python 3",
      "language": "python",
      "name": "python3"
    },
    "language_info": {
      "codemirror_mode": {
        "name": "ipython",
        "version": 3
      },
      "file_extension": ".py",
      "mimetype": "text/x-python",
      "name": "python",
      "nbconvert_exporter": "python",
      "pygments_lexer": "ipython3",
      "version": "3.8.5"
    },
    "colab": {
      "name": "MiniProject_3.ipynb",
      "provenance": [],
      "collapsed_sections": [],
      "include_colab_link": true
    },
    "accelerator": "GPU"
  },
  "cells": [
    {
      "cell_type": "markdown",
      "metadata": {
        "id": "view-in-github",
        "colab_type": "text"
      },
      "source": [
        "<a href=\"https://colab.research.google.com/github/du-hr/MNIST-CNN/blob/Robin/MiniProject_3.ipynb\" target=\"_parent\"><img src=\"https://colab.research.google.com/assets/colab-badge.svg\" alt=\"Open In Colab\"/></a>"
      ]
    },
    {
      "cell_type": "markdown",
      "metadata": {
        "id": "TwdLP40A4X-A"
      },
      "source": [
        "# MiniProject 3: Multi-label Classification of Image Data\n",
        "\n",
        "\n",
        "> MiniProject 3 of COMP 551 (Fall 2020) at McGill University\n",
        "\n",
        "\n",
        "> Authors (G17): Haoran Du (260776911), Robin Cho (260806783), Teresa Lee (260715070)\n",
        "\n",
        "\n",
        "\n"
      ]
    },
    {
      "cell_type": "code",
      "metadata": {
        "id": "CGhQKetcGX8y",
        "colab": {
          "base_uri": "https://localhost:8080/"
        },
        "outputId": "7d72de6e-8d05-41e6-a2c2-221b4683c09d"
      },
      "source": [
        "import numpy as np\n",
        "import scipy as sci\n",
        "import pandas as pd\n",
        "import h5py\n",
        "import torch\n",
        "from google.colab import drive\n",
        "# ignore the follwoing line if running locally\n",
        "drive.mount('/content/drive')\n",
        "# make path = './' if running locally\n",
        "path = '/content/drive/My Drive/'\n",
        "\n",
        "#%matplotlib notebook\n",
        "%matplotlib inline\n",
        "import matplotlib.pyplot as plt\n",
        "\n",
        "%tensorflow_version 1.x\n",
        "import tensorflow as tf\n",
        "\n",
        "import os\n",
        "import matplotlib.pyplot as plt\n",
        "\n",
        "import warnings\n",
        "warnings.filterwarnings('ignore')\n"
      ],
      "execution_count": null,
      "outputs": [
        {
          "output_type": "stream",
          "text": [
            "Drive already mounted at /content/drive; to attempt to forcibly remount, call drive.mount(\"/content/drive\", force_remount=True).\n",
            "TensorFlow 1.x selected.\n"
          ],
          "name": "stdout"
        }
      ]
    },
    {
      "cell_type": "markdown",
      "metadata": {
        "id": "P5VYQqenQbc4"
      },
      "source": [
        "## **1. Datasets**"
      ]
    },
    {
      "cell_type": "markdown",
      "metadata": {
        "id": "WcWAWxDGWb5N"
      },
      "source": [
        "### **1.1 Import Data**"
      ]
    },
    {
      "cell_type": "code",
      "metadata": {
        "id": "F3U3KGvMOWxI",
        "colab": {
          "base_uri": "https://localhost:8080/",
          "height": 317
        },
        "outputId": "f68591c0-79fa-4c61-ceb2-40319056895e"
      },
      "source": [
        "# load the datasets\n",
        "with h5py.File(path+'MNIST_synthetic.h5', 'r') as hdfid:\n",
        "     print(hdfid.keys())\n",
        "     test_images = hdfid['test_dataset'][()]\n",
        "     train_images = hdfid['train_dataset'][()]\n",
        "     train_labels = hdfid['train_labels'][()]\n",
        "\n",
        "# display train_images properties\n",
        "print(train_images.shape)\n",
        "# print(train_iamges[10][30])\n",
        "\n",
        "# plot first 3 images in train_images\n",
        "images=[]\n",
        "titles=[]\n",
        "images.append(np.array(train_images[0], dtype='float').reshape(64,64))\n",
        "titles.append(\"img_1\")\n",
        "images.append(np.array(train_images[1], dtype='float').reshape(64,64))\n",
        "titles.append(\"img_2\")\n",
        "images.append(np.array(train_images[2], dtype='float').reshape(64,64))\n",
        "titles.append(\"img_3\")\n",
        "\n",
        "for i in range(3):\n",
        "    plt.subplot(1,3,i+1),plt.imshow(images[i])\n",
        "    plt.title(titles[i])\n",
        "    plt.xticks([]),plt.yticks([])\n",
        "\n",
        "plt.show()\n",
        "\n",
        "# display train_labels properties\n",
        "print(train_labels.shape)\n",
        "print(train_labels)"
      ],
      "execution_count": null,
      "outputs": [
        {
          "output_type": "stream",
          "text": [
            "<KeysViewHDF5 ['test_dataset', 'train_dataset', 'train_labels']>\n",
            "(56000, 64, 64, 1)\n"
          ],
          "name": "stdout"
        },
        {
          "output_type": "display_data",
          "data": {
            "image/png": "[encoded data removed]",
            "text/plain": [
              "<Figure size 432x288 with 3 Axes>"
            ]
          },
          "metadata": {
            "tags": []
          }
        },
        {
          "output_type": "stream",
          "text": [
            "(56000, 5)\n",
            "[[ 8  5  0  3 10]\n",
            " [ 8  9  9  8  7]\n",
            " [ 1  7  9  1  8]\n",
            " ...\n",
            " [ 4  4 10 10 10]\n",
            " [ 7  9  8 10 10]\n",
            " [ 6 10 10 10 10]]\n"
          ],
          "name": "stdout"
        }
      ]
    },
    {
      "cell_type": "code",
      "metadata": {
        "colab": {
          "base_uri": "https://localhost:8080/"
        },
        "id": "0KVatUguViwz",
        "outputId": "7191aa14-2039-4d0a-a4bb-c46ff3c65580"
      },
      "source": [
        "print(type(test_images))"
      ],
      "execution_count": null,
      "outputs": [
        {
          "output_type": "stream",
          "text": [
            "<class 'numpy.ndarray'>\n"
          ],
          "name": "stdout"
        }
      ]
    },
    {
      "cell_type": "code",
      "metadata": {
        "id": "_2NZNpXVtWYB"
      },
      "source": [
        "# # Normalization\n",
        "# def data_normalized(x):\n",
        "#   scaled_x = x.astype('float32') / 255.0\n",
        "#   return scaled_x\n",
        "\n",
        "# train_images = data_normalized(train_images)"
      ],
      "execution_count": null,
      "outputs": []
    },
    {
      "cell_type": "markdown",
      "metadata": {
        "id": "HqsYYIO1LkFh"
      },
      "source": [
        "### **1.2 Baseline Model**"
      ]
    },
    {
      "cell_type": "code",
      "metadata": {
        "colab": {
          "base_uri": "https://localhost:8080/"
        },
        "id": "NIGGOO1YXTGI",
        "outputId": "4f5d18ee-dd78-4087-c986-60be37ec432c"
      },
      "source": [
        "# train/validation split\n",
        "# Select 30% random images from the training set for validation\n",
        "idx = np.random.choice(range(0, len(train_images)), size=int(len(train_images)*0.30), replace=False)\n",
        "X_val, Y_val = train_images[idx], train_labels[idx]\n",
        "\n",
        "# training set = the Complement set \n",
        "X_train = np.delete(train_images, idx, axis=0)\n",
        "Y_train = np.delete(train_labels, idx, axis=0)\n",
        "\n",
        "print(\"Training\", X_train.shape, Y_train.shape)\n",
        "print('Validation', X_val.shape, Y_val.shape)\n"
      ],
      "execution_count": null,
      "outputs": [
        {
          "output_type": "stream",
          "text": [
            "Training (39200, 64, 64, 1) (39200, 5)\n",
            "Validation (16800, 64, 64, 1) (16800, 5)\n"
          ],
          "name": "stdout"
        }
      ]
    },
    {
      "cell_type": "code",
      "metadata": {
        "id": "VWNgQ75IaKf5",
        "colab": {
          "base_uri": "https://localhost:8080/"
        },
        "outputId": "1cfb5c85-f55f-41da-da0c-e4a0fc3b5faf"
      },
      "source": [
        "# Construct model\n",
        "def conv_layer(prev_layer, n_channels, f_size, n_filters, w, pooling=True):\n",
        "    # Create weights and biases\n",
        "    w_s = tf.get_variable(w, shape=[f_size, f_size, n_channels, n_filters],initializer=tf.contrib.layers.xavier_initializer_conv2d())\n",
        "    biases = tf.Variable(tf.constant(1.0, shape=[n_filters]))\n",
        "    layer = tf.nn.conv2d(prev_layer, w_s, strides=[1, 1, 1, 1], padding='VALID')\n",
        "    layer = tf.nn.relu(layer + biases)\n",
        "    # if using pooling\n",
        "    if pooling:\n",
        "        layer = tf.nn.max_pool(layer, ksize=[1, 2, 2, 1], strides=[1, 2, 2, 1], padding='VALID')\n",
        "\n",
        "    return layer, w_s\n",
        "\n",
        "\n",
        "def flat_layer(layer):\n",
        "    shape = layer.get_shape()\n",
        "    feature_no = shape[1:4].num_elements()\n",
        "    layer_flat = tf.reshape(layer, [-1, feature_no])\n",
        "\n",
        "    return layer_flat, feature_no\n",
        "\n",
        "\n",
        "def fc_layer(prev_layer, ins, outs, w, relu=True):\n",
        "    w_s = tf.get_variable(w, shape=[ins, outs],initializer=tf.contrib.layers.xavier_initializer())\n",
        "    biases = tf.Variable(tf.constant(1.0, shape=[outs]))\n",
        "    layer = tf.matmul(prev_layer, w_s) + biases\n",
        "    # if using RELU activation\n",
        "    if relu:\n",
        "        layer = tf.nn.relu(layer)\n",
        "\n",
        "    return layer\n",
        "\n",
        "# input image size = 64*64*1\n",
        "x = tf.placeholder(tf.float32, shape=(None, 64, 64, 1), name='x')\n",
        "y_true = tf.placeholder(tf.int64, shape=[None, 5], name='y_true')\n",
        "keep_prob = tf.placeholder(tf.float32)\n",
        "\n",
        "# CNN layers\n",
        "conv_1, w_c1 = conv_layer(x, 1, 5, 16, 'w_c1', True) # 30*30*16\n",
        "conv_2, w_c2 = conv_layer(conv_1, 16, 5, 32, 'w_c2', True) # 13*13*32\n",
        "conv_3, w_c3 = conv_layer(conv_2, 32, 5, 64, 'w_c3', False) # 9*9*64\n",
        "dropout = tf.nn.dropout(conv_3, keep_prob) #9*9*64\n",
        "flatten, num_features = flat_layer(dropout)\n",
        "fully_connected = fc_layer(flatten, num_features, 64, 'w_fc1', relu=True)"
      ],
      "execution_count": null,
      "outputs": [
        {
          "output_type": "stream",
          "text": [
            "WARNING:tensorflow:\n",
            "The TensorFlow contrib module will not be included in TensorFlow 2.0.\n",
            "For more information, please see:\n",
            "  * https://github.com/tensorflow/community/blob/master/rfcs/20180907-contrib-sunset.md\n",
            "  * https://github.com/tensorflow/addons\n",
            "  * https://github.com/tensorflow/io (for I/O related ops)\n",
            "If you depend on functionality not listed there, please file an issue.\n",
            "\n",
            "WARNING:tensorflow:From <ipython-input-6-adf861e3ee27>:42: calling dropout (from tensorflow.python.ops.nn_ops) with keep_prob is deprecated and will be removed in a future version.\n",
            "Instructions for updating:\n",
            "Please use `rate` instead of `keep_prob`. Rate should be set to `rate = 1 - keep_prob`.\n"
          ],
          "name": "stdout"
        }
      ]
    },
    {
      "cell_type": "code",
      "metadata": {
        "colab": {
          "base_uri": "https://localhost:8080/"
        },
        "id": "4OVRcvWia-ru",
        "outputId": "6cdc665c-b429-4ce1-f0b7-83b26c24c516"
      },
      "source": [
        "# the last layer: softmax layer for multi-classification \n",
        "def softmax_layer(prev_layer, num_inputs, num_outputs, weight_name):\n",
        "    weights = tf.get_variable(weight_name, shape=[num_inputs, num_outputs],initializer=tf.contrib.layers.xavier_initializer())\n",
        "    biases = tf.Variable(tf.constant(1.0, shape=[num_outputs]))\n",
        "    pred = tf.matmul(prev_layer, weights) + biases\n",
        "    \n",
        "    return pred, weights\n",
        "\n",
        "# 11 labels for digits\n",
        "pred_1, w_s1 = softmax_layer(fully_connected, 64, 11, 'w_s1')\n",
        "pred_2, w_s2 = softmax_layer(fully_connected, 64, 11, 'w_s2')\n",
        "pred_3, w_s3 = softmax_layer(fully_connected, 64, 11, 'w_s3')\n",
        "pred_4, w_s4 = softmax_layer(fully_connected, 64, 11, 'w_s4')\n",
        "pred_5, w_s5 = softmax_layer(fully_connected, 64, 11, 'w_s5')\n",
        "\n",
        "y_pred_cls = tf.transpose(tf.argmax([pred_1, pred_2, pred_3, pred_4, pred_5], dimension=2))"
      ],
      "execution_count": null,
      "outputs": [
        {
          "output_type": "stream",
          "text": [
            "WARNING:tensorflow:From <ipython-input-7-712e6f8458c1>:16: calling argmax (from tensorflow.python.ops.math_ops) with dimension is deprecated and will be removed in a future version.\n",
            "Instructions for updating:\n",
            "Use the `axis` argument instead\n"
          ],
          "name": "stdout"
        }
      ]
    },
    {
      "cell_type": "code",
      "metadata": {
        "id": "z_QAKOSUbByG",
        "colab": {
          "base_uri": "https://localhost:8080/"
        },
        "outputId": "7857f952-f7fe-44d6-a4cb-81b20141a300"
      },
      "source": [
        "# optimzer setups\n",
        "\n",
        "loss = 0\n",
        "i = 0\n",
        "for pred in [pred_1, pred_2, pred_3, pred_4, pred_5]:\n",
        "  loss = loss + tf.reduce_mean(tf.nn.sparse_softmax_cross_entropy_with_logits(logits=pred, labels=y_true[:, i]))\n",
        "  i = i+1\n",
        "\n",
        "\n",
        "step_count = tf.Variable(0)\n",
        "# grid search: applying expoential decay on LR, 0.01 to 0.99\n",
        "learning_rate = tf.train.exponential_decay(0.01, step_count, 10000, 0.99)\n",
        "optimizer = tf.train.AdagradOptimizer(learning_rate).minimize(loss, global_step=step_count)\n",
        "\n",
        "session = tf.Session()\n",
        "session.run(tf.initialize_all_variables())\n",
        "\n",
        "# TODO: grid seartch on batch sizes\n",
        "# mini-batches desecnt\n",
        "# batch_size = 32\n",
        "batch_size = 16\n",
        "\n",
        "# dropout connections between the two linear layers to reduce overfitting; set dropout probability as 0.5\n",
        "dropout = 0.5"
      ],
      "execution_count": null,
      "outputs": [
        {
          "output_type": "stream",
          "text": [
            "WARNING:tensorflow:From /tensorflow-1.15.2/python3.6/tensorflow_core/python/training/adagrad.py:76: calling Constant.__init__ (from tensorflow.python.ops.init_ops) with dtype is deprecated and will be removed in a future version.\n",
            "Instructions for updating:\n",
            "Call initializer instance with the dtype argument instead of passing it to the constructor\n",
            "WARNING:tensorflow:From /tensorflow-1.15.2/python3.6/tensorflow_core/python/util/tf_should_use.py:198: initialize_all_variables (from tensorflow.python.ops.variables) is deprecated and will be removed after 2017-03-02.\n",
            "Instructions for updating:\n",
            "Use `tf.global_variables_initializer` instead.\n"
          ],
          "name": "stdout"
        }
      ]
    },
    {
      "cell_type": "code",
      "metadata": {
        "id": "Kws-FmTBbPfh"
      },
      "source": [
        "# run\n",
        "total_iterations = 0\n",
        "\n",
        "\n",
        "def accuracy(pred, label_true):\n",
        "    return (100.0 * np.sum(pred == label_true) / pred.shape[1] / pred.shape[0])\n",
        "\n",
        "\n",
        "def run(iter_count):\n",
        "    global total_iterations\n",
        "    for step in range(iter_count):\n",
        "        offset = (step * batch_size) % (Y_train.shape[0] - batch_size)\n",
        "        mini_batch_img = X_train[offset:(offset + batch_size), :, :, :]\n",
        "        mini_batch_labels = Y_train[offset:(offset + batch_size), :]\n",
        "        feed_dict_train = {x: mini_batch_img, y_true: mini_batch_labels, keep_prob: dropout}\n",
        "\n",
        "        # Run the optimizer on mini-batches\n",
        "        session.run(optimizer, feed_dict=feed_dict_train)\n",
        "        \n",
        "        # Show status every 5000 iterations.\n",
        "        if step % 5000 == 0:\n",
        "            # accuracy of the training set.\n",
        "            batch_predictions = session.run(y_pred_cls, feed_dict=feed_dict_train)\n",
        "            print(\"Minibatch accuracy at step %d: %.4f\" % (step, accuracy(batch_predictions, mini_batch_labels)))\n",
        "            # accuracy of the validation set\n",
        "            val_predictions = session.run(y_pred_cls, {x: X_val, y_true: Y_val, keep_prob: 1.})\n",
        "            print(\"Validation accuracy: %.4f\" % accuracy(val_predictions, Y_val))\n",
        "\n",
        "    total_iterations += iter_count\n",
        "\n",
        "    print('Done!')"
      ],
      "execution_count": null,
      "outputs": []
    },
    {
      "cell_type": "code",
      "metadata": {
        "colab": {
          "base_uri": "https://localhost:8080/"
        },
        "id": "FUA8cqmSbdat",
        "outputId": "39343346-fad7-48a1-c707-a343be2a9607"
      },
      "source": [
        "run(250000)"
      ],
      "execution_count": null,
      "outputs": [
        {
          "output_type": "stream",
          "text": [
            "Minibatch accuracy at step 205000: 100.0000\n",
            "Validation accuracy: 98.4488\n",
            "Minibatch accuracy at step 210000: 98.7500\n",
            "Validation accuracy: 98.4167\n",
            "Minibatch accuracy at step 215000: 100.0000\n",
            "Validation accuracy: 98.4440\n",
            "Minibatch accuracy at step 220000: 100.0000\n",
            "Validation accuracy: 98.4536\n",
            "Minibatch accuracy at step 225000: 100.0000\n",
            "Validation accuracy: 98.4262\n",
            "Minibatch accuracy at step 230000: 100.0000\n",
            "Validation accuracy: 98.4571\n",
            "Minibatch accuracy at step 235000: 100.0000\n",
            "Validation accuracy: 98.4321\n",
            "Minibatch accuracy at step 240000: 100.0000\n",
            "Validation accuracy: 98.4488\n",
            "Minibatch accuracy at step 245000: 100.0000\n",
            "Validation accuracy: 98.4369\n",
            "Done!\n"
          ],
          "name": "stdout"
        }
      ]
    },
    {
      "cell_type": "markdown",
      "metadata": {
        "id": "J540h0H_MEyP"
      },
      "source": [
        "### **1.3 Grid Search**"
      ]
    },
    {
      "cell_type": "code",
      "metadata": {
        "id": "Srty9bUtMIaR"
      },
      "source": [
        "def get_accuracy(iter_count, batch_size, dropout, learning_rate, x_train, y_train, x_val, y_val):\n",
        "  #batch size, dropout, and learning rate are floats\n",
        "    global total_iterations\n",
        "    for step in range(iter_count):\n",
        "        offset = (step * batch_size) % (Y_train.shape[0] - batch_size)\n",
        "        mini_batch_img = x_train[offset:(offset + batch_size), :, :, :]\n",
        "        mini_batch_labels = y_train[offset:(offset + batch_size), :]\n",
        "        feed_dict_train = {x: mini_batch_img, y_true: mini_batch_labels, keep_prob: dropout}\n",
        "        optimizer = tf.train.AdagradOptimizer(learning_rate).minimize(loss, global_step=step_count)\n",
        "\n",
        "        session = tf.Session()\n",
        "        session.run(tf.initialize_all_variables())\n",
        "        # Run the optimizer on mini-batches\n",
        "        session.run(optimizer, feed_dict=feed_dict_train)\n",
        "\n",
        "        #run the model and get the accuracy\n",
        "        val_prediction = session.run(y_pred_cls, {x: X_val, y_true: y_val, keep_prob: 1.})\n",
        "        acc = accuracy(val_prediction, y_val)\n",
        "    return acc"
      ],
      "execution_count": null,
      "outputs": []
    },
    {
      "cell_type": "code",
      "metadata": {
        "id": "DN83H8MRNaUh"
      },
      "source": [
        "def grid_search(batch_size, dropout, learning_rate, x_train, y_train, x_val, y_val):\n",
        "  #batch size, dropout, and learning rate are lists\n",
        "  max_accuracy=-np.inf\n",
        "  best_parameter={}\n",
        "  accuracy = 0.0\n",
        "\n",
        "  #These lists store the numbers\n",
        "  batch_size_list = []\n",
        "  dropout_list = []\n",
        "  learning_rate_list = []\n",
        "  accuracy_list = []\n",
        "\n",
        "  #save all combination\n",
        "  for b in batch_size:\n",
        "    for d in dropout:\n",
        "      for l in learning_rate:\n",
        "        accuracy = get_accuracy(250000, b, d, l, x_train, y_train, x_val, y_val)\n",
        "        batch_size_list.append(b)\n",
        "        dropout_list.append(b)\n",
        "        learning_rate_list.append(l)\n",
        "        accuracy_list.append(accuracy)\n",
        "\n",
        "  #get the top 10 accuracy\n",
        "  index = np.zeros(10, dtype = int)\n",
        "  max_accuracy_list = []\n",
        "  for i in list(range(0, 2)):\n",
        "    max_accuracy = max(accuracy_list)\n",
        "    index[i] = accuracy_list.index(max_accuracy)\n",
        "    b = batch_size_list[index[i]]\n",
        "    d = dropout_list[index[i]]\n",
        "    l = learning_rate_list[index[i]]\n",
        "    print(\"batch size:\",b,\"  dropout:\",d,\"   leanrning rate:\",l, \"   Accuracy:\",max_accuracy)\n",
        "    max_accuracy_list.append(max_accuracy)\n",
        "    accuracy_list.remove(max_accuracy)\n",
        "  \n",
        "  #print the maximum accuracy\n",
        "  best_parameter['batch_size'] = batch_size_list[index[0]]\n",
        "  best_parameter['dropout'] = dropout_list[index[0]]\n",
        "  best_parameter['learning_rate'] = learning_rate_list[index[0]]\n",
        "  print('MAX Accuracy: ', max_accuracy_list[0])\n",
        "  print(\"Best parameter: \", best_parameter)\n",
        "  return best_parameter"
      ],
      "execution_count": null,
      "outputs": []
    },
    {
      "cell_type": "code",
      "metadata": {
        "id": "vPQQPGoGSQHp"
      },
      "source": [
        "a = np.arange(0.1, 1.0, 0.1)\n",
        "b = np.arange(0.1, 1.0, 0.1)\n",
        "dropout = np.round(a, 2).tolist()\n",
        "learning_rate = np.round(b, 2).tolist()\n",
        "batch_size = list(range(1, 100))"
      ],
      "execution_count": null,
      "outputs": []
    },
    {
      "cell_type": "code",
      "metadata": {
        "id": "Nglr342KZZg2",
        "colab": {
          "base_uri": "https://localhost:8080/",
          "height": 119
        },
        "outputId": "d9976b06-7d18-4cc7-cdae-7b339f599033"
      },
      "source": [
        "'''\n",
        "# train/validation split\n",
        "# Select 30% random images from the training set for validation\n",
        "idx = np.random.choice(range(0, len(train_images)), size=int(len(train_images)*0.30), replace=False)\n",
        "X_val, Y_val = train_images[idx], train_labels[idx]\n",
        "\n",
        "# training set = the Complement set \n",
        "X_train = np.delete(train_images, idx, axis=0)\n",
        "Y_train = np.delete(train_labels, idx, axis=0)\n",
        "\n",
        "print(\"Training\", X_train.shape, Y_train.shape)\n",
        "print('Validation', X_val.shape, Y_val.shape)\n",
        "'''"
      ],
      "execution_count": null,
      "outputs": [
        {
          "output_type": "execute_result",
          "data": {
            "application/vnd.google.colaboratory.intrinsic+json": {
              "type": "string"
            },
            "text/plain": [
              "'\\n# train/validation split\\n# Select 30% random images from the training set for validation\\nidx = np.random.choice(range(0, len(train_images)), size=int(len(train_images)*0.30), replace=False)\\nX_val, Y_val = train_images[idx], train_labels[idx]\\n\\n# training set = the Complement set \\nX_train = np.delete(train_images, idx, axis=0)\\nY_train = np.delete(train_labels, idx, axis=0)\\n\\nprint(\"Training\", X_train.shape, Y_train.shape)\\nprint(\\'Validation\\', X_val.shape, Y_val.shape)\\n'"
            ]
          },
          "metadata": {
            "tags": []
          },
          "execution_count": 76
        }
      ]
    },
    {
      "cell_type": "code",
      "metadata": {
        "id": "GhJwgbXRlNwY",
        "colab": {
          "base_uri": "https://localhost:8080/"
        },
        "outputId": "9356a4d2-9f78-437e-9e70-2a060d6a45c2"
      },
      "source": [
        "best_parameters = grid_search(batch_size, dropout, learning_rate, X_train, Y_train, X_val, Y_val)"
      ],
      "execution_count": null,
      "outputs": [
        {
          "output_type": "stream",
          "text": [
            "batch:  1 dropout:  0.1 learn:  0.1\n",
            "Done\n",
            "Accuracy:  21.39761904761905\n",
            "batch:  1 dropout:  0.1 learn:  0.2\n",
            "Done\n",
            "Accuracy:  21.32857142857143\n",
            "batch:  1 dropout:  0.2 learn:  0.1\n",
            "Done\n",
            "Accuracy:  5.815476190476191\n",
            "batch:  1 dropout:  0.2 learn:  0.2\n",
            "Done\n",
            "Accuracy:  21.32857142857143\n",
            "batch:  2 dropout:  0.1 learn:  0.1\n",
            "Done\n",
            "Accuracy:  21.63095238095238\n",
            "batch:  2 dropout:  0.1 learn:  0.2\n",
            "Done\n",
            "Accuracy:  32.444047619047616\n",
            "batch:  2 dropout:  0.2 learn:  0.1\n",
            "Done\n",
            "Accuracy:  32.333333333333336\n",
            "batch:  2 dropout:  0.2 learn:  0.2\n",
            "Done\n",
            "Accuracy:  32.333333333333336\n",
            "batch size: 2   dropout: 2    leanrning rate: 0.2 Accuracy: 32.444047619047616\n",
            "batch size: 2   dropout: 2    leanrning rate: 0.2 Accuracy: 32.333333333333336\n",
            "MAX Accuracy:  32.444047619047616\n",
            "Best parameter:  {'batch_size': 2, 'dropout': 2, 'learning_rate': 0.2}\n"
          ],
          "name": "stdout"
        }
      ]
    },
    {
      "cell_type": "markdown",
      "metadata": {
        "id": "HxJ1sI-poN8f"
      },
      "source": [
        "## Apply on the  test set"
      ]
    },
    {
      "cell_type": "code",
      "metadata": {
        "id": "99QqAMtGoNX7"
      },
      "source": [
        "# Generate predictions for the testset\n",
        "test_pred = session.run(y_pred_cls, feed_dict={x: test_images, keep_prob: 1.0})\n",
        "\n",
        "print(test_pred)\n",
        "\n",
        "output = []\n",
        "for i in range(len(test_pred)):\n",
        "  string = str(test_pred[i][0])+str(test_pred[i][1])+str(test_pred[i][2])+str(test_pred[i][3])+str(test_pred[i][4])\n",
        "  output.append(string)\n",
        "\n",
        "print(output)\n",
        "\n",
        "d = {'Id': np.arange(len(test_images)), 'Label': output}\n",
        "df = pd.DataFrame(data=d)\n",
        "\n",
        "from google.colab import files\n",
        "df.to_csv('sample.csv',index=False) \n",
        "files.download('sample.csv')\n"
      ],
      "execution_count": null,
      "outputs": []
    },
    {
      "cell_type": "code",
      "metadata": {
        "id": "k6lx3vHos64i"
      },
      "source": [
        ""
      ],
      "execution_count": null,
      "outputs": []
    }
  ]
}