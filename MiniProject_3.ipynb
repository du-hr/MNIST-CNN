{
  "nbformat": 4,
  "nbformat_minor": 0,
  "metadata": {
    "kernelspec": {
      "display_name": "Python 3",
      "language": "python",
      "name": "python3"
    },
    "language_info": {
      "codemirror_mode": {
        "name": "ipython",
        "version": 3
      },
      "file_extension": ".py",
      "mimetype": "text/x-python",
      "name": "python",
      "nbconvert_exporter": "python",
      "pygments_lexer": "ipython3",
      "version": "3.8.5"
    },
    "colab": {
      "name": "MiniProject_3.ipynb",
      "provenance": [],
      "collapsed_sections": [],
      "include_colab_link": true
    },
    "accelerator": "GPU"
  },
  "cells": [
    {
      "cell_type": "markdown",
      "metadata": {
        "id": "view-in-github",
        "colab_type": "text"
      },
      "source": [
        "<a href=\"https://colab.research.google.com/github/du-hr/MNIST-CNN/blob/Teresa/MiniProject_3.ipynb\" target=\"_parent\"><img src=\"https://colab.research.google.com/assets/colab-badge.svg\" alt=\"Open In Colab\"/></a>"
      ]
    },
    {
      "cell_type": "markdown",
      "metadata": {
        "id": "TwdLP40A4X-A"
      },
      "source": [
        "# MiniProject 3: Multi-label Classification of Image Data\n",
        "\n",
        "\n",
        "> MiniProject 3 of COMP 551 (Fall 2020) at McGill University\n",
        "\n",
        "\n",
        "> Authors (G17): Haoran Du (260776911), Robin Cho (260806783), Teresa Lee (260715070)\n",
        "\n",
        "\n",
        "\n"
      ]
    },
    {
      "cell_type": "code",
      "metadata": {
        "id": "CGhQKetcGX8y",
        "colab": {
          "base_uri": "https://localhost:8080/"
        },
        "outputId": "4c9c0866-a1ef-411b-875f-a020e73d0543"
      },
      "source": [
        "import numpy as np\n",
        "import scipy as sci\n",
        "import pandas as pd\n",
        "import h5py\n",
        "import torch\n",
        "from google.colab import drive\n",
        "# ignore the follwoing line if running locally\n",
        "drive.mount('/content/drive')\n",
        "# make path = './' if running locally\n",
        "path = '/content/drive/My Drive/'\n",
        "\n",
        "#%matplotlib notebook\n",
        "%matplotlib inline\n",
        "import matplotlib.pyplot as plt\n"
      ],
      "execution_count": 210,
      "outputs": [
        {
          "output_type": "stream",
          "text": [
            "Drive already mounted at /content/drive; to attempt to forcibly remount, call drive.mount(\"/content/drive\", force_remount=True).\n"
          ],
          "name": "stdout"
        }
      ]
    },
    {
      "cell_type": "markdown",
      "metadata": {
        "id": "P5VYQqenQbc4"
      },
      "source": [
        "## **1. Datasets**"
      ]
    },
    {
      "cell_type": "markdown",
      "metadata": {
        "id": "WcWAWxDGWb5N"
      },
      "source": [
        "### **1.1 Import Data**"
      ]
    },
    {
      "cell_type": "code",
      "metadata": {
        "id": "F3U3KGvMOWxI",
        "colab": {
          "base_uri": "https://localhost:8080/",
          "height": 426
        },
        "outputId": "2c500a48-135b-4472-f423-e1237353b9c6"
      },
      "source": [
        "# load the datasets\n",
        "with h5py.File(path+'MNIST_synthetic.h5', 'r') as hdfid:\n",
        "     print(hdfid.keys())\n",
        "     test_images = hdfid['test_dataset'][()]\n",
        "     train_images = hdfid['train_dataset'][()]\n",
        "     train_labels = hdfid['train_labels'][()]\n",
        "\n",
        "# display train_images properties\n",
        "print(train_images.shape)\n",
        "# print(train_iamges[10][30])\n",
        "\n",
        "# plot first 3 images in train_images\n",
        "images=[]\n",
        "titles=[]\n",
        "images.append(np.array(train_images[0], dtype='float').reshape(64,64))\n",
        "titles.append(\"img_1\")\n",
        "images.append(np.array(train_images[1], dtype='float').reshape(64,64))\n",
        "titles.append(\"img_2\")\n",
        "images.append(np.array(train_images[2], dtype='float').reshape(64,64))\n",
        "titles.append(\"img_3\")\n",
        "\n",
        "for i in range(3):\n",
        "    plt.subplot(1,3,i+1),plt.imshow(images[i])\n",
        "    plt.title(titles[i])\n",
        "    plt.xticks([]),plt.yticks([])\n",
        "\n",
        "plt.show()\n",
        "\n",
        "# display train_labels properties\n",
        "print(train_labels.shape)\n",
        "print(train_labels)"
      ],
      "execution_count": 211,
      "outputs": [
        {
          "output_type": "stream",
          "text": [
            "<KeysViewHDF5 ['test_dataset', 'train_dataset', 'train_labels']>\n"
          ],
          "name": "stdout"
        },
        {
          "output_type": "error",
          "ename": "KeyboardInterrupt",
          "evalue": "ignored",
          "traceback": [
            "\u001b[0;31m---------------------------------------------------------------------------\u001b[0m",
            "\u001b[0;31mKeyboardInterrupt\u001b[0m                         Traceback (most recent call last)",
            "\u001b[0;32m<ipython-input-211-72320378d949>\u001b[0m in \u001b[0;36m<module>\u001b[0;34m()\u001b[0m\n\u001b[1;32m      3\u001b[0m      \u001b[0mprint\u001b[0m\u001b[0;34m(\u001b[0m\u001b[0mhdfid\u001b[0m\u001b[0;34m.\u001b[0m\u001b[0mkeys\u001b[0m\u001b[0;34m(\u001b[0m\u001b[0;34m)\u001b[0m\u001b[0;34m)\u001b[0m\u001b[0;34m\u001b[0m\u001b[0;34m\u001b[0m\u001b[0m\n\u001b[1;32m      4\u001b[0m      \u001b[0mtest_images\u001b[0m \u001b[0;34m=\u001b[0m \u001b[0mhdfid\u001b[0m\u001b[0;34m[\u001b[0m\u001b[0;34m'test_dataset'\u001b[0m\u001b[0;34m]\u001b[0m\u001b[0;34m[\u001b[0m\u001b[0;34m(\u001b[0m\u001b[0;34m)\u001b[0m\u001b[0;34m]\u001b[0m\u001b[0;34m\u001b[0m\u001b[0;34m\u001b[0m\u001b[0m\n\u001b[0;32m----> 5\u001b[0;31m      \u001b[0mtrain_images\u001b[0m \u001b[0;34m=\u001b[0m \u001b[0mhdfid\u001b[0m\u001b[0;34m[\u001b[0m\u001b[0;34m'train_dataset'\u001b[0m\u001b[0;34m]\u001b[0m\u001b[0;34m[\u001b[0m\u001b[0;34m(\u001b[0m\u001b[0;34m)\u001b[0m\u001b[0;34m]\u001b[0m\u001b[0;34m\u001b[0m\u001b[0;34m\u001b[0m\u001b[0m\n\u001b[0m\u001b[1;32m      6\u001b[0m      \u001b[0mtrain_labels\u001b[0m \u001b[0;34m=\u001b[0m \u001b[0mhdfid\u001b[0m\u001b[0;34m[\u001b[0m\u001b[0;34m'train_labels'\u001b[0m\u001b[0;34m]\u001b[0m\u001b[0;34m[\u001b[0m\u001b[0;34m(\u001b[0m\u001b[0;34m)\u001b[0m\u001b[0;34m]\u001b[0m\u001b[0;34m\u001b[0m\u001b[0;34m\u001b[0m\u001b[0m\n\u001b[1;32m      7\u001b[0m \u001b[0;34m\u001b[0m\u001b[0m\n",
            "\u001b[0;32mh5py/_objects.pyx\u001b[0m in \u001b[0;36mh5py._objects.with_phil.wrapper\u001b[0;34m()\u001b[0m\n",
            "\u001b[0;32mh5py/_objects.pyx\u001b[0m in \u001b[0;36mh5py._objects.with_phil.wrapper\u001b[0;34m()\u001b[0m\n",
            "\u001b[0;32m/usr/local/lib/python3.6/dist-packages/h5py/_hl/dataset.py\u001b[0m in \u001b[0;36m__getitem__\u001b[0;34m(self, args)\u001b[0m\n\u001b[1;32m    571\u001b[0m         \u001b[0mmspace\u001b[0m \u001b[0;34m=\u001b[0m \u001b[0mh5s\u001b[0m\u001b[0;34m.\u001b[0m\u001b[0mcreate_simple\u001b[0m\u001b[0;34m(\u001b[0m\u001b[0mmshape\u001b[0m\u001b[0;34m)\u001b[0m\u001b[0;34m\u001b[0m\u001b[0;34m\u001b[0m\u001b[0m\n\u001b[1;32m    572\u001b[0m         \u001b[0mfspace\u001b[0m \u001b[0;34m=\u001b[0m \u001b[0mselection\u001b[0m\u001b[0;34m.\u001b[0m\u001b[0mid\u001b[0m\u001b[0;34m\u001b[0m\u001b[0;34m\u001b[0m\u001b[0m\n\u001b[0;32m--> 573\u001b[0;31m         \u001b[0mself\u001b[0m\u001b[0;34m.\u001b[0m\u001b[0mid\u001b[0m\u001b[0;34m.\u001b[0m\u001b[0mread\u001b[0m\u001b[0;34m(\u001b[0m\u001b[0mmspace\u001b[0m\u001b[0;34m,\u001b[0m \u001b[0mfspace\u001b[0m\u001b[0;34m,\u001b[0m \u001b[0marr\u001b[0m\u001b[0;34m,\u001b[0m \u001b[0mmtype\u001b[0m\u001b[0;34m,\u001b[0m \u001b[0mdxpl\u001b[0m\u001b[0;34m=\u001b[0m\u001b[0mself\u001b[0m\u001b[0;34m.\u001b[0m\u001b[0m_dxpl\u001b[0m\u001b[0;34m)\u001b[0m\u001b[0;34m\u001b[0m\u001b[0;34m\u001b[0m\u001b[0m\n\u001b[0m\u001b[1;32m    574\u001b[0m \u001b[0;34m\u001b[0m\u001b[0m\n\u001b[1;32m    575\u001b[0m         \u001b[0;31m# Patch up the output for NumPy\u001b[0m\u001b[0;34m\u001b[0m\u001b[0;34m\u001b[0m\u001b[0;34m\u001b[0m\u001b[0m\n",
            "\u001b[0;31mKeyboardInterrupt\u001b[0m: "
          ]
        }
      ]
    },
    {
      "cell_type": "markdown",
      "metadata": {
        "id": "_V7Rym-vWRc0"
      },
      "source": [
        "### **1.2 Data Preprocessing**"
      ]
    },
    {
      "cell_type": "markdown",
      "metadata": {
        "id": "ELeEfetpnnuT"
      },
      "source": [
        "###**1.2.1 One Hot Encoding**"
      ]
    },
    {
      "cell_type": "code",
      "metadata": {
        "id": "ihpulb94Wg5y"
      },
      "source": [
        "#First, perform OHE on training labels\n",
        "from keras.utils import to_categorical\n",
        "\n",
        "train_new_labels = to_categorical(train_labels)\n",
        "Y_train = torch.from_numpy(train_new_labels) #save the oneHotEncoded labels as tensor"
      ],
      "execution_count": null,
      "outputs": []
    },
    {
      "cell_type": "code",
      "metadata": {
        "id": "ApXhhzBjoGeX"
      },
      "source": [
        "Y_train"
      ],
      "execution_count": null,
      "outputs": []
    },
    {
      "cell_type": "code",
      "metadata": {
        "id": "xLAJOrRgdpib"
      },
      "source": [
        "Y_train.shape"
      ],
      "execution_count": null,
      "outputs": []
    },
    {
      "cell_type": "markdown",
      "metadata": {
        "id": "f7iV-2cYn4rn"
      },
      "source": [
        "### **1.2.2 Data Normalization**"
      ]
    },
    {
      "cell_type": "code",
      "metadata": {
        "id": "t4fnW9LJwNLO"
      },
      "source": [
        "# normalize to range 0-1 with typecast to float\n",
        "def data_scaled(x):\n",
        "  scaled_x = x.astype('float32') / 255.0\n",
        "  return scaled_x\n",
        "\n",
        "scaled_train_images = data_scaled(train_images)\n",
        "X_train = torch.from_numpy(scaled_train_images)"
      ],
      "execution_count": null,
      "outputs": []
    },
    {
      "cell_type": "code",
      "metadata": {
        "id": "_iY1y3r69yVI"
      },
      "source": [
        "def data_standardized(x):\n",
        "  mean = torch.mean(x, 1, keepdim = True)\n",
        "  std = torch.std(x. 1, keepdim = True)\n",
        "  normalized_x = (x - mean)/std\n",
        "  return normalized_x\n",
        "\n",
        "#X_train = data_standardized(X_train)"
      ],
      "execution_count": null,
      "outputs": []
    },
    {
      "cell_type": "markdown",
      "metadata": {
        "id": "1oGTptaF2_x9"
      },
      "source": [
        "###**1.2.3 Detecting the number of digits**"
      ]
    },
    {
      "cell_type": "code",
      "metadata": {
        "id": "0cY7Y3emwYOe"
      },
      "source": [
        "import cv2\n",
        "threshold = 1 #Hyperparameter?\n",
        "width = 12\n",
        "height = 12"
      ],
      "execution_count": null,
      "outputs": []
    },
    {
      "cell_type": "code",
      "metadata": {
        "id": "r2dRRAe8wRIl"
      },
      "source": [
        "def findDigits(img):\n",
        "  #Note that a normalized image does not work\n",
        "  ret,thresh = cv2.threshold(img,threshold,255,0)\n",
        "  contours, hierarchy = cv2.findContours(thresh, cv2.RETR_EXTERNAL, cv2.CHAIN_APPROX_SIMPLE)\n",
        "\n",
        "  #print(len(contours))\n",
        "  def getKey(item):\n",
        "    return item[0]\n",
        "\n",
        "  digitsLoc = []\n",
        "  minArea = 15\n",
        "  for cnt in contours:\n",
        "    x, y, w, h = cv2.boundingRect(cnt)\n",
        "    if w == 1 and h > 4:\n",
        "      listTemp = [x, y, w, h]\n",
        "      digitsLoc.append(listTemp)\n",
        "    \n",
        "    elif w * h > minArea:\n",
        "      listTemp = [x, y, w, h]\n",
        "      digitsLoc.append(listTemp)\n",
        "  \n",
        "  return sorted(digitsLoc, key = lambda x: x[0])"
      ],
      "execution_count": null,
      "outputs": []
    },
    {
      "cell_type": "code",
      "metadata": {
        "id": "Ic8U8B8bzf_p"
      },
      "source": [
        "images_scaled=[]\n",
        "images_scaled.append(np.array(train_images[4476], dtype='float').reshape(64,64))\n",
        "sample = plt.imshow(images_scaled[0])\n",
        "plt.show()\n",
        "\n",
        "#x = findDigits(train_images[3282])\n",
        "passed = 0\n",
        "total = 0\n",
        "\n",
        "for i in range(0, 56000):\n",
        "  x = len(findDigits(train_images[i]))\n",
        "  n = 0\n",
        "  for c in train_labels[i]:\n",
        "    if c != 10:\n",
        "      n = n + 1\n",
        "  \n",
        "  if n == x:\n",
        "    passed = passed + 1\n",
        "  else:\n",
        "    print(\"Case#: \",i, \"Detected: \" ,x, \" Expected: \", n)\n",
        "  total = total + 1\n",
        "\n",
        "print(passed/total)"
      ],
      "execution_count": null,
      "outputs": []
    },
    {
      "cell_type": "markdown",
      "metadata": {
        "id": "VtJy-sffpYok"
      },
      "source": [
        "### **1.2.4 Class Distribution**\n"
      ]
    },
    {
      "cell_type": "code",
      "metadata": {
        "id": "5Vwee0UprjPB"
      },
      "source": [
        "unique_y1, counts_y1 = np.unique(train_labels[:, 0], return_counts=True)\n",
        "plt.bar(unique_y1, counts_y1/sum(counts_y1))\n",
        "plt.xticks(unique_y1, unique_y1)\n",
        "plt.title(f\"Class Distribution of the first column\")\n",
        "plt.show()"
      ],
      "execution_count": null,
      "outputs": []
    },
    {
      "cell_type": "code",
      "metadata": {
        "id": "dAJ4C4nbrtg2"
      },
      "source": [
        "unique_y2, counts_y2 = np.unique(train_labels[:, 1], return_counts=True)\n",
        "plt.bar(unique_y2, counts_y2/sum(counts_y2))\n",
        "plt.xticks(unique_y2, unique_y2)\n",
        "plt.title(f\"Class Distribution of the second column\")\n",
        "plt.show()"
      ],
      "execution_count": null,
      "outputs": []
    },
    {
      "cell_type": "code",
      "metadata": {
        "id": "DQln8QrArt3D"
      },
      "source": [
        "unique_y3, counts_y3 = np.unique(train_labels[:, 2], return_counts=True)\n",
        "plt.bar(unique_y3, counts_y3/sum(counts_y3))\n",
        "plt.xticks(unique_y3, unique_y3)\n",
        "plt.title(f\"Class Distribution of the third column\")\n",
        "plt.show()"
      ],
      "execution_count": null,
      "outputs": []
    },
    {
      "cell_type": "code",
      "metadata": {
        "id": "ADQMb2X6ruMT"
      },
      "source": [
        "unique_y4, counts_y4 = np.unique(train_labels[:, 3], return_counts=True)\n",
        "plt.bar(unique_y4, counts_y4/sum(counts_y4))\n",
        "plt.xticks(unique_y4, unique_y4)\n",
        "plt.title(f\"Class Distribution of the fourth column\")\n",
        "plt.show()"
      ],
      "execution_count": null,
      "outputs": []
    },
    {
      "cell_type": "code",
      "metadata": {
        "id": "vYuwvAWQru7I"
      },
      "source": [
        "unique_y5, counts_y5 = np.unique(train_labels[:, 4], return_counts=True)\n",
        "plt.bar(unique_y5, counts_y5/sum(counts_y5))\n",
        "plt.xticks(unique_y5, unique_y5)\n",
        "plt.title(f\"Class Distribution of the fifth column\")\n",
        "plt.show()"
      ],
      "execution_count": null,
      "outputs": []
    },
    {
      "cell_type": "markdown",
      "metadata": {
        "id": "SlLoNgfSoKD2"
      },
      "source": [
        "### **1.2.4 Calculate the bounds of the images**\n"
      ]
    },
    {
      "cell_type": "code",
      "metadata": {
        "id": "NF7LOKX5oJRk"
      },
      "source": [
        "def lowerBound(x):\n",
        "  N = x.shape[1]\n",
        "  D = x.shape[0]\n",
        "  lowerBounds = [0]*D\n",
        "  bound = x[0, 0]\n",
        "  for i in list(range(0, D)):\n",
        "    for j in list(range(0, N)):\n",
        "      if torch.all(torch.eq(x[i, j], bound)):\n",
        "        lowerBounds[i] = j + 1\n",
        "      else:\n",
        "        break\n",
        "  return min(lowerBounds)\n",
        "  \n",
        "def upperBound(x):\n",
        "  N = x.shape[1]\n",
        "  D = x.shape[0]\n",
        "  upperBounds = [64]*D\n",
        "  bound = x[0, 0]\n",
        "  for i in list(range(0, D)):\n",
        "    for j in list(range(0, N)):\n",
        "      if torch.all(torch.eq(x[i, 63-j], bound)):\n",
        "        upperBounds[i] = 63-j\n",
        "      else:\n",
        "        break\n",
        "  return max(upperBounds)"
      ],
      "execution_count": null,
      "outputs": []
    },
    {
      "cell_type": "code",
      "metadata": {
        "id": "aDiUbLpdIdkF"
      },
      "source": [
        "def leftBound(x):\n",
        "  N = x.shape[2]\n",
        "  D = x.shape[0]\n",
        "  leftBounds = [0]*D\n",
        "  bound = x[0, :, 0]\n",
        "  for i in list(range(0, D)):\n",
        "    for j in list(range(0, N)):\n",
        "      if torch.all(torch.eq(x[i, :, j], bound)):\n",
        "        leftBounds[i] = j + 1\n",
        "      else:\n",
        "        break\n",
        "  return min(leftBounds)\n",
        "  \n",
        "def rightBound(x):\n",
        "  N = x.shape[2]\n",
        "  D = x.shape[0]\n",
        "  rightBounds = [64]*D\n",
        "  bound = x[0, :, 0]\n",
        "  for i in list(range(0, D)):\n",
        "    for j in list(range(0, N)):\n",
        "      if torch.all(torch.eq(x[i, :, 63 - j], bound)):\n",
        "        rightBounds[i] = 63 - j\n",
        "      else:\n",
        "        break\n",
        "  return max(rightBounds)"
      ],
      "execution_count": null,
      "outputs": []
    },
    {
      "cell_type": "code",
      "metadata": {
        "id": "metobBdpqBXv"
      },
      "source": [
        "u = upperBound(X_train)\n",
        "l = lowerBound(X_train)\n",
        "l2 = leftBound(X_train)\n",
        "r = rightBound(X_train)\n",
        "\n",
        "print(\"Upper bound: \", u,\", Lower bound:\", l, \", Left bound: \", l2,\", Right bound:\", r)"
      ],
      "execution_count": null,
      "outputs": []
    },
    {
      "cell_type": "markdown",
      "metadata": {
        "id": "g7ghhGf6wzaV"
      },
      "source": [
        "### **1.2.5 Partitioning the data**\n"
      ]
    },
    {
      "cell_type": "code",
      "metadata": {
        "id": "Uiuu_L9T4XJ7"
      },
      "source": [
        "def leftBound_digit(x, initial_column):\n",
        "  N = x.shape[1] #column\n",
        "  leftBound = 0\n",
        "  bound = torch.full(x[:, 0].shape, 0.2)\n",
        "  for i in list(range(initial_column, N)):\n",
        "    if torch.all(torch.le(x[:, i], bound)):\n",
        "      leftBound = i + 1\n",
        "    else:\n",
        "      break\n",
        "  return leftBound"
      ],
      "execution_count": null,
      "outputs": []
    },
    {
      "cell_type": "code",
      "metadata": {
        "id": "gCell7HW-kbp"
      },
      "source": [
        "def rightBound_digit(x, initial_column):\n",
        "  N = x.shape[1] #column\n",
        "  leftBound = 0\n",
        "  bound = torch.full(x[:, 0].shape, 0.2)\n",
        "  for i in list(range(initial_column, N)):\n",
        "    if torch.all(torch.le(x[:, i], bound)) == False:\n",
        "      leftBound = i + 1\n",
        "    else:\n",
        "      break\n",
        "  return leftBound"
      ],
      "execution_count": null,
      "outputs": []
    },
    {
      "cell_type": "code",
      "metadata": {
        "id": "V2wzc_uZZCTk"
      },
      "source": [
        "def partition_image(x):\n",
        "  x = x.reshape(64, 64)\n",
        "  l = leftBound_digit(x, 0)\n",
        "  r = rightBound_digit(x, l)\n",
        "  x_1 = torch.zeros((12, 12))\n",
        "  x_1[0:12, 0: x[26:38,l:r].shape[1]] = x[26:38,l:r]\n",
        "\n",
        "  l = leftBound_digit(x, r)\n",
        "  if l == 64: #i.e. one digit\n",
        "    x_2 = torch.zeros((12, 12))\n",
        "    x_3 = torch.zeros((12, 12))\n",
        "    x_4 = torch.zeros((12, 12))\n",
        "    x_5 = torch.zeros((12, 12))\n",
        "  else:\n",
        "    r = rightBound_digit(x, l)\n",
        "    x_2 = torch.zeros((12, 12))\n",
        "    x_2[0:12, 0: x[26:38,l:r].shape[1]] = x[26:38,l:r]\n",
        "\n",
        "    l = leftBound_digit(x, r)\n",
        "\n",
        "    if l == 64: #i.e. two digits\n",
        "      x_3 = torch.zeros((12, 12))\n",
        "      x_4 = torch.zeros((12, 12))\n",
        "      x_5 = torch.zeros((12, 12))\n",
        "    else:\n",
        "      r = rightBound_digit(x, l)\n",
        "      x_3 = torch.zeros((12, 12))\n",
        "      x_3[0:12, 0: x[26:38,l:r].shape[1]] = x[26:38,l:r]\n",
        "      l = leftBound_digit(x, r)\n",
        "\n",
        "      if l == 64: #i.e. three digits\n",
        "        x_4 = torch.zeros((12, 12))\n",
        "        x_5 = torch.zeros((12, 12))\n",
        "      else:\n",
        "        r = rightBound_digit(x, l)\n",
        "        x_4 = torch.zeros((12, 12))\n",
        "        x_4[0:12, 0: x[26:38,l:r].shape[1]] = x[26:38,l:r]\n",
        "        l = leftBound_digit(x, r)\n",
        "\n",
        "        if l == 64:  #i.e. four digits\n",
        "          x_5 = torch.zeros((12, 12))\n",
        "        else: #i.e. five digits\n",
        "          r = rightBound_digit(x, l)\n",
        "          x_5 = torch.zeros((12, 12))\n",
        "          x_5[0:12, 0: x[26:38,l:r].shape[1]] = x[26:38,l:r]\n",
        "    \n",
        "  x_0 = torch.stack((x_1, x_2, x_3, x_4, x_5))\n",
        "\n",
        "  return x_0"
      ],
      "execution_count": null,
      "outputs": []
    },
    {
      "cell_type": "code",
      "metadata": {
        "id": "JK0E9O98qRmR"
      },
      "source": [
        "x_try = X_train[0].reshape(64, 64)\n",
        "plt.imshow(x_try)"
      ],
      "execution_count": null,
      "outputs": []
    },
    {
      "cell_type": "code",
      "metadata": {
        "id": "cnSIGZZlHScx"
      },
      "source": [
        "x_try_part = partition_image(x_try)\n",
        "for i in range(5):\n",
        "    plt.subplot(1,5,i+1),plt.imshow(x_try_part[i, :, :])\n",
        "    plt.xticks([]),plt.yticks([])"
      ],
      "execution_count": null,
      "outputs": []
    },
    {
      "cell_type": "code",
      "metadata": {
        "id": "ltEpUY3XGNm7"
      },
      "source": [
        "#this code checks the accuracy per image\n",
        "def partition_image_number_of_digits_accuracy(x):\n",
        "  x = x.reshape(64, 64)\n",
        "  l = leftBound_digit(x, 0)\n",
        "  r = rightBound_digit(x, l)\n",
        "  l = leftBound_digit(x, r)\n",
        "  if l == 64: #i.e. one digit\n",
        "    n = 1\n",
        "  else:\n",
        "    r = rightBound_digit(x, l)\n",
        "    l = leftBound_digit(x, r)\n",
        "\n",
        "    if l == 64: #i.e. two digits\n",
        "      n = 2\n",
        "    else:\n",
        "      r = rightBound_digit(x, l)\n",
        "      l = leftBound_digit(x, r)\n",
        "\n",
        "      if l == 64: #i.e. three digits\n",
        "        n = 3\n",
        "      else:\n",
        "        r = rightBound_digit(x, l)\n",
        "        l = leftBound_digit(x, r)\n",
        "\n",
        "        if l == 64:  #i.e. four digits\n",
        "          n = 4\n",
        "        else: #i.e. five digits\n",
        "          r = rightBound_digit(x, l)\n",
        "          n = 5\n",
        "  return n"
      ],
      "execution_count": null,
      "outputs": []
    },
    {
      "cell_type": "code",
      "metadata": {
        "id": "wnM0GDqqGjac"
      },
      "source": [
        "def accuracy_check(x, y):\n",
        "  D = x.shape[0]\n",
        "  Y_true = torch.zeros(D)\n",
        "  for i in list(range(0, D)):\n",
        "    n = 0\n",
        "    for c in y[i]:\n",
        "      if c != 10:\n",
        "        n = n + 1\n",
        "    Y_true[i] = n\n",
        "\n",
        "  correct = 0\n",
        "  incorrect = 0\n",
        "  for i in list(range(0, D)):\n",
        "    if Y_true[i] == partition_image_number_of_digits_accuracy(x[i]):\n",
        "      correct = correct + 1\n",
        "    else:\n",
        "      incorrect = incorrect +1\n",
        "  return correct/(incorrect+correct)"
      ],
      "execution_count": null,
      "outputs": []
    },
    {
      "cell_type": "code",
      "metadata": {
        "id": "LIbR-6lBJEOd"
      },
      "source": [
        "accuracy_check(X_train, train_labels)"
      ],
      "execution_count": null,
      "outputs": []
    },
    {
      "cell_type": "code",
      "metadata": {
        "id": "A-wkegnYllIf"
      },
      "source": [
        "#The accuracy is 0.994 when set threshold = 0\n",
        "#The accuracy is 0.996 when set threshold = 0.25\n",
        "#The accuracy is 0.986 when set threshold = 0.361"
      ],
      "execution_count": null,
      "outputs": []
    },
    {
      "cell_type": "code",
      "metadata": {
        "id": "LyWvd72NPzTA"
      },
      "source": [
        "def incorrect_list(x, y):\n",
        "  D = x.shape[0]\n",
        "  Y_true = torch.zeros(D)\n",
        "  for i in list(range(0, D)):\n",
        "    n = 0\n",
        "    for c in y[i]:\n",
        "      if c != 10:\n",
        "        n = n + 1\n",
        "    Y_true[i] = n\n",
        "\n",
        "  correct = 0\n",
        "  incorrect = []\n",
        "  for i in list(range(0, D)):\n",
        "    if Y_true[i] == partition_image_number_of_digits_accuracy(x[i]):\n",
        "      correct = correct + 1\n",
        "    else:\n",
        "      incorrect.append(i)\n",
        "  return incorrect"
      ],
      "execution_count": null,
      "outputs": []
    },
    {
      "cell_type": "code",
      "metadata": {
        "id": "dnJa-EH6QZdE"
      },
      "source": [
        "incorrect_digits = incorrect_list(X_train, train_labels)"
      ],
      "execution_count": null,
      "outputs": []
    },
    {
      "cell_type": "code",
      "metadata": {
        "id": "rkW7qQviQOfG"
      },
      "source": [
        "print(np.array(incorrect_digits))"
      ],
      "execution_count": null,
      "outputs": []
    },
    {
      "cell_type": "code",
      "metadata": {
        "id": "uz2BeAYTUeMZ"
      },
      "source": [
        "correct_digits = list(range(0, X_train.shape[0]))\n",
        "correct_digits = list(np.delete(np.array(correct_digits), (incorrect_digits), axis=0))"
      ],
      "execution_count": null,
      "outputs": []
    },
    {
      "cell_type": "code",
      "metadata": {
        "id": "qbz6iQFGa_vd"
      },
      "source": [
        "np.array(correct_digits).shape"
      ],
      "execution_count": null,
      "outputs": []
    },
    {
      "cell_type": "code",
      "metadata": {
        "id": "pzFsC2NEZqka"
      },
      "source": [
        "accuracy_check(X_train[correct_digits, :], train_labels[correct_digits, :])"
      ],
      "execution_count": null,
      "outputs": []
    },
    {
      "cell_type": "code",
      "metadata": {
        "id": "9LTsJ1nkcJSG"
      },
      "source": [
        "def dataset_images_partition(x):\n",
        "  d1 = x.shape[0]\n",
        "  d2 = 5\n",
        "  d3 = 12\n",
        "  d4 = 12\n",
        "  X_new = torch.zeros((d1, d2, d3, d4))\n",
        "  for i in list(range(0, d1)):\n",
        "    X_new[i] = partition_image(x[i])\n",
        "  return X_new"
      ],
      "execution_count": null,
      "outputs": []
    },
    {
      "cell_type": "code",
      "metadata": {
        "id": "vn4Xzl_pc-gc"
      },
      "source": [
        "X_train_part = dataset_images_partition(X_train[correct_digits, :])\n",
        "Y_train_part = Y_train[correct_digits, :]"
      ],
      "execution_count": null,
      "outputs": []
    },
    {
      "cell_type": "code",
      "metadata": {
        "id": "QmG8IofXa6aQ"
      },
      "source": [
        "X_train_part.shape"
      ],
      "execution_count": null,
      "outputs": []
    },
    {
      "cell_type": "markdown",
      "metadata": {
        "id": "pRd6dOP13efC"
      },
      "source": [
        "### **1.2.6 Creating dataloader**"
      ]
    },
    {
      "cell_type": "code",
      "metadata": {
        "id": "nyX2d-B3QwlD"
      },
      "source": [
        "# GPU setup\n",
        "device = torch.device(\"cuda:0\" if torch.cuda.is_available() else \"cpu\")\n",
        "\n",
        "# Assuming that we are on a CUDA machine, this should print a CUDA device:\n",
        "print(device)\n",
        "model.to(device)"
      ],
      "execution_count": null,
      "outputs": []
    },
    {
      "cell_type": "code",
      "metadata": {
        "id": "JwL0Rac0jUB9",
        "colab": {
          "base_uri": "https://localhost:8080/"
        },
        "outputId": "0efab217-842d-4c54-ae8f-90c4fbc6e426"
      },
      "source": [
        "from random import seed\n",
        "from random import randint\n",
        "seed(1)\n",
        "# generate 6000 random integers for validation set\n",
        "val_index = np.random.choice(55853, 6000, replace=False)\n",
        "print(len(val_index))\n",
        "train_index = np.setxor1d(np.arange(55853),val_index)\n",
        "print(len(train_index))"
      ],
      "execution_count": 245,
      "outputs": [
        {
          "output_type": "stream",
          "text": [
            "6000\n",
            "49853\n"
          ],
          "name": "stdout"
        }
      ]
    },
    {
      "cell_type": "code",
      "metadata": {
        "id": "W2yVvLQBxl89"
      },
      "source": [
        "from torch.utils.data import Dataset, DataLoader\n",
        "class train_images_data(Dataset):\n",
        "    def __init__(self):\n",
        "      self.x = X_train_part[train_index, :]\n",
        "      self.y = Y_train_part[train_index, :]\n",
        "      self.n_samples = X_train_part[train_index, :].shape[0]\n",
        "    \n",
        "    def __getitem__(self, index):\n",
        "      return self.x[index], self.y[index]\n",
        "    \n",
        "    def __len__(self):\n",
        "      return self.n_samples\n",
        "\n",
        "\n",
        "train_data = train_images_data()\n",
        "train_dataloader = DataLoader(dataset=train_data, batch_size = 5, shuffle = True)"
      ],
      "execution_count": 261,
      "outputs": []
    },
    {
      "cell_type": "code",
      "metadata": {
        "id": "6wOaEShfiipz"
      },
      "source": [
        "class val_images_data(Dataset):\n",
        "    def __init__(self):\n",
        "      self.x = X_train_part[val_index, :]\n",
        "      self.y = Y_train_part[val_index, :]\n",
        "      self.n_samples = X_train_part[val_index, :].shape[0]\n",
        "    \n",
        "    def __getitem__(self, index):\n",
        "      return self.x[index], self.y[index]\n",
        "    \n",
        "    def __len__(self):\n",
        "      return self.n_samples\n",
        "\n",
        "\n",
        "val_data = val_images_data()\n",
        "val_dataloader = DataLoader(dataset=val_data, batch_size = 32, shuffle = True)"
      ],
      "execution_count": 251,
      "outputs": []
    },
    {
      "cell_type": "code",
      "metadata": {
        "id": "vHXy9kYZz0Vc"
      },
      "source": [
        "datatiter = iter(train_dataloader)\n",
        "data = datatiter.next()\n",
        "image, label = data"
      ],
      "execution_count": 258,
      "outputs": []
    },
    {
      "cell_type": "code",
      "metadata": {
        "colab": {
          "base_uri": "https://localhost:8080/"
        },
        "id": "_mH5RDpg0O95",
        "outputId": "82e93304-eb79-4923-e466-18cb60be2797"
      },
      "source": [
        "image.shape"
      ],
      "execution_count": 266,
      "outputs": [
        {
          "output_type": "execute_result",
          "data": {
            "text/plain": [
              "torch.Size([5, 5, 12, 12])"
            ]
          },
          "metadata": {
            "tags": []
          },
          "execution_count": 266
        }
      ]
    },
    {
      "cell_type": "markdown",
      "metadata": {
        "id": "dRUoe-A8Wgs2"
      },
      "source": [
        "## **2. Neural Network Models**"
      ]
    },
    {
      "cell_type": "code",
      "metadata": {
        "id": "Kd2XQrceQulA"
      },
      "source": [
        "import torch\n",
        "\n",
        "class Model(torch.nn.Module):\n",
        "    def __init__(self):\n",
        "        super(Model, self).__init__()\n",
        "        self.conv_1 = torch.nn.Conv2d(in_channels=5, out_channels=32, kernel_size=3, stride=1, padding=1) # first convolution layer: 32*12*12\n",
        "        self.conv_2 = torch.nn.Conv2d(in_channels=32, out_channels=64, kernel_size=3, stride=1, padding=1) # second convolution layer: 64*3*3\n",
        "        self.max_pool2d = torch.nn.MaxPool2d(kernel_size=2, stride=2) \n",
        "        self.linear_1 = torch.nn.Linear(3 * 3 * 64, 128) # linear layer with 128 nodes\n",
        "        self.linear_2 = torch.nn.Linear(128, 11) # match the output of 11 labels\n",
        "        self.dropout = torch.nn.Dropout(p=0.5) # avoid overfitting between the two linear layers\n",
        "        self.relu = torch.nn.ReLU()\n",
        "\n",
        "    def forward(self, x):\n",
        "        x = self.conv_1(x)\n",
        "        x = self.relu(x)\n",
        "        x = self.max_pool2d(x) #32*6*6\n",
        "        x = self.conv_2(x)\n",
        "        x = self.relu(x)\n",
        "        x = self.max_pool2d(x) \n",
        "        x = x.reshape(x.size(0), -1)\n",
        "        x = self.linear_1(x)\n",
        "        x = self.relu(x)\n",
        "        x = self.dropout(x)\n",
        "        pred = self.linear_2(x)\n",
        "\n",
        "        return pred\n",
        "\n",
        "model = Model()"
      ],
      "execution_count": null,
      "outputs": []
    },
    {
      "cell_type": "code",
      "metadata": {
        "id": "rOSAMgCPQzmw"
      },
      "source": [
        "\n",
        "# SGD optimizer with learning rate of 0.001\n",
        "import torch.optim as optim\n",
        "\n",
        "criterion = torch.nn.CrossEntropyLoss()\n",
        "optimizer = optim.SGD(model.parameters(), lr=0.001)\n",
        "\n",
        "# maybe other optimizers?"
      ],
      "execution_count": null,
      "outputs": []
    },
    {
      "cell_type": "code",
      "metadata": {
        "colab": {
          "base_uri": "https://localhost:8080/",
          "height": 367
        },
        "id": "uug3g37RTl4t",
        "outputId": "24f751d5-808e-42eb-a2f0-58d59ee093f2"
      },
      "source": [
        "# Train CNN for 100 epochs\n",
        "no_epochs = 100\n",
        "train_loss = list()\n",
        "val_loss = list()\n",
        "best_val_loss = 1\n",
        "for epoch in range(no_epochs):\n",
        "    total_train_loss = 0\n",
        "    total_val_loss = 0\n",
        "\n",
        "    # unspervised training\n",
        "    for i, (image, label) in enumerate(train_dataloader):\n",
        "      optimizer.zero_grad()\n",
        "      pred = model(image.cuda()) #dictionary to tensor\n",
        "      loss = criterion(pred, label)\n",
        "      total_train_loss += loss.item()\n",
        "      \n",
        "      loss.backward()\n",
        "      optimizer.step()\n",
        "\n",
        "    total_train_loss = total_train_loss / (itr + 1)\n",
        "    train_loss.append(total_train_loss)\n",
        "    \n",
        "    # validation\n",
        "    model.eval()\n",
        "    total = 0\n",
        "    \n",
        "    for i, (image, label) in enumerate(val_dataloader):\n",
        "        pred = model(image)\n",
        "\n",
        "        loss = criterion(pred, label)\n",
        "        total_val_loss += loss.item()\n",
        "\n",
        "        pred = torch.nn.functional.softmax(pred, dim=1)\n",
        "        for i, p in enumerate(pred):\n",
        "            if label[i] == torch.max(p.data, 0)[1]:\n",
        "                total = total + 1\n",
        "\n",
        "    accuracy = total / len(mnist_valset)\n",
        "\n",
        "    total_val_loss = total_val_loss / (itr + 1)\n",
        "    val_loss.append(total_val_loss)\n",
        "\n",
        "    print('\\nEpoch: {}/{}, Train Loss: {:.8f}, Val Loss: {:.8f}, Val Accuracy: {:.8f}'.format(epoch + 1, no_epochs, total_train_loss, total_val_loss, accuracy))\n",
        "\n",
        "    if total_val_loss < best_val_loss:\n",
        "        best_val_loss = total_val_loss\n",
        "        print(\"Saving the model state dictionary for Epoch: {} with Validation loss: {:.8f}\".format(epoch + 1, total_val_loss))\n",
        "        torch.save(model.state_dict(), \"model.dth\")"
      ],
      "execution_count": 264,
      "outputs": [
        {
          "output_type": "error",
          "ename": "ValueError",
          "evalue": "ignored",
          "traceback": [
            "\u001b[0;31m---------------------------------------------------------------------------\u001b[0m",
            "\u001b[0;31mValueError\u001b[0m                                Traceback (most recent call last)",
            "\u001b[0;32m<ipython-input-264-e7d29e0f0fab>\u001b[0m in \u001b[0;36m<module>\u001b[0;34m()\u001b[0m\n\u001b[1;32m     12\u001b[0m       \u001b[0moptimizer\u001b[0m\u001b[0;34m.\u001b[0m\u001b[0mzero_grad\u001b[0m\u001b[0;34m(\u001b[0m\u001b[0;34m)\u001b[0m\u001b[0;34m\u001b[0m\u001b[0;34m\u001b[0m\u001b[0m\n\u001b[1;32m     13\u001b[0m       \u001b[0mpred\u001b[0m \u001b[0;34m=\u001b[0m \u001b[0mmodel\u001b[0m\u001b[0;34m(\u001b[0m\u001b[0mimage\u001b[0m\u001b[0;34m.\u001b[0m\u001b[0mcuda\u001b[0m\u001b[0;34m(\u001b[0m\u001b[0;34m)\u001b[0m\u001b[0;34m)\u001b[0m \u001b[0;31m#dictionary to tensor\u001b[0m\u001b[0;34m\u001b[0m\u001b[0;34m\u001b[0m\u001b[0m\n\u001b[0;32m---> 14\u001b[0;31m       \u001b[0mloss\u001b[0m \u001b[0;34m=\u001b[0m \u001b[0mcriterion\u001b[0m\u001b[0;34m(\u001b[0m\u001b[0mpred\u001b[0m\u001b[0;34m,\u001b[0m \u001b[0mlabel\u001b[0m\u001b[0;34m)\u001b[0m\u001b[0;34m\u001b[0m\u001b[0;34m\u001b[0m\u001b[0m\n\u001b[0m\u001b[1;32m     15\u001b[0m       \u001b[0mtotal_train_loss\u001b[0m \u001b[0;34m+=\u001b[0m \u001b[0mloss\u001b[0m\u001b[0;34m.\u001b[0m\u001b[0mitem\u001b[0m\u001b[0;34m(\u001b[0m\u001b[0;34m)\u001b[0m\u001b[0;34m\u001b[0m\u001b[0;34m\u001b[0m\u001b[0m\n\u001b[1;32m     16\u001b[0m \u001b[0;34m\u001b[0m\u001b[0m\n",
            "\u001b[0;32m/usr/local/lib/python3.6/dist-packages/torch/nn/modules/module.py\u001b[0m in \u001b[0;36m_call_impl\u001b[0;34m(self, *input, **kwargs)\u001b[0m\n\u001b[1;32m    725\u001b[0m             \u001b[0mresult\u001b[0m \u001b[0;34m=\u001b[0m \u001b[0mself\u001b[0m\u001b[0;34m.\u001b[0m\u001b[0m_slow_forward\u001b[0m\u001b[0;34m(\u001b[0m\u001b[0;34m*\u001b[0m\u001b[0minput\u001b[0m\u001b[0;34m,\u001b[0m \u001b[0;34m**\u001b[0m\u001b[0mkwargs\u001b[0m\u001b[0;34m)\u001b[0m\u001b[0;34m\u001b[0m\u001b[0;34m\u001b[0m\u001b[0m\n\u001b[1;32m    726\u001b[0m         \u001b[0;32melse\u001b[0m\u001b[0;34m:\u001b[0m\u001b[0;34m\u001b[0m\u001b[0;34m\u001b[0m\u001b[0m\n\u001b[0;32m--> 727\u001b[0;31m             \u001b[0mresult\u001b[0m \u001b[0;34m=\u001b[0m \u001b[0mself\u001b[0m\u001b[0;34m.\u001b[0m\u001b[0mforward\u001b[0m\u001b[0;34m(\u001b[0m\u001b[0;34m*\u001b[0m\u001b[0minput\u001b[0m\u001b[0;34m,\u001b[0m \u001b[0;34m**\u001b[0m\u001b[0mkwargs\u001b[0m\u001b[0;34m)\u001b[0m\u001b[0;34m\u001b[0m\u001b[0;34m\u001b[0m\u001b[0m\n\u001b[0m\u001b[1;32m    728\u001b[0m         for hook in itertools.chain(\n\u001b[1;32m    729\u001b[0m                 \u001b[0m_global_forward_hooks\u001b[0m\u001b[0;34m.\u001b[0m\u001b[0mvalues\u001b[0m\u001b[0;34m(\u001b[0m\u001b[0;34m)\u001b[0m\u001b[0;34m,\u001b[0m\u001b[0;34m\u001b[0m\u001b[0;34m\u001b[0m\u001b[0m\n",
            "\u001b[0;32m/usr/local/lib/python3.6/dist-packages/torch/nn/modules/loss.py\u001b[0m in \u001b[0;36mforward\u001b[0;34m(self, input, target)\u001b[0m\n\u001b[1;32m    630\u001b[0m                                                   \u001b[0mself\u001b[0m\u001b[0;34m.\u001b[0m\u001b[0mweight\u001b[0m\u001b[0;34m,\u001b[0m\u001b[0;34m\u001b[0m\u001b[0;34m\u001b[0m\u001b[0m\n\u001b[1;32m    631\u001b[0m                                                   \u001b[0mpos_weight\u001b[0m\u001b[0;34m=\u001b[0m\u001b[0mself\u001b[0m\u001b[0;34m.\u001b[0m\u001b[0mpos_weight\u001b[0m\u001b[0;34m,\u001b[0m\u001b[0;34m\u001b[0m\u001b[0;34m\u001b[0m\u001b[0m\n\u001b[0;32m--> 632\u001b[0;31m                                                   reduction=self.reduction)\n\u001b[0m\u001b[1;32m    633\u001b[0m \u001b[0;34m\u001b[0m\u001b[0m\n\u001b[1;32m    634\u001b[0m \u001b[0;34m\u001b[0m\u001b[0m\n",
            "\u001b[0;32m/usr/local/lib/python3.6/dist-packages/torch/nn/functional.py\u001b[0m in \u001b[0;36mbinary_cross_entropy_with_logits\u001b[0;34m(input, target, weight, size_average, reduce, reduction, pos_weight)\u001b[0m\n\u001b[1;32m   2578\u001b[0m \u001b[0;34m\u001b[0m\u001b[0m\n\u001b[1;32m   2579\u001b[0m     \u001b[0;32mif\u001b[0m \u001b[0;32mnot\u001b[0m \u001b[0;34m(\u001b[0m\u001b[0mtarget\u001b[0m\u001b[0;34m.\u001b[0m\u001b[0msize\u001b[0m\u001b[0;34m(\u001b[0m\u001b[0;34m)\u001b[0m \u001b[0;34m==\u001b[0m \u001b[0minput\u001b[0m\u001b[0;34m.\u001b[0m\u001b[0msize\u001b[0m\u001b[0;34m(\u001b[0m\u001b[0;34m)\u001b[0m\u001b[0;34m)\u001b[0m\u001b[0;34m:\u001b[0m\u001b[0;34m\u001b[0m\u001b[0;34m\u001b[0m\u001b[0m\n\u001b[0;32m-> 2580\u001b[0;31m         \u001b[0;32mraise\u001b[0m \u001b[0mValueError\u001b[0m\u001b[0;34m(\u001b[0m\u001b[0;34m\"Target size ({}) must be the same as input size ({})\"\u001b[0m\u001b[0;34m.\u001b[0m\u001b[0mformat\u001b[0m\u001b[0;34m(\u001b[0m\u001b[0mtarget\u001b[0m\u001b[0;34m.\u001b[0m\u001b[0msize\u001b[0m\u001b[0;34m(\u001b[0m\u001b[0;34m)\u001b[0m\u001b[0;34m,\u001b[0m \u001b[0minput\u001b[0m\u001b[0;34m.\u001b[0m\u001b[0msize\u001b[0m\u001b[0;34m(\u001b[0m\u001b[0;34m)\u001b[0m\u001b[0;34m)\u001b[0m\u001b[0;34m)\u001b[0m\u001b[0;34m\u001b[0m\u001b[0;34m\u001b[0m\u001b[0m\n\u001b[0m\u001b[1;32m   2581\u001b[0m \u001b[0;34m\u001b[0m\u001b[0m\n\u001b[1;32m   2582\u001b[0m     \u001b[0;32mreturn\u001b[0m \u001b[0mtorch\u001b[0m\u001b[0;34m.\u001b[0m\u001b[0mbinary_cross_entropy_with_logits\u001b[0m\u001b[0;34m(\u001b[0m\u001b[0minput\u001b[0m\u001b[0;34m,\u001b[0m \u001b[0mtarget\u001b[0m\u001b[0;34m,\u001b[0m \u001b[0mweight\u001b[0m\u001b[0;34m,\u001b[0m \u001b[0mpos_weight\u001b[0m\u001b[0;34m,\u001b[0m \u001b[0mreduction_enum\u001b[0m\u001b[0;34m)\u001b[0m\u001b[0;34m\u001b[0m\u001b[0;34m\u001b[0m\u001b[0m\n",
            "\u001b[0;31mValueError\u001b[0m: Target size (torch.Size([5, 5, 11])) must be the same as input size (torch.Size([5, 11]))"
          ]
        }
      ]
    },
    {
      "cell_type": "markdown",
      "metadata": {
        "id": "vbZFVFikWsSP"
      },
      "source": [
        "## **3. Performance**"
      ]
    },
    {
      "cell_type": "code",
      "metadata": {
        "id": "VNA7psPv-2SA"
      },
      "source": [
        "'''\n",
        "from sklearn.metrics import accuracy_score\n",
        "a = accuracy_score(pred,test)\n",
        "print('Accuracy is:', a*100)\n",
        "'''"
      ],
      "execution_count": null,
      "outputs": []
    },
    {
      "cell_type": "code",
      "metadata": {
        "id": "O9Ga7ELh-_Df"
      },
      "source": [
        "'''\n",
        "import matplotlib.pyplot as plt\n",
        "plt.plot(history.history['acc'])\n",
        "plt.plot(history.history['val_acc'])\n",
        "plt.title('Model accuracy')\n",
        "plt.ylabel('Accuracy')\n",
        "plt.xlabel('Epoch')\n",
        "plt.legend(['Train', 'Test'], loc='upper left')\n",
        "plt.show()\n",
        "'''"
      ],
      "execution_count": null,
      "outputs": []
    },
    {
      "cell_type": "code",
      "metadata": {
        "id": "vHGU0IvM_B7s"
      },
      "source": [
        "'''\n",
        "plt.plot(history.history['loss']) plt.plot(history.history['val_loss']) \n",
        "plt.title('Model loss') \n",
        "plt.ylabel('Loss') \n",
        "plt.xlabel('Epoch') \n",
        "plt.legend(['Train', 'Test'], loc='upper left') \n",
        "plt.show()\n",
        "'''"
      ],
      "execution_count": null,
      "outputs": []
    },
    {
      "cell_type": "markdown",
      "metadata": {
        "id": "awQVg43K4J4j"
      },
      "source": [
        "## **4. Application to the Testing Images**"
      ]
    },
    {
      "cell_type": "code",
      "metadata": {
        "id": "rY9D20DVmalq"
      },
      "source": [
        "scaled_test_images = data_scaled(test_images)\n",
        "X_test = torch.from_numpy(scaled_test_images)\n",
        "X_test_part = dataset_images_partition(X_test)"
      ],
      "execution_count": null,
      "outputs": []
    },
    {
      "cell_type": "code",
      "metadata": {
        "id": "VC2BpWlhdCjY"
      },
      "source": [
        ""
      ],
      "execution_count": null,
      "outputs": []
    }
  ]
}