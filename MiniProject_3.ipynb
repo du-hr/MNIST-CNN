{
  "nbformat": 4,
  "nbformat_minor": 0,
  "metadata": {
    "kernelspec": {
      "display_name": "Python 3",
      "language": "python",
      "name": "python3"
    },
    "language_info": {
      "codemirror_mode": {
        "name": "ipython",
        "version": 3
      },
      "file_extension": ".py",
      "mimetype": "text/x-python",
      "name": "python",
      "nbconvert_exporter": "python",
      "pygments_lexer": "ipython3",
      "version": "3.8.5"
    },
    "colab": {
      "name": "MiniProject_3.ipynb",
      "provenance": [],
      "collapsed_sections": [],
      "include_colab_link": true
    },
    "accelerator": "GPU",
    "widgets": {
      "application/vnd.jupyter.widget-state+json": {
        "74c0bb17350949c0848d932457cd5eb2": {
          "model_module": "@jupyter-widgets/controls",
          "model_name": "HBoxModel",
          "state": {
            "_view_name": "HBoxView",
            "_dom_classes": [],
            "_model_name": "HBoxModel",
            "_view_module": "@jupyter-widgets/controls",
            "_model_module_version": "1.5.0",
            "_view_count": null,
            "_view_module_version": "1.5.0",
            "box_style": "",
            "layout": "IPY_MODEL_d7a625bfac514cbcb04066ff1dc921b2",
            "_model_module": "@jupyter-widgets/controls",
            "children": [
              "IPY_MODEL_74f881f041394f09a1f85e5134c2f88d",
              "IPY_MODEL_d93a40478f654246a67636757c5de31e"
            ]
          }
        },
        "d7a625bfac514cbcb04066ff1dc921b2": {
          "model_module": "@jupyter-widgets/base",
          "model_name": "LayoutModel",
          "state": {
            "_view_name": "LayoutView",
            "grid_template_rows": null,
            "right": null,
            "justify_content": null,
            "_view_module": "@jupyter-widgets/base",
            "overflow": null,
            "_model_module_version": "1.2.0",
            "_view_count": null,
            "flex_flow": null,
            "width": null,
            "min_width": null,
            "border": null,
            "align_items": null,
            "bottom": null,
            "_model_module": "@jupyter-widgets/base",
            "top": null,
            "grid_column": null,
            "overflow_y": null,
            "overflow_x": null,
            "grid_auto_flow": null,
            "grid_area": null,
            "grid_template_columns": null,
            "flex": null,
            "_model_name": "LayoutModel",
            "justify_items": null,
            "grid_row": null,
            "max_height": null,
            "align_content": null,
            "visibility": null,
            "align_self": null,
            "height": null,
            "min_height": null,
            "padding": null,
            "grid_auto_rows": null,
            "grid_gap": null,
            "max_width": null,
            "order": null,
            "_view_module_version": "1.2.0",
            "grid_template_areas": null,
            "object_position": null,
            "object_fit": null,
            "grid_auto_columns": null,
            "margin": null,
            "display": null,
            "left": null
          }
        },
        "74f881f041394f09a1f85e5134c2f88d": {
          "model_module": "@jupyter-widgets/controls",
          "model_name": "FloatProgressModel",
          "state": {
            "_view_name": "ProgressView",
            "style": "IPY_MODEL_a3f6df3fe61c4c409cf04a2b52308025",
            "_dom_classes": [],
            "description": "  0%",
            "_model_name": "FloatProgressModel",
            "bar_style": "danger",
            "max": 49853,
            "_view_module": "@jupyter-widgets/controls",
            "_model_module_version": "1.5.0",
            "value": 0,
            "_view_count": null,
            "_view_module_version": "1.5.0",
            "orientation": "horizontal",
            "min": 0,
            "description_tooltip": null,
            "_model_module": "@jupyter-widgets/controls",
            "layout": "IPY_MODEL_ff289864b1604bf1be624c95c54854de"
          }
        },
        "d93a40478f654246a67636757c5de31e": {
          "model_module": "@jupyter-widgets/controls",
          "model_name": "HTMLModel",
          "state": {
            "_view_name": "HTMLView",
            "style": "IPY_MODEL_d8cbb1bfbd6c499e8bb7faa2c4ee0594",
            "_dom_classes": [],
            "description": "",
            "_model_name": "HTMLModel",
            "placeholder": "​",
            "_view_module": "@jupyter-widgets/controls",
            "_model_module_version": "1.5.0",
            "value": " 0/49853 [00:00&lt;?, ?it/s]",
            "_view_count": null,
            "_view_module_version": "1.5.0",
            "description_tooltip": null,
            "_model_module": "@jupyter-widgets/controls",
            "layout": "IPY_MODEL_4b0120ee109641218539a6cbe479aea6"
          }
        },
        "a3f6df3fe61c4c409cf04a2b52308025": {
          "model_module": "@jupyter-widgets/controls",
          "model_name": "ProgressStyleModel",
          "state": {
            "_view_name": "StyleView",
            "_model_name": "ProgressStyleModel",
            "description_width": "initial",
            "_view_module": "@jupyter-widgets/base",
            "_model_module_version": "1.5.0",
            "_view_count": null,
            "_view_module_version": "1.2.0",
            "bar_color": null,
            "_model_module": "@jupyter-widgets/controls"
          }
        },
        "ff289864b1604bf1be624c95c54854de": {
          "model_module": "@jupyter-widgets/base",
          "model_name": "LayoutModel",
          "state": {
            "_view_name": "LayoutView",
            "grid_template_rows": null,
            "right": null,
            "justify_content": null,
            "_view_module": "@jupyter-widgets/base",
            "overflow": null,
            "_model_module_version": "1.2.0",
            "_view_count": null,
            "flex_flow": null,
            "width": null,
            "min_width": null,
            "border": null,
            "align_items": null,
            "bottom": null,
            "_model_module": "@jupyter-widgets/base",
            "top": null,
            "grid_column": null,
            "overflow_y": null,
            "overflow_x": null,
            "grid_auto_flow": null,
            "grid_area": null,
            "grid_template_columns": null,
            "flex": null,
            "_model_name": "LayoutModel",
            "justify_items": null,
            "grid_row": null,
            "max_height": null,
            "align_content": null,
            "visibility": null,
            "align_self": null,
            "height": null,
            "min_height": null,
            "padding": null,
            "grid_auto_rows": null,
            "grid_gap": null,
            "max_width": null,
            "order": null,
            "_view_module_version": "1.2.0",
            "grid_template_areas": null,
            "object_position": null,
            "object_fit": null,
            "grid_auto_columns": null,
            "margin": null,
            "display": null,
            "left": null
          }
        },
        "d8cbb1bfbd6c499e8bb7faa2c4ee0594": {
          "model_module": "@jupyter-widgets/controls",
          "model_name": "DescriptionStyleModel",
          "state": {
            "_view_name": "StyleView",
            "_model_name": "DescriptionStyleModel",
            "description_width": "",
            "_view_module": "@jupyter-widgets/base",
            "_model_module_version": "1.5.0",
            "_view_count": null,
            "_view_module_version": "1.2.0",
            "_model_module": "@jupyter-widgets/controls"
          }
        },
        "4b0120ee109641218539a6cbe479aea6": {
          "model_module": "@jupyter-widgets/base",
          "model_name": "LayoutModel",
          "state": {
            "_view_name": "LayoutView",
            "grid_template_rows": null,
            "right": null,
            "justify_content": null,
            "_view_module": "@jupyter-widgets/base",
            "overflow": null,
            "_model_module_version": "1.2.0",
            "_view_count": null,
            "flex_flow": null,
            "width": null,
            "min_width": null,
            "border": null,
            "align_items": null,
            "bottom": null,
            "_model_module": "@jupyter-widgets/base",
            "top": null,
            "grid_column": null,
            "overflow_y": null,
            "overflow_x": null,
            "grid_auto_flow": null,
            "grid_area": null,
            "grid_template_columns": null,
            "flex": null,
            "_model_name": "LayoutModel",
            "justify_items": null,
            "grid_row": null,
            "max_height": null,
            "align_content": null,
            "visibility": null,
            "align_self": null,
            "height": null,
            "min_height": null,
            "padding": null,
            "grid_auto_rows": null,
            "grid_gap": null,
            "max_width": null,
            "order": null,
            "_view_module_version": "1.2.0",
            "grid_template_areas": null,
            "object_position": null,
            "object_fit": null,
            "grid_auto_columns": null,
            "margin": null,
            "display": null,
            "left": null
          }
        }
      }
    }
  },
  "cells": [
    {
      "cell_type": "markdown",
      "metadata": {
        "id": "view-in-github",
        "colab_type": "text"
      },
      "source": [
        "<a href=\"https://colab.research.google.com/github/du-hr/MNIST-CNN/blob/Teresa/MiniProject_3.ipynb\" target=\"_parent\"><img src=\"https://colab.research.google.com/assets/colab-badge.svg\" alt=\"Open In Colab\"/></a>"
      ]
    },
    {
      "cell_type": "markdown",
      "metadata": {
        "id": "TwdLP40A4X-A"
      },
      "source": [
        "# MiniProject 3: Multi-label Classification of Image Data\n",
        "\n",
        "\n",
        "> MiniProject 3 of COMP 551 (Fall 2020) at McGill University\n",
        "\n",
        "\n",
        "> Authors (G17): Haoran Du (260776911), Robin Cho (260806783), Teresa Lee (260715070)\n",
        "\n",
        "\n",
        "\n"
      ]
    },
    {
      "cell_type": "code",
      "metadata": {
        "id": "CGhQKetcGX8y",
        "colab": {
          "base_uri": "https://localhost:8080/"
        },
        "outputId": "a6b307f2-e73f-4031-9e6b-759b57e0d2b7"
      },
      "source": [
        "import numpy as np\n",
        "import scipy as sci\n",
        "import pandas as pd\n",
        "import h5py\n",
        "import torch\n",
        "from google.colab import drive\n",
        "# ignore the follwoing line if running locally\n",
        "drive.mount('/content/drive')\n",
        "# make path = './' if running locally\n",
        "path = '/content/drive/My Drive/'\n",
        "\n",
        "#%matplotlib notebook\n",
        "%matplotlib inline\n",
        "import matplotlib.pyplot as plt\n"
      ],
      "execution_count": 1,
      "outputs": [
        {
          "output_type": "stream",
          "text": [
            "Drive already mounted at /content/drive; to attempt to forcibly remount, call drive.mount(\"/content/drive\", force_remount=True).\n"
          ],
          "name": "stdout"
        }
      ]
    },
    {
      "cell_type": "markdown",
      "metadata": {
        "id": "P5VYQqenQbc4"
      },
      "source": [
        "## **1. Datasets**"
      ]
    },
    {
      "cell_type": "markdown",
      "metadata": {
        "id": "WcWAWxDGWb5N"
      },
      "source": [
        "### **1.1 Import Data**"
      ]
    },
    {
      "cell_type": "code",
      "metadata": {
        "id": "F3U3KGvMOWxI",
        "colab": {
          "base_uri": "https://localhost:8080/",
          "height": 313
        },
        "outputId": "74be54bb-5c56-4752-a102-5de9d4e6de70"
      },
      "source": [
        "# load the datasets\n",
        "with h5py.File(path+'MNIST_synthetic.h5', 'r') as hdfid:\n",
        "     print(hdfid.keys())\n",
        "     test_images = hdfid['test_dataset'][()]\n",
        "     train_images = hdfid['train_dataset'][()]\n",
        "     train_labels = hdfid['train_labels'][()]\n",
        "\n",
        "# display train_images properties\n",
        "print(train_images.shape)\n",
        "# print(train_iamges[10][30])\n",
        "\n",
        "# plot first 3 images in train_images\n",
        "images=[]\n",
        "titles=[]\n",
        "images.append(np.array(train_images[0], dtype='float').reshape(64,64))\n",
        "titles.append(\"img_1\")\n",
        "images.append(np.array(train_images[1], dtype='float').reshape(64,64))\n",
        "titles.append(\"img_2\")\n",
        "images.append(np.array(train_images[2], dtype='float').reshape(64,64))\n",
        "titles.append(\"img_3\")\n",
        "\n",
        "for i in range(3):\n",
        "    plt.subplot(1,3,i+1),plt.imshow(images[i])\n",
        "    plt.title(titles[i])\n",
        "    plt.xticks([]),plt.yticks([])\n",
        "\n",
        "plt.show()\n",
        "\n",
        "# display train_labels properties\n",
        "print(train_labels.shape)\n",
        "print(train_labels)"
      ],
      "execution_count": 2,
      "outputs": [
        {
          "output_type": "stream",
          "text": [
            "<KeysViewHDF5 ['test_dataset', 'train_dataset', 'train_labels']>\n",
            "(56000, 64, 64, 1)\n"
          ],
          "name": "stdout"
        },
        {
          "output_type": "display_data",
          "data": {
            "image/png": "[encoded data removed]",
            "text/plain": [
              "<Figure size 432x288 with 3 Axes>"
            ]
          },
          "metadata": {
            "tags": []
          }
        },
        {
          "output_type": "stream",
          "text": [
            "(56000, 5)\n",
            "[[ 8  5  0  3 10]\n",
            " [ 8  9  9  8  7]\n",
            " [ 1  7  9  1  8]\n",
            " ...\n",
            " [ 4  4 10 10 10]\n",
            " [ 7  9  8 10 10]\n",
            " [ 6 10 10 10 10]]\n"
          ],
          "name": "stdout"
        }
      ]
    },
    {
      "cell_type": "markdown",
      "metadata": {
        "id": "_V7Rym-vWRc0"
      },
      "source": [
        "### **1.2 Data Preprocessing**"
      ]
    },
    {
      "cell_type": "markdown",
      "metadata": {
        "id": "ELeEfetpnnuT"
      },
      "source": [
        "###**1.2.1 One Hot Encoding**"
      ]
    },
    {
      "cell_type": "code",
      "metadata": {
        "id": "ihpulb94Wg5y"
      },
      "source": [
        "#First, perform OHE on training labels\n",
        "from keras.utils import to_categorical\n",
        "\n",
        "train_new_labels = to_categorical(train_labels)\n",
        "Y_train = torch.from_numpy(train_new_labels) #save the oneHotEncoded labels as tensor"
      ],
      "execution_count": 3,
      "outputs": []
    },
    {
      "cell_type": "code",
      "metadata": {
        "id": "ApXhhzBjoGeX",
        "outputId": "4d247954-c733-403f-bf48-63af9884724f",
        "colab": {
          "base_uri": "https://localhost:8080/"
        }
      },
      "source": [
        "Y_train"
      ],
      "execution_count": 4,
      "outputs": [
        {
          "output_type": "execute_result",
          "data": {
            "text/plain": [
              "tensor([[[0., 0., 0.,  ..., 1., 0., 0.],\n",
              "         [0., 0., 0.,  ..., 0., 0., 0.],\n",
              "         [1., 0., 0.,  ..., 0., 0., 0.],\n",
              "         [0., 0., 0.,  ..., 0., 0., 0.],\n",
              "         [0., 0., 0.,  ..., 0., 0., 1.]],\n",
              "\n",
              "        [[0., 0., 0.,  ..., 1., 0., 0.],\n",
              "         [0., 0., 0.,  ..., 0., 1., 0.],\n",
              "         [0., 0., 0.,  ..., 0., 1., 0.],\n",
              "         [0., 0., 0.,  ..., 1., 0., 0.],\n",
              "         [0., 0., 0.,  ..., 0., 0., 0.]],\n",
              "\n",
              "        [[0., 1., 0.,  ..., 0., 0., 0.],\n",
              "         [0., 0., 0.,  ..., 0., 0., 0.],\n",
              "         [0., 0., 0.,  ..., 0., 1., 0.],\n",
              "         [0., 1., 0.,  ..., 0., 0., 0.],\n",
              "         [0., 0., 0.,  ..., 1., 0., 0.]],\n",
              "\n",
              "        ...,\n",
              "\n",
              "        [[0., 0., 0.,  ..., 0., 0., 0.],\n",
              "         [0., 0., 0.,  ..., 0., 0., 0.],\n",
              "         [0., 0., 0.,  ..., 0., 0., 1.],\n",
              "         [0., 0., 0.,  ..., 0., 0., 1.],\n",
              "         [0., 0., 0.,  ..., 0., 0., 1.]],\n",
              "\n",
              "        [[0., 0., 0.,  ..., 0., 0., 0.],\n",
              "         [0., 0., 0.,  ..., 0., 1., 0.],\n",
              "         [0., 0., 0.,  ..., 1., 0., 0.],\n",
              "         [0., 0., 0.,  ..., 0., 0., 1.],\n",
              "         [0., 0., 0.,  ..., 0., 0., 1.]],\n",
              "\n",
              "        [[0., 0., 0.,  ..., 0., 0., 0.],\n",
              "         [0., 0., 0.,  ..., 0., 0., 1.],\n",
              "         [0., 0., 0.,  ..., 0., 0., 1.],\n",
              "         [0., 0., 0.,  ..., 0., 0., 1.],\n",
              "         [0., 0., 0.,  ..., 0., 0., 1.]]])"
            ]
          },
          "metadata": {
            "tags": []
          },
          "execution_count": 4
        }
      ]
    },
    {
      "cell_type": "code",
      "metadata": {
        "id": "xLAJOrRgdpib"
      },
      "source": [
        "Y_train.shape"
      ],
      "execution_count": null,
      "outputs": []
    },
    {
      "cell_type": "markdown",
      "metadata": {
        "id": "f7iV-2cYn4rn"
      },
      "source": [
        "### **1.2.2 Data Normalization**"
      ]
    },
    {
      "cell_type": "code",
      "metadata": {
        "id": "t4fnW9LJwNLO"
      },
      "source": [
        "# normalize to range 0-1 with typecast to float\n",
        "def data_scaled(x):\n",
        "  scaled_x = x.astype('float32') / 255.0\n",
        "  return scaled_x\n",
        "\n",
        "scaled_train_images = data_scaled(train_images)\n",
        "X_train = torch.from_numpy(scaled_train_images)"
      ],
      "execution_count": 7,
      "outputs": []
    },
    {
      "cell_type": "code",
      "metadata": {
        "id": "duMAMxCTpk1m",
        "outputId": "432aec51-e1cf-4559-f033-08222369ec60",
        "colab": {
          "base_uri": "https://localhost:8080/"
        }
      },
      "source": [
        "X_train.shape"
      ],
      "execution_count": 6,
      "outputs": [
        {
          "output_type": "execute_result",
          "data": {
            "text/plain": [
              "torch.Size([56000, 64, 64, 1])"
            ]
          },
          "metadata": {
            "tags": []
          },
          "execution_count": 6
        }
      ]
    },
    {
      "cell_type": "code",
      "metadata": {
        "id": "4V595Wibpna9",
        "outputId": "64d2d0aa-7c26-41b0-d23e-194cd5b5e3b4",
        "colab": {
          "base_uri": "https://localhost:8080/"
        }
      },
      "source": [
        "torch.std(X_train, 1).shape"
      ],
      "execution_count": 9,
      "outputs": [
        {
          "output_type": "execute_result",
          "data": {
            "text/plain": [
              "torch.Size([56000, 64, 1])"
            ]
          },
          "metadata": {
            "tags": []
          },
          "execution_count": 9
        }
      ]
    },
    {
      "cell_type": "code",
      "metadata": {
        "id": "_iY1y3r69yVI"
      },
      "source": [
        "'''\n",
        "def data_standardized(x):\n",
        "  mean = torch.mean(x, 1)\n",
        "  std = torch.std(x, 1)\n",
        "  normalized_x = x\n",
        "  blank = torch.ones((x.shape[1], x.shape[2]))\n",
        "  for i in list(range(0, x.shape[0])):\n",
        "    normalized_x[i] = (x - mean[i]*blank)/(std[i]*blank)\n",
        "  return normalized_x\n",
        "\n",
        "X_train = data_standardized(X_train)\n",
        "'''"
      ],
      "execution_count": null,
      "outputs": []
    },
    {
      "cell_type": "code",
      "metadata": {
        "id": "vJa4VD34qnGW",
        "outputId": "16809d7d-d6dc-4f98-dce7-c01ff48ce4db",
        "colab": {
          "base_uri": "https://localhost:8080/"
        }
      },
      "source": [
        "train_labels.shape"
      ],
      "execution_count": 4,
      "outputs": [
        {
          "output_type": "execute_result",
          "data": {
            "text/plain": [
              "(56000, 5)"
            ]
          },
          "metadata": {
            "tags": []
          },
          "execution_count": 4
        }
      ]
    },
    {
      "cell_type": "code",
      "metadata": {
        "id": "e7q7jEgVqDle"
      },
      "source": [
        ""
      ],
      "execution_count": null,
      "outputs": []
    },
    {
      "cell_type": "markdown",
      "metadata": {
        "id": "1oGTptaF2_x9"
      },
      "source": [
        "###**1.2.3 Detecting the number of digits**"
      ]
    },
    {
      "cell_type": "code",
      "metadata": {
        "id": "0cY7Y3emwYOe"
      },
      "source": [
        "import cv2\n",
        "threshold = 1 #Hyperparameter?\n",
        "width = 12\n",
        "height = 12"
      ],
      "execution_count": null,
      "outputs": []
    },
    {
      "cell_type": "code",
      "metadata": {
        "id": "r2dRRAe8wRIl"
      },
      "source": [
        "def findDigits(img):\n",
        "  #Note that a normalized image does not work\n",
        "  ret,thresh = cv2.threshold(img,threshold,255,0)\n",
        "  contours, hierarchy = cv2.findContours(thresh, cv2.RETR_EXTERNAL, cv2.CHAIN_APPROX_SIMPLE)\n",
        "\n",
        "  #print(len(contours))\n",
        "  def getKey(item):\n",
        "    return item[0]\n",
        "\n",
        "  digitsLoc = []\n",
        "  minArea = 15\n",
        "  for cnt in contours:\n",
        "    x, y, w, h = cv2.boundingRect(cnt)\n",
        "    if w == 1 and h > 4:\n",
        "      listTemp = [x, y, w, h]\n",
        "      digitsLoc.append(listTemp)\n",
        "    \n",
        "    elif w * h > minArea:\n",
        "      listTemp = [x, y, w, h]\n",
        "      digitsLoc.append(listTemp)\n",
        "  \n",
        "  return sorted(digitsLoc, key = lambda x: x[0])"
      ],
      "execution_count": null,
      "outputs": []
    },
    {
      "cell_type": "code",
      "metadata": {
        "id": "Ic8U8B8bzf_p"
      },
      "source": [
        "images_scaled=[]\n",
        "images_scaled.append(np.array(train_images[4476], dtype='float').reshape(64,64))\n",
        "sample = plt.imshow(images_scaled[0])\n",
        "plt.show()\n",
        "\n",
        "#x = findDigits(train_images[3282])\n",
        "passed = 0\n",
        "total = 0\n",
        "\n",
        "for i in range(0, 56000):\n",
        "  x = len(findDigits(train_images[i]))\n",
        "  n = 0\n",
        "  for c in train_labels[i]:\n",
        "    if c != 10:\n",
        "      n = n + 1\n",
        "  \n",
        "  if n == x:\n",
        "    passed = passed + 1\n",
        "  else:\n",
        "    print(\"Case#: \",i, \"Detected: \" ,x, \" Expected: \", n)\n",
        "  total = total + 1\n",
        "\n",
        "print(passed/total)"
      ],
      "execution_count": null,
      "outputs": []
    },
    {
      "cell_type": "markdown",
      "metadata": {
        "id": "VtJy-sffpYok"
      },
      "source": [
        "### **1.2.4 Class Distribution**\n"
      ]
    },
    {
      "cell_type": "code",
      "metadata": {
        "id": "5Vwee0UprjPB"
      },
      "source": [
        "unique_y1, counts_y1 = np.unique(train_labels[:, 0], return_counts=True)\n",
        "plt.bar(unique_y1, counts_y1/sum(counts_y1))\n",
        "plt.xticks(unique_y1, unique_y1)\n",
        "plt.title(f\"Class Distribution of the first column\")\n",
        "plt.show()"
      ],
      "execution_count": null,
      "outputs": []
    },
    {
      "cell_type": "code",
      "metadata": {
        "id": "dAJ4C4nbrtg2"
      },
      "source": [
        "unique_y2, counts_y2 = np.unique(train_labels[:, 1], return_counts=True)\n",
        "plt.bar(unique_y2, counts_y2/sum(counts_y2))\n",
        "plt.xticks(unique_y2, unique_y2)\n",
        "plt.title(f\"Class Distribution of the second column\")\n",
        "plt.show()"
      ],
      "execution_count": null,
      "outputs": []
    },
    {
      "cell_type": "code",
      "metadata": {
        "id": "DQln8QrArt3D"
      },
      "source": [
        "unique_y3, counts_y3 = np.unique(train_labels[:, 2], return_counts=True)\n",
        "plt.bar(unique_y3, counts_y3/sum(counts_y3))\n",
        "plt.xticks(unique_y3, unique_y3)\n",
        "plt.title(f\"Class Distribution of the third column\")\n",
        "plt.show()"
      ],
      "execution_count": null,
      "outputs": []
    },
    {
      "cell_type": "code",
      "metadata": {
        "id": "ADQMb2X6ruMT"
      },
      "source": [
        "unique_y4, counts_y4 = np.unique(train_labels[:, 3], return_counts=True)\n",
        "plt.bar(unique_y4, counts_y4/sum(counts_y4))\n",
        "plt.xticks(unique_y4, unique_y4)\n",
        "plt.title(f\"Class Distribution of the fourth column\")\n",
        "plt.show()"
      ],
      "execution_count": null,
      "outputs": []
    },
    {
      "cell_type": "code",
      "metadata": {
        "id": "vYuwvAWQru7I"
      },
      "source": [
        "unique_y5, counts_y5 = np.unique(train_labels[:, 4], return_counts=True)\n",
        "plt.bar(unique_y5, counts_y5/sum(counts_y5))\n",
        "plt.xticks(unique_y5, unique_y5)\n",
        "plt.title(f\"Class Distribution of the fifth column\")\n",
        "plt.show()"
      ],
      "execution_count": null,
      "outputs": []
    },
    {
      "cell_type": "markdown",
      "metadata": {
        "id": "SlLoNgfSoKD2"
      },
      "source": [
        "### **1.2.4 Calculate the bounds of the images**\n"
      ]
    },
    {
      "cell_type": "code",
      "metadata": {
        "id": "NF7LOKX5oJRk"
      },
      "source": [
        "def lowerBound(x):\n",
        "  N = x.shape[1]\n",
        "  D = x.shape[0]\n",
        "  lowerBounds = [0]*D\n",
        "  bound = x[0, 0]\n",
        "  for i in list(range(0, D)):\n",
        "    for j in list(range(0, N)):\n",
        "      if torch.all(torch.eq(x[i, j], bound)):\n",
        "        lowerBounds[i] = j + 1\n",
        "      else:\n",
        "        break\n",
        "  return min(lowerBounds)\n",
        "  \n",
        "def upperBound(x):\n",
        "  N = x.shape[1]\n",
        "  D = x.shape[0]\n",
        "  upperBounds = [64]*D\n",
        "  bound = x[0, 0]\n",
        "  for i in list(range(0, D)):\n",
        "    for j in list(range(0, N)):\n",
        "      if torch.all(torch.eq(x[i, 63-j], bound)):\n",
        "        upperBounds[i] = 63-j\n",
        "      else:\n",
        "        break\n",
        "  return max(upperBounds)"
      ],
      "execution_count": null,
      "outputs": []
    },
    {
      "cell_type": "code",
      "metadata": {
        "id": "aDiUbLpdIdkF"
      },
      "source": [
        "def leftBound(x):\n",
        "  N = x.shape[2]\n",
        "  D = x.shape[0]\n",
        "  leftBounds = [0]*D\n",
        "  bound = x[0, :, 0]\n",
        "  for i in list(range(0, D)):\n",
        "    for j in list(range(0, N)):\n",
        "      if torch.all(torch.eq(x[i, :, j], bound)):\n",
        "        leftBounds[i] = j + 1\n",
        "      else:\n",
        "        break\n",
        "  return min(leftBounds)\n",
        "  \n",
        "def rightBound(x):\n",
        "  N = x.shape[2]\n",
        "  D = x.shape[0]\n",
        "  rightBounds = [64]*D\n",
        "  bound = x[0, :, 0]\n",
        "  for i in list(range(0, D)):\n",
        "    for j in list(range(0, N)):\n",
        "      if torch.all(torch.eq(x[i, :, 63 - j], bound)):\n",
        "        rightBounds[i] = 63 - j\n",
        "      else:\n",
        "        break\n",
        "  return max(rightBounds)"
      ],
      "execution_count": null,
      "outputs": []
    },
    {
      "cell_type": "code",
      "metadata": {
        "id": "metobBdpqBXv"
      },
      "source": [
        "u = upperBound(X_train)\n",
        "l = lowerBound(X_train)\n",
        "l2 = leftBound(X_train)\n",
        "r = rightBound(X_train)\n",
        "\n",
        "print(\"Upper bound: \", u,\", Lower bound:\", l, \", Left bound: \", l2,\", Right bound:\", r)"
      ],
      "execution_count": null,
      "outputs": []
    },
    {
      "cell_type": "markdown",
      "metadata": {
        "id": "g7ghhGf6wzaV"
      },
      "source": [
        "### **1.2.5 Partitioning the data**\n"
      ]
    },
    {
      "cell_type": "code",
      "metadata": {
        "id": "Uiuu_L9T4XJ7"
      },
      "source": [
        "def leftBound_digit(x, initial_column):\n",
        "  N = x.shape[1] #column\n",
        "  leftBound = 0\n",
        "  bound = torch.full(x[:, 0].shape, 0.2)\n",
        "  for i in list(range(initial_column, N)):\n",
        "    if torch.all(torch.le(x[:, i], bound)):\n",
        "      leftBound = i + 1\n",
        "    else:\n",
        "      break\n",
        "  return leftBound"
      ],
      "execution_count": 9,
      "outputs": []
    },
    {
      "cell_type": "code",
      "metadata": {
        "id": "gCell7HW-kbp"
      },
      "source": [
        "def rightBound_digit(x, initial_column):\n",
        "  N = x.shape[1] #column\n",
        "  leftBound = 0\n",
        "  bound = torch.full(x[:, 0].shape, 0.2)\n",
        "  for i in list(range(initial_column, N)):\n",
        "    if torch.all(torch.le(x[:, i], bound)) == False:\n",
        "      leftBound = i + 1\n",
        "    else:\n",
        "      break\n",
        "  return leftBound"
      ],
      "execution_count": 10,
      "outputs": []
    },
    {
      "cell_type": "code",
      "metadata": {
        "id": "V2wzc_uZZCTk"
      },
      "source": [
        "def partition_image(x):\n",
        "  x = x.reshape(64, 64)\n",
        "  l = leftBound_digit(x, 0)\n",
        "  r = rightBound_digit(x, l)\n",
        "  x_1 = torch.zeros((12, 12))\n",
        "  x_1[0:12, 0: x[26:38,l:r].shape[1]] = x[26:38,l:r]\n",
        "\n",
        "  l = leftBound_digit(x, r)\n",
        "  if l == 64: #i.e. one digit\n",
        "    x_2 = torch.zeros((12, 12))\n",
        "    x_3 = torch.zeros((12, 12))\n",
        "    x_4 = torch.zeros((12, 12))\n",
        "    x_5 = torch.zeros((12, 12))\n",
        "  else:\n",
        "    r = rightBound_digit(x, l)\n",
        "    x_2 = torch.zeros((12, 12))\n",
        "    x_2[0:12, 0: x[26:38,l:r].shape[1]] = x[26:38,l:r]\n",
        "\n",
        "    l = leftBound_digit(x, r)\n",
        "\n",
        "    if l == 64: #i.e. two digits\n",
        "      x_3 = torch.zeros((12, 12))\n",
        "      x_4 = torch.zeros((12, 12))\n",
        "      x_5 = torch.zeros((12, 12))\n",
        "    else:\n",
        "      r = rightBound_digit(x, l)\n",
        "      x_3 = torch.zeros((12, 12))\n",
        "      x_3[0:12, 0: x[26:38,l:r].shape[1]] = x[26:38,l:r]\n",
        "      l = leftBound_digit(x, r)\n",
        "\n",
        "      if l == 64: #i.e. three digits\n",
        "        x_4 = torch.zeros((12, 12))\n",
        "        x_5 = torch.zeros((12, 12))\n",
        "      else:\n",
        "        r = rightBound_digit(x, l)\n",
        "        x_4 = torch.zeros((12, 12))\n",
        "        x_4[0:12, 0: x[26:38,l:r].shape[1]] = x[26:38,l:r]\n",
        "        l = leftBound_digit(x, r)\n",
        "\n",
        "        if l == 64:  #i.e. four digits\n",
        "          x_5 = torch.zeros((12, 12))\n",
        "        else: #i.e. five digits\n",
        "          r = rightBound_digit(x, l)\n",
        "          x_5 = torch.zeros((12, 12))\n",
        "          x_5[0:12, 0: x[26:38,l:r].shape[1]] = x[26:38,l:r]\n",
        "    \n",
        "  x_0 = torch.stack((x_1, x_2, x_3, x_4, x_5))\n",
        "\n",
        "  return x_0"
      ],
      "execution_count": 11,
      "outputs": []
    },
    {
      "cell_type": "code",
      "metadata": {
        "id": "JK0E9O98qRmR"
      },
      "source": [
        "x_try = X_train[0].reshape(64, 64)\n",
        "plt.imshow(x_try)"
      ],
      "execution_count": null,
      "outputs": []
    },
    {
      "cell_type": "code",
      "metadata": {
        "id": "cnSIGZZlHScx",
        "outputId": "9ad29d3b-8326-4bd0-bb46-30d14da20031",
        "colab": {
          "base_uri": "https://localhost:8080/",
          "height": 91
        }
      },
      "source": [
        "x_try_part = partition_image(x_try)\n",
        "for i in range(5):\n",
        "    plt.subplot(1,5,i+1),plt.imshow(x_try_part[i, :, :])\n",
        "    plt.xticks([]),plt.yticks([])"
      ],
      "execution_count": 13,
      "outputs": [
        {
          "output_type": "display_data",
          "data": {
            "image/png": "[encoded data removed]",
            "text/plain": [
              "<Figure size 432x288 with 5 Axes>"
            ]
          },
          "metadata": {
            "tags": []
          }
        }
      ]
    },
    {
      "cell_type": "code",
      "metadata": {
        "id": "ZbvpjgpNDYmq"
      },
      "source": [
        "#resize\n",
        "#convert things over here"
      ],
      "execution_count": null,
      "outputs": []
    },
    {
      "cell_type": "code",
      "metadata": {
        "id": "ltEpUY3XGNm7"
      },
      "source": [
        "#this code checks the accuracy per image\n",
        "def partition_image_number_of_digits_accuracy(x):\n",
        "  x = x.reshape(64, 64)\n",
        "  l = leftBound_digit(x, 0)\n",
        "  r = rightBound_digit(x, l)\n",
        "  l = leftBound_digit(x, r)\n",
        "  if l == 64: #i.e. one digit\n",
        "    n = 1\n",
        "  else:\n",
        "    r = rightBound_digit(x, l)\n",
        "    l = leftBound_digit(x, r)\n",
        "\n",
        "    if l == 64: #i.e. two digits\n",
        "      n = 2\n",
        "    else:\n",
        "      r = rightBound_digit(x, l)\n",
        "      l = leftBound_digit(x, r)\n",
        "\n",
        "      if l == 64: #i.e. three digits\n",
        "        n = 3\n",
        "      else:\n",
        "        r = rightBound_digit(x, l)\n",
        "        l = leftBound_digit(x, r)\n",
        "\n",
        "        if l == 64:  #i.e. four digits\n",
        "          n = 4\n",
        "        else: #i.e. five digits\n",
        "          r = rightBound_digit(x, l)\n",
        "          n = 5\n",
        "  return n"
      ],
      "execution_count": 14,
      "outputs": []
    },
    {
      "cell_type": "code",
      "metadata": {
        "id": "wnM0GDqqGjac"
      },
      "source": [
        "def accuracy_check(x, y):\n",
        "  D = x.shape[0]\n",
        "  Y_true = torch.zeros(D)\n",
        "  for i in list(range(0, D)):\n",
        "    n = 0\n",
        "    for c in y[i]:\n",
        "      if c != 10:\n",
        "        n = n + 1\n",
        "    Y_true[i] = n\n",
        "\n",
        "  correct = 0\n",
        "  incorrect = 0\n",
        "  for i in list(range(0, D)):\n",
        "    if Y_true[i] == partition_image_number_of_digits_accuracy(x[i]):\n",
        "      correct = correct + 1\n",
        "    else:\n",
        "      incorrect = incorrect +1\n",
        "  return correct/(incorrect+correct)"
      ],
      "execution_count": 15,
      "outputs": []
    },
    {
      "cell_type": "code",
      "metadata": {
        "id": "LIbR-6lBJEOd",
        "outputId": "398561b2-9585-4495-94c9-2a5c45d7292a",
        "colab": {
          "base_uri": "https://localhost:8080/"
        }
      },
      "source": [
        "accuracy_check(X_train, train_labels)"
      ],
      "execution_count": 17,
      "outputs": [
        {
          "output_type": "execute_result",
          "data": {
            "text/plain": [
              "0.997375"
            ]
          },
          "metadata": {
            "tags": []
          },
          "execution_count": 17
        }
      ]
    },
    {
      "cell_type": "code",
      "metadata": {
        "id": "A-wkegnYllIf"
      },
      "source": [
        "#The accuracy is 0.994 when set threshold = 0\n",
        "#The accuracy is 0.996 when set threshold = 0.25\n",
        "#The accuracy is 0.986 when set threshold = 0.361"
      ],
      "execution_count": null,
      "outputs": []
    },
    {
      "cell_type": "code",
      "metadata": {
        "id": "LyWvd72NPzTA"
      },
      "source": [
        "def incorrect_list(x, y):\n",
        "  D = x.shape[0]\n",
        "  Y_true = torch.zeros(D)\n",
        "  for i in list(range(0, D)):\n",
        "    n = 0\n",
        "    for c in y[i]:\n",
        "      if c != 10:\n",
        "        n = n + 1\n",
        "    Y_true[i] = n\n",
        "\n",
        "  correct = 0\n",
        "  incorrect = []\n",
        "  for i in list(range(0, D)):\n",
        "    if Y_true[i] == partition_image_number_of_digits_accuracy(x[i]):\n",
        "      correct = correct + 1\n",
        "    else:\n",
        "      incorrect.append(i)\n",
        "  return incorrect"
      ],
      "execution_count": 18,
      "outputs": []
    },
    {
      "cell_type": "code",
      "metadata": {
        "id": "dnJa-EH6QZdE"
      },
      "source": [
        "incorrect_digits = incorrect_list(X_train, train_labels)"
      ],
      "execution_count": 19,
      "outputs": []
    },
    {
      "cell_type": "code",
      "metadata": {
        "id": "uz2BeAYTUeMZ"
      },
      "source": [
        "correct_digits = list(range(0, X_train.shape[0]))\n",
        "correct_digits = list(np.delete(np.array(correct_digits), (incorrect_digits), axis=0))"
      ],
      "execution_count": 20,
      "outputs": []
    },
    {
      "cell_type": "code",
      "metadata": {
        "id": "pzFsC2NEZqka"
      },
      "source": [
        "accuracy_check(X_train[correct_digits, :], train_labels[correct_digits, :])"
      ],
      "execution_count": null,
      "outputs": []
    },
    {
      "cell_type": "code",
      "metadata": {
        "id": "9LTsJ1nkcJSG"
      },
      "source": [
        "def dataset_images_partition(x):\n",
        "  d1 = x.shape[0]\n",
        "  d2 = 5\n",
        "  d3 = 12\n",
        "  d4 = 12\n",
        "  X_new = torch.zeros((d1, d2, d3, d4))\n",
        "  for i in list(range(0, d1)):\n",
        "    X_new[i] = partition_image(x[i])\n",
        "  return X_new"
      ],
      "execution_count": 21,
      "outputs": []
    },
    {
      "cell_type": "code",
      "metadata": {
        "id": "vn4Xzl_pc-gc"
      },
      "source": [
        "X_train_part = dataset_images_partition(X_train[correct_digits, :])\n",
        "Y_train_part = Y_train[correct_digits, :]"
      ],
      "execution_count": 57,
      "outputs": []
    },
    {
      "cell_type": "code",
      "metadata": {
        "id": "-vL7fB5q1dNy"
      },
      "source": [
        "Y_train_part = train_labels[correct_digits, :]"
      ],
      "execution_count": 81,
      "outputs": []
    },
    {
      "cell_type": "code",
      "metadata": {
        "id": "QmG8IofXa6aQ",
        "outputId": "939838ae-7b81-4909-e998-16803fa2f98e",
        "colab": {
          "base_uri": "https://localhost:8080/"
        }
      },
      "source": [
        "X_train_part.shape"
      ],
      "execution_count": 24,
      "outputs": [
        {
          "output_type": "execute_result",
          "data": {
            "text/plain": [
              "torch.Size([55853, 5, 12, 12])"
            ]
          },
          "metadata": {
            "tags": []
          },
          "execution_count": 24
        }
      ]
    },
    {
      "cell_type": "markdown",
      "metadata": {
        "id": "pRd6dOP13efC"
      },
      "source": [
        "### **1.2.6 Creating dataloader**"
      ]
    },
    {
      "cell_type": "code",
      "metadata": {
        "id": "zUiJ3i_lrR7O"
      },
      "source": [
        "def x_multiLabel_to_singleLabel(x):\n",
        "  n = x.shape[0]\n",
        "  n2 = x.shape[2]\n",
        "  n3 = x.shape[3]\n",
        "  new_x = torch.zeros((n*5, 1, n2, n3))\n",
        "  for i in list(range(0, n)):\n",
        "    for j in list(range(0, 5)):\n",
        "      new_x[i*5+j] = x[i, j]\n",
        "  return new_x"
      ],
      "execution_count": 93,
      "outputs": []
    },
    {
      "cell_type": "code",
      "metadata": {
        "id": "Tob-SglVtzZN"
      },
      "source": [
        "X_train_part2 = x_multiLabel_to_singleLabel(X_train_part)"
      ],
      "execution_count": 94,
      "outputs": []
    },
    {
      "cell_type": "code",
      "metadata": {
        "id": "_rkc_yTayXqW",
        "outputId": "84c5b914-3791-49a8-edbf-45843c755911",
        "colab": {
          "base_uri": "https://localhost:8080/"
        }
      },
      "source": [
        "X_train_part2.shape"
      ],
      "execution_count": 149,
      "outputs": [
        {
          "output_type": "execute_result",
          "data": {
            "text/plain": [
              "torch.Size([279265, 1, 12, 12])"
            ]
          },
          "metadata": {
            "tags": []
          },
          "execution_count": 149
        }
      ]
    },
    {
      "cell_type": "code",
      "metadata": {
        "id": "OQJyTvRXxVtv",
        "outputId": "419040b3-ea9f-4f1a-a1f4-348d44415bd2",
        "colab": {
          "base_uri": "https://localhost:8080/"
        }
      },
      "source": [
        "Y_train.shape"
      ],
      "execution_count": 37,
      "outputs": [
        {
          "output_type": "execute_result",
          "data": {
            "text/plain": [
              "torch.Size([56000, 5, 11])"
            ]
          },
          "metadata": {
            "tags": []
          },
          "execution_count": 37
        }
      ]
    },
    {
      "cell_type": "code",
      "metadata": {
        "id": "JSGx3EfHsBRC"
      },
      "source": [
        "def y_multiLabel_to_singleLabel(y):\n",
        "  n = y.shape[0]\n",
        "  new_y = torch.zeros((n*5))\n",
        "  for i in list(range(0, n)):\n",
        "    for j in list(range(0, 5)):\n",
        "      new_y[i*5+j] = y[i, j]\n",
        "  return new_y"
      ],
      "execution_count": 83,
      "outputs": []
    },
    {
      "cell_type": "code",
      "metadata": {
        "id": "KIB4Lm2DxlA-"
      },
      "source": [
        "Y_train_part2 = y_multiLabel_to_singleLabel(Y_train_part)"
      ],
      "execution_count": 84,
      "outputs": []
    },
    {
      "cell_type": "code",
      "metadata": {
        "id": "xorO1auLxwc_",
        "outputId": "b69b5bf9-cf3a-40da-e281-bd86275b6a41",
        "colab": {
          "base_uri": "https://localhost:8080/"
        }
      },
      "source": [
        "Y_train_part2.shape"
      ],
      "execution_count": 150,
      "outputs": [
        {
          "output_type": "execute_result",
          "data": {
            "text/plain": [
              "torch.Size([279265])"
            ]
          },
          "metadata": {
            "tags": []
          },
          "execution_count": 150
        }
      ]
    },
    {
      "cell_type": "code",
      "metadata": {
        "id": "tCPj7d6XxGuP"
      },
      "source": [
        "def y_singleLabel_to_multiLabel(initial_x, new_y):\n",
        "  n = initial_x.shape[0]\n",
        "  y = torch.zeros((n, 5))\n",
        "  for i in list(range(0, n)):\n",
        "    for j in list(range(0, 5)):\n",
        "      y[i, j] = new_y[i*5+j]\n",
        "  return y"
      ],
      "execution_count": 36,
      "outputs": []
    },
    {
      "cell_type": "code",
      "metadata": {
        "id": "JwL0Rac0jUB9",
        "colab": {
          "base_uri": "https://localhost:8080/"
        },
        "outputId": "7b1907f8-2d5e-4b4c-fbe6-cf0ecab3ba39"
      },
      "source": [
        "from random import seed\n",
        "from random import randint\n",
        "seed(1)\n",
        "# generate 6000 random integers for validation set\n",
        "val_index = np.random.choice(55853*5, 6000*5, replace=False)\n",
        "print(len(val_index))\n",
        "train_index = np.setxor1d(np.arange(55853*5),val_index)\n",
        "print(len(train_index))"
      ],
      "execution_count": 34,
      "outputs": [
        {
          "output_type": "stream",
          "text": [
            "30000\n",
            "249265\n"
          ],
          "name": "stdout"
        }
      ]
    },
    {
      "cell_type": "code",
      "metadata": {
        "id": "W2yVvLQBxl89"
      },
      "source": [
        "from torch.utils.data import Dataset, DataLoader\n",
        "class train_images_data(Dataset):\n",
        "    def __init__(self):\n",
        "      self.x = X_train_part2[train_index, :]\n",
        "      self.y = Y_train_part2[train_index]\n",
        "      self.n_samples = X_train_part2[train_index, :].shape[0]\n",
        "    \n",
        "    def __getitem__(self, index):\n",
        "      return self.x[index], self.y[index]\n",
        "    \n",
        "    def __len__(self):\n",
        "      return self.n_samples\n",
        "\n",
        "\n",
        "train_data = train_images_data()\n",
        "train_dataloader = DataLoader(dataset=train_data, batch_size = 5, shuffle = True)"
      ],
      "execution_count": 127,
      "outputs": []
    },
    {
      "cell_type": "code",
      "metadata": {
        "id": "6wOaEShfiipz"
      },
      "source": [
        "class val_images_data(Dataset):\n",
        "    def __init__(self):\n",
        "      self.x = X_train_part2[val_index, :]\n",
        "      self.y = Y_train_part2[val_index]\n",
        "      self.n_samples = X_train_part2[val_index, :].shape[0]\n",
        "    \n",
        "    def __getitem__(self, index):\n",
        "      return self.x[index], self.y[index]\n",
        "    \n",
        "    def __len__(self):\n",
        "      return self.n_samples\n",
        "\n",
        "\n",
        "val_data = val_images_data()\n",
        "val_dataloader = DataLoader(dataset=val_data, batch_size = 5, shuffle = True)"
      ],
      "execution_count": 96,
      "outputs": []
    },
    {
      "cell_type": "code",
      "metadata": {
        "id": "vHXy9kYZz0Vc"
      },
      "source": [
        "datatiter = iter(train_dataloader)\n",
        "data = datatiter.next()\n",
        "image, label = data"
      ],
      "execution_count": null,
      "outputs": []
    },
    {
      "cell_type": "code",
      "metadata": {
        "colab": {
          "base_uri": "https://localhost:8080/"
        },
        "id": "_mH5RDpg0O95",
        "outputId": "82e93304-eb79-4923-e466-18cb60be2797"
      },
      "source": [
        "image.shape"
      ],
      "execution_count": null,
      "outputs": [
        {
          "output_type": "execute_result",
          "data": {
            "text/plain": [
              "torch.Size([5, 5, 12, 12])"
            ]
          },
          "metadata": {
            "tags": []
          },
          "execution_count": 266
        }
      ]
    },
    {
      "cell_type": "markdown",
      "metadata": {
        "id": "dRUoe-A8Wgs2"
      },
      "source": [
        "## **2. Neural Network Models**"
      ]
    },
    {
      "cell_type": "code",
      "metadata": {
        "id": "Kd2XQrceQulA"
      },
      "source": [
        "import torch\n",
        "from torch import nn\n",
        "from tqdm import tqdm_notebook\n",
        "\n",
        "class CNN(nn.Module):\n",
        "    def __init__(self, input_size, num_classes):\n",
        "        \"\"\"\n",
        "        init convolution and activation layers\n",
        "        Args:\n",
        "            input_size: (1,28,28)\n",
        "            num_classes: 10\n",
        "        \"\"\"\n",
        "        super(CNN, self).__init__()\n",
        "\n",
        "        self.layer1 = nn.Sequential(\n",
        "            nn.Conv2d(input_size[0], 18, kernel_size=4),\n",
        "            nn.ReLU(),\n",
        "            nn.MaxPool2d(kernel_size=2))\n",
        "        \n",
        "        self.layer2 = nn.Sequential(\n",
        "            nn.Conv2d(18, 36, kernel_size=4),\n",
        "            nn.ReLU(),\n",
        "            nn.MaxPool2d(kernel_size=2))\n",
        "\n",
        "        self.fc1 = nn.Linear(4 * 4 * 36, num_classes)\n",
        "        \n",
        "    \n",
        "    def forward(self, x):\n",
        "        \"\"\"\n",
        "        forward function describes how input tensor is transformed to output tensor\n",
        "        Args:\n",
        "            x: (Nx1x28x28) tensor\n",
        "        \"\"\"\n",
        "        x = self.layer1(x)\n",
        "        x = self.layer2(x)\n",
        "        x = x.reshape(x.size(0), -1)\n",
        "        x = self.fc1(x)\n",
        "        return x\n",
        "    \n",
        "model2 = CNN((1, 12, 12), 11)\n",
        "    \n",
        "opts = {\n",
        "    'lr': 1e-3,\n",
        "    'epochs': 20,\n",
        "    'batch_size': 36\n",
        "}"
      ],
      "execution_count": 151,
      "outputs": []
    },
    {
      "cell_type": "code",
      "metadata": {
        "id": "xwZDlpfN9bJs"
      },
      "source": [
        "class Model(torch.nn.Module):\n",
        "    def __init__(self):\n",
        "        super(Model, self).__init__()\n",
        "        self.conv_1 = torch.nn.Conv2d(in_channels=1, out_channels=32, kernel_size=3, stride=1, padding=1) # first convolution layer: 32*12*12\n",
        "        self.conv_2 = torch.nn.Conv2d(in_channels=32, out_channels=64, kernel_size=3, stride=1, padding=1) # second convolution layer: 64*3*3\n",
        "        self.max_pool2d = torch.nn.MaxPool2d(kernel_size=2, stride=2) \n",
        "        self.linear_1 = torch.nn.Linear(3 * 3 * 64, 128) # linear layer with 128 nodes\n",
        "        self.linear_2 = torch.nn.Linear(128, 11) # match the output of 11 labels\n",
        "        self.dropout = torch.nn.Dropout(p=0.5) # avoid overfitting between the two linear layers\n",
        "        self.relu = torch.nn.ReLU()\n",
        "\n",
        "    def forward(self, x):\n",
        "        x = self.conv_1(x)\n",
        "        x = self.relu(x)\n",
        "        x = self.max_pool2d(x) #32*6*6\n",
        "        x = self.conv_2(x)\n",
        "        x = self.relu(x)\n",
        "        x = self.max_pool2d(x) \n",
        "        x = x.reshape(x.size(0), -1)\n",
        "        x = self.linear_1(x)\n",
        "        x = self.relu(x)\n",
        "        x = self.dropout(x)\n",
        "        pred = self.linear_2(x)\n",
        "\n",
        "        return pred\n",
        "\n",
        "model2 = Model()"
      ],
      "execution_count": 131,
      "outputs": []
    },
    {
      "cell_type": "code",
      "metadata": {
        "id": "IRc3Fn0l-Tq-"
      },
      "source": [
        "class CNN(nn.Module):\n",
        "    def __init__(self):\n",
        "        super(CNN, self).__init__()\n",
        "        self.conv1 = nn.Conv2d(12, 32, kernel_size=4)\n",
        "        self.conv2 = nn.Conv2d(32, 32, kernel_size=4)\n",
        "        self.conv3 = nn.Conv2d(32,64, kernel_size=4)\n",
        "        self.fc1 = nn.Linear(3*3*64, 256)\n",
        "        self.fc2 = nn.Linear(256, 11)\n",
        "\n",
        "    def forward(self, x):\n",
        "        x = nn.functional.relu(self.conv1(x))\n",
        "        #x = F.dropout(x, p=0.5, training=self.training)\n",
        "        x = nn.functional.relu(nn.functional.max_pool2d(self.conv2(x), 2))\n",
        "        x = nn.functional.dropout(x, p=0.5, training=self.training)\n",
        "        x = nn.functional.relu(nn.functional.max_pool2d(self.conv3(x),2))\n",
        "        x = nn.functional.dropout(x, p=0.5, training=self.training)\n",
        "        x = x.view(-1,3*3*64 )\n",
        "        x = nn.functional.relu(self.fc1(x))\n",
        "        x = nn.functional.dropout(x, training=self.training)\n",
        "        x = self.fc2(x)\n",
        "        return nn.functional.log_softmax(x, dim=1)\n",
        "\n",
        "model2 = CNN()"
      ],
      "execution_count": 155,
      "outputs": []
    },
    {
      "cell_type": "code",
      "metadata": {
        "id": "nyX2d-B3QwlD",
        "outputId": "a1040f28-d943-459a-9fc1-77a175aef4c5",
        "colab": {
          "base_uri": "https://localhost:8080/"
        }
      },
      "source": [
        "# GPU setup\n",
        "device = torch.device(\"cuda:0\" if torch.cuda.is_available() else \"cpu\")\n",
        "\n",
        "# Assuming that we are on a CUDA machine, this should print a CUDA device:\n",
        "print(device)\n",
        "model2.to(device)"
      ],
      "execution_count": 132,
      "outputs": [
        {
          "output_type": "stream",
          "text": [
            "cuda:0\n"
          ],
          "name": "stdout"
        },
        {
          "output_type": "execute_result",
          "data": {
            "text/plain": [
              "Model(\n",
              "  (conv_1): Conv2d(1, 32, kernel_size=(3, 3), stride=(1, 1), padding=(1, 1))\n",
              "  (conv_2): Conv2d(32, 64, kernel_size=(3, 3), stride=(1, 1), padding=(1, 1))\n",
              "  (max_pool2d): MaxPool2d(kernel_size=2, stride=2, padding=0, dilation=1, ceil_mode=False)\n",
              "  (linear_1): Linear(in_features=576, out_features=128, bias=True)\n",
              "  (linear_2): Linear(in_features=128, out_features=11, bias=True)\n",
              "  (dropout): Dropout(p=0.5, inplace=False)\n",
              "  (relu): ReLU()\n",
              ")"
            ]
          },
          "metadata": {
            "tags": []
          },
          "execution_count": 132
        }
      ]
    },
    {
      "cell_type": "code",
      "metadata": {
        "id": "rOSAMgCPQzmw"
      },
      "source": [
        "\n",
        "# SGD optimizer with learning rate of 0.001\n",
        "import torch.optim as optim\n",
        "\n",
        "optimizer = optim.Adam(model2.parameters(), opts['lr'])\n",
        "criterion = nn.CrossEntropyLoss()  # loss function\n",
        "\n",
        "# maybe other optimizers?"
      ],
      "execution_count": 156,
      "outputs": []
    },
    {
      "cell_type": "code",
      "metadata": {
        "id": "w9QDqNKb4fV_",
        "outputId": "17978cbb-e642-4de6-ad0f-e68a3ffe37b3",
        "colab": {
          "base_uri": "https://localhost:8080/",
          "height": 465,
          "referenced_widgets": [
            "74c0bb17350949c0848d932457cd5eb2",
            "d7a625bfac514cbcb04066ff1dc921b2",
            "74f881f041394f09a1f85e5134c2f88d",
            "d93a40478f654246a67636757c5de31e",
            "a3f6df3fe61c4c409cf04a2b52308025",
            "ff289864b1604bf1be624c95c54854de",
            "d8cbb1bfbd6c499e8bb7faa2c4ee0594",
            "4b0120ee109641218539a6cbe479aea6"
          ]
        }
      },
      "source": [
        "for epoch in range(opts['epochs']):\n",
        "    train_loss = []\n",
        "    for i, (data, labels) in tqdm_notebook(enumerate(train_dataloader), total=len(train_dataloader)):\n",
        "        # pass data through network\n",
        "        outputs = model2(data)\n",
        "        loss = criterion(outputs, labels)\n",
        "        optimizer.zero_grad()\n",
        "        loss.backward()\n",
        "        optimizer.step()\n",
        "        train_loss.append(loss.item())\n",
        "    test_loss = []\n",
        "    test_accuracy = []\n",
        "    for i, (data, labels) in enumerate(val_dataloader):\n",
        "        # pass data through network\n",
        "        outputs = model2(data)\n",
        "        _, predicted = torch.max(outputs.data, 1)\n",
        "        loss = criterion(outputs, labels)\n",
        "        test_loss.append(loss.item())\n",
        "        test_accuracy.append((predicted == labels).sum().item() / predicted.size(0))\n",
        "    print('epoch: {}, train loss: {}, test loss: {}, test accuracy: {}'.format(epoch, np.mean(train_loss), np.mean(test_loss), np.mean(test_accuracy)))\n"
      ],
      "execution_count": 158,
      "outputs": [
        {
          "output_type": "stream",
          "text": [
            "/usr/local/lib/python3.6/dist-packages/ipykernel_launcher.py:3: TqdmDeprecationWarning: This function will be removed in tqdm==5.0.0\n",
            "Please use `tqdm.notebook.tqdm` instead of `tqdm.tqdm_notebook`\n",
            "  This is separate from the ipykernel package so we can avoid doing imports until\n"
          ],
          "name": "stderr"
        },
        {
          "output_type": "display_data",
          "data": {
            "application/vnd.jupyter.widget-view+json": {
              "model_id": "74c0bb17350949c0848d932457cd5eb2",
              "version_minor": 0,
              "version_major": 2
            },
            "text/plain": [
              "HBox(children=(FloatProgress(value=0.0, max=49853.0), HTML(value='')))"
            ]
          },
          "metadata": {
            "tags": []
          }
        },
        {
          "output_type": "stream",
          "text": [
            "\n"
          ],
          "name": "stdout"
        },
        {
          "output_type": "error",
          "ename": "RuntimeError",
          "evalue": "ignored",
          "traceback": [
            "\u001b[0;31m---------------------------------------------------------------------------\u001b[0m",
            "\u001b[0;31mRuntimeError\u001b[0m                              Traceback (most recent call last)",
            "\u001b[0;32m<ipython-input-158-b094352ed8ab>\u001b[0m in \u001b[0;36m<module>\u001b[0;34m()\u001b[0m\n\u001b[1;32m      3\u001b[0m     \u001b[0;32mfor\u001b[0m \u001b[0mi\u001b[0m\u001b[0;34m,\u001b[0m \u001b[0;34m(\u001b[0m\u001b[0mdata\u001b[0m\u001b[0;34m,\u001b[0m \u001b[0mlabels\u001b[0m\u001b[0;34m)\u001b[0m \u001b[0;32min\u001b[0m \u001b[0mtqdm_notebook\u001b[0m\u001b[0;34m(\u001b[0m\u001b[0menumerate\u001b[0m\u001b[0;34m(\u001b[0m\u001b[0mtrain_dataloader\u001b[0m\u001b[0;34m)\u001b[0m\u001b[0;34m,\u001b[0m \u001b[0mtotal\u001b[0m\u001b[0;34m=\u001b[0m\u001b[0mlen\u001b[0m\u001b[0;34m(\u001b[0m\u001b[0mtrain_dataloader\u001b[0m\u001b[0;34m)\u001b[0m\u001b[0;34m)\u001b[0m\u001b[0;34m:\u001b[0m\u001b[0;34m\u001b[0m\u001b[0;34m\u001b[0m\u001b[0m\n\u001b[1;32m      4\u001b[0m         \u001b[0;31m# pass data through network\u001b[0m\u001b[0;34m\u001b[0m\u001b[0;34m\u001b[0m\u001b[0;34m\u001b[0m\u001b[0m\n\u001b[0;32m----> 5\u001b[0;31m         \u001b[0moutputs\u001b[0m \u001b[0;34m=\u001b[0m \u001b[0mmodel2\u001b[0m\u001b[0;34m(\u001b[0m\u001b[0mdata\u001b[0m\u001b[0;34m)\u001b[0m\u001b[0;34m\u001b[0m\u001b[0;34m\u001b[0m\u001b[0m\n\u001b[0m\u001b[1;32m      6\u001b[0m         \u001b[0mloss\u001b[0m \u001b[0;34m=\u001b[0m \u001b[0mcriterion\u001b[0m\u001b[0;34m(\u001b[0m\u001b[0moutputs\u001b[0m\u001b[0;34m,\u001b[0m \u001b[0mlabels\u001b[0m\u001b[0;34m)\u001b[0m\u001b[0;34m\u001b[0m\u001b[0;34m\u001b[0m\u001b[0m\n\u001b[1;32m      7\u001b[0m         \u001b[0moptimizer\u001b[0m\u001b[0;34m.\u001b[0m\u001b[0mzero_grad\u001b[0m\u001b[0;34m(\u001b[0m\u001b[0;34m)\u001b[0m\u001b[0;34m\u001b[0m\u001b[0;34m\u001b[0m\u001b[0m\n",
            "\u001b[0;32m/usr/local/lib/python3.6/dist-packages/torch/nn/modules/module.py\u001b[0m in \u001b[0;36m_call_impl\u001b[0;34m(self, *input, **kwargs)\u001b[0m\n\u001b[1;32m    725\u001b[0m             \u001b[0mresult\u001b[0m \u001b[0;34m=\u001b[0m \u001b[0mself\u001b[0m\u001b[0;34m.\u001b[0m\u001b[0m_slow_forward\u001b[0m\u001b[0;34m(\u001b[0m\u001b[0;34m*\u001b[0m\u001b[0minput\u001b[0m\u001b[0;34m,\u001b[0m \u001b[0;34m**\u001b[0m\u001b[0mkwargs\u001b[0m\u001b[0;34m)\u001b[0m\u001b[0;34m\u001b[0m\u001b[0;34m\u001b[0m\u001b[0m\n\u001b[1;32m    726\u001b[0m         \u001b[0;32melse\u001b[0m\u001b[0;34m:\u001b[0m\u001b[0;34m\u001b[0m\u001b[0;34m\u001b[0m\u001b[0m\n\u001b[0;32m--> 727\u001b[0;31m             \u001b[0mresult\u001b[0m \u001b[0;34m=\u001b[0m \u001b[0mself\u001b[0m\u001b[0;34m.\u001b[0m\u001b[0mforward\u001b[0m\u001b[0;34m(\u001b[0m\u001b[0;34m*\u001b[0m\u001b[0minput\u001b[0m\u001b[0;34m,\u001b[0m \u001b[0;34m**\u001b[0m\u001b[0mkwargs\u001b[0m\u001b[0;34m)\u001b[0m\u001b[0;34m\u001b[0m\u001b[0;34m\u001b[0m\u001b[0m\n\u001b[0m\u001b[1;32m    728\u001b[0m         for hook in itertools.chain(\n\u001b[1;32m    729\u001b[0m                 \u001b[0m_global_forward_hooks\u001b[0m\u001b[0;34m.\u001b[0m\u001b[0mvalues\u001b[0m\u001b[0;34m(\u001b[0m\u001b[0;34m)\u001b[0m\u001b[0;34m,\u001b[0m\u001b[0;34m\u001b[0m\u001b[0;34m\u001b[0m\u001b[0m\n",
            "\u001b[0;32m<ipython-input-155-4ae08edf3c5e>\u001b[0m in \u001b[0;36mforward\u001b[0;34m(self, x)\u001b[0m\n\u001b[1;32m      9\u001b[0m \u001b[0;34m\u001b[0m\u001b[0m\n\u001b[1;32m     10\u001b[0m     \u001b[0;32mdef\u001b[0m \u001b[0mforward\u001b[0m\u001b[0;34m(\u001b[0m\u001b[0mself\u001b[0m\u001b[0;34m,\u001b[0m \u001b[0mx\u001b[0m\u001b[0;34m)\u001b[0m\u001b[0;34m:\u001b[0m\u001b[0;34m\u001b[0m\u001b[0;34m\u001b[0m\u001b[0m\n\u001b[0;32m---> 11\u001b[0;31m         \u001b[0mx\u001b[0m \u001b[0;34m=\u001b[0m \u001b[0mnn\u001b[0m\u001b[0;34m.\u001b[0m\u001b[0mfunctional\u001b[0m\u001b[0;34m.\u001b[0m\u001b[0mrelu\u001b[0m\u001b[0;34m(\u001b[0m\u001b[0mself\u001b[0m\u001b[0;34m.\u001b[0m\u001b[0mconv1\u001b[0m\u001b[0;34m(\u001b[0m\u001b[0mx\u001b[0m\u001b[0;34m)\u001b[0m\u001b[0;34m)\u001b[0m\u001b[0;34m\u001b[0m\u001b[0;34m\u001b[0m\u001b[0m\n\u001b[0m\u001b[1;32m     12\u001b[0m         \u001b[0;31m#x = F.dropout(x, p=0.5, training=self.training)\u001b[0m\u001b[0;34m\u001b[0m\u001b[0;34m\u001b[0m\u001b[0;34m\u001b[0m\u001b[0m\n\u001b[1;32m     13\u001b[0m         \u001b[0mx\u001b[0m \u001b[0;34m=\u001b[0m \u001b[0mnn\u001b[0m\u001b[0;34m.\u001b[0m\u001b[0mfunctional\u001b[0m\u001b[0;34m.\u001b[0m\u001b[0mrelu\u001b[0m\u001b[0;34m(\u001b[0m\u001b[0mnn\u001b[0m\u001b[0;34m.\u001b[0m\u001b[0mfunctional\u001b[0m\u001b[0;34m.\u001b[0m\u001b[0mmax_pool2d\u001b[0m\u001b[0;34m(\u001b[0m\u001b[0mself\u001b[0m\u001b[0;34m.\u001b[0m\u001b[0mconv2\u001b[0m\u001b[0;34m(\u001b[0m\u001b[0mx\u001b[0m\u001b[0;34m)\u001b[0m\u001b[0;34m,\u001b[0m \u001b[0;36m2\u001b[0m\u001b[0;34m)\u001b[0m\u001b[0;34m)\u001b[0m\u001b[0;34m\u001b[0m\u001b[0;34m\u001b[0m\u001b[0m\n",
            "\u001b[0;32m/usr/local/lib/python3.6/dist-packages/torch/nn/modules/module.py\u001b[0m in \u001b[0;36m_call_impl\u001b[0;34m(self, *input, **kwargs)\u001b[0m\n\u001b[1;32m    725\u001b[0m             \u001b[0mresult\u001b[0m \u001b[0;34m=\u001b[0m \u001b[0mself\u001b[0m\u001b[0;34m.\u001b[0m\u001b[0m_slow_forward\u001b[0m\u001b[0;34m(\u001b[0m\u001b[0;34m*\u001b[0m\u001b[0minput\u001b[0m\u001b[0;34m,\u001b[0m \u001b[0;34m**\u001b[0m\u001b[0mkwargs\u001b[0m\u001b[0;34m)\u001b[0m\u001b[0;34m\u001b[0m\u001b[0;34m\u001b[0m\u001b[0m\n\u001b[1;32m    726\u001b[0m         \u001b[0;32melse\u001b[0m\u001b[0;34m:\u001b[0m\u001b[0;34m\u001b[0m\u001b[0;34m\u001b[0m\u001b[0m\n\u001b[0;32m--> 727\u001b[0;31m             \u001b[0mresult\u001b[0m \u001b[0;34m=\u001b[0m \u001b[0mself\u001b[0m\u001b[0;34m.\u001b[0m\u001b[0mforward\u001b[0m\u001b[0;34m(\u001b[0m\u001b[0;34m*\u001b[0m\u001b[0minput\u001b[0m\u001b[0;34m,\u001b[0m \u001b[0;34m**\u001b[0m\u001b[0mkwargs\u001b[0m\u001b[0;34m)\u001b[0m\u001b[0;34m\u001b[0m\u001b[0;34m\u001b[0m\u001b[0m\n\u001b[0m\u001b[1;32m    728\u001b[0m         for hook in itertools.chain(\n\u001b[1;32m    729\u001b[0m                 \u001b[0m_global_forward_hooks\u001b[0m\u001b[0;34m.\u001b[0m\u001b[0mvalues\u001b[0m\u001b[0;34m(\u001b[0m\u001b[0;34m)\u001b[0m\u001b[0;34m,\u001b[0m\u001b[0;34m\u001b[0m\u001b[0;34m\u001b[0m\u001b[0m\n",
            "\u001b[0;32m/usr/local/lib/python3.6/dist-packages/torch/nn/modules/conv.py\u001b[0m in \u001b[0;36mforward\u001b[0;34m(self, input)\u001b[0m\n\u001b[1;32m    421\u001b[0m \u001b[0;34m\u001b[0m\u001b[0m\n\u001b[1;32m    422\u001b[0m     \u001b[0;32mdef\u001b[0m \u001b[0mforward\u001b[0m\u001b[0;34m(\u001b[0m\u001b[0mself\u001b[0m\u001b[0;34m,\u001b[0m \u001b[0minput\u001b[0m\u001b[0;34m:\u001b[0m \u001b[0mTensor\u001b[0m\u001b[0;34m)\u001b[0m \u001b[0;34m->\u001b[0m \u001b[0mTensor\u001b[0m\u001b[0;34m:\u001b[0m\u001b[0;34m\u001b[0m\u001b[0;34m\u001b[0m\u001b[0m\n\u001b[0;32m--> 423\u001b[0;31m         \u001b[0;32mreturn\u001b[0m \u001b[0mself\u001b[0m\u001b[0;34m.\u001b[0m\u001b[0m_conv_forward\u001b[0m\u001b[0;34m(\u001b[0m\u001b[0minput\u001b[0m\u001b[0;34m,\u001b[0m \u001b[0mself\u001b[0m\u001b[0;34m.\u001b[0m\u001b[0mweight\u001b[0m\u001b[0;34m)\u001b[0m\u001b[0;34m\u001b[0m\u001b[0;34m\u001b[0m\u001b[0m\n\u001b[0m\u001b[1;32m    424\u001b[0m \u001b[0;34m\u001b[0m\u001b[0m\n\u001b[1;32m    425\u001b[0m \u001b[0;32mclass\u001b[0m \u001b[0mConv3d\u001b[0m\u001b[0;34m(\u001b[0m\u001b[0m_ConvNd\u001b[0m\u001b[0;34m)\u001b[0m\u001b[0;34m:\u001b[0m\u001b[0;34m\u001b[0m\u001b[0;34m\u001b[0m\u001b[0m\n",
            "\u001b[0;32m/usr/local/lib/python3.6/dist-packages/torch/nn/modules/conv.py\u001b[0m in \u001b[0;36m_conv_forward\u001b[0;34m(self, input, weight)\u001b[0m\n\u001b[1;32m    418\u001b[0m                             _pair(0), self.dilation, self.groups)\n\u001b[1;32m    419\u001b[0m         return F.conv2d(input, weight, self.bias, self.stride,\n\u001b[0;32m--> 420\u001b[0;31m                         self.padding, self.dilation, self.groups)\n\u001b[0m\u001b[1;32m    421\u001b[0m \u001b[0;34m\u001b[0m\u001b[0m\n\u001b[1;32m    422\u001b[0m     \u001b[0;32mdef\u001b[0m \u001b[0mforward\u001b[0m\u001b[0;34m(\u001b[0m\u001b[0mself\u001b[0m\u001b[0;34m,\u001b[0m \u001b[0minput\u001b[0m\u001b[0;34m:\u001b[0m \u001b[0mTensor\u001b[0m\u001b[0;34m)\u001b[0m \u001b[0;34m->\u001b[0m \u001b[0mTensor\u001b[0m\u001b[0;34m:\u001b[0m\u001b[0;34m\u001b[0m\u001b[0;34m\u001b[0m\u001b[0m\n",
            "\u001b[0;31mRuntimeError\u001b[0m: Given groups=1, weight of size [32, 12, 4, 4], expected input[5, 1, 12, 12] to have 12 channels, but got 1 channels instead"
          ]
        }
      ]
    },
    {
      "cell_type": "code",
      "metadata": {
        "colab": {
          "base_uri": "https://localhost:8080/",
          "height": 228
        },
        "id": "uug3g37RTl4t",
        "outputId": "5305e0ad-fd29-492f-8a3a-de1d291a1356"
      },
      "source": [
        "# Train CNN for 100 epochs\n",
        "no_epochs = 100\n",
        "train_loss = list()\n",
        "val_loss = list()\n",
        "best_val_loss = 1\n",
        "for epoch in range(no_epochs):\n",
        "    total_train_loss = 0\n",
        "    total_val_loss = 0\n",
        "\n",
        "    # unspervised training\n",
        "    for i, (image, label) in enumerate(train_dataloader):\n",
        "      optimizer.zero_grad()\n",
        "      pred = model2(image.cuda()) #dictionary to tensor\n",
        "      loss = criterion(pred, (label.type(torch.LongTensor)).cuda())\n",
        "      total_train_loss += loss.item()\n",
        "      \n",
        "      loss.backward()\n",
        "      optimizer.step()\n",
        "      \n",
        "    total_train_loss = total_train_loss / (itr + 1)\n",
        "    train_loss.append(total_train_loss)\n",
        "    \n",
        "    # validation\n",
        "    model.eval()\n",
        "    total = 0\n",
        "    \n",
        "    for i, (image, label) in enumerate(val_dataloader):\n",
        "        pred = model2(image.cuda())\n",
        "\n",
        "        loss = criterion(pred, (label.type(torch.LongTensor)).cuda())\n",
        "        total_val_loss += loss.item()\n",
        "\n",
        "        pred = torch.nn.functional.softmax(pred, dim=1)\n",
        "        for i, p in enumerate(pred):\n",
        "            if label[i] == torch.max(p.data, 0)[1]:\n",
        "                total = total + 1\n",
        "                \n",
        "        accuracy = total / len(val_images_data)\n",
        "\n",
        "    total_val_loss = total_val_loss / (itr + 1)\n",
        "    val_loss.append(total_val_loss)\n",
        "\n",
        "    print('\\nEpoch: {}/{}, Train Loss: {:.8f}, Val Loss: {:.8f}, Val Accuracy: {:.8f}'.format(epoch + 1, no_epochs, total_train_loss, total_val_loss, accuracy))\n",
        "\n",
        "    if total_val_loss < best_val_loss:\n",
        "        best_val_loss = total_val_loss\n",
        "        print(\"Saving the model state dictionary for Epoch: {} with Validation loss: {:.8f}\".format(epoch + 1, total_val_loss))\n",
        "        torch.save(model.state_dict(), \"model.dth\")"
      ],
      "execution_count": 92,
      "outputs": [
        {
          "output_type": "error",
          "ename": "NameError",
          "evalue": "ignored",
          "traceback": [
            "\u001b[0;31m---------------------------------------------------------------------------\u001b[0m",
            "\u001b[0;31mNameError\u001b[0m                                 Traceback (most recent call last)",
            "\u001b[0;32m<ipython-input-92-efd1f1f0ac87>\u001b[0m in \u001b[0;36m<module>\u001b[0;34m()\u001b[0m\n\u001b[1;32m     18\u001b[0m       \u001b[0moptimizer\u001b[0m\u001b[0;34m.\u001b[0m\u001b[0mstep\u001b[0m\u001b[0;34m(\u001b[0m\u001b[0;34m)\u001b[0m\u001b[0;34m\u001b[0m\u001b[0;34m\u001b[0m\u001b[0m\n\u001b[1;32m     19\u001b[0m \u001b[0;34m\u001b[0m\u001b[0m\n\u001b[0;32m---> 20\u001b[0;31m     \u001b[0mtotal_train_loss\u001b[0m \u001b[0;34m=\u001b[0m \u001b[0mtotal_train_loss\u001b[0m \u001b[0;34m/\u001b[0m \u001b[0;34m(\u001b[0m\u001b[0mitr\u001b[0m \u001b[0;34m+\u001b[0m \u001b[0;36m1\u001b[0m\u001b[0;34m)\u001b[0m\u001b[0;34m\u001b[0m\u001b[0;34m\u001b[0m\u001b[0m\n\u001b[0m\u001b[1;32m     21\u001b[0m     \u001b[0mtrain_loss\u001b[0m\u001b[0;34m.\u001b[0m\u001b[0mappend\u001b[0m\u001b[0;34m(\u001b[0m\u001b[0mtotal_train_loss\u001b[0m\u001b[0;34m)\u001b[0m\u001b[0;34m\u001b[0m\u001b[0;34m\u001b[0m\u001b[0m\n\u001b[1;32m     22\u001b[0m \u001b[0;34m\u001b[0m\u001b[0m\n",
            "\u001b[0;31mNameError\u001b[0m: name 'itr' is not defined"
          ]
        }
      ]
    },
    {
      "cell_type": "markdown",
      "metadata": {
        "id": "vbZFVFikWsSP"
      },
      "source": [
        "## **3. Performance**"
      ]
    },
    {
      "cell_type": "code",
      "metadata": {
        "id": "VNA7psPv-2SA"
      },
      "source": [
        "'''\n",
        "from sklearn.metrics import accuracy_score\n",
        "a = accuracy_score(pred,test)\n",
        "print('Accuracy is:', a*100)\n",
        "'''"
      ],
      "execution_count": null,
      "outputs": []
    },
    {
      "cell_type": "code",
      "metadata": {
        "id": "O9Ga7ELh-_Df"
      },
      "source": [
        "'''\n",
        "import matplotlib.pyplot as plt\n",
        "plt.plot(history.history['acc'])\n",
        "plt.plot(history.history['val_acc'])\n",
        "plt.title('Model accuracy')\n",
        "plt.ylabel('Accuracy')\n",
        "plt.xlabel('Epoch')\n",
        "plt.legend(['Train', 'Test'], loc='upper left')\n",
        "plt.show()\n",
        "'''"
      ],
      "execution_count": null,
      "outputs": []
    },
    {
      "cell_type": "code",
      "metadata": {
        "id": "vHGU0IvM_B7s"
      },
      "source": [
        "'''\n",
        "plt.plot(history.history['loss']) plt.plot(history.history['val_loss']) \n",
        "plt.title('Model loss') \n",
        "plt.ylabel('Loss') \n",
        "plt.xlabel('Epoch') \n",
        "plt.legend(['Train', 'Test'], loc='upper left') \n",
        "plt.show()\n",
        "'''"
      ],
      "execution_count": null,
      "outputs": []
    },
    {
      "cell_type": "markdown",
      "metadata": {
        "id": "awQVg43K4J4j"
      },
      "source": [
        "## **4. Application to the Testing Images**"
      ]
    },
    {
      "cell_type": "code",
      "metadata": {
        "id": "rY9D20DVmalq"
      },
      "source": [
        "scaled_test_images = data_scaled(test_images)\n",
        "X_test = torch.from_numpy(scaled_test_images)\n",
        "X_test_part = dataset_images_partition(X_test)"
      ],
      "execution_count": null,
      "outputs": []
    },
    {
      "cell_type": "code",
      "metadata": {
        "id": "VC2BpWlhdCjY"
      },
      "source": [
        ""
      ],
      "execution_count": null,
      "outputs": []
    }
  ]
}