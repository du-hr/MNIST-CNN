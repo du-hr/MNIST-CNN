{
  "nbformat": 4,
  "nbformat_minor": 0,
  "metadata": {
    "kernelspec": {
      "display_name": "Python 3",
      "language": "python",
      "name": "python3"
    },
    "language_info": {
      "codemirror_mode": {
        "name": "ipython",
        "version": 3
      },
      "file_extension": ".py",
      "mimetype": "text/x-python",
      "name": "python",
      "nbconvert_exporter": "python",
      "pygments_lexer": "ipython3",
      "version": "3.8.5"
    },
    "colab": {
      "name": "MiniProject_3.ipynb",
      "provenance": [],
      "collapsed_sections": [],
      "include_colab_link": true
    },
    "accelerator": "GPU"
  },
  "cells": [
    {
      "cell_type": "markdown",
      "metadata": {
        "id": "view-in-github",
        "colab_type": "text"
      },
      "source": [
        "<a href=\"https://colab.research.google.com/github/du-hr/MNIST-CNN/blob/Teresa/MiniProject_3.ipynb\" target=\"_parent\"><img src=\"https://colab.research.google.com/assets/colab-badge.svg\" alt=\"Open In Colab\"/></a>"
      ]
    },
    {
      "cell_type": "markdown",
      "metadata": {
        "id": "TwdLP40A4X-A"
      },
      "source": [
        "# MiniProject 3: Multi-label Classification of Image Data\n",
        "\n",
        "\n",
        "> MiniProject 3 of COMP 551 (Fall 2020) at McGill University\n",
        "\n",
        "\n",
        "> Authors (G17): Haoran Du (260776911), Robin Cho (260806783), Teresa Lee (260715070)\n",
        "\n",
        "\n",
        "\n"
      ]
    },
    {
      "cell_type": "code",
      "metadata": {
        "id": "CGhQKetcGX8y",
        "colab": {
          "base_uri": "https://localhost:8080/"
        },
        "outputId": "95ac8fa3-6c6d-474a-c969-1cbb5f75c6f3"
      },
      "source": [
        "import numpy as np\n",
        "import scipy as sci\n",
        "import pandas as pd\n",
        "import h5py\n",
        "import torch\n",
        "from google.colab import drive\n",
        "# ignore the follwoing line if running locally\n",
        "drive.mount('/content/drive')\n",
        "# make path = './' if running locally\n",
        "path = '/content/drive/My Drive/'\n",
        "\n",
        "#%matplotlib notebook\n",
        "%matplotlib inline\n",
        "import matplotlib.pyplot as plt\n"
      ],
      "execution_count": 1,
      "outputs": [
        {
          "output_type": "stream",
          "text": [
            "Mounted at /content/drive\n"
          ],
          "name": "stdout"
        }
      ]
    },
    {
      "cell_type": "markdown",
      "metadata": {
        "id": "P5VYQqenQbc4"
      },
      "source": [
        "## **1. Datasets**"
      ]
    },
    {
      "cell_type": "markdown",
      "metadata": {
        "id": "WcWAWxDGWb5N"
      },
      "source": [
        "### **1.1 Import Data**"
      ]
    },
    {
      "cell_type": "code",
      "metadata": {
        "id": "F3U3KGvMOWxI",
        "colab": {
          "base_uri": "https://localhost:8080/",
          "height": 313
        },
        "outputId": "9378079c-6896-434b-ec69-ef0884f107e1"
      },
      "source": [
        "# load the datasets\n",
        "with h5py.File(path+'MNIST_synthetic.h5', 'r') as hdfid:\n",
        "     print(hdfid.keys())\n",
        "     test_images = hdfid['test_dataset'][()]\n",
        "     train_images = hdfid['train_dataset'][()]\n",
        "     train_labels = hdfid['train_labels'][()]\n",
        "\n",
        "# display train_images properties\n",
        "print(train_images.shape)\n",
        "# print(train_iamges[10][30])\n",
        "\n",
        "# plot first 3 images in train_images\n",
        "images=[]\n",
        "titles=[]\n",
        "images.append(np.array(train_images[0], dtype='float').reshape(64,64))\n",
        "titles.append(\"img_1\")\n",
        "images.append(np.array(train_images[1], dtype='float').reshape(64,64))\n",
        "titles.append(\"img_2\")\n",
        "images.append(np.array(train_images[2], dtype='float').reshape(64,64))\n",
        "titles.append(\"img_3\")\n",
        "\n",
        "for i in range(3):\n",
        "    plt.subplot(1,3,i+1),plt.imshow(images[i])\n",
        "    plt.title(titles[i])\n",
        "    plt.xticks([]),plt.yticks([])\n",
        "\n",
        "plt.show()\n",
        "\n",
        "# display train_labels properties\n",
        "print(train_labels.shape)\n",
        "print(train_labels)"
      ],
      "execution_count": 2,
      "outputs": [
        {
          "output_type": "stream",
          "text": [
            "<KeysViewHDF5 ['test_dataset', 'train_dataset', 'train_labels']>\n",
            "(56000, 64, 64, 1)\n"
          ],
          "name": "stdout"
        },
        {
          "output_type": "display_data",
          "data": {
            "image/png": "[encoded data removed]",
            "text/plain": [
              "<Figure size 432x288 with 3 Axes>"
            ]
          },
          "metadata": {
            "tags": []
          }
        },
        {
          "output_type": "stream",
          "text": [
            "(56000, 5)\n",
            "[[ 8  5  0  3 10]\n",
            " [ 8  9  9  8  7]\n",
            " [ 1  7  9  1  8]\n",
            " ...\n",
            " [ 4  4 10 10 10]\n",
            " [ 7  9  8 10 10]\n",
            " [ 6 10 10 10 10]]\n"
          ],
          "name": "stdout"
        }
      ]
    },
    {
      "cell_type": "markdown",
      "metadata": {
        "id": "_V7Rym-vWRc0"
      },
      "source": [
        "### **1.2 Data Preprocessing**"
      ]
    },
    {
      "cell_type": "markdown",
      "metadata": {
        "id": "ELeEfetpnnuT"
      },
      "source": [
        "###**1.2.1 One Hot Encoding**"
      ]
    },
    {
      "cell_type": "code",
      "metadata": {
        "id": "ihpulb94Wg5y"
      },
      "source": [
        "#First, perform OHE on training labels\n",
        "from keras.utils import to_categorical\n",
        "\n",
        "train_new_labels = to_categorical(train_labels)\n",
        "Y_train = torch.from_numpy(train_new_labels) #save the oneHotEncoded labels as tensor"
      ],
      "execution_count": 3,
      "outputs": []
    },
    {
      "cell_type": "code",
      "metadata": {
        "id": "ApXhhzBjoGeX",
        "colab": {
          "base_uri": "https://localhost:8080/"
        },
        "outputId": "efe0fddc-f6fc-4196-e967-33d8e83c112a"
      },
      "source": [
        "Y_train"
      ],
      "execution_count": 4,
      "outputs": [
        {
          "output_type": "execute_result",
          "data": {
            "text/plain": [
              "tensor([[[0., 0., 0.,  ..., 1., 0., 0.],\n",
              "         [0., 0., 0.,  ..., 0., 0., 0.],\n",
              "         [1., 0., 0.,  ..., 0., 0., 0.],\n",
              "         [0., 0., 0.,  ..., 0., 0., 0.],\n",
              "         [0., 0., 0.,  ..., 0., 0., 1.]],\n",
              "\n",
              "        [[0., 0., 0.,  ..., 1., 0., 0.],\n",
              "         [0., 0., 0.,  ..., 0., 1., 0.],\n",
              "         [0., 0., 0.,  ..., 0., 1., 0.],\n",
              "         [0., 0., 0.,  ..., 1., 0., 0.],\n",
              "         [0., 0., 0.,  ..., 0., 0., 0.]],\n",
              "\n",
              "        [[0., 1., 0.,  ..., 0., 0., 0.],\n",
              "         [0., 0., 0.,  ..., 0., 0., 0.],\n",
              "         [0., 0., 0.,  ..., 0., 1., 0.],\n",
              "         [0., 1., 0.,  ..., 0., 0., 0.],\n",
              "         [0., 0., 0.,  ..., 1., 0., 0.]],\n",
              "\n",
              "        ...,\n",
              "\n",
              "        [[0., 0., 0.,  ..., 0., 0., 0.],\n",
              "         [0., 0., 0.,  ..., 0., 0., 0.],\n",
              "         [0., 0., 0.,  ..., 0., 0., 1.],\n",
              "         [0., 0., 0.,  ..., 0., 0., 1.],\n",
              "         [0., 0., 0.,  ..., 0., 0., 1.]],\n",
              "\n",
              "        [[0., 0., 0.,  ..., 0., 0., 0.],\n",
              "         [0., 0., 0.,  ..., 0., 1., 0.],\n",
              "         [0., 0., 0.,  ..., 1., 0., 0.],\n",
              "         [0., 0., 0.,  ..., 0., 0., 1.],\n",
              "         [0., 0., 0.,  ..., 0., 0., 1.]],\n",
              "\n",
              "        [[0., 0., 0.,  ..., 0., 0., 0.],\n",
              "         [0., 0., 0.,  ..., 0., 0., 1.],\n",
              "         [0., 0., 0.,  ..., 0., 0., 1.],\n",
              "         [0., 0., 0.,  ..., 0., 0., 1.],\n",
              "         [0., 0., 0.,  ..., 0., 0., 1.]]])"
            ]
          },
          "metadata": {
            "tags": []
          },
          "execution_count": 4
        }
      ]
    },
    {
      "cell_type": "code",
      "metadata": {
        "colab": {
          "base_uri": "https://localhost:8080/"
        },
        "id": "xLAJOrRgdpib",
        "outputId": "22cee308-8c66-49da-b77c-130c40e3ea22"
      },
      "source": [
        "Y_train.shape"
      ],
      "execution_count": 5,
      "outputs": [
        {
          "output_type": "execute_result",
          "data": {
            "text/plain": [
              "torch.Size([56000, 5, 11])"
            ]
          },
          "metadata": {
            "tags": []
          },
          "execution_count": 5
        }
      ]
    },
    {
      "cell_type": "markdown",
      "metadata": {
        "id": "f7iV-2cYn4rn"
      },
      "source": [
        "### **1.2.2 Data Normalization**"
      ]
    },
    {
      "cell_type": "code",
      "metadata": {
        "id": "t4fnW9LJwNLO"
      },
      "source": [
        "# normalize to range 0-1 with typecast to float\n",
        "def data_normalized(x):\n",
        "  scaled_x = x.astype('float32') / 255.0\n",
        "  return scaled_x\n",
        "\n",
        "scaled_train_images = data_normalized(train_images)"
      ],
      "execution_count": 8,
      "outputs": []
    },
    {
      "cell_type": "code",
      "metadata": {
        "id": "NvqKLXDQo9an",
        "colab": {
          "base_uri": "https://localhost:8080/",
          "height": 148
        },
        "outputId": "ea2105ae-d928-4564-8f55-a0c150c00333"
      },
      "source": [
        "images_scaled=[]\n",
        "titles_scaled=[]\n",
        "images_scaled.append(np.array(scaled_train_images[0], dtype='float').reshape(64,64))\n",
        "titles_scaled.append(\"img_1\")\n",
        "images_scaled.append(np.array(scaled_train_images[1], dtype='float').reshape(64,64))\n",
        "titles_scaled.append(\"img_2\")\n",
        "images_scaled.append(np.array(scaled_train_images[2], dtype='float').reshape(64,64))\n",
        "titles_scaled.append(\"img_3\")\n",
        "\n",
        "for i in range(3):\n",
        "    plt.subplot(1,3,i+1),plt.imshow(images_scaled[i])\n",
        "    plt.title(titles_scaled[i])\n",
        "    plt.xticks([]),plt.yticks([])\n",
        "\n",
        "plt.show()"
      ],
      "execution_count": 9,
      "outputs": [
        {
          "output_type": "display_data",
          "data": {
            "image/png": "[encoded data removed]",
            "text/plain": [
              "<Figure size 432x288 with 3 Axes>"
            ]
          },
          "metadata": {
            "tags": []
          }
        }
      ]
    },
    {
      "cell_type": "code",
      "metadata": {
        "id": "veyD2YHlxBJX"
      },
      "source": [
        "X_train = torch.from_numpy(scaled_train_images)"
      ],
      "execution_count": 47,
      "outputs": []
    },
    {
      "cell_type": "markdown",
      "metadata": {
        "id": "1oGTptaF2_x9"
      },
      "source": [
        "###**1.2.3 Detecting the number of digits**"
      ]
    },
    {
      "cell_type": "code",
      "metadata": {
        "id": "0cY7Y3emwYOe"
      },
      "source": [
        "import cv2\n",
        "threshold = 1 #Hyperparameter?\n",
        "width = 12\n",
        "height = 12"
      ],
      "execution_count": 10,
      "outputs": []
    },
    {
      "cell_type": "code",
      "metadata": {
        "id": "r2dRRAe8wRIl"
      },
      "source": [
        "def findDigits(img):\n",
        "  #Note that a normalized image does not work\n",
        "  ret,thresh = cv2.threshold(img,threshold,255,0)\n",
        "  contours, hierarchy = cv2.findContours(thresh, cv2.RETR_EXTERNAL, cv2.CHAIN_APPROX_SIMPLE)\n",
        "\n",
        "  #print(len(contours))\n",
        "  def getKey(item):\n",
        "    return item[0]\n",
        "\n",
        "  digitsLoc = []\n",
        "  minArea = 15\n",
        "  for cnt in contours:\n",
        "    x, y, w, h = cv2.boundingRect(cnt)\n",
        "    if w == 1 and h > 4:\n",
        "      listTemp = [x, y, w, h]\n",
        "      digitsLoc.append(listTemp)\n",
        "    \n",
        "    elif w * h > minArea:\n",
        "      listTemp = [x, y, w, h]\n",
        "      digitsLoc.append(listTemp)\n",
        "  \n",
        "  return sorted(digitsLoc, key = lambda x: x[0])"
      ],
      "execution_count": 11,
      "outputs": []
    },
    {
      "cell_type": "code",
      "metadata": {
        "id": "Ic8U8B8bzf_p",
        "colab": {
          "base_uri": "https://localhost:8080/",
          "height": 1000
        },
        "outputId": "0b4465fb-be6a-4dcd-b7e3-cb0fe6894af2"
      },
      "source": [
        "images_scaled=[]\n",
        "images_scaled.append(np.array(train_images[4476], dtype='float').reshape(64,64))\n",
        "sample = plt.imshow(images_scaled[0])\n",
        "plt.show()\n",
        "\n",
        "#x = findDigits(train_images[3282])\n",
        "passed = 0\n",
        "total = 0\n",
        "\n",
        "for i in range(0, 56000):\n",
        "  x = len(findDigits(train_images[i]))\n",
        "  n = 0\n",
        "  for c in train_labels[i]:\n",
        "    if c != 10:\n",
        "      n = n + 1\n",
        "  \n",
        "  if n == x:\n",
        "    passed = passed + 1\n",
        "  else:\n",
        "    print(\"Case#: \",i, \"Detected: \" ,x, \" Expected: \", n)\n",
        "  total = total + 1\n",
        "\n",
        "print(passed/total)"
      ],
      "execution_count": 12,
      "outputs": [
        {
          "output_type": "display_data",
          "data": {
            "image/png": "[encoded data removed]",
            "text/plain": [
              "<Figure size 432x288 with 1 Axes>"
            ]
          },
          "metadata": {
            "tags": [],
            "needs_background": "light"
          }
        },
        {
          "output_type": "stream",
          "text": [
            "Case#:  264 Detected:  3  Expected:  4\n",
            "Case#:  1530 Detected:  4  Expected:  5\n",
            "Case#:  3344 Detected:  1  Expected:  2\n",
            "Case#:  3709 Detected:  3  Expected:  4\n",
            "Case#:  4142 Detected:  4  Expected:  5\n",
            "Case#:  4155 Detected:  3  Expected:  4\n",
            "Case#:  4757 Detected:  3  Expected:  4\n",
            "Case#:  5245 Detected:  1  Expected:  2\n",
            "Case#:  7023 Detected:  4  Expected:  5\n",
            "Case#:  7348 Detected:  6  Expected:  5\n",
            "Case#:  7491 Detected:  4  Expected:  5\n",
            "Case#:  7958 Detected:  5  Expected:  4\n",
            "Case#:  9140 Detected:  3  Expected:  4\n",
            "Case#:  10223 Detected:  2  Expected:  3\n",
            "Case#:  11408 Detected:  2  Expected:  3\n",
            "Case#:  11739 Detected:  4  Expected:  5\n",
            "Case#:  12629 Detected:  2  Expected:  3\n",
            "Case#:  13291 Detected:  3  Expected:  4\n",
            "Case#:  13551 Detected:  4  Expected:  5\n",
            "Case#:  16801 Detected:  3  Expected:  4\n",
            "Case#:  17768 Detected:  6  Expected:  5\n",
            "Case#:  18127 Detected:  4  Expected:  5\n",
            "Case#:  20220 Detected:  3  Expected:  4\n",
            "Case#:  22505 Detected:  1  Expected:  2\n",
            "Case#:  22884 Detected:  5  Expected:  4\n",
            "Case#:  23959 Detected:  4  Expected:  5\n",
            "Case#:  26042 Detected:  3  Expected:  4\n",
            "Case#:  27399 Detected:  4  Expected:  5\n",
            "Case#:  28246 Detected:  5  Expected:  4\n",
            "Case#:  29910 Detected:  4  Expected:  5\n",
            "Case#:  31619 Detected:  3  Expected:  2\n",
            "Case#:  32954 Detected:  3  Expected:  4\n",
            "Case#:  33640 Detected:  6  Expected:  5\n",
            "Case#:  33935 Detected:  3  Expected:  4\n",
            "Case#:  35350 Detected:  4  Expected:  5\n",
            "Case#:  37873 Detected:  5  Expected:  4\n",
            "Case#:  39165 Detected:  3  Expected:  4\n",
            "Case#:  39721 Detected:  4  Expected:  5\n",
            "Case#:  41435 Detected:  4  Expected:  3\n",
            "Case#:  42162 Detected:  3  Expected:  4\n",
            "Case#:  42649 Detected:  5  Expected:  4\n",
            "Case#:  44362 Detected:  2  Expected:  3\n",
            "Case#:  46295 Detected:  4  Expected:  3\n",
            "Case#:  46373 Detected:  4  Expected:  5\n",
            "Case#:  48651 Detected:  3  Expected:  4\n",
            "Case#:  49483 Detected:  3  Expected:  2\n",
            "Case#:  50935 Detected:  3  Expected:  4\n",
            "Case#:  53330 Detected:  1  Expected:  2\n",
            "Case#:  54436 Detected:  2  Expected:  3\n",
            "Case#:  55359 Detected:  3  Expected:  4\n",
            "0.9991071428571429\n"
          ],
          "name": "stdout"
        }
      ]
    },
    {
      "cell_type": "markdown",
      "metadata": {
        "id": "VtJy-sffpYok"
      },
      "source": [
        "### **1.2.4 Class Distribution**\n"
      ]
    },
    {
      "cell_type": "code",
      "metadata": {
        "id": "5Vwee0UprjPB",
        "colab": {
          "base_uri": "https://localhost:8080/",
          "height": 280
        },
        "outputId": "b5e582b4-ba09-4345-c390-e49115f11cae"
      },
      "source": [
        "unique_y1, counts_y1 = np.unique(train_labels[:, 0], return_counts=True)\n",
        "plt.bar(unique_y1, counts_y1/sum(counts_y1))\n",
        "plt.xticks(unique_y1, unique_y1)\n",
        "plt.title(f\"Class Distribution of the first column\")\n",
        "plt.show()"
      ],
      "execution_count": null,
      "outputs": [
        {
          "output_type": "display_data",
          "data": {
            "image/png": "[encoded data removed]",
            "text/plain": [
              "<Figure size 432x288 with 1 Axes>"
            ]
          },
          "metadata": {
            "tags": [],
            "needs_background": "light"
          }
        }
      ]
    },
    {
      "cell_type": "code",
      "metadata": {
        "id": "dAJ4C4nbrtg2",
        "colab": {
          "base_uri": "https://localhost:8080/",
          "height": 280
        },
        "outputId": "c062afd4-ea98-4ca5-8fc3-5562fdbf70f3"
      },
      "source": [
        "unique_y2, counts_y2 = np.unique(train_labels[:, 1], return_counts=True)\n",
        "plt.bar(unique_y2, counts_y2/sum(counts_y2))\n",
        "plt.xticks(unique_y2, unique_y2)\n",
        "plt.title(f\"Class Distribution of the second column\")\n",
        "plt.show()"
      ],
      "execution_count": null,
      "outputs": [
        {
          "output_type": "display_data",
          "data": {
            "image/png": "[encoded data removed]",
            "text/plain": [
              "<Figure size 432x288 with 1 Axes>"
            ]
          },
          "metadata": {
            "tags": [],
            "needs_background": "light"
          }
        }
      ]
    },
    {
      "cell_type": "code",
      "metadata": {
        "id": "DQln8QrArt3D",
        "colab": {
          "base_uri": "https://localhost:8080/",
          "height": 280
        },
        "outputId": "de2698e6-be4a-44bf-b916-46b6e26b4149"
      },
      "source": [
        "unique_y3, counts_y3 = np.unique(train_labels[:, 2], return_counts=True)\n",
        "plt.bar(unique_y3, counts_y3/sum(counts_y3))\n",
        "plt.xticks(unique_y3, unique_y3)\n",
        "plt.title(f\"Class Distribution of the third column\")\n",
        "plt.show()"
      ],
      "execution_count": null,
      "outputs": [
        {
          "output_type": "display_data",
          "data": {
            "image/png": "[encoded data removed]",
            "text/plain": [
              "<Figure size 432x288 with 1 Axes>"
            ]
          },
          "metadata": {
            "tags": [],
            "needs_background": "light"
          }
        }
      ]
    },
    {
      "cell_type": "code",
      "metadata": {
        "id": "ADQMb2X6ruMT",
        "colab": {
          "base_uri": "https://localhost:8080/",
          "height": 280
        },
        "outputId": "a4e7aed3-a97f-4c39-e2af-849529ab47ac"
      },
      "source": [
        "unique_y4, counts_y4 = np.unique(train_labels[:, 3], return_counts=True)\n",
        "plt.bar(unique_y4, counts_y4/sum(counts_y4))\n",
        "plt.xticks(unique_y4, unique_y4)\n",
        "plt.title(f\"Class Distribution of the fourth column\")\n",
        "plt.show()"
      ],
      "execution_count": null,
      "outputs": [
        {
          "output_type": "display_data",
          "data": {
            "image/png": "[encoded data removed]",
            "text/plain": [
              "<Figure size 432x288 with 1 Axes>"
            ]
          },
          "metadata": {
            "tags": [],
            "needs_background": "light"
          }
        }
      ]
    },
    {
      "cell_type": "code",
      "metadata": {
        "id": "vYuwvAWQru7I",
        "colab": {
          "base_uri": "https://localhost:8080/",
          "height": 280
        },
        "outputId": "a2b31265-09cb-40d8-905b-978ae5ee0b60"
      },
      "source": [
        "unique_y5, counts_y5 = np.unique(train_labels[:, 4], return_counts=True)\n",
        "plt.bar(unique_y5, counts_y5/sum(counts_y5))\n",
        "plt.xticks(unique_y5, unique_y5)\n",
        "plt.title(f\"Class Distribution of the fifth column\")\n",
        "plt.show()"
      ],
      "execution_count": null,
      "outputs": [
        {
          "output_type": "display_data",
          "data": {
            "image/png": "[encoded data removed]",
            "text/plain": [
              "<Figure size 432x288 with 1 Axes>"
            ]
          },
          "metadata": {
            "tags": [],
            "needs_background": "light"
          }
        }
      ]
    },
    {
      "cell_type": "markdown",
      "metadata": {
        "id": "SlLoNgfSoKD2"
      },
      "source": [
        "### **1.2.4 Upper bound and lower bound of the images**\n",
        "Note: the name of the title is subject to change\n"
      ]
    },
    {
      "cell_type": "code",
      "metadata": {
        "id": "NF7LOKX5oJRk"
      },
      "source": [
        "def lowerBound(x):\n",
        "  N = x.shape[1]\n",
        "  D = x.shape[0]\n",
        "  lowerBounds = [0]*D\n",
        "  bound = x[0, 0]\n",
        "  for i in list(range(0, D)):\n",
        "    for j in list(range(0, N)):\n",
        "      if torch.all(torch.eq(x[i, j], bound)):\n",
        "        lowerBounds[i] = j + 1\n",
        "      else:\n",
        "        break\n",
        "  return min(lowerBounds)\n",
        "  \n",
        "def upperBound(x):\n",
        "  N = x.shape[1]\n",
        "  D = x.shape[0]\n",
        "  upperBounds = [64]*D\n",
        "  bound = x[0, 0]\n",
        "  for i in list(range(0, D)):\n",
        "    for j in list(range(0, N)):\n",
        "      if torch.all(torch.eq(x[i, 63-j], bound)):\n",
        "        upperBounds[i] = 63-j\n",
        "      else:\n",
        "        break\n",
        "  return max(upperBounds)"
      ],
      "execution_count": 280,
      "outputs": []
    },
    {
      "cell_type": "code",
      "metadata": {
        "id": "0zjCP0U-6QSB"
      },
      "source": [
        "def leftBound(x):\n",
        "  N = x.shape[2]\n",
        "  D = x.shape[0]\n",
        "  leftBounds = [0]*D\n",
        "  bound = x[0, :, 0]\n",
        "  for i in list(range(0, D)):\n",
        "    for j in list(range(0, N)):\n",
        "      if torch.all(torch.eq(x[i, :, j], bound)):\n",
        "        leftBounds[i] = j + 1\n",
        "      else:\n",
        "        break\n",
        "  return min(leftBounds)\n",
        "  \n",
        "def rightBound(x):\n",
        "  N = x.shape[2]\n",
        "  D = x.shape[0]\n",
        "  rightBounds = [64]*D\n",
        "  bound = x[0, :, 0]\n",
        "  for i in list(range(0, D)):\n",
        "    for j in list(range(0, N)):\n",
        "      if torch.all(torch.eq(x[i, :, 63 - j], bound)):\n",
        "        rightBounds[i] = 63 - j\n",
        "      else:\n",
        "        break\n",
        "  return max(rightBounds)"
      ],
      "execution_count": 132,
      "outputs": []
    },
    {
      "cell_type": "code",
      "metadata": {
        "id": "metobBdpqBXv",
        "colab": {
          "base_uri": "https://localhost:8080/"
        },
        "outputId": "e8ecce1b-7f98-4a7e-be25-45180ded88e5"
      },
      "source": [
        "l = leftBound(X_train)\n",
        "r = rightBound(X_train)\n",
        "u = upperBound(X_train)\n",
        "l = lowerBound(X_train)\n",
        "\n",
        "print(\"Left Bound: \",l, \"Right Bound: \" ,r, \" Upper Bound: \", u, \"Lower Bound: \", l)"
      ],
      "execution_count": 281,
      "outputs": [
        {
          "output_type": "stream",
          "text": [
            "Left Bound:  26 Right Bound:  62  Upper Bound:  38 Lower Bound:  26\n"
          ],
          "name": "stdout"
        }
      ]
    },
    {
      "cell_type": "markdown",
      "metadata": {
        "id": "g7ghhGf6wzaV"
      },
      "source": [
        "### **1.2.5 Partitioning the data**\n"
      ]
    },
    {
      "cell_type": "code",
      "metadata": {
        "colab": {
          "base_uri": "https://localhost:8080/",
          "height": 108
        },
        "id": "iEzyQ6MNoBnr",
        "outputId": "958ed04b-2507-4838-d977-3d27c7143772"
      },
      "source": [
        "images=[]\n",
        "titles=[]\n",
        "images.append(np.array(train_images[0], dtype='float').reshape(64,64))\n",
        "titles.append(\"img_1\")\n",
        "images.append(np.array(train_images[2], dtype='float').reshape(64,64))\n",
        "titles.append(\"img_2\")\n",
        "images.append(np.array(train_images[5], dtype='float').reshape(64,64))\n",
        "titles.append(\"img_3\")\n",
        "images.append(np.array(train_images[9], dtype='float').reshape(64,64))\n",
        "titles.append(\"img_4\")\n",
        "images.append(np.array(train_images[26], dtype='float').reshape(64,64))\n",
        "titles.append(\"img_5\")\n",
        "\n",
        "for i in range(5):\n",
        "    plt.subplot(1,5,i+1),plt.imshow(images[i])\n",
        "    plt.title(titles[i])\n",
        "    plt.xticks([]),plt.yticks([])"
      ],
      "execution_count": 46,
      "outputs": [
        {
          "output_type": "display_data",
          "data": {
            "image/png": "[encoded data removed]",
            "text/plain": [
              "<Figure size 432x288 with 5 Axes>"
            ]
          },
          "metadata": {
            "tags": []
          }
        }
      ]
    },
    {
      "cell_type": "code",
      "metadata": {
        "colab": {
          "base_uri": "https://localhost:8080/",
          "height": 285
        },
        "id": "JK0E9O98qRmR",
        "outputId": "9b00f22d-b21a-4ddf-c75d-febbbec86b8d"
      },
      "source": [
        "x_try = train_images[0]\n",
        "x_try = np.float32(x_try).reshape(64, 64)\n",
        "plt.imshow(x_try)"
      ],
      "execution_count": 168,
      "outputs": [
        {
          "output_type": "execute_result",
          "data": {
            "text/plain": [
              "<matplotlib.image.AxesImage at 0x7fa176d21978>"
            ]
          },
          "metadata": {
            "tags": []
          },
          "execution_count": 168
        },
        {
          "output_type": "display_data",
          "data": {
            "image/png": "[encoded data removed]",
            "text/plain": [
              "<Figure size 432x288 with 1 Axes>"
            ]
          },
          "metadata": {
            "tags": [],
            "needs_background": "light"
          }
        }
      ]
    },
    {
      "cell_type": "code",
      "metadata": {
        "colab": {
          "base_uri": "https://localhost:8080/"
        },
        "id": "WHpOwasS82nH",
        "outputId": "2aafb5f7-c978-4535-e7c8-d0d81453de5c"
      },
      "source": [
        "x_try.shape"
      ],
      "execution_count": 170,
      "outputs": [
        {
          "output_type": "execute_result",
          "data": {
            "text/plain": [
              "(64, 64)"
            ]
          },
          "metadata": {
            "tags": []
          },
          "execution_count": 170
        }
      ]
    },
    {
      "cell_type": "code",
      "metadata": {
        "id": "Uiuu_L9T4XJ7"
      },
      "source": [
        "def leftBound2D_empty(x, initial_column):\n",
        "  N = x.shape[1] #column\n",
        "  leftBound = 0\n",
        "  bound = torch.zeros(x[:, 0].shape)\n",
        "  for i in list(range(initial_column, N)):\n",
        "    if torch.all(torch.eq(x[:, i], bound)):\n",
        "      leftBound = i + 1\n",
        "    else:\n",
        "      break\n",
        "  return leftBound"
      ],
      "execution_count": 232,
      "outputs": []
    },
    {
      "cell_type": "code",
      "metadata": {
        "id": "gCell7HW-kbp"
      },
      "source": [
        "def leftBound2D_with_number(x, initial_column):\n",
        "  N = x.shape[1] #column\n",
        "  leftBound = 0\n",
        "  bound = torch.zeros(x[:, 0].shape)\n",
        "  for i in list(range(initial_column, N)):\n",
        "    if torch.all(torch.eq(x[:, i], bound)) == False:\n",
        "      leftBound = i + 1\n",
        "    else:\n",
        "      break\n",
        "  return leftBound"
      ],
      "execution_count": 233,
      "outputs": []
    },
    {
      "cell_type": "code",
      "metadata": {
        "id": "1-vRjRk4AmA8"
      },
      "source": [
        "x_try2 = torch.from_numpy(x_try)\n",
        "l1_1 = leftBound2D_empty(x_try2, 0)\n",
        "l1_2 = leftBound2D_with_number(x_try2, l1_1)\n",
        "l2_1 = leftBound2D_empty(x_try2, l1_2)\n",
        "l2_2 = leftBound2D_with_number(x_try2, l2_1)\n",
        "l3_1 = leftBound2D_empty(x_try2, l2_2)\n",
        "l3_2 = leftBound2D_with_number(x_try2, l3_1)\n",
        "l4_1 = leftBound2D_empty(x_try2, l3_2)\n",
        "l4_2 = leftBound2D_with_number(x_try2, l4_1)"
      ],
      "execution_count": 264,
      "outputs": []
    },
    {
      "cell_type": "code",
      "metadata": {
        "colab": {
          "base_uri": "https://localhost:8080/",
          "height": 282
        },
        "id": "IxDFAMsCB4wZ",
        "outputId": "27461f72-0a6b-4e38-eb3c-d3e16e50fbab"
      },
      "source": [
        "plt.imshow(x_try2[26:38 ,l1_1:l1_2])"
      ],
      "execution_count": 282,
      "outputs": [
        {
          "output_type": "execute_result",
          "data": {
            "text/plain": [
              "<matplotlib.image.AxesImage at 0x7fa176e624a8>"
            ]
          },
          "metadata": {
            "tags": []
          },
          "execution_count": 282
        },
        {
          "output_type": "display_data",
          "data": {
            "image/png": "[encoded data removed]",
            "text/plain": [
              "<Figure size 432x288 with 1 Axes>"
            ]
          },
          "metadata": {
            "tags": [],
            "needs_background": "light"
          }
        }
      ]
    },
    {
      "cell_type": "code",
      "metadata": {
        "colab": {
          "base_uri": "https://localhost:8080/",
          "height": 282
        },
        "id": "Kf5QRoi1CAgT",
        "outputId": "903fb070-0bce-4a4f-b0e4-7acbcbae99bd"
      },
      "source": [
        "plt.imshow(x_try2[26:38 ,l2_1:l2_2])"
      ],
      "execution_count": 284,
      "outputs": [
        {
          "output_type": "execute_result",
          "data": {
            "text/plain": [
              "<matplotlib.image.AxesImage at 0x7fa177656f28>"
            ]
          },
          "metadata": {
            "tags": []
          },
          "execution_count": 284
        },
        {
          "output_type": "display_data",
          "data": {
            "image/png": "[encoded data removed]",
            "text/plain": [
              "<Figure size 432x288 with 1 Axes>"
            ]
          },
          "metadata": {
            "tags": [],
            "needs_background": "light"
          }
        }
      ]
    },
    {
      "cell_type": "code",
      "metadata": {
        "colab": {
          "base_uri": "https://localhost:8080/",
          "height": 282
        },
        "id": "b0hz_-SaCVem",
        "outputId": "57ef1e97-2a0d-4bd2-86ab-fd651b95b04e"
      },
      "source": [
        "plt.imshow(x_try2[26:38 ,l3_1:l3_2])"
      ],
      "execution_count": 285,
      "outputs": [
        {
          "output_type": "execute_result",
          "data": {
            "text/plain": [
              "<matplotlib.image.AxesImage at 0x7fa1768a9c88>"
            ]
          },
          "metadata": {
            "tags": []
          },
          "execution_count": 285
        },
        {
          "output_type": "display_data",
          "data": {
            "image/png": "[encoded data removed]",
            "text/plain": [
              "<Figure size 432x288 with 1 Axes>"
            ]
          },
          "metadata": {
            "tags": [],
            "needs_background": "light"
          }
        }
      ]
    },
    {
      "cell_type": "code",
      "metadata": {
        "colab": {
          "base_uri": "https://localhost:8080/",
          "height": 282
        },
        "id": "3AXJcCZ3CYN-",
        "outputId": "7f918231-f2bd-4202-b8ab-2ccaaf03145f"
      },
      "source": [
        "plt.imshow(x_try2[26:38 ,l4_1:l4_2])"
      ],
      "execution_count": 286,
      "outputs": [
        {
          "output_type": "execute_result",
          "data": {
            "text/plain": [
              "<matplotlib.image.AxesImage at 0x7fa1768064e0>"
            ]
          },
          "metadata": {
            "tags": []
          },
          "execution_count": 286
        },
        {
          "output_type": "display_data",
          "data": {
            "image/png": "[encoded data removed]",
            "text/plain": [
              "<Figure size 432x288 with 1 Axes>"
            ]
          },
          "metadata": {
            "tags": [],
            "needs_background": "light"
          }
        }
      ]
    },
    {
      "cell_type": "code",
      "metadata": {
        "id": "AtY_2IPmKnb_",
        "outputId": "057a03f6-ba2d-4ace-d265-f3df3a687b59",
        "colab": {
          "base_uri": "https://localhost:8080/"
        }
      },
      "source": [
        "l5_1 = leftBound2D_empty(x_try2, l4_2)\n",
        "l5_2 = leftBound2D_with_number(x_try2, l5_1)\n",
        "print(\" l5_1: \", l5_1, \"l5_2: \", l5_2) #think about how to handle this\n",
        "'''\n",
        "if(l == 64 && r == 0):\n",
        "  the digit = torch.zeros((12, 12))\n",
        "'''"
      ],
      "execution_count": 297,
      "outputs": [
        {
          "output_type": "stream",
          "text": [
            " l5_1:  64 l5_2:  0\n"
          ],
          "name": "stdout"
        }
      ]
    },
    {
      "cell_type": "code",
      "metadata": {
        "colab": {
          "base_uri": "https://localhost:8080/"
        },
        "id": "WZERYd8TFhhl",
        "outputId": "3d9b7e83-96a8-4a60-90ca-8417a95bff59"
      },
      "source": [
        "x_try2[26:38,l1_1:l1_2].shape"
      ],
      "execution_count": 287,
      "outputs": [
        {
          "output_type": "execute_result",
          "data": {
            "text/plain": [
              "torch.Size([12, 10])"
            ]
          },
          "metadata": {
            "tags": []
          },
          "execution_count": 287
        }
      ]
    },
    {
      "cell_type": "code",
      "metadata": {
        "id": "YUkU-fLjFk3T"
      },
      "source": [
        "x_try21 = torch.zeros((12, 12))\n",
        "x_try21[0:12, 0: x_try2[26:38,l1_1:l1_2].shape[1]] = x_try2[26:38,l1_1:l1_2]"
      ],
      "execution_count": 312,
      "outputs": []
    },
    {
      "cell_type": "code",
      "metadata": {
        "id": "tEj4F2uAMStH"
      },
      "source": [
        "x_try22 = torch.zeros((12, 12))\n",
        "x_try22[0:12, 0: x_try2[26:38,l2_1:l2_2].shape[1]] = x_try2[26:38,l2_1:l2_2]"
      ],
      "execution_count": 300,
      "outputs": []
    },
    {
      "cell_type": "code",
      "metadata": {
        "id": "H22HWh-pMTBQ"
      },
      "source": [
        "x_try23 = torch.zeros((12, 12))\n",
        "x_try23[0:12, 0: x_try2[26:38,l3_1:l3_2].shape[1]] = x_try2[26:38,l3_1:l3_2]"
      ],
      "execution_count": 301,
      "outputs": []
    },
    {
      "cell_type": "code",
      "metadata": {
        "id": "ExqiRQdnMTTP"
      },
      "source": [
        "x_try24 = torch.zeros((12, 12))\n",
        "x_try24[0:12, 0: x_try2[26:38,l4_1:l4_2].shape[1]] = x_try2[26:38,l4_1:l4_2]"
      ],
      "execution_count": 302,
      "outputs": []
    },
    {
      "cell_type": "code",
      "metadata": {
        "id": "5r_J7KSwMnCc"
      },
      "source": [
        "x_try25 = torch.zeros((12, 12))"
      ],
      "execution_count": 307,
      "outputs": []
    },
    {
      "cell_type": "code",
      "metadata": {
        "id": "uULnY2VxM6KA",
        "outputId": "ae7db6c0-5d73-44c8-f1e0-0e21e3a6d437",
        "colab": {
          "base_uri": "https://localhost:8080/"
        }
      },
      "source": [
        "x_try20 = torch.stack((x_try21, x_try22, x_try23, x_try24, x_try25))\n",
        "x_try20.shape"
      ],
      "execution_count": 309,
      "outputs": [
        {
          "output_type": "execute_result",
          "data": {
            "text/plain": [
              "torch.Size([5, 12, 12])"
            ]
          },
          "metadata": {
            "tags": []
          },
          "execution_count": 309
        }
      ]
    },
    {
      "cell_type": "code",
      "metadata": {
        "colab": {
          "base_uri": "https://localhost:8080/",
          "height": 108
        },
        "id": "cnSIGZZlHScx",
        "outputId": "26e7ab94-fda2-481c-dc17-949fe0e0ceb4"
      },
      "source": [
        "for i in range(5):\n",
        "    plt.subplot(1,5,i+1),plt.imshow(x_try20[i, :, :])\n",
        "    plt.title(titles[i])\n",
        "    plt.xticks([]),plt.yticks([])"
      ],
      "execution_count": 311,
      "outputs": [
        {
          "output_type": "display_data",
          "data": {
            "image/png": "[encoded data removed]",
            "text/plain": [
              "<Figure size 432x288 with 5 Axes>"
            ]
          },
          "metadata": {
            "tags": []
          }
        }
      ]
    },
    {
      "cell_type": "code",
      "metadata": {
        "id": "Dzia6r_3D_ro"
      },
      "source": [
        "#12*12 is our standard\n",
        "\n",
        "#write a function that combine what I have done\n",
        "#try on 5/3/2/1 digits"
      ],
      "execution_count": 308,
      "outputs": []
    },
    {
      "cell_type": "markdown",
      "metadata": {
        "id": "dRUoe-A8Wgs2"
      },
      "source": [
        "## **2. Neural Network Models**"
      ]
    },
    {
      "cell_type": "code",
      "metadata": {
        "id": "JwL0Rac0jUB9"
      },
      "source": [
        "#classification\n",
        "#subset data into groups\n",
        "\n",
        "from sklearn.model_selection import KFold\n",
        "cross_validation = KFold(n_splits=5)\n",
        "#cross_validation.split(X, y=None, groups=None)"
      ],
      "execution_count": null,
      "outputs": []
    },
    {
      "cell_type": "code",
      "metadata": {
        "id": "WjFthGpUerBl"
      },
      "source": [
        "'''\n",
        "logistic: https://towardsdatascience.com/logistic-regression-on-mnist-with-pytorch-b048327f8d19\n",
        "clustering: https://www.dlology.com/blog/how-to-do-unsupervised-clustering-with-keras/ \n",
        "'''"
      ],
      "execution_count": null,
      "outputs": []
    },
    {
      "cell_type": "markdown",
      "metadata": {
        "id": "vbZFVFikWsSP"
      },
      "source": [
        "## **3. Performance**"
      ]
    },
    {
      "cell_type": "code",
      "metadata": {
        "id": "GD5KC8MyW1LV"
      },
      "source": [
        ""
      ],
      "execution_count": null,
      "outputs": []
    },
    {
      "cell_type": "markdown",
      "metadata": {
        "id": "awQVg43K4J4j"
      },
      "source": [
        "## **4. Application to the Testing Images**"
      ]
    }
  ]
}