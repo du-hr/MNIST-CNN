{
  "nbformat": 4,
  "nbformat_minor": 0,
  "metadata": {
    "kernelspec": {
      "display_name": "Python 3",
      "language": "python",
      "name": "python3"
    },
    "language_info": {
      "codemirror_mode": {
        "name": "ipython",
        "version": 3
      },
      "file_extension": ".py",
      "mimetype": "text/x-python",
      "name": "python",
      "nbconvert_exporter": "python",
      "pygments_lexer": "ipython3",
      "version": "3.8.5"
    },
    "colab": {
      "name": "MiniProject_3.ipynb",
      "provenance": [],
      "collapsed_sections": [],
      "toc_visible": true,
      "include_colab_link": true
    },
    "accelerator": "GPU"
  },
  "cells": [
    {
      "cell_type": "markdown",
      "metadata": {
        "id": "view-in-github",
        "colab_type": "text"
      },
      "source": [
        "<a href=\"https://colab.research.google.com/github/du-hr/MNIST-CNN/blob/good_copy/MiniProject_3.ipynb\" target=\"_parent\"><img src=\"https://colab.research.google.com/assets/colab-badge.svg\" alt=\"Open In Colab\"/></a>"
      ]
    },
    {
      "cell_type": "markdown",
      "metadata": {
        "id": "b4oL3OOWmdmj"
      },
      "source": [
        "# MiniProject 3: Multi-label Classification of Image Data\n",
        "\n",
        "\n",
        "> MiniProject 3 of COMP 551 (Fall 2020) at McGill University\n",
        "\n",
        "\n",
        "> Authors (G17): Haoran Du (260776911), Robin Cho (260806783), Teresa Lee (260715070)"
      ]
    },
    {
      "cell_type": "code",
      "metadata": {
        "id": "5CRaxVKWmgLT",
        "outputId": "8b24e720-ed75-4b25-8393-acd3ebe6227e",
        "colab": {
          "base_uri": "https://localhost:8080/"
        }
      },
      "source": [
        "import numpy as np\n",
        "import scipy as sci\n",
        "import pandas as pd\n",
        "import h5py\n",
        "import torch\n",
        "from google.colab import drive\n",
        "# ignore the follwoing line if running locally\n",
        "drive.mount('/content/drive')\n",
        "# make path = './' if running locally\n",
        "path = '/content/drive/My Drive/'\n",
        "\n",
        "#%matplotlib notebook\n",
        "%matplotlib inline\n",
        "import matplotlib.pyplot as plt"
      ],
      "execution_count": 1,
      "outputs": [
        {
          "output_type": "stream",
          "text": [
            "Mounted at /content/drive\n"
          ],
          "name": "stdout"
        }
      ]
    },
    {
      "cell_type": "markdown",
      "metadata": {
        "id": "RUzwim-Zm_Kq"
      },
      "source": [
        "# **1. Dataset**"
      ]
    },
    {
      "cell_type": "markdown",
      "metadata": {
        "id": "QhoZNvWEmes0"
      },
      "source": [
        "## **1.1 Import Data**"
      ]
    },
    {
      "cell_type": "code",
      "metadata": {
        "id": "vm21qXxGmppM",
        "outputId": "70700a8f-c9d6-4580-d57c-d231818ec98a",
        "colab": {
          "base_uri": "https://localhost:8080/",
          "height": 313
        }
      },
      "source": [
        "# load the datasets\n",
        "with h5py.File(path+'MNIST_synthetic.h5', 'r') as hdfid:\n",
        "     print(hdfid.keys())\n",
        "     test_images = hdfid['test_dataset'][()]\n",
        "     train_images = hdfid['train_dataset'][()]\n",
        "     train_labels = hdfid['train_labels'][()]\n",
        "\n",
        "# display train_images properties\n",
        "print(train_images.shape)\n",
        "# print(train_iamges[10][30])\n",
        "\n",
        "# plot first 3 images in train_images\n",
        "images=[]\n",
        "titles=[]\n",
        "images.append(np.array(train_images[0], dtype='float').reshape(64,64))\n",
        "titles.append(\"img_1\")\n",
        "images.append(np.array(train_images[1], dtype='float').reshape(64,64))\n",
        "titles.append(\"img_2\")\n",
        "images.append(np.array(train_images[2], dtype='float').reshape(64,64))\n",
        "titles.append(\"img_3\")\n",
        "\n",
        "for i in range(3):\n",
        "    plt.subplot(1,3,i+1),plt.imshow(images[i])\n",
        "    plt.title(titles[i])\n",
        "    plt.xticks([]),plt.yticks([])\n",
        "\n",
        "plt.show()\n",
        "\n",
        "# display train_labels properties\n",
        "print(train_labels.shape)\n",
        "print(train_labels)"
      ],
      "execution_count": 2,
      "outputs": [
        {
          "output_type": "stream",
          "text": [
            "<KeysViewHDF5 ['test_dataset', 'train_dataset', 'train_labels']>\n",
            "(56000, 64, 64, 1)\n"
          ],
          "name": "stdout"
        },
        {
          "output_type": "display_data",
          "data": {
            "image/png": "[encoded data removed]",
            "text/plain": [
              "<Figure size 432x288 with 3 Axes>"
            ]
          },
          "metadata": {
            "tags": []
          }
        },
        {
          "output_type": "stream",
          "text": [
            "(56000, 5)\n",
            "[[ 8  5  0  3 10]\n",
            " [ 8  9  9  8  7]\n",
            " [ 1  7  9  1  8]\n",
            " ...\n",
            " [ 4  4 10 10 10]\n",
            " [ 7  9  8 10 10]\n",
            " [ 6 10 10 10 10]]\n"
          ],
          "name": "stdout"
        }
      ]
    },
    {
      "cell_type": "markdown",
      "metadata": {
        "id": "CQktZ_BjmtOM"
      },
      "source": [
        "## **1.2 Class Distribution**"
      ]
    },
    {
      "cell_type": "code",
      "metadata": {
        "id": "UzyQSMQSmwjX"
      },
      "source": [
        "unique_y1, counts_y1 = np.unique(train_labels[:, 0], return_counts=True)\n",
        "plt.bar(unique_y1, counts_y1/sum(counts_y1))\n",
        "plt.xticks(unique_y1, unique_y1)\n",
        "plt.title(f\"Class Distribution of the first column\")\n",
        "plt.show()"
      ],
      "execution_count": null,
      "outputs": []
    },
    {
      "cell_type": "code",
      "metadata": {
        "id": "BZbIo0WimxFs"
      },
      "source": [
        "unique_y2, counts_y2 = np.unique(train_labels[:, 1], return_counts=True)\n",
        "plt.bar(unique_y2, counts_y2/sum(counts_y2))\n",
        "plt.xticks(unique_y2, unique_y2)\n",
        "plt.title(f\"Class Distribution of the second column\")\n",
        "plt.show()"
      ],
      "execution_count": null,
      "outputs": []
    },
    {
      "cell_type": "code",
      "metadata": {
        "id": "5KnftLM3mxZ-"
      },
      "source": [
        "unique_y3, counts_y3 = np.unique(train_labels[:, 2], return_counts=True)\n",
        "plt.bar(unique_y3, counts_y3/sum(counts_y3))\n",
        "plt.xticks(unique_y3, unique_y3)\n",
        "plt.title(f\"Class Distribution of the third column\")\n",
        "plt.show()"
      ],
      "execution_count": null,
      "outputs": []
    },
    {
      "cell_type": "code",
      "metadata": {
        "id": "Y9fm69_-mxq6"
      },
      "source": [
        "unique_y4, counts_y4 = np.unique(train_labels[:, 3], return_counts=True)\n",
        "plt.bar(unique_y4, counts_y4/sum(counts_y4))\n",
        "plt.xticks(unique_y4, unique_y4)\n",
        "plt.title(f\"Class Distribution of the fourth column\")\n",
        "plt.show()"
      ],
      "execution_count": null,
      "outputs": []
    },
    {
      "cell_type": "code",
      "metadata": {
        "id": "qsutla-Lmx_f"
      },
      "source": [
        "unique_y5, counts_y5 = np.unique(train_labels[:, 4], return_counts=True)\n",
        "plt.bar(unique_y5, counts_y5/sum(counts_y5))\n",
        "plt.xticks(unique_y5, unique_y5)\n",
        "plt.title(f\"Class Distribution of the fifth column\")\n",
        "plt.show()"
      ],
      "execution_count": null,
      "outputs": []
    },
    {
      "cell_type": "markdown",
      "metadata": {
        "id": "bZJuyGO-m7UR"
      },
      "source": [
        "# **2. First Approach**\n",
        "Train a mult-label classification model"
      ]
    },
    {
      "cell_type": "code",
      "metadata": {
        "id": "eKq3hxAzm6VI"
      },
      "source": [
        ""
      ],
      "execution_count": null,
      "outputs": []
    },
    {
      "cell_type": "markdown",
      "metadata": {
        "id": "6Q1MHNcbnkA5"
      },
      "source": [
        "# **3. Second Approach**\n",
        "Partition the images and train a single label classification model"
      ]
    },
    {
      "cell_type": "markdown",
      "metadata": {
        "id": "5E7irrPiEcFE"
      },
      "source": [
        "## **3.1 Data Preprocessing**\n",
        "- partition images\n",
        "- create data loader"
      ]
    },
    {
      "cell_type": "markdown",
      "metadata": {
        "id": "tcewD6XJErVz"
      },
      "source": [
        "### **3.1.1 Data and Exploring Number of Digits**"
      ]
    },
    {
      "cell_type": "code",
      "metadata": {
        "id": "aQx4ArzyEpd7"
      },
      "source": [
        "# normalize to range 0-1 with typecast to float\n",
        "def data_scaled(x):\n",
        "  scaled_x = x.astype('float32') / 255.0\n",
        "  return scaled_x\n",
        "\n",
        "scaled_train_images = data_scaled(train_images)\n",
        "X_train = torch.from_numpy(scaled_train_images)\n",
        "Y_train = torch.from_numpy(train_labels.astype('int32'))"
      ],
      "execution_count": 3,
      "outputs": []
    },
    {
      "cell_type": "markdown",
      "metadata": {
        "id": "UCXdRN0tFz-J"
      },
      "source": [
        "Before deciding a way to partition the data, we also explore several functions in openCV."
      ]
    },
    {
      "cell_type": "code",
      "metadata": {
        "id": "-iQspd5_nh9H"
      },
      "source": [
        "threshold = 1\n",
        "width = 12\n",
        "height = 12"
      ],
      "execution_count": null,
      "outputs": []
    },
    {
      "cell_type": "code",
      "metadata": {
        "id": "_szjVTEBF98h"
      },
      "source": [
        "def findDigits(img):\n",
        "  #Note that a normalized image does not work\n",
        "  ret,thresh = cv2.threshold(img,threshold,255,0)\n",
        "  contours, hierarchy = cv2.findContours(thresh, cv2.RETR_EXTERNAL, cv2.CHAIN_APPROX_SIMPLE)\n",
        "\n",
        "  #print(len(contours))\n",
        "  def getKey(item):\n",
        "    return item[0]\n",
        "\n",
        "  digitsLoc = []\n",
        "  minArea = 15\n",
        "  for cnt in contours:\n",
        "    x, y, w, h = cv2.boundingRect(cnt)\n",
        "    if w == 1 and h > 4:\n",
        "      listTemp = [x, y, w, h]\n",
        "      digitsLoc.append(listTemp)\n",
        "    \n",
        "    elif w * h > minArea:\n",
        "      listTemp = [x, y, w, h]\n",
        "      digitsLoc.append(listTemp)\n",
        "  \n",
        "  return sorted(digitsLoc, key = lambda x: x[0])"
      ],
      "execution_count": null,
      "outputs": []
    },
    {
      "cell_type": "code",
      "metadata": {
        "id": "PqFYHdEQGAP2"
      },
      "source": [
        "images_scaled=[]\n",
        "images_scaled.append(np.array(train_images[4476], dtype='float').reshape(64,64))\n",
        "sample = plt.imshow(images_scaled[0])\n",
        "plt.show()\n",
        "\n",
        "#x = findDigits(train_images[3282])\n",
        "passed = 0\n",
        "total = 0\n",
        "\n",
        "for i in range(0, 56000):\n",
        "  x = len(findDigits(train_images[i]))\n",
        "  n = 0\n",
        "  for c in train_labels[i]:\n",
        "    if c != 10:\n",
        "      n = n + 1\n",
        "  \n",
        "  if n == x:\n",
        "    passed = passed + 1\n",
        "  else:\n",
        "    print(\"Case#: \",i, \"Detected: \" ,x, \" Expected: \", n)\n",
        "  total = total + 1\n",
        "\n",
        "print(passed/total)"
      ],
      "execution_count": null,
      "outputs": []
    },
    {
      "cell_type": "markdown",
      "metadata": {
        "id": "K95yw9yCGIw4"
      },
      "source": [
        "### **3.1.2 Calculating the bounds of the images**\n",
        "\n",
        "\n",
        "*   lowerBound(x): return the minimum lower bound of the images\n",
        "*   upperBound(x): return the maximum upper bound of the image\n",
        "*   leftBound(x): return the minimum left bound of the images\n",
        "*   rightBound(x): return the maximum right bound of the images\n",
        "These calculations are used for partitioning the images\n",
        "\n"
      ]
    },
    {
      "cell_type": "code",
      "metadata": {
        "id": "j45HvHq4GM-f"
      },
      "source": [
        "def lowerBound(x):\n",
        "  N = x.shape[1]\n",
        "  D = x.shape[0]\n",
        "  lowerBounds = [0]*D\n",
        "  bound = x[0, 0]\n",
        "  for i in list(range(0, D)):\n",
        "    for j in list(range(0, N)):\n",
        "      if torch.all(torch.eq(x[i, j], bound)):\n",
        "        lowerBounds[i] = j + 1\n",
        "      else:\n",
        "        break\n",
        "  return min(lowerBounds)\n",
        "  \n",
        "def upperBound(x):\n",
        "  N = x.shape[1]\n",
        "  D = x.shape[0]\n",
        "  upperBounds = [64]*D\n",
        "  bound = x[0, 0]\n",
        "  for i in list(range(0, D)):\n",
        "    for j in list(range(0, N)):\n",
        "      if torch.all(torch.eq(x[i, 63-j], bound)):\n",
        "        upperBounds[i] = 63-j\n",
        "      else:\n",
        "        break\n",
        "  return max(upperBounds)"
      ],
      "execution_count": 4,
      "outputs": []
    },
    {
      "cell_type": "code",
      "metadata": {
        "id": "3qLoXNraGPaM"
      },
      "source": [
        "def leftBound(x):\n",
        "  N = x.shape[2]\n",
        "  D = x.shape[0]\n",
        "  leftBounds = [0]*D\n",
        "  bound = x[0, :, 0]\n",
        "  for i in list(range(0, D)):\n",
        "    for j in list(range(0, N)):\n",
        "      if torch.all(torch.eq(x[i, :, j], bound)):\n",
        "        leftBounds[i] = j + 1\n",
        "      else:\n",
        "        break\n",
        "  return min(leftBounds)\n",
        "  \n",
        "def rightBound(x):\n",
        "  N = x.shape[2]\n",
        "  D = x.shape[0]\n",
        "  rightBounds = [64]*D\n",
        "  bound = x[0, :, 0]\n",
        "  for i in list(range(0, D)):\n",
        "    for j in list(range(0, N)):\n",
        "      if torch.all(torch.eq(x[i, :, 63 - j], bound)):\n",
        "        rightBounds[i] = 63 - j\n",
        "      else:\n",
        "        break\n",
        "  return max(rightBounds)"
      ],
      "execution_count": null,
      "outputs": []
    },
    {
      "cell_type": "code",
      "metadata": {
        "id": "pTo7s44NGR-d"
      },
      "source": [
        "u = upperBound(X_train)\n",
        "l = lowerBound(X_train)\n",
        "l2 = leftBound(X_train)\n",
        "r = rightBound(X_train)\n",
        "\n",
        "print(\"Upper bound: \", u,\", Lower bound:\", l, \", Left bound: \", l2,\", Right bound:\", r)"
      ],
      "execution_count": null,
      "outputs": []
    },
    {
      "cell_type": "markdown",
      "metadata": {
        "id": "8qVApq2qGXnY"
      },
      "source": [
        "### **3.1.3 Partitioning the images**\n",
        "*   leftBound_digit(x): calculate the first column that has pixels more than certain threshold\n",
        "*   rightBound_digit(x): calculate the first column that has pixels less than certain threshold\n",
        "*   partition_image(x): use the above two functions to partition an image\n",
        "*   partition_image_number_of_digits_accuracy(x): use the partition_image(x) to return the number of digits in each image\n",
        "*   accuracy_check(x): check whether the digits correspond to the labels\n",
        "*   incorrect_list(x): sort the index of incorrect digits (for removing them)\n",
        "*   dataset_images_partition(x): apply the parition_image(x) on the entire dataset"
      ]
    },
    {
      "cell_type": "code",
      "metadata": {
        "id": "0dTbgD8NGWu5"
      },
      "source": [
        "def leftBound_digit(x, initial_column):\n",
        "  N = x.shape[1] #column\n",
        "  leftBound = 0\n",
        "  bound = torch.full(x[:, 0].shape, 0.2)\n",
        "  #0.2 is the threshold of the partitioning, this is selected by a later accuracy check\n",
        "  for i in list(range(initial_column, N)):\n",
        "    if torch.all(torch.le(x[:, i], bound)):\n",
        "      leftBound = i + 1\n",
        "    else:\n",
        "      break\n",
        "  return leftBound\n",
        "\n",
        "def rightBound_digit(x, initial_column):\n",
        "  N = x.shape[1] #column\n",
        "  rightBound = 0\n",
        "  bound = torch.full(x[:, 0].shape, 0.2)\n",
        "  for i in list(range(initial_column, N)):\n",
        "    if torch.all(torch.le(x[:, i], bound)) == False:\n",
        "      rightBound = i + 1\n",
        "    else:\n",
        "      break\n",
        "  return rightBound"
      ],
      "execution_count": 5,
      "outputs": []
    },
    {
      "cell_type": "code",
      "metadata": {
        "id": "W20Cly3gGzgQ"
      },
      "source": [
        "def partition_image(x):\n",
        "  x = x.reshape(64, 64)\n",
        "  l = leftBound_digit(x, 0)\n",
        "  r = rightBound_digit(x, l)\n",
        "  x_1 = torch.zeros((12, 12))\n",
        "  x_1[0:12, 0: x[26:38,l:r].shape[1]] = x[26:38,l:r]\n",
        "\n",
        "  l = leftBound_digit(x, r)\n",
        "  if l == 64: #i.e. one digit\n",
        "    x_2 = torch.zeros((12, 12))\n",
        "    x_3 = torch.zeros((12, 12))\n",
        "    x_4 = torch.zeros((12, 12))\n",
        "    x_5 = torch.zeros((12, 12))\n",
        "  else:\n",
        "    r = rightBound_digit(x, l)\n",
        "    x_2 = torch.zeros((12, 12))\n",
        "    x_2[0:12, 0: x[26:38,l:r].shape[1]] = x[26:38,l:r]\n",
        "\n",
        "    l = leftBound_digit(x, r)\n",
        "\n",
        "    if l == 64: #i.e. two digits\n",
        "      x_3 = torch.zeros((12, 12))\n",
        "      x_4 = torch.zeros((12, 12))\n",
        "      x_5 = torch.zeros((12, 12))\n",
        "    else:\n",
        "      r = rightBound_digit(x, l)\n",
        "      x_3 = torch.zeros((12, 12))\n",
        "      x_3[0:12, 0: x[26:38,l:r].shape[1]] = x[26:38,l:r]\n",
        "      l = leftBound_digit(x, r)\n",
        "\n",
        "      if l == 64: #i.e. three digits\n",
        "        x_4 = torch.zeros((12, 12))\n",
        "        x_5 = torch.zeros((12, 12))\n",
        "      else:\n",
        "        r = rightBound_digit(x, l)\n",
        "        x_4 = torch.zeros((12, 12))\n",
        "        x_4[0:12, 0: x[26:38,l:r].shape[1]] = x[26:38,l:r]\n",
        "        l = leftBound_digit(x, r)\n",
        "\n",
        "        if l == 64:  #i.e. four digits\n",
        "          x_5 = torch.zeros((12, 12))\n",
        "        else: #i.e. five digits\n",
        "          r = rightBound_digit(x, l)\n",
        "          x_5 = torch.zeros((12, 12))\n",
        "          x_5[0:12, 0: x[26:38,l:r].shape[1]] = x[26:38,l:r]\n",
        "    \n",
        "  x_0 = torch.stack((x_1, x_2, x_3, x_4, x_5))\n",
        "\n",
        "  return x_0"
      ],
      "execution_count": 6,
      "outputs": []
    },
    {
      "cell_type": "code",
      "metadata": {
        "id": "1DySlc4vG0K3"
      },
      "source": [
        "x_try = X_train[0].reshape(64, 64)\n",
        "plt.imshow(x_try)"
      ],
      "execution_count": null,
      "outputs": []
    },
    {
      "cell_type": "code",
      "metadata": {
        "id": "t6T1TGsxG2PE"
      },
      "source": [
        "x_try_part = partition_image(x_try)\n",
        "for i in range(5):\n",
        "    plt.subplot(1,5,i+1),plt.imshow(x_try_part[i, :, :])\n",
        "    plt.xticks([]),plt.yticks([])"
      ],
      "execution_count": null,
      "outputs": []
    },
    {
      "cell_type": "code",
      "metadata": {
        "id": "ruSl0CniG4NN"
      },
      "source": [
        "#this code returns the number of digits\n",
        "def partition_image_number_of_digits_accuracy(x):\n",
        "  x = x.reshape(64, 64)\n",
        "  l = leftBound_digit(x, 0)\n",
        "  r = rightBound_digit(x, l)\n",
        "  l = leftBound_digit(x, r)\n",
        "  if l == 64: #i.e. one digit\n",
        "    n = 1\n",
        "  else:\n",
        "    r = rightBound_digit(x, l)\n",
        "    l = leftBound_digit(x, r)\n",
        "\n",
        "    if l == 64: #i.e. two digits\n",
        "      n = 2\n",
        "    else:\n",
        "      r = rightBound_digit(x, l)\n",
        "      l = leftBound_digit(x, r)\n",
        "\n",
        "      if l == 64: #i.e. three digits\n",
        "        n = 3\n",
        "      else:\n",
        "        r = rightBound_digit(x, l)\n",
        "        l = leftBound_digit(x, r)\n",
        "\n",
        "        if l == 64:  #i.e. four digits\n",
        "          n = 4\n",
        "        else: #i.e. five digits\n",
        "          r = rightBound_digit(x, l)\n",
        "          n = 5\n",
        "  return n"
      ],
      "execution_count": 7,
      "outputs": []
    },
    {
      "cell_type": "code",
      "metadata": {
        "id": "oI7BVnvhG8_d"
      },
      "source": [
        "def accuracy_check(x, y):\n",
        "  D = x.shape[0]\n",
        "  Y_true = torch.zeros(D)\n",
        "  for i in list(range(0, D)):\n",
        "    n = 0\n",
        "    for c in y[i]:\n",
        "      if c != 10:\n",
        "        n = n + 1\n",
        "    Y_true[i] = n\n",
        "\n",
        "  correct = 0\n",
        "  incorrect = 0\n",
        "  for i in list(range(0, D)):\n",
        "    if Y_true[i] == partition_image_number_of_digits_accuracy(x[i]):\n",
        "      correct = correct + 1\n",
        "    else:\n",
        "      incorrect = incorrect +1\n",
        "  return correct/(incorrect+correct)"
      ],
      "execution_count": null,
      "outputs": []
    },
    {
      "cell_type": "code",
      "metadata": {
        "id": "Z4IjxnnnHAeN"
      },
      "source": [
        "accuracy_check(X_train, train_labels)"
      ],
      "execution_count": null,
      "outputs": []
    },
    {
      "cell_type": "code",
      "metadata": {
        "id": "wkqgPbdKHCWf"
      },
      "source": [
        "#The accuracy is 0.994 when set threshold = 0\n",
        "#The accuracy is 0.996 when set threshold = 0.25\n",
        "#The accuracy is 0.986 when set threshold = 0.361"
      ],
      "execution_count": null,
      "outputs": []
    },
    {
      "cell_type": "code",
      "metadata": {
        "id": "04sKOk8bHE3k"
      },
      "source": [
        "def incorrect_list(x, y):\n",
        "  D = x.shape[0]\n",
        "  Y_true = torch.zeros(D)\n",
        "  for i in list(range(0, D)):\n",
        "    n = 0\n",
        "    for c in y[i]:\n",
        "      if c != 10:\n",
        "        n = n + 1\n",
        "    Y_true[i] = n\n",
        "\n",
        "  correct = 0\n",
        "  incorrect = []\n",
        "  for i in list(range(0, D)):\n",
        "    if Y_true[i] == partition_image_number_of_digits_accuracy(x[i]):\n",
        "      correct = correct + 1\n",
        "    else:\n",
        "      incorrect.append(i)\n",
        "  return incorrect"
      ],
      "execution_count": 8,
      "outputs": []
    },
    {
      "cell_type": "code",
      "metadata": {
        "id": "DjbH2J2RHGmu"
      },
      "source": [
        "#We decided the remove the images that failed to provide suitable partitioning\n",
        "#Since the labels in the testing images are not provided, we decided to do some data engineering if the function is not suitable\n",
        "incorrect_digits = incorrect_list(X_train, train_labels)"
      ],
      "execution_count": 9,
      "outputs": []
    },
    {
      "cell_type": "code",
      "metadata": {
        "id": "Q0k2OWSlHYUn"
      },
      "source": [
        "correct_digits = list(range(0, X_train.shape[0]))\n",
        "correct_digits = list(np.delete(np.array(correct_digits), (incorrect_digits), axis=0))"
      ],
      "execution_count": 10,
      "outputs": []
    },
    {
      "cell_type": "code",
      "metadata": {
        "id": "E42rnddAHaQo"
      },
      "source": [
        "accuracy_check(X_train[correct_digits, :], train_labels[correct_digits, :])"
      ],
      "execution_count": null,
      "outputs": []
    },
    {
      "cell_type": "code",
      "metadata": {
        "id": "H__z02rOHb3g"
      },
      "source": [
        "def dataset_images_partition(x):\n",
        "  d1 = x.shape[0]\n",
        "  d2 = 5\n",
        "  d3 = 12\n",
        "  d4 = 12\n",
        "  X_new = torch.zeros((d1, d2, d3, d4))\n",
        "  for i in list(range(0, d1)):\n",
        "    X_new[i] = partition_image(x[i])\n",
        "  return X_new"
      ],
      "execution_count": 11,
      "outputs": []
    },
    {
      "cell_type": "code",
      "metadata": {
        "id": "xwtWTXcrHfDk"
      },
      "source": [
        "X_train_part = dataset_images_partition(X_train[correct_digits, :])\n",
        "Y_train_part = Y_train[correct_digits, :]"
      ],
      "execution_count": 12,
      "outputs": []
    },
    {
      "cell_type": "markdown",
      "metadata": {
        "id": "FL4KfGIzHh2G"
      },
      "source": [
        "### **3.1.4 Creating dataloaders**\n",
        "\n",
        "*   x_multiLabel_to_singleLabel(x): convert the n samples multilabels data into a n*(number of labels) samples single label data\n",
        "*   y_multiLabel_to_singleLabel(y): same as above, but this is for the labels\n",
        "*   The data loaders created in this section are used for training models in the next subsection.\n",
        "*   The two data loaders are separated by a random split. One of them is used as the validation set.\n",
        "\n",
        "\n",
        "\n"
      ]
    },
    {
      "cell_type": "code",
      "metadata": {
        "id": "Tg8o9O4QJWMH"
      },
      "source": [
        "def x_multiLabel_to_singleLabel(x):\n",
        "  n = x.shape[0]\n",
        "  n2 = x.shape[2]\n",
        "  n3 = x.shape[3]\n",
        "  new_x = torch.zeros((n*5, 1, n2, n3))\n",
        "  for i in list(range(0, n)):\n",
        "    for j in list(range(0, 5)):\n",
        "      new_x[i*5+j] = x[i, j]\n",
        "  return new_x"
      ],
      "execution_count": 13,
      "outputs": []
    },
    {
      "cell_type": "code",
      "metadata": {
        "id": "4rxKIjVOJYrc"
      },
      "source": [
        "X_train_part2 = x_multiLabel_to_singleLabel(X_train_part)"
      ],
      "execution_count": 14,
      "outputs": []
    },
    {
      "cell_type": "code",
      "metadata": {
        "id": "xnOh0cGKJbyz"
      },
      "source": [
        "def y_multiLabel_to_singleLabel(y):\n",
        "  n = y.shape[0]\n",
        "  new_y = torch.zeros((n*5))\n",
        "  for i in list(range(0, n)):\n",
        "    for j in list(range(0, 5)):\n",
        "      new_y[i*5+j] = y[i, j]\n",
        "  return new_y"
      ],
      "execution_count": 15,
      "outputs": []
    },
    {
      "cell_type": "code",
      "metadata": {
        "id": "PfWAvCUKJdJs"
      },
      "source": [
        "Y_train_part2 = y_multiLabel_to_singleLabel(Y_train_part)"
      ],
      "execution_count": 16,
      "outputs": []
    },
    {
      "cell_type": "code",
      "metadata": {
        "id": "3SPkR8v2LrQG",
        "outputId": "73ad1f4e-6804-4492-d9a3-26f0fd931ef9",
        "colab": {
          "base_uri": "https://localhost:8080/"
        }
      },
      "source": [
        "from random import seed\n",
        "from random import randint\n",
        "seed(1)\n",
        "# generate 6000 random integers for validation set\n",
        "val_index = np.random.choice(55853*5, 6000*5, replace=False)\n",
        "print(len(val_index))\n",
        "train_index = np.setxor1d(np.arange(55853*5),val_index)\n",
        "print(len(train_index))"
      ],
      "execution_count": 18,
      "outputs": [
        {
          "output_type": "stream",
          "text": [
            "30000\n",
            "249265\n"
          ],
          "name": "stdout"
        }
      ]
    },
    {
      "cell_type": "code",
      "metadata": {
        "id": "hZz-dA-HJd9s"
      },
      "source": [
        "from torch.utils.data import Dataset, DataLoader\n",
        "class train_images_data(Dataset):\n",
        "    def __init__(self):\n",
        "      self.x = X_train_part2[train_index, :]\n",
        "      self.y = Y_train_part2[train_index]\n",
        "      self.n_samples = X_train_part2[train_index, :].shape[0]\n",
        "    \n",
        "    def __getitem__(self, index):\n",
        "      return self.x[index], self.y[index]\n",
        "    \n",
        "    def __len__(self):\n",
        "      return self.n_samples\n",
        "\n",
        "\n",
        "train_data = train_images_data()\n",
        "train_dataloader = DataLoader(dataset=train_data, batch_size = 16, shuffle = True)"
      ],
      "execution_count": 19,
      "outputs": []
    },
    {
      "cell_type": "code",
      "metadata": {
        "id": "uNdbhSbyJwuB"
      },
      "source": [
        "class val_images_data(Dataset):\n",
        "    def __init__(self):\n",
        "      self.x = X_train_part2[val_index, :]\n",
        "      self.y = Y_train_part2[val_index]\n",
        "      self.n_samples = X_train_part2[val_index, :].shape[0]\n",
        "    \n",
        "    def __getitem__(self, index):\n",
        "      return self.x[index], self.y[index]\n",
        "    \n",
        "    def __len__(self):\n",
        "      return self.n_samples\n",
        "\n",
        "\n",
        "val_data = val_images_data()\n",
        "val_dataloader = DataLoader(dataset=val_data, batch_size = 16, shuffle = True)"
      ],
      "execution_count": 20,
      "outputs": []
    },
    {
      "cell_type": "code",
      "metadata": {
        "id": "GevKmogULyOS",
        "outputId": "66587d94-7b1f-4c19-b194-605dd187cc49",
        "colab": {
          "base_uri": "https://localhost:8080/"
        }
      },
      "source": [
        "import torchvision\n",
        "images, labels = next(iter(train_dataloader))\n",
        "images.shape"
      ],
      "execution_count": 36,
      "outputs": [
        {
          "output_type": "execute_result",
          "data": {
            "text/plain": [
              "torch.Size([16, 1, 12, 12])"
            ]
          },
          "metadata": {
            "tags": []
          },
          "execution_count": 36
        }
      ]
    },
    {
      "cell_type": "markdown",
      "metadata": {
        "id": "D1qICWI7ElO9"
      },
      "source": [
        "## **3.2 Model Training**"
      ]
    },
    {
      "cell_type": "code",
      "metadata": {
        "id": "FXLmLCcqEkNW"
      },
      "source": [
        "class Model(torch.nn.Module):\n",
        "  def __init__(self):\n",
        "    super(Model, self).__init__()\n",
        "    self.conv1 = torch.nn.Sequential(torch.nn.Conv2d(1, 64, 3, 1, 1),\n",
        "                                     torch.nn.ReLU(),\n",
        "                                     torch.nn.Conv2d(64, 128, 3, 1, 1),\n",
        "                                     torch.nn.MaxPool2d(2, 2))\n",
        "    self.dense = torch.nn.Sequential(torch.nn.Linear(14*14*128, 1024),\n",
        "                                     torch.nn.ReLU(),\n",
        "                                     torch.nn.Dropout(p = 0.5),\n",
        "                                     torch.nn.Linear(1024, 10))\n",
        "  \n",
        "  def forward(self, x):\n",
        "    x = self.conv1(x)\n",
        "    x = x.view(-1, 14*14*128)\n",
        "    x = self.dense(x)\n",
        "    return x"
      ],
      "execution_count": 4,
      "outputs": []
    },
    {
      "cell_type": "code",
      "metadata": {
        "id": "TCezPxSIPJM1"
      },
      "source": [
        "import torch\n",
        "device = torch.device('cuda')\n",
        "model2 = Model()\n",
        "model2.to(device)"
      ],
      "execution_count": null,
      "outputs": []
    },
    {
      "cell_type": "code",
      "metadata": {
        "id": "QAu0wu2USTLW"
      },
      "source": [
        "criterion = torch.nn.CrossEntropyLoss()\n",
        "optimizer = torch.optim.Adam(model2.parameters(), lr = 0.5)"
      ],
      "execution_count": null,
      "outputs": []
    },
    {
      "cell_type": "code",
      "metadata": {
        "id": "62JCnCisPvWH"
      },
      "source": [
        "for epoch in range(20):\n",
        "  total_train_lost = 0.0\n",
        "  total_val_lost = 0.0\n",
        "  train_correct = 0\n",
        "  val_correct = 0\n",
        "  for data in train_dataloader:\n",
        "    inputs, labels = data\n",
        "    inputs, labels = Variable(inputs).cuda(), Variable(labels).cuda()\n",
        "    optimizer.zero_grad()\n",
        "    outputs = model2(inputs)\n",
        "    loss = criterion(outputs, labels)\n",
        "    optimizer.step()\n",
        "\n",
        "    _, pred = torch.max(outputs.data, 1)\n",
        "    total_train_lost = total_train_lost + loss.data\n",
        "    train_correct = train_correct + torch.sum(id==labels.data)\n",
        "  \n",
        "  model2.eval()\n",
        "  for data in val_dataloader:\n",
        "    inputs, labels = data\n",
        "    inputs, labels = Variable(inputs).cuda(), Variable(labels).cuda()\n",
        "    optimizer.zero_grad()\n",
        "    outputs = model2(inputs)\n",
        "    loss = criterion(outputs, labels)\n",
        "    optimizer.step()\n",
        "\n",
        "    _, pred = torch.max(outputs.data, 1)\n",
        "    total_val_lost = total_val_lost + loss.data\n",
        "    val_correct = val_correct + torch.sum(id==labels.data)\n",
        "  train_accuracy = train_correct/len(train_data)\n",
        "  val_accuracy = val_correct/len(val_data)\n",
        "  print('\\nEpoch: {}/{}, Train Loss: {:.8f}, Train Accuracy: {:.8f}, Val Loss: {:.8f}, Val Accuracy: {:.8f}'.format(epoch + 1, no_epochs, total_train_loss, train_accuracy, total_val_loss, val_accuracy))\n"
      ],
      "execution_count": null,
      "outputs": []
    },
    {
      "cell_type": "markdown",
      "metadata": {
        "id": "CFjwUmC-n1pz"
      },
      "source": [
        "## **4. Application to Testing Images**"
      ]
    },
    {
      "cell_type": "code",
      "metadata": {
        "id": "c_UihPVin7G0"
      },
      "source": [
        ""
      ],
      "execution_count": null,
      "outputs": []
    }
  ]
}