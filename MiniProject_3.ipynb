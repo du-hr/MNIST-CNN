{
  "nbformat": 4,
  "nbformat_minor": 0,
  "metadata": {
    "kernelspec": {
      "display_name": "Python 3",
      "language": "python",
      "name": "python3"
    },
    "language_info": {
      "codemirror_mode": {
        "name": "ipython",
        "version": 3
      },
      "file_extension": ".py",
      "mimetype": "text/x-python",
      "name": "python",
      "nbconvert_exporter": "python",
      "pygments_lexer": "ipython3",
      "version": "3.8.5"
    },
    "colab": {
      "name": "MiniProject_3.ipynb",
      "provenance": [],
      "collapsed_sections": [],
      "include_colab_link": true
    },
    "accelerator": "GPU"
  },
  "cells": [
    {
      "cell_type": "markdown",
      "metadata": {
        "id": "view-in-github",
        "colab_type": "text"
      },
      "source": [
        "<a href=\"https://colab.research.google.com/github/du-hr/MNIST-CNN/blob/main/MiniProject_3.ipynb\" target=\"_parent\"><img src=\"https://colab.research.google.com/assets/colab-badge.svg\" alt=\"Open In Colab\"/></a>"
      ]
    },
    {
      "cell_type": "markdown",
      "metadata": {
        "id": "TwdLP40A4X-A"
      },
      "source": [
        "# MiniProject 3: Multi-label Classification of Image Data\n",
        "\n",
        "\n",
        "> MiniProject 3 of COMP 551 (Fall 2020) at McGill University\n",
        "\n",
        "\n",
        "> Authors (G17): Haoran Du (260776911), Robin Cho (260806783), Teresa Lee (260715070)\n",
        "\n",
        "\n",
        "\n"
      ]
    },
    {
      "cell_type": "code",
      "metadata": {
        "id": "CGhQKetcGX8y",
        "colab": {
          "base_uri": "https://localhost:8080/"
        },
        "outputId": "d549f1e4-48ce-4e4a-8e47-2bdc79e75a4f"
      },
      "source": [
        "import numpy as np\n",
        "import scipy as sci\n",
        "import pandas as pd\n",
        "import h5py\n",
        "from google.colab import drive\n",
        "# ignore the follwoing line if running locally\n",
        "drive.mount('/content/drive')\n",
        "# make path = './' if running locally\n",
        "path = '/content/drive/My Drive/'\n",
        "\n",
        "#%matplotlib notebook\n",
        "%matplotlib inline\n",
        "import matplotlib.pyplot as plt\n"
      ],
      "execution_count": null,
      "outputs": [
        {
          "output_type": "stream",
          "text": [
            "Mounted at /content/drive\n"
          ],
          "name": "stdout"
        }
      ]
    },
    {
      "cell_type": "markdown",
      "metadata": {
        "id": "P5VYQqenQbc4"
      },
      "source": [
        "## **1. Datasets**"
      ]
    },
    {
      "cell_type": "markdown",
      "metadata": {
        "id": "WcWAWxDGWb5N"
      },
      "source": [
        "### **1.1 Import Data**"
      ]
    },
    {
      "cell_type": "code",
      "metadata": {
        "id": "F3U3KGvMOWxI",
        "colab": {
          "base_uri": "https://localhost:8080/",
          "height": 319
        },
        "outputId": "74f84347-fcfd-4e55-f363-7988eb8c3e3c"
      },
      "source": [
        "# load the datasets\n",
        "with h5py.File(path+'MNIST_synthetic.h5', 'r') as hdfid:\n",
        "     print(hdfid.keys())\n",
        "     test_images = hdfid['test_dataset'][()]\n",
        "     train_images = hdfid['train_dataset'][()]\n",
        "     train_labels = hdfid['train_labels'][()]\n",
        "\n",
        "# display train_images properties\n",
        "print(train_images.shape)\n",
        "# print(train_iamges[10][30])\n",
        "\n",
        "# plot first 3 images in train_images\n",
        "images=[]\n",
        "titles=[]\n",
        "images.append(np.array(train_images[0], dtype='float').reshape(64,64))\n",
        "titles.append(\"img_1\")\n",
        "images.append(np.array(train_images[1], dtype='float').reshape(64,64))\n",
        "titles.append(\"img_2\")\n",
        "images.append(np.array(train_images[2], dtype='float').reshape(64,64))\n",
        "titles.append(\"img_3\")\n",
        "\n",
        "for i in range(3):\n",
        "    plt.subplot(1,3,i+1),plt.imshow(images[i])\n",
        "    plt.title(titles[i])\n",
        "    plt.xticks([]),plt.yticks([])\n",
        "\n",
        "plt.show()\n",
        "\n",
        "# display train_labels properties\n",
        "print(train_labels.shape)\n",
        "print(train_labels)"
      ],
      "execution_count": null,
      "outputs": [
        {
          "output_type": "stream",
          "text": [
            "<KeysViewHDF5 ['test_dataset', 'train_dataset', 'train_labels']>\n",
            "(56000, 64, 64, 1)\n"
          ],
          "name": "stdout"
        },
        {
          "output_type": "display_data",
          "data": {
            "image/png": "[encoded data removed]",
            "text/plain": [
              "<Figure size 432x288 with 3 Axes>"
            ]
          },
          "metadata": {
            "tags": []
          }
        },
        {
          "output_type": "stream",
          "text": [
            "(56000, 5)\n",
            "[[ 8  5  0  3 10]\n",
            " [ 8  9  9  8  7]\n",
            " [ 1  7  9  1  8]\n",
            " ...\n",
            " [ 4  4 10 10 10]\n",
            " [ 7  9  8 10 10]\n",
            " [ 6 10 10 10 10]]\n"
          ],
          "name": "stdout"
        }
      ]
    },
    {
      "cell_type": "markdown",
      "metadata": {
        "id": "_V7Rym-vWRc0"
      },
      "source": [
        "### **1.2 Data Prcoessing**"
      ]
    },
    {
      "cell_type": "code",
      "metadata": {
        "id": "ihpulb94Wg5y"
      },
      "source": [
        ""
      ],
      "execution_count": null,
      "outputs": []
    },
    {
      "cell_type": "markdown",
      "metadata": {
        "id": "dRUoe-A8Wgs2"
      },
      "source": [
        "## **2. Neural Network Models**"
      ]
    },
    {
      "cell_type": "code",
      "metadata": {
        "id": "mRjRSFsuWr7o"
      },
      "source": [
        ""
      ],
      "execution_count": null,
      "outputs": []
    },
    {
      "cell_type": "markdown",
      "metadata": {
        "id": "vbZFVFikWsSP"
      },
      "source": [
        "## **3. Performance**"
      ]
    },
    {
      "cell_type": "code",
      "metadata": {
        "id": "GD5KC8MyW1LV"
      },
      "source": [
        ""
      ],
      "execution_count": null,
      "outputs": []
    }
  ]
}