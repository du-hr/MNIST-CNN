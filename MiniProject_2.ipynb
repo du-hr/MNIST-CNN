{
  "nbformat": 4,
  "nbformat_minor": 0,
  "metadata": {
    "kernelspec": {
      "display_name": "Python 3",
      "language": "python",
      "name": "python3"
    },
    "language_info": {
      "codemirror_mode": {
        "name": "ipython",
        "version": 3
      },
      "file_extension": ".py",
      "mimetype": "text/x-python",
      "name": "python",
      "nbconvert_exporter": "python",
      "pygments_lexer": "ipython3",
      "version": "3.8.5"
    },
    "colab": {
      "name": "MiniProject_2.ipynb",
      "provenance": [],
      "collapsed_sections": []
    },
    "accelerator": "GPU"
  },
  "cells": [
    {
      "cell_type": "markdown",
      "metadata": {
        "id": "TwdLP40A4X-A"
      },
      "source": [
        "# MiniProject 2: Multi-Class Logistic Regression and Gradient Descent\n",
        "\n",
        "\n",
        "> MiniProject 2 of COMP 551 (Fall 2020) at McGill University\n",
        "\n",
        "\n",
        "> Authors (G73): Haoran Du, Gabriel Crene, Panayiotis Demopoulos\n",
        "\n",
        "\n",
        "\n"
      ]
    },
    {
      "cell_type": "code",
      "metadata": {
        "id": "CGhQKetcGX8y"
      },
      "source": [
        "import numpy as np\n",
        "import scipy as sci\n",
        "import pandas as pd\n",
        "import time\n",
        "\n",
        "#%matplotlib notebook\n",
        "%matplotlib inline\n",
        "import matplotlib.pyplot as plt\n",
        "from IPython.core.debugger import set_trace\n",
        "import warnings\n",
        "warnings.filterwarnings('ignore')"
      ],
      "execution_count": null,
      "outputs": []
    },
    {
      "cell_type": "markdown",
      "metadata": {
        "id": "KzzezYI8K0-b"
      },
      "source": [
        "# Task 2: Softmax Regression"
      ]
    },
    {
      "cell_type": "code",
      "metadata": {
        "id": "iRcat7n0sYx_"
      },
      "source": [
        "class GradientDescent:\n",
        "\n",
        "    def __init__(self, learning_rate=.01, beta=0.99, epsilon=1e-8, batch_size=1):\n",
        "        self.learning_rate = learning_rate\n",
        "        self.beta = beta\n",
        "        self.epsilon = epsilon\n",
        "        self.batch_size = batch_size\n",
        "        self.lmbda=0.0\n",
        "        self.cost_history = []\n",
        "\n",
        "    def compute_epoch_cost(self, X, W, b, y):\n",
        "        z = SoftmaxRegression.compute_z(X, W, b)\n",
        "        y_hat = SoftmaxRegression.softmax(z)\n",
        "        cross_entropy = SoftmaxRegression.cross_entropy_fn(y_hat, y)\n",
        "        return SoftmaxRegression.cost_fn(cross_entropy, W)\n",
        "\n",
        "    def create_mini_batches(self, y, batch_count):\n",
        "        y_n = np.arange(y.shape[0])\n",
        "        # permuting our y_n vector:\n",
        "        y_n = np.random.permutation(y_n)\n",
        "        if batch_count > 1:\n",
        "            rmdr = y.shape[0] % batch_count\n",
        "            if rmdr:\n",
        "                batches = np.array_split(y_n[:-rmdr], batch_count)\n",
        "                batches[-1] = np.concatenate((batches[-1], y_n[-rmdr:]), axis=0)\n",
        "            else:\n",
        "                batches = np.array_split(y_n, batch_count)\n",
        "        else:\n",
        "            batches = (y_n,)\n",
        "        for i in batches:\n",
        "            yield i\n",
        "            \n",
        "    def run(self, gradient_fn, X, y_one_hot, W, b, lmbda=0.0):\n",
        "        self.lmbda = lmbda # For ridge regression purposes\n",
        "        self.batch_count = X.shape[0]//self.batch_size\n",
        "        \n",
        "        z = 0\n",
        "        \n",
        "        batches = self.create_mini_batches(y_one_hot, batch_count=self.batch_count)\n",
        "        for i in batches:\n",
        "            \n",
        "            # Indexing X and Y values:\n",
        "            X_mini = X[i]\n",
        "            y_mini = y_one_hot[i]\n",
        "            \n",
        "            try:\n",
        "                # Computing Gradient:\n",
        "                grad, bias_grad = gradient_fn(X_mini, y_mini, W, b)  # compute the gradient with present weight\n",
        "                z = self.beta * z + (1 - self.beta) * grad\n",
        "            except Exception as e:\n",
        "                    print(f'X_mini:{X_mini}, y_mini:{y_mini}')\n",
        "                    print(e.with_traceback)\n",
        "                    raise\n",
        "            \n",
        "            # Updating weights\n",
        "            W -= self.learning_rate * z\n",
        "            b -= self.learning_rate * bias_grad\n",
        "            \n",
        "            break # we take only one random batch as they are size batch_size\n",
        "                  \n",
        "        cost = self.compute_epoch_cost(X, W, b, y_one_hot)\n",
        "        self.cost_history.append(cost)\n",
        "        return W, b, self.cost_history\n",
        "\n",
        "        sdsdfdsf"
      ],
      "execution_count": null,
      "outputs": []
    },
    {
      "cell_type": "markdown",
      "metadata": {
        "id": "I-JP5cI-sdPz"
      },
      "source": [
        "This was taken from the gradient descent collab, will be replaced with our softmax function:"
      ]
    },
    {
      "cell_type": "code",
      "metadata": {
        "id": "Ffd9lQONscG6"
      },
      "source": [
        "from sklearn.preprocessing import OneHotEncoder\n",
        "\n",
        "\n",
        "class SoftmaxRegression:\n",
        "    def __init__(self,\n",
        "                 lmbda=0.0,\n",
        "                max_iters=1000):\n",
        "        self.max_iters = max_iters\n",
        "        self.lmbda = lmbda\n",
        "        self.y_one_hot = OneHotEncoder()\n",
        "        self.W = None\n",
        "        self.b = None\n",
        "        self.tr_acc_history = []\n",
        "        self.test_acc_history = []\n",
        "        self.cost = []\n",
        "        self.total_iterations = 0\n",
        "\n",
        "    def compute_z(X, W, b):\n",
        "        return (X.dot(W) + b)\n",
        "\n",
        "    def softmax(x):\n",
        "        \"\"\"In order to avoid underflow and overflow problem, we shift x bu substracting the maximum element in it fromm all elements. ref: https://stackoverflow.com/questions/42599498/numercially-stable-softmax\"\"\"\n",
        "        z = x - np.max(x, axis=-1, keepdims=True)\n",
        "        numerator = np.exp(z)\n",
        "        denominator = np.sum(numerator, axis=-1, keepdims=True)\n",
        "        softmax = numerator / denominator\n",
        "        return softmax\n",
        "\n",
        "    def cross_entropy_fn(y_hat, y_c):\n",
        "        return -np.sum((y_c)*np.log(y_hat), axis=1)\n",
        "\n",
        "    def cost_fn(cross_entropy, W, lmbda=0.0):\n",
        "        ridge_reg = lmbda / 2 * np.sum(W ** 2)\n",
        "        cost_term = cross_entropy + ridge_reg\n",
        "        return 0.5 * np.mean(cost_term)\n",
        "\n",
        "\n",
        "    def fit(self, X, y, X_test, y_test, optimizer, termination_bound=20, init_params=True):\n",
        "        m, n = X.shape\n",
        "        if len(y.shape) == 1:\n",
        "            y = y.reshape(-1, 1)\n",
        "        self.y_one_hot.fit(y)\n",
        "        y_one_hot = self.y_one_hot.transform(y).A\n",
        "        _, nn = y_one_hot.shape\n",
        "\n",
        "        self.W = np.random.randn(n, nn)/100\n",
        "        self.b = np.zeros(nn)\n",
        "        \n",
        "        T = 0\n",
        "        param_history = [(0, 0, 0)]\n",
        "        validation_error_history = [np.inf]\n",
        "        test_acc_history = [0]\n",
        "\n",
        "        def gradient(X, y, W, b):\n",
        "            z = SoftmaxRegression.compute_z(X, W, b)\n",
        "            y_hat = SoftmaxRegression.softmax(z)\n",
        "            delta = y_hat - y\n",
        "\n",
        "            # gradient -> n_features x n_classes\n",
        "            grad = np.dot(X.T, delta)\n",
        "            bias_grad = np.sum(delta, axis=0)\n",
        "            return grad, bias_grad\n",
        "        \n",
        "        for i in range(self.max_iters):\n",
        "            self.total_iterations = i ## For external use only\n",
        "            self.W, self.b, self.cost = optimizer.run(gradient, X, y_one_hot, self.W, self.b, lmbda=self.lmbda)\n",
        "            param_history.append((self.W.copy(), self.b.copy(), self.cost.copy()))\n",
        "            \n",
        "            self.test_acc_history.append(self.getAccuracy(X_test, y_test)) # For external use\n",
        "            self.tr_acc_history.append(self.getAccuracy(X, y)) # For external use\n",
        "            \n",
        "            y_hat_class = self.predict(X_test)\n",
        "            validation_error = np.sum(y_hat_class == y_test)\n",
        "            \n",
        "            validation_error_history.append(validation_error)\n",
        "            test_acc_history.append(self.getAccuracy(X_test, y_test))\n",
        "            \n",
        "            \n",
        "            if len(validation_error_history) > 20:\n",
        "                validation_error_history.pop(0)\n",
        "                param_history.pop(0)\n",
        "                test_acc_history.pop(0)\n",
        "\n",
        "            if validation_error_history[-1] >= validation_error_history[-2]:\n",
        "                T += 1\n",
        "            else:\n",
        "                T = 0\n",
        " \n",
        "            # > because index(0) does not count:\n",
        "            if T > termination_bound:\n",
        "                t = test_acc_history.index(max(test_acc_history))\n",
        "                self.W, self.b, self.cost = param_history[t]\n",
        "                return self\n",
        "\n",
        "        return self\n",
        "\n",
        "    def predict(self, X):\n",
        "        z = SoftmaxRegression.compute_z(X, self.W, self.b)\n",
        "        y_hat = SoftmaxRegression.softmax(z)\n",
        "        return y_hat.argmax(axis=1)\n",
        "    \n",
        "    def getAccuracy(self, X,y):\n",
        "        y_hat_class = self.predict(X)\n",
        "        accuracy = np.sum(y_hat_class == y)/(float(len(y)))\n",
        "        return accuracy\n",
        "    \n",
        "    def getAccuracyAndCostHistory(self):\n",
        "        return self.test_acc_history, self.cost\n",
        "\n",
        "    def getTrainingAccuracy(self):\n",
        "        return self.tr_acc_history\n",
        "\n",
        "    def getTotalIterations(self):\n",
        "        return self.total_iterations\n"
      ],
      "execution_count": null,
      "outputs": []
    },
    {
      "cell_type": "markdown",
      "metadata": {
        "id": "iPx6a7IOK-Ez"
      },
      "source": [
        "# Task 3: Running Hyper-parameters benchmarks"
      ]
    },
    {
      "cell_type": "markdown",
      "metadata": {
        "id": "Dkyrk6bfPc9i"
      },
      "source": [
        "## 3.1 Grid Search: run-time analysis"
      ]
    },
    {
      "cell_type": "markdown",
      "metadata": {
        "id": "wwSg-uM7T0bN"
      },
      "source": [
        "### Fitting Functions for the different models:"
      ]
    },
    {
      "cell_type": "code",
      "metadata": {
        "id": "HQbK46D-yYuh"
      },
      "source": [
        "def data_split(data, target, test_size, shuffle=True, k_fold=5):\n",
        "    N, = target.shape\n",
        "\n",
        "    if shuffle:\n",
        "        indices = np.random.permutation(N)\n",
        "        data = data[indices]\n",
        "        target = target[indices]\n",
        "    \n",
        "    # for each of the 5 fold cross validation, we do a grid search over hyper-parameters\n",
        "    # reserve 5% of all data for testing\n",
        "    X_train, X_test = np.split(data, [int(test_size * len(data))])\n",
        "    y_train, y_test = np.split(target, [int(test_size * len(target))])\n",
        "    validation_size = (int(test_size * len(target))//k_fold)\n",
        "\n",
        "    return X_train, X_test, y_train, y_test, validation_size\n"
      ],
      "execution_count": null,
      "outputs": []
    },
    {
      "cell_type": "markdown",
      "metadata": {
        "id": "FqLFFSSOt6Rh"
      },
      "source": [
        "#### __Softmax__ Classifier"
      ]
    },
    {
      "cell_type": "code",
      "metadata": {
        "id": "rs724dDpT5gB"
      },
      "source": [
        "betas = [0.01,0.2,0.5,0.8, 0.9, 0.95, 0.99]\n",
        "learning_rates = [0.0001, 0.001, 0.01, 0.1, 0.5, 1]\n",
        "\n",
        "\n",
        "def run_analysis(X_train, y_train, X_test, y_test, validation_size, betas, learning_rates, batch_sizes, termination_bound=20, verbose=False, k_fold=5):\n",
        "    optimizer = GradientDescent()\n",
        "\n",
        "    t = 0 # this one is use to display how far we are in the computation:\n",
        "\n",
        "    perf_df = pd.DataFrame(columns=[\"beta\", \"learning_rate\", \"batch_size\", \"trainingAccuracy\", \"testingAccuracy\", \"performance\"])\n",
        "\n",
        "    for i in range(len(betas)):\n",
        "        for j in range(len(learning_rates)):\n",
        "            for k in range(len(batch_sizes)):\n",
        "\n",
        "                # Reset the k-fold mean dataset\n",
        "                perf_df_k = None\n",
        "                perf_df_k = pd.DataFrame(columns=[\"beta\", \"learning_rate\", \"batch_size\", \"trainingAccuracy\", \"testingAccuracy\", \"performance\"])\n",
        "                for m in range(k_fold):\n",
        "                    validation_indices = np.arange(start=validation_size * m, stop=validation_size * (m + 1), step=1)\n",
        "\n",
        "                    X_train_k = np.delete(X_train, validation_indices, 0)\n",
        "                    y_train_k = np.delete(y_train, validation_indices)\n",
        "                    X_test_k = np.take(X_train, validation_indices, 0)\n",
        "                    y_test_k = np.take(y_train, validation_indices)\n",
        "\n",
        "                    optimizer.batch_size = batch_sizes[k]\n",
        "                    optimizer.learning_rate = learning_rates[j]\n",
        "                    optimizer.beta = betas[i]\n",
        "                    classifier = SoftmaxRegression(lmbda=0.00)\n",
        "\n",
        "                    start = time.time()\n",
        "                    if(verbose):\n",
        "                        %time classifier.fit(X_train_k, y_train_k, X_test_k, y_test_k, optimizer, termination_bound=termination_bound)\n",
        "                    else:\n",
        "                        classifier.fit(X_train_k, y_train_k, X_test_k, y_test_k, optimizer, termination_bound=termination_bound)\n",
        "                    end = time.time()\n",
        "\n",
        "                    training_accuracy = classifier.getAccuracy(X_train_k, y_train_k)\n",
        "                    testing_accuracy = classifier.getAccuracy(X_test_k, y_test_k)\n",
        "\n",
        "                    if(verbose):\n",
        "                        print (\"beta = \" + str(betas[i]))\n",
        "                        print (\"learning_rate = \" + str(learning_rates[j]))\n",
        "                        print (\"batch_size = \" + str(batch_sizes[k]))\n",
        "                        print(f'training accuracy: {training_accuracy}')\n",
        "                        print(f'testing accuracy: {testing_accuracy}')\n",
        "                        print (\"---------------------------\")\n",
        "\n",
        "                    perf_df_k = perf_df_k.append({\n",
        "                        \"beta\": betas[i],\n",
        "                        \"learning_rate\": learning_rates[j],\n",
        "                        \"batch_size\": batch_sizes[k],\n",
        "                        \"trainingAccuracy\": training_accuracy,\n",
        "                        \"testingAccuracy\": testing_accuracy,\n",
        "                        \"performance\": end-start\n",
        "                    }, ignore_index=True)\n",
        "                    \n",
        "                    # This is for us, to see where we are so far when we run an analysis:\n",
        "                    if t % 10 == 0:\n",
        "                        percentage_done = 100*t/(len(betas)*len(learning_rates)*len(batch_sizes)*k_fold)\n",
        "                        print(f'{\"%.2f\" % round(percentage_done, 2)}% completed')\n",
        "                    t += 1\n",
        "                \n",
        "                # Writing the mean of the 5 fold down into the perf dataframe\n",
        "                perf_df = perf_df.append({\n",
        "                        \"beta\": betas[i],\n",
        "                        \"learning_rate\": learning_rates[j],\n",
        "                        \"batch_size\": batch_sizes[k],\n",
        "                        \"trainingAccuracy\": perf_df_k['trainingAccuracy'].mean(),\n",
        "                        \"testingAccuracy\": perf_df_k['testingAccuracy'].mean(),\n",
        "                        \"performance\": perf_df_k['performance'].mean()\n",
        "                    }, ignore_index=True)\n",
        "                \n",
        "                \n",
        "    return perf_df\n"
      ],
      "execution_count": null,
      "outputs": []
    },
    {
      "cell_type": "markdown",
      "metadata": {
        "id": "mCQ9WHgit_Gs"
      },
      "source": [
        "#### __KNN__ Classifier"
      ]
    },
    {
      "cell_type": "markdown",
      "metadata": {
        "id": "Z_AIlQe6bvOS"
      },
      "source": [
        "Function to run hyper-parameters benchmark with k-fold cross validation for KNN (number of neighbours, p=1:manhattan_distance, p=2:euclidean_distance). __The main objective is just to get an idea of the mean accuracy of other classifiers when tuned correctly__. This will allow us to better understand how our Softmax Classifier shines and when it is less convenient in a general maner."
      ]
    },
    {
      "cell_type": "code",
      "metadata": {
        "id": "lqqnKM_M37ft"
      },
      "source": [
        "from sklearn.neighbors import KNeighborsClassifier\n",
        "\n",
        "num_neighbours = range(1, 30, 2)\n",
        "power_parameters = [1, 2]\n",
        "\n",
        "\n",
        "def run_analysis_KNN(X_train, y_train, X_test, y_test, betas, learning_rates, batch_sizes, verbose=False, k_fold=5):\n",
        "\n",
        "    t = 0 # this one is use to display how far we are in the computation:\n",
        "\n",
        "\n",
        "    perf_df = pd.DataFrame(columns=[\"num_neighbours\", \"power_parameter\", \"trainingAccuracy\", \"testingAccuracy\", \"performance\"])\n",
        "\n",
        "    for p in range(len(power_parameters)):\n",
        "        for i in range(len(num_neighbours)):\n",
        "\n",
        "            perf_df_k = pd.DataFrame(columns=[\"num_neighbours\", \"power_parameter\", \"trainingAccuracy\", \"testingAccuracy\", \"performance\"])\n",
        "\n",
        "            for m in range(k_fold):\n",
        "                validation_indices = np.arange(start=validation_size * m, stop=validation_size * (m + 1), step=1)\n",
        "\n",
        "                X_train_k = np.delete(X_train, validation_indices, 0)\n",
        "                y_train_k = np.delete(y_train, validation_indices)\n",
        "                X_test_k = np.take(X_train, validation_indices, 0)\n",
        "                y_test_k = np.take(y_train, validation_indices)\n",
        "\n",
        "                classifier = KNeighborsClassifier(n_neighbors=num_neighbours[i], p=power_parameters[p])\n",
        "\n",
        "                start = time.time()\n",
        "                if(verbose):\n",
        "                    %time classifier.fit(X_train_k, y_train_k)\n",
        "                else:\n",
        "                    classifier.fit(X_train_k, y_train_k)\n",
        "                end = time.time()\n",
        "\n",
        "                training_accuracy = classifier.score(X_train_k, y_train_k)\n",
        "                testing_accuracy = classifier.score(X_test_k, y_test_k)\n",
        "\n",
        "\n",
        "                if(verbose):\n",
        "                    print (\"num_neighbours = \" + str(num_neighbours[i]))\n",
        "                    print (\"power_parameter = \" + str(power_parameters[p]))\n",
        "                    print(f'training accuracy: {training_accuracy}')\n",
        "                    print(f'testing accuracy: {testing_accuracy}')\n",
        "                    print (\"---------------------------\")\n",
        "\n",
        "                perf_df_k = perf_df_k.append({\n",
        "                    \"num_neighbours\": num_neighbours[i],\n",
        "                    \"power_parameter\": power_parameters[p],\n",
        "                    \"trainingAccuracy\": training_accuracy,\n",
        "                    \"testingAccuracy\": testing_accuracy,\n",
        "                    \"performance\": end-start\n",
        "                }, ignore_index=True)\n",
        "                \n",
        "\n",
        "                # This is for us, to see where we are so far when we run an analysis:\n",
        "                if t % 10 == 0:\n",
        "                    percentage_done = 100*t/(len(power_parameters)*len(num_neighbours)*k_fold)\n",
        "                    print(f'{\"%.2f\" % round(percentage_done, 2)}% completed')\n",
        "                t += 1\n",
        "\n",
        "            # Writing the mean of the 5 fold down into the perf dataframe\n",
        "            perf_df = perf_df.append({\n",
        "                    \"num_neighbours\": num_neighbours[i],\n",
        "                    \"power_parameter\": power_parameters[p],\n",
        "                    \"trainingAccuracy\": perf_df_k['trainingAccuracy'].mean(),\n",
        "                    \"testingAccuracy\": perf_df_k['testingAccuracy'].mean(),\n",
        "                    \"performance\": perf_df_k['performance'].mean()\n",
        "                }, ignore_index=True)\n",
        "    return perf_df\n"
      ],
      "execution_count": null,
      "outputs": []
    },
    {
      "cell_type": "markdown",
      "metadata": {
        "id": "8CCmI8hluB-8"
      },
      "source": [
        "#### __Decision Tree__ Classifier"
      ]
    },
    {
      "cell_type": "markdown",
      "metadata": {
        "id": "vJrD5bk9bdtz"
      },
      "source": [
        "Function to run hyper-parameters benchmark with k-fold cross validation for Decision Tree (parameters such as criterion (gini/entropy), random or best splitter, max_depth, etc.)"
      ]
    },
    {
      "cell_type": "code",
      "metadata": {
        "id": "5mh5wfkSuFz9"
      },
      "source": [
        "from sklearn import tree\n",
        "\n",
        "criterion = ['gini', 'entropy']\n",
        "splitter = ['random', 'best']\n",
        "max_depth = range(2,30,2)\n",
        "max_features = [None, 'auto', 'sqrt', 'log2']\n",
        "\n",
        "\n",
        "\n",
        "def run_analysis_tree(X_train, y_train, X_test, y_test, betas, learning_rates, batch_sizes, verbose=False, k_fold=5):\n",
        "    prev_validation_err = np.inf\n",
        "\n",
        "    t = 0 # this one is use to display how far we are in the computation:\n",
        "\n",
        "    perf_df = pd.DataFrame(columns=[\"criterion\", \"splitter\", \"max_features\", \"max_depth\", \"trainingAccuracy\", \"testingAccuracy\", \"performance\"])\n",
        "\n",
        "    for c in range(len(criterion)):\n",
        "        for i in range(len(splitter)):\n",
        "            for j in range(len(max_features)):\n",
        "                for k in range(len(max_depth)):\n",
        "\n",
        "                    perf_df_k = pd.DataFrame(columns=[\"criterion\", \"splitter\", \"max_features\", \"max_depth\", \"trainingAccuracy\", \"testingAccuracy\", \"performance\"])\n",
        "\n",
        "                    for m in range(k_fold):\n",
        "                        validation_indices = np.arange(start=validation_size * m, stop=validation_size * (m + 1), step=1)\n",
        "\n",
        "                        X_train_k = np.delete(X_train, validation_indices, 0)\n",
        "                        y_train_k = np.delete(y_train, validation_indices)\n",
        "                        X_test_k = np.take(X_train, validation_indices, 0)\n",
        "                        y_test_k = np.take(y_train, validation_indices)\n",
        "\n",
        "                        classifier = tree.DecisionTreeClassifier(criterion=criterion[c], splitter=splitter[i], max_features=max_features[j], max_depth=max_depth[k])\n",
        "\n",
        "                        start = time.time()\n",
        "                        if(verbose):\n",
        "                            %time classifier.fit(X_train_k, y_train_k)\n",
        "                        else:\n",
        "                            classifier.fit(X_train_k, y_train_k)\n",
        "                        end = time.time()\n",
        "\n",
        "                        training_accuracy = classifier.score(X_train_k, y_train_k)\n",
        "                        testing_accuracy = classifier.score(X_test_k, y_test_k)\n",
        "\n",
        "\n",
        "                        if(verbose):\n",
        "                            print (\"criterion = \" + str(criterion[c]))\n",
        "                            print (\"splitter = \" + str(splitter[i]))\n",
        "                            print (\"max_features = \" + str(max_features[j]))\n",
        "                            print (\"max_depth = \" + str(max_depth[k]))\n",
        "                            print(f'training accuracy: {training_accuracy}')\n",
        "                            print(f'testing accuracy: {testing_accuracy}')\n",
        "                            print (\"---------------------------\")\n",
        "\n",
        "                        perf_df_k = perf_df_k.append({\n",
        "                            \"criterion\": criterion[c],\n",
        "                            \"splitter\": splitter[i],\n",
        "                            \"max_features\": max_features[j],\n",
        "                            \"max_depth\": max_depth[k],\n",
        "                            \"trainingAccuracy\": training_accuracy,\n",
        "                            \"testingAccuracy\": testing_accuracy,\n",
        "                            \"performance\": end-start\n",
        "                        }, ignore_index=True)\n",
        "\n",
        "                        # This is for us, to see where we are so far when we run an analysis:\n",
        "                        if t % 10 == 0:\n",
        "                            percentage_done = 100*t/(len(criterion)*len(splitter)*len(max_features)*len(max_depth)*k_fold)\n",
        "                            print(f'{\"%.2f\" % round(percentage_done, 2)}% completed')\n",
        "                        t += 1\n",
        "                    # Writing the mean of the 5 fold down into the perf dataframe\n",
        "                    perf_df = perf_df.append({\n",
        "                        \"criterion\": criterion[c],\n",
        "                        \"splitter\": splitter[i],\n",
        "                        \"max_features\": max_features[j],\n",
        "                        \"max_depth\": max_depth[k],\n",
        "                        \"trainingAccuracy\": perf_df_k['trainingAccuracy'].mean(),\n",
        "                        \"testingAccuracy\": perf_df_k['testingAccuracy'].mean(),\n",
        "                        \"performance\": perf_df_k['performance'].mean()\n",
        "                    }, ignore_index=True)\n",
        "    return perf_df\n"
      ],
      "execution_count": null,
      "outputs": []
    },
    {
      "cell_type": "markdown",
      "metadata": {
        "id": "KZAY28ICuF-J"
      },
      "source": [
        "#### __Naive Bayes__ Classifier"
      ]
    },
    {
      "cell_type": "markdown",
      "metadata": {
        "id": "abyztKWoadYF"
      },
      "source": [
        "Function to run hyper-parameters benchmark with k-fold cross validation for Naive Bayes (not much hyper_parameters tuning here though)"
      ]
    },
    {
      "cell_type": "code",
      "metadata": {
        "id": "mIPUnTHBrugR"
      },
      "source": [
        "from sklearn.naive_bayes import GaussianNB\n",
        "from sklearn import metrics\n",
        "\n",
        "def run_analysis_NB(X_train, y_train, X_test, y_test, betas, learning_rates, batch_sizes, termination_bound = 20, verbose=False, k_fold=5):\n",
        "\n",
        "    perf_df = pd.DataFrame(columns=[\"trainingAccuracy\", \"testingAccuracy\", \"performance\"])\n",
        "\n",
        "    perf_df_k = pd.DataFrame(columns=[\"trainingAccuracy\", \"testingAccuracy\", \"performance\"])\n",
        "\n",
        "    for m in range(k_fold):\n",
        "        validation_indices = np.arange(start=validation_size * m, stop=validation_size * (m + 1), step=1)\n",
        "\n",
        "        X_train_k = np.delete(X_train, validation_indices, 0)\n",
        "        y_train_k = np.delete(y_train, validation_indices)\n",
        "        X_test_k = np.take(X_train, validation_indices, 0)\n",
        "        y_test_k = np.take(y_train, validation_indices)\n",
        "        classifier = GaussianNB()\n",
        "\n",
        "        start = time.time()\n",
        "        if(verbose):\n",
        "            %time classifier.fit(X_train_k, y_train_k)\n",
        "        else:\n",
        "            classifier.fit(X_train_k, y_train_k)\n",
        "        end = time.time()\n",
        "\n",
        "        y_train_pred = classifier.predict(X_train_k)\n",
        "        y_test_pred = classifier.predict(X_test_k)\n",
        "\n",
        "        training_accuracy = metrics.accuracy_score(y_train_k, y_train_pred)\n",
        "        testing_accuracy = metrics.accuracy_score(y_test_k, y_test_pred)\n",
        "\n",
        "\n",
        "        if(verbose):\n",
        "            print(f'training accuracy: {training_accuracy}')\n",
        "            print(f'testing accuracy: {testing_accuracy}')\n",
        "            print (\"---------------------------\")\n",
        "\n",
        "        perf_df_k = perf_df_k.append({\n",
        "            \"trainingAccuracy\": training_accuracy,\n",
        "            \"testingAccuracy\": testing_accuracy,\n",
        "            \"performance\": end-start\n",
        "        }, ignore_index=True)\n",
        "\n",
        "    perf_df = perf_df.append({\n",
        "            \"trainingAccuracy\": perf_df_k['trainingAccuracy'].mean(),\n",
        "            \"testingAccuracy\": perf_df_k['testingAccuracy'].mean(),\n",
        "            \"performance\": perf_df_k['performance'].mean()\n",
        "        }, ignore_index=True)\n",
        "\n",
        "    return perf_df\n"
      ],
      "execution_count": null,
      "outputs": []
    },
    {
      "cell_type": "markdown",
      "metadata": {
        "id": "CzGvly1Q0dmm"
      },
      "source": [
        "In order to avoid running our softmax everytime we exported them to csv, we check whether the \\<dataset_name\\>.csv file exists before running softmax"
      ]
    },
    {
      "cell_type": "code",
      "metadata": {
        "id": "iAcMvhMe0asI"
      },
      "source": [
        "import os.path as osp\n",
        "path = './data'"
      ],
      "execution_count": null,
      "outputs": []
    },
    {
      "cell_type": "code",
      "metadata": {
        "id": "VMb6Du3CtrP4"
      },
      "source": [
        "def k_folds_validation(data, target, test_size, shuffle=True, k=5):\n",
        "    \n",
        "    N, = target.shape\n",
        "\n",
        "    if shuffle:\n",
        "        indices = np.random.permutation(N)\n",
        "        data = data[indices]\n",
        "        target = target[indices]\n",
        "    \n",
        "    # for each of the 5 fold cross validation, we do a grid search over hyper-parameters\n",
        "    # reserve 5% of all data for testing\n",
        "    data, x_test = np.split(data, [int(test_size * len(data))])\n",
        "    target, y_test = np.split(target, [int(test_size * len(target))])\n",
        "    validation_size = len(target)//5\n",
        "\n",
        "    for m in range(k):\n",
        "        print(\"----------\" + \"fold \" + str(m+1) + \"----------\")\n",
        "        validation_indices = np.arange(start=validation_size * m, stop=validation_size * (m + 1), step=1)\n",
        "        X_train = np.delete(data, validation_indices, 0)\n",
        "        y_train = np.delete(target, validation_indices)\n",
        "        X_test = np.take(data, validation_indices, 0)\n",
        "        y_test = np.take(target, validation_indices)\n",
        "\n",
        "        seisms_perf_df = run_analysis(X_train=X_train, y_train=y_train, X_test=X_test, y_test=y_test, betas=betas, learning_rates=learning_rates, batch_sizes=batch_sizes, verbose=False)\n",
        "\n",
        "\n",
        "    return\n",
        "\n"
      ],
      "execution_count": null,
      "outputs": []
    },
    {
      "cell_type": "markdown",
      "metadata": {
        "id": "V3aQ5bCDVHnq"
      },
      "source": [
        "### Testing on the MNIST Dataset:"
      ]
    },
    {
      "cell_type": "markdown",
      "metadata": {
        "id": "TpA94LMlseOp"
      },
      "source": [
        "But first we compare the performance of the softmax classifier with gradient descent with and without __termination condition__"
      ]
    },
    {
      "cell_type": "markdown",
      "metadata": {
        "id": "mCGAm4wmy-mK"
      },
      "source": [
        "#### Loading and splitting the dataset:"
      ]
    },
    {
      "cell_type": "code",
      "metadata": {
        "id": "fXC-g369Bep6"
      },
      "source": [
        "from sklearn import datasets\n",
        "digits = datasets.load_digits()\n",
        "\n",
        "n_samples = len(digits.images)\n",
        "data = digits.images.reshape((n_samples, -1))"
      ],
      "execution_count": null,
      "outputs": []
    },
    {
      "cell_type": "code",
      "metadata": {
        "colab": {
          "base_uri": "https://localhost:8080/"
        },
        "id": "TWzDWCfzBP1l",
        "outputId": "a5670d93-683c-4a9e-ee58-cd792955b805"
      },
      "source": [
        "# Split data into train and test subsets\n",
        "\n",
        "X_train, X_test, y_train, y_test, validation_size = data_split(data=data, target=digits.target, test_size=0.7, shuffle=True)\n",
        "\n",
        "batch_sizes = [1, 2, 5, 10, 25, 50]\n",
        "for i in list(range(50, X_test.shape[0]-1, X_test.shape[0]//5)):\n",
        "    if i not in batch_sizes:\n",
        "        batch_sizes.append(i)\n",
        "print(batch_sizes)"
      ],
      "execution_count": null,
      "outputs": [
        {
          "output_type": "stream",
          "text": [
            "[1, 2, 5, 10, 25, 50, 158, 266, 374, 482]\n"
          ],
          "name": "stdout"
        }
      ]
    },
    {
      "cell_type": "markdown",
      "metadata": {
        "id": "SMs1VxOIZrvj"
      },
      "source": [
        "First we observe the difference that the _termination condition_ can have on the fit function:"
      ]
    },
    {
      "cell_type": "markdown",
      "metadata": {
        "id": "6iuFtFO7geos"
      },
      "source": [
        "##### __without__ termination condition"
      ]
    },
    {
      "cell_type": "code",
      "metadata": {
        "colab": {
          "base_uri": "https://localhost:8080/"
        },
        "id": "hIb24iX4gIxv",
        "outputId": "de198d0f-cdc7-4c1a-adad-1848d115a4ba"
      },
      "source": [
        "optimizer = GradientDescent()\n",
        "classifier = SoftmaxRegression(lmbda=0.00)\n",
        "\n",
        "# We learn the digits on the first half of the digits\n",
        "classifier.fit(X_train, y_train, X_test, y_test, optimizer, termination_bound=np.inf)"
      ],
      "execution_count": null,
      "outputs": [
        {
          "output_type": "execute_result",
          "data": {
            "text/plain": [
              "<__main__.SoftmaxRegression at 0x7f348d6cff60>"
            ]
          },
          "metadata": {
            "tags": []
          },
          "execution_count": 13
        }
      ]
    },
    {
      "cell_type": "markdown",
      "metadata": {
        "id": "juULoi5XgTVB"
      },
      "source": [
        "Cost over time:"
      ]
    },
    {
      "cell_type": "code",
      "metadata": {
        "colab": {
          "base_uri": "https://localhost:8080/",
          "height": 295
        },
        "id": "yxZcBcSUgTVC",
        "outputId": "95ebf1ad-cb00-48b9-d4de-9930f3581199"
      },
      "source": [
        "acc_h, cost_h = classifier.getAccuracyAndCostHistory()\n",
        "plt.plot(range(len(cost_h)), cost_h)\n",
        "plt.ylabel('cost')\n",
        "plt.xlabel('iteration')\n",
        "plt.title('Softmax Regression over time without termination condition')\n",
        "plt.show()"
      ],
      "execution_count": null,
      "outputs": [
        {
          "output_type": "display_data",
          "data": {
            "image/png": "[encoded data removed]",
            "text/plain": [
              "<Figure size 432x288 with 1 Axes>"
            ]
          },
          "metadata": {
            "tags": [],
            "needs_background": "light"
          }
        }
      ]
    },
    {
      "cell_type": "markdown",
      "metadata": {
        "id": "aOwLQS5cgTVC"
      },
      "source": [
        "Accuracy over time"
      ]
    },
    {
      "cell_type": "code",
      "metadata": {
        "colab": {
          "base_uri": "https://localhost:8080/",
          "height": 295
        },
        "id": "iO-cMMCtgTVC",
        "outputId": "b433f5c5-5860-4588-b88e-cfbbafb9090f"
      },
      "source": [
        "plt.plot(range(len(acc_h)), acc_h)\n",
        "plt.xlabel('iteration')\n",
        "plt.title('Softmax Regression over time without termination condition')\n",
        "plt.ylabel('testing accuracy')\n",
        "plt.show()"
      ],
      "execution_count": null,
      "outputs": [
        {
          "output_type": "display_data",
          "data": {
            "image/png": "[encoded data removed]",
            "text/plain": [
              "<Figure size 432x288 with 1 Axes>"
            ]
          },
          "metadata": {
            "tags": [],
            "needs_background": "light"
          }
        }
      ]
    },
    {
      "cell_type": "markdown",
      "metadata": {
        "id": "0UtliT34gUhT"
      },
      "source": [
        "##### __with__ termination condition"
      ]
    },
    {
      "cell_type": "code",
      "metadata": {
        "id": "GH350Nn4spDz"
      },
      "source": [
        "def getClassifierWithGoodTerminationCondition():\n",
        "    while True:\n",
        "        optimizer = GradientDescent(learning_rate=0.1)\n",
        "        termination_classifier = SoftmaxRegression(lmbda=0.00)\n",
        "        # We learn the digits on the first half of the digits\n",
        "        termination_classifier.fit(X_train, y_train, X_test, y_test, optimizer, termination_bound=10)\n",
        "        num_iterations = termination_classifier.getTotalIterations()\n",
        "        accuracy = termination_classifier.getAccuracy(X_test, y_test)\n",
        "        cost_h = termination_classifier.cost\n",
        "        if (num_iterations < 800 and num_iterations > 100 and accuracy > 0.80 and np.isnan(np.sum(cost_h)) == False):\n",
        "            print(f'num_iterations: {num_iterations} ; accuracy: {accuracy}')\n",
        "            return termination_classifier"
      ],
      "execution_count": null,
      "outputs": []
    },
    {
      "cell_type": "markdown",
      "metadata": {
        "id": "J5tjMnfRf8kz"
      },
      "source": [
        "Cost over time:"
      ]
    },
    {
      "cell_type": "code",
      "metadata": {
        "colab": {
          "base_uri": "https://localhost:8080/"
        },
        "id": "kTRRtktV1v9x",
        "outputId": "39eabcd1-13b1-4525-b6be-9e351f036327"
      },
      "source": [
        "termination_classifier = getClassifierWithGoodTerminationCondition()"
      ],
      "execution_count": null,
      "outputs": [
        {
          "output_type": "stream",
          "text": [
            "num_iterations: 606 ; accuracy: 0.9018518518518519\n"
          ],
          "name": "stdout"
        }
      ]
    },
    {
      "cell_type": "code",
      "metadata": {
        "colab": {
          "base_uri": "https://localhost:8080/",
          "height": 295
        },
        "id": "2H3aT73Hf4HU",
        "outputId": "9666c8fc-7215-4938-b6d9-66b66cbb8b53"
      },
      "source": [
        "acc_h, cost_h = termination_classifier.getAccuracyAndCostHistory()\n",
        "plt.plot(range(len(cost_h)), cost_h)\n",
        "plt.ylabel('cost')\n",
        "plt.xlabel('iteration')\n",
        "plt.title('Softmax Regression over time with termination condition T=10')\n",
        "plt.show()"
      ],
      "execution_count": null,
      "outputs": [
        {
          "output_type": "display_data",
          "data": {
            "image/png": "[encoded data removed]",
            "text/plain": [
              "<Figure size 432x288 with 1 Axes>"
            ]
          },
          "metadata": {
            "tags": [],
            "needs_background": "light"
          }
        }
      ]
    },
    {
      "cell_type": "markdown",
      "metadata": {
        "id": "xRE07BcTf_rd"
      },
      "source": [
        "Accuracy over time"
      ]
    },
    {
      "cell_type": "code",
      "metadata": {
        "colab": {
          "base_uri": "https://localhost:8080/",
          "height": 295
        },
        "id": "maBQzp2Rf7JQ",
        "outputId": "e9d7ae68-c230-431f-9bd1-5ce61655e034"
      },
      "source": [
        "plt.plot(range(len(acc_h)), acc_h)\n",
        "plt.ylabel('testing accuracy')\n",
        "plt.xlabel('iteration')\n",
        "plt.title('Softmax Regression over time with termination condition T=10')\n",
        "plt.show()"
      ],
      "execution_count": null,
      "outputs": [
        {
          "output_type": "display_data",
          "data": {
            "image/png": "[encoded data removed]",
            "text/plain": [
              "<Figure size 432x288 with 1 Axes>"
            ]
          },
          "metadata": {
            "tags": [],
            "needs_background": "light"
          }
        }
      ]
    },
    {
      "cell_type": "markdown",
      "metadata": {
        "id": "ixvzxIb6BP1m"
      },
      "source": [
        "#### Softmax:"
      ]
    },
    {
      "cell_type": "code",
      "metadata": {
        "colab": {
          "base_uri": "https://localhost:8080/",
          "height": 419
        },
        "id": "A_EVFixBBP1m",
        "outputId": "6a863433-fe31-4f15-b778-e6c60ac1d10f"
      },
      "source": [
        "try:\n",
        "    digits_perf_df = pd.read_csv(f'{path}/digits_perf_df.csv')\n",
        "except FileNotFoundError:\n",
        "    digits_perf_df = run_analysis(X_train=X_train, y_train=y_train, X_test=X_test, y_test=y_test,\n",
        "                                  validation_size=validation_size, betas=betas, learning_rates=learning_rates,\n",
        "                                  batch_sizes=batch_sizes, verbose=False, k_fold=5)\n",
        "digits_perf_df"
      ],
      "execution_count": null,
      "outputs": [
        {
          "output_type": "execute_result",
          "data": {
            "text/html": [
              "<div>\n",
              "<style scoped>\n",
              "    .dataframe tbody tr th:only-of-type {\n",
              "        vertical-align: middle;\n",
              "    }\n",
              "\n",
              "    .dataframe tbody tr th {\n",
              "        vertical-align: top;\n",
              "    }\n",
              "\n",
              "    .dataframe thead th {\n",
              "        text-align: right;\n",
              "    }\n",
              "</style>\n",
              "<table border=\"1\" class=\"dataframe\">\n",
              "  <thead>\n",
              "    <tr style=\"text-align: right;\">\n",
              "      <th></th>\n",
              "      <th>beta</th>\n",
              "      <th>learning_rate</th>\n",
              "      <th>batch_size</th>\n",
              "      <th>trainingAccuracy</th>\n",
              "      <th>testingAccuracy</th>\n",
              "      <th>performance</th>\n",
              "    </tr>\n",
              "  </thead>\n",
              "  <tbody>\n",
              "    <tr>\n",
              "      <th>0</th>\n",
              "      <td>0.01</td>\n",
              "      <td>0.0001</td>\n",
              "      <td>1.0</td>\n",
              "      <td>0.918708</td>\n",
              "      <td>0.875417</td>\n",
              "      <td>4.467430</td>\n",
              "    </tr>\n",
              "    <tr>\n",
              "      <th>1</th>\n",
              "      <td>0.01</td>\n",
              "      <td>0.0001</td>\n",
              "      <td>2.0</td>\n",
              "      <td>0.939866</td>\n",
              "      <td>0.899889</td>\n",
              "      <td>2.895208</td>\n",
              "    </tr>\n",
              "    <tr>\n",
              "      <th>2</th>\n",
              "      <td>0.01</td>\n",
              "      <td>0.0001</td>\n",
              "      <td>5.0</td>\n",
              "      <td>0.965479</td>\n",
              "      <td>0.915462</td>\n",
              "      <td>1.947239</td>\n",
              "    </tr>\n",
              "    <tr>\n",
              "      <th>3</th>\n",
              "      <td>0.01</td>\n",
              "      <td>0.0001</td>\n",
              "      <td>10.0</td>\n",
              "      <td>0.983296</td>\n",
              "      <td>0.933259</td>\n",
              "      <td>1.651118</td>\n",
              "    </tr>\n",
              "    <tr>\n",
              "      <th>4</th>\n",
              "      <td>0.01</td>\n",
              "      <td>0.0001</td>\n",
              "      <td>25.0</td>\n",
              "      <td>0.993318</td>\n",
              "      <td>0.948832</td>\n",
              "      <td>1.483165</td>\n",
              "    </tr>\n",
              "    <tr>\n",
              "      <th>...</th>\n",
              "      <td>...</td>\n",
              "      <td>...</td>\n",
              "      <td>...</td>\n",
              "      <td>...</td>\n",
              "      <td>...</td>\n",
              "      <td>...</td>\n",
              "    </tr>\n",
              "    <tr>\n",
              "      <th>457</th>\n",
              "      <td>0.99</td>\n",
              "      <td>1.0000</td>\n",
              "      <td>50.0</td>\n",
              "      <td>1.000000</td>\n",
              "      <td>0.956618</td>\n",
              "      <td>1.467563</td>\n",
              "    </tr>\n",
              "    <tr>\n",
              "      <th>458</th>\n",
              "      <td>0.99</td>\n",
              "      <td>1.0000</td>\n",
              "      <td>229.0</td>\n",
              "      <td>1.000000</td>\n",
              "      <td>0.937709</td>\n",
              "      <td>1.871449</td>\n",
              "    </tr>\n",
              "    <tr>\n",
              "      <th>459</th>\n",
              "      <td>0.99</td>\n",
              "      <td>1.0000</td>\n",
              "      <td>408.0</td>\n",
              "      <td>1.000000</td>\n",
              "      <td>0.935484</td>\n",
              "      <td>1.719678</td>\n",
              "    </tr>\n",
              "    <tr>\n",
              "      <th>460</th>\n",
              "      <td>0.99</td>\n",
              "      <td>1.0000</td>\n",
              "      <td>587.0</td>\n",
              "      <td>1.000000</td>\n",
              "      <td>0.935484</td>\n",
              "      <td>2.086926</td>\n",
              "    </tr>\n",
              "    <tr>\n",
              "      <th>461</th>\n",
              "      <td>0.99</td>\n",
              "      <td>1.0000</td>\n",
              "      <td>766.0</td>\n",
              "      <td>1.000000</td>\n",
              "      <td>0.933259</td>\n",
              "      <td>2.092856</td>\n",
              "    </tr>\n",
              "  </tbody>\n",
              "</table>\n",
              "<p>462 rows × 6 columns</p>\n",
              "</div>"
            ],
            "text/plain": [
              "     beta  learning_rate  ...  testingAccuracy  performance\n",
              "0    0.01         0.0001  ...         0.875417     4.467430\n",
              "1    0.01         0.0001  ...         0.899889     2.895208\n",
              "2    0.01         0.0001  ...         0.915462     1.947239\n",
              "3    0.01         0.0001  ...         0.933259     1.651118\n",
              "4    0.01         0.0001  ...         0.948832     1.483165\n",
              "..    ...            ...  ...              ...          ...\n",
              "457  0.99         1.0000  ...         0.956618     1.467563\n",
              "458  0.99         1.0000  ...         0.937709     1.871449\n",
              "459  0.99         1.0000  ...         0.935484     1.719678\n",
              "460  0.99         1.0000  ...         0.935484     2.086926\n",
              "461  0.99         1.0000  ...         0.933259     2.092856\n",
              "\n",
              "[462 rows x 6 columns]"
            ]
          },
          "metadata": {
            "tags": []
          },
          "execution_count": 20
        }
      ]
    },
    {
      "cell_type": "markdown",
      "metadata": {
        "id": "iNdiXlgrz4Et"
      },
      "source": [
        "#### KNN"
      ]
    },
    {
      "cell_type": "code",
      "metadata": {
        "colab": {
          "base_uri": "https://localhost:8080/",
          "height": 1000
        },
        "id": "jdjKQ0bx3nYO",
        "outputId": "cb6302d3-2424-42dc-c5a6-9d332c24a142"
      },
      "source": [
        "digits_perf_KNN_df = run_analysis_KNN(X_train=X_train, y_train=y_train, X_test=X_test, y_test=y_test, betas=betas, learning_rates=learning_rates, batch_sizes=batch_sizes, verbose=False)\n",
        "digits_perf_KNN_df"
      ],
      "execution_count": null,
      "outputs": [
        {
          "output_type": "stream",
          "text": [
            "0.00% completed\n",
            "6.67% completed\n",
            "13.33% completed\n",
            "20.00% completed\n",
            "26.67% completed\n",
            "33.33% completed\n",
            "40.00% completed\n",
            "46.67% completed\n",
            "53.33% completed\n",
            "60.00% completed\n",
            "66.67% completed\n",
            "73.33% completed\n",
            "80.00% completed\n",
            "86.67% completed\n",
            "93.33% completed\n"
          ],
          "name": "stdout"
        },
        {
          "output_type": "execute_result",
          "data": {
            "text/html": [
              "<div>\n",
              "<style scoped>\n",
              "    .dataframe tbody tr th:only-of-type {\n",
              "        vertical-align: middle;\n",
              "    }\n",
              "\n",
              "    .dataframe tbody tr th {\n",
              "        vertical-align: top;\n",
              "    }\n",
              "\n",
              "    .dataframe thead th {\n",
              "        text-align: right;\n",
              "    }\n",
              "</style>\n",
              "<table border=\"1\" class=\"dataframe\">\n",
              "  <thead>\n",
              "    <tr style=\"text-align: right;\">\n",
              "      <th></th>\n",
              "      <th>num_neighbours</th>\n",
              "      <th>power_parameter</th>\n",
              "      <th>trainingAccuracy</th>\n",
              "      <th>testingAccuracy</th>\n",
              "      <th>performance</th>\n",
              "    </tr>\n",
              "  </thead>\n",
              "  <tbody>\n",
              "    <tr>\n",
              "      <th>0</th>\n",
              "      <td>1.0</td>\n",
              "      <td>1.0</td>\n",
              "      <td>1.000000</td>\n",
              "      <td>0.984064</td>\n",
              "      <td>0.004667</td>\n",
              "    </tr>\n",
              "    <tr>\n",
              "      <th>1</th>\n",
              "      <td>3.0</td>\n",
              "      <td>1.0</td>\n",
              "      <td>0.993638</td>\n",
              "      <td>0.981673</td>\n",
              "      <td>0.004094</td>\n",
              "    </tr>\n",
              "    <tr>\n",
              "      <th>2</th>\n",
              "      <td>5.0</td>\n",
              "      <td>1.0</td>\n",
              "      <td>0.989264</td>\n",
              "      <td>0.981673</td>\n",
              "      <td>0.004236</td>\n",
              "    </tr>\n",
              "    <tr>\n",
              "      <th>3</th>\n",
              "      <td>7.0</td>\n",
              "      <td>1.0</td>\n",
              "      <td>0.986282</td>\n",
              "      <td>0.979283</td>\n",
              "      <td>0.004179</td>\n",
              "    </tr>\n",
              "    <tr>\n",
              "      <th>4</th>\n",
              "      <td>9.0</td>\n",
              "      <td>1.0</td>\n",
              "      <td>0.983698</td>\n",
              "      <td>0.975299</td>\n",
              "      <td>0.004167</td>\n",
              "    </tr>\n",
              "    <tr>\n",
              "      <th>5</th>\n",
              "      <td>11.0</td>\n",
              "      <td>1.0</td>\n",
              "      <td>0.979523</td>\n",
              "      <td>0.972112</td>\n",
              "      <td>0.004134</td>\n",
              "    </tr>\n",
              "    <tr>\n",
              "      <th>6</th>\n",
              "      <td>13.0</td>\n",
              "      <td>1.0</td>\n",
              "      <td>0.978131</td>\n",
              "      <td>0.968924</td>\n",
              "      <td>0.004367</td>\n",
              "    </tr>\n",
              "    <tr>\n",
              "      <th>7</th>\n",
              "      <td>15.0</td>\n",
              "      <td>1.0</td>\n",
              "      <td>0.971769</td>\n",
              "      <td>0.964940</td>\n",
              "      <td>0.004238</td>\n",
              "    </tr>\n",
              "    <tr>\n",
              "      <th>8</th>\n",
              "      <td>17.0</td>\n",
              "      <td>1.0</td>\n",
              "      <td>0.968986</td>\n",
              "      <td>0.963347</td>\n",
              "      <td>0.004238</td>\n",
              "    </tr>\n",
              "    <tr>\n",
              "      <th>9</th>\n",
              "      <td>19.0</td>\n",
              "      <td>1.0</td>\n",
              "      <td>0.968191</td>\n",
              "      <td>0.959363</td>\n",
              "      <td>0.004350</td>\n",
              "    </tr>\n",
              "    <tr>\n",
              "      <th>10</th>\n",
              "      <td>21.0</td>\n",
              "      <td>1.0</td>\n",
              "      <td>0.965606</td>\n",
              "      <td>0.958566</td>\n",
              "      <td>0.004229</td>\n",
              "    </tr>\n",
              "    <tr>\n",
              "      <th>11</th>\n",
              "      <td>23.0</td>\n",
              "      <td>1.0</td>\n",
              "      <td>0.963022</td>\n",
              "      <td>0.957769</td>\n",
              "      <td>0.004198</td>\n",
              "    </tr>\n",
              "    <tr>\n",
              "      <th>12</th>\n",
              "      <td>25.0</td>\n",
              "      <td>1.0</td>\n",
              "      <td>0.959841</td>\n",
              "      <td>0.956175</td>\n",
              "      <td>0.004339</td>\n",
              "    </tr>\n",
              "    <tr>\n",
              "      <th>13</th>\n",
              "      <td>27.0</td>\n",
              "      <td>1.0</td>\n",
              "      <td>0.958052</td>\n",
              "      <td>0.953785</td>\n",
              "      <td>0.004617</td>\n",
              "    </tr>\n",
              "    <tr>\n",
              "      <th>14</th>\n",
              "      <td>29.0</td>\n",
              "      <td>1.0</td>\n",
              "      <td>0.955865</td>\n",
              "      <td>0.950598</td>\n",
              "      <td>0.004313</td>\n",
              "    </tr>\n",
              "    <tr>\n",
              "      <th>15</th>\n",
              "      <td>1.0</td>\n",
              "      <td>2.0</td>\n",
              "      <td>1.000000</td>\n",
              "      <td>0.982470</td>\n",
              "      <td>0.004042</td>\n",
              "    </tr>\n",
              "    <tr>\n",
              "      <th>16</th>\n",
              "      <td>3.0</td>\n",
              "      <td>2.0</td>\n",
              "      <td>0.994433</td>\n",
              "      <td>0.987251</td>\n",
              "      <td>0.004817</td>\n",
              "    </tr>\n",
              "    <tr>\n",
              "      <th>17</th>\n",
              "      <td>5.0</td>\n",
              "      <td>2.0</td>\n",
              "      <td>0.992843</td>\n",
              "      <td>0.989641</td>\n",
              "      <td>0.004159</td>\n",
              "    </tr>\n",
              "    <tr>\n",
              "      <th>18</th>\n",
              "      <td>7.0</td>\n",
              "      <td>2.0</td>\n",
              "      <td>0.987873</td>\n",
              "      <td>0.984064</td>\n",
              "      <td>0.004193</td>\n",
              "    </tr>\n",
              "    <tr>\n",
              "      <th>19</th>\n",
              "      <td>9.0</td>\n",
              "      <td>2.0</td>\n",
              "      <td>0.986083</td>\n",
              "      <td>0.980080</td>\n",
              "      <td>0.004101</td>\n",
              "    </tr>\n",
              "    <tr>\n",
              "      <th>20</th>\n",
              "      <td>11.0</td>\n",
              "      <td>2.0</td>\n",
              "      <td>0.981710</td>\n",
              "      <td>0.979283</td>\n",
              "      <td>0.004115</td>\n",
              "    </tr>\n",
              "    <tr>\n",
              "      <th>21</th>\n",
              "      <td>13.0</td>\n",
              "      <td>2.0</td>\n",
              "      <td>0.978728</td>\n",
              "      <td>0.977689</td>\n",
              "      <td>0.004364</td>\n",
              "    </tr>\n",
              "    <tr>\n",
              "      <th>22</th>\n",
              "      <td>15.0</td>\n",
              "      <td>2.0</td>\n",
              "      <td>0.976740</td>\n",
              "      <td>0.971315</td>\n",
              "      <td>0.004262</td>\n",
              "    </tr>\n",
              "    <tr>\n",
              "      <th>23</th>\n",
              "      <td>17.0</td>\n",
              "      <td>2.0</td>\n",
              "      <td>0.976541</td>\n",
              "      <td>0.970518</td>\n",
              "      <td>0.004185</td>\n",
              "    </tr>\n",
              "    <tr>\n",
              "      <th>24</th>\n",
              "      <td>19.0</td>\n",
              "      <td>2.0</td>\n",
              "      <td>0.974155</td>\n",
              "      <td>0.969721</td>\n",
              "      <td>0.004190</td>\n",
              "    </tr>\n",
              "    <tr>\n",
              "      <th>25</th>\n",
              "      <td>21.0</td>\n",
              "      <td>2.0</td>\n",
              "      <td>0.971968</td>\n",
              "      <td>0.966534</td>\n",
              "      <td>0.004100</td>\n",
              "    </tr>\n",
              "    <tr>\n",
              "      <th>26</th>\n",
              "      <td>23.0</td>\n",
              "      <td>2.0</td>\n",
              "      <td>0.971571</td>\n",
              "      <td>0.964143</td>\n",
              "      <td>0.004315</td>\n",
              "    </tr>\n",
              "    <tr>\n",
              "      <th>27</th>\n",
              "      <td>25.0</td>\n",
              "      <td>2.0</td>\n",
              "      <td>0.969583</td>\n",
              "      <td>0.964143</td>\n",
              "      <td>0.004166</td>\n",
              "    </tr>\n",
              "    <tr>\n",
              "      <th>28</th>\n",
              "      <td>27.0</td>\n",
              "      <td>2.0</td>\n",
              "      <td>0.965606</td>\n",
              "      <td>0.964143</td>\n",
              "      <td>0.004396</td>\n",
              "    </tr>\n",
              "    <tr>\n",
              "      <th>29</th>\n",
              "      <td>29.0</td>\n",
              "      <td>2.0</td>\n",
              "      <td>0.965408</td>\n",
              "      <td>0.960956</td>\n",
              "      <td>0.004255</td>\n",
              "    </tr>\n",
              "  </tbody>\n",
              "</table>\n",
              "</div>"
            ],
            "text/plain": [
              "    num_neighbours  power_parameter  ...  testingAccuracy  performance\n",
              "0              1.0              1.0  ...         0.984064     0.004667\n",
              "1              3.0              1.0  ...         0.981673     0.004094\n",
              "2              5.0              1.0  ...         0.981673     0.004236\n",
              "3              7.0              1.0  ...         0.979283     0.004179\n",
              "4              9.0              1.0  ...         0.975299     0.004167\n",
              "5             11.0              1.0  ...         0.972112     0.004134\n",
              "6             13.0              1.0  ...         0.968924     0.004367\n",
              "7             15.0              1.0  ...         0.964940     0.004238\n",
              "8             17.0              1.0  ...         0.963347     0.004238\n",
              "9             19.0              1.0  ...         0.959363     0.004350\n",
              "10            21.0              1.0  ...         0.958566     0.004229\n",
              "11            23.0              1.0  ...         0.957769     0.004198\n",
              "12            25.0              1.0  ...         0.956175     0.004339\n",
              "13            27.0              1.0  ...         0.953785     0.004617\n",
              "14            29.0              1.0  ...         0.950598     0.004313\n",
              "15             1.0              2.0  ...         0.982470     0.004042\n",
              "16             3.0              2.0  ...         0.987251     0.004817\n",
              "17             5.0              2.0  ...         0.989641     0.004159\n",
              "18             7.0              2.0  ...         0.984064     0.004193\n",
              "19             9.0              2.0  ...         0.980080     0.004101\n",
              "20            11.0              2.0  ...         0.979283     0.004115\n",
              "21            13.0              2.0  ...         0.977689     0.004364\n",
              "22            15.0              2.0  ...         0.971315     0.004262\n",
              "23            17.0              2.0  ...         0.970518     0.004185\n",
              "24            19.0              2.0  ...         0.969721     0.004190\n",
              "25            21.0              2.0  ...         0.966534     0.004100\n",
              "26            23.0              2.0  ...         0.964143     0.004315\n",
              "27            25.0              2.0  ...         0.964143     0.004166\n",
              "28            27.0              2.0  ...         0.964143     0.004396\n",
              "29            29.0              2.0  ...         0.960956     0.004255\n",
              "\n",
              "[30 rows x 5 columns]"
            ]
          },
          "metadata": {
            "tags": []
          },
          "execution_count": 21
        }
      ]
    },
    {
      "cell_type": "markdown",
      "metadata": {
        "id": "152MTe1Bz6Fs"
      },
      "source": [
        "#### Decision Tree"
      ]
    },
    {
      "cell_type": "code",
      "metadata": {
        "colab": {
          "base_uri": "https://localhost:8080/",
          "height": 1000
        },
        "id": "HtuZYbTOz-DA",
        "outputId": "13754d02-c3cd-4140-e861-b931a0d4bae7"
      },
      "source": [
        "digits_perf_tree_df = run_analysis_tree(X_train=X_train, y_train=y_train, X_test=X_test, y_test=y_test, betas=betas, learning_rates=learning_rates, batch_sizes=batch_sizes, verbose=False)\n",
        "digits_perf_tree_df"
      ],
      "execution_count": null,
      "outputs": [
        {
          "output_type": "stream",
          "text": [
            "0.00% completed\n",
            "0.89% completed\n",
            "1.79% completed\n",
            "2.68% completed\n",
            "3.57% completed\n",
            "4.46% completed\n",
            "5.36% completed\n",
            "6.25% completed\n",
            "7.14% completed\n",
            "8.04% completed\n",
            "8.93% completed\n",
            "9.82% completed\n",
            "10.71% completed\n",
            "11.61% completed\n",
            "12.50% completed\n",
            "13.39% completed\n",
            "14.29% completed\n",
            "15.18% completed\n",
            "16.07% completed\n",
            "16.96% completed\n",
            "17.86% completed\n",
            "18.75% completed\n",
            "19.64% completed\n",
            "20.54% completed\n",
            "21.43% completed\n",
            "22.32% completed\n",
            "23.21% completed\n",
            "24.11% completed\n",
            "25.00% completed\n",
            "25.89% completed\n",
            "26.79% completed\n",
            "27.68% completed\n",
            "28.57% completed\n",
            "29.46% completed\n",
            "30.36% completed\n",
            "31.25% completed\n",
            "32.14% completed\n",
            "33.04% completed\n",
            "33.93% completed\n",
            "34.82% completed\n",
            "35.71% completed\n",
            "36.61% completed\n",
            "37.50% completed\n",
            "38.39% completed\n",
            "39.29% completed\n",
            "40.18% completed\n",
            "41.07% completed\n",
            "41.96% completed\n",
            "42.86% completed\n",
            "43.75% completed\n",
            "44.64% completed\n",
            "45.54% completed\n",
            "46.43% completed\n",
            "47.32% completed\n",
            "48.21% completed\n",
            "49.11% completed\n",
            "50.00% completed\n",
            "50.89% completed\n",
            "51.79% completed\n",
            "52.68% completed\n",
            "53.57% completed\n",
            "54.46% completed\n",
            "55.36% completed\n",
            "56.25% completed\n",
            "57.14% completed\n",
            "58.04% completed\n",
            "58.93% completed\n",
            "59.82% completed\n",
            "60.71% completed\n",
            "61.61% completed\n",
            "62.50% completed\n",
            "63.39% completed\n",
            "64.29% completed\n",
            "65.18% completed\n",
            "66.07% completed\n",
            "66.96% completed\n",
            "67.86% completed\n",
            "68.75% completed\n",
            "69.64% completed\n",
            "70.54% completed\n",
            "71.43% completed\n",
            "72.32% completed\n",
            "73.21% completed\n",
            "74.11% completed\n",
            "75.00% completed\n",
            "75.89% completed\n",
            "76.79% completed\n",
            "77.68% completed\n",
            "78.57% completed\n",
            "79.46% completed\n",
            "80.36% completed\n",
            "81.25% completed\n",
            "82.14% completed\n",
            "83.04% completed\n",
            "83.93% completed\n",
            "84.82% completed\n",
            "85.71% completed\n",
            "86.61% completed\n",
            "87.50% completed\n",
            "88.39% completed\n",
            "89.29% completed\n",
            "90.18% completed\n",
            "91.07% completed\n",
            "91.96% completed\n",
            "92.86% completed\n",
            "93.75% completed\n",
            "94.64% completed\n",
            "95.54% completed\n",
            "96.43% completed\n",
            "97.32% completed\n",
            "98.21% completed\n",
            "99.11% completed\n"
          ],
          "name": "stdout"
        },
        {
          "output_type": "execute_result",
          "data": {
            "text/html": [
              "<div>\n",
              "<style scoped>\n",
              "    .dataframe tbody tr th:only-of-type {\n",
              "        vertical-align: middle;\n",
              "    }\n",
              "\n",
              "    .dataframe tbody tr th {\n",
              "        vertical-align: top;\n",
              "    }\n",
              "\n",
              "    .dataframe thead th {\n",
              "        text-align: right;\n",
              "    }\n",
              "</style>\n",
              "<table border=\"1\" class=\"dataframe\">\n",
              "  <thead>\n",
              "    <tr style=\"text-align: right;\">\n",
              "      <th></th>\n",
              "      <th>criterion</th>\n",
              "      <th>splitter</th>\n",
              "      <th>max_features</th>\n",
              "      <th>max_depth</th>\n",
              "      <th>trainingAccuracy</th>\n",
              "      <th>testingAccuracy</th>\n",
              "      <th>performance</th>\n",
              "    </tr>\n",
              "  </thead>\n",
              "  <tbody>\n",
              "    <tr>\n",
              "      <th>0</th>\n",
              "      <td>gini</td>\n",
              "      <td>random</td>\n",
              "      <td>None</td>\n",
              "      <td>2</td>\n",
              "      <td>0.352883</td>\n",
              "      <td>0.328287</td>\n",
              "      <td>0.001553</td>\n",
              "    </tr>\n",
              "    <tr>\n",
              "      <th>1</th>\n",
              "      <td>gini</td>\n",
              "      <td>random</td>\n",
              "      <td>None</td>\n",
              "      <td>4</td>\n",
              "      <td>0.674155</td>\n",
              "      <td>0.654980</td>\n",
              "      <td>0.002037</td>\n",
              "    </tr>\n",
              "    <tr>\n",
              "      <th>2</th>\n",
              "      <td>gini</td>\n",
              "      <td>random</td>\n",
              "      <td>None</td>\n",
              "      <td>6</td>\n",
              "      <td>0.833002</td>\n",
              "      <td>0.749004</td>\n",
              "      <td>0.002871</td>\n",
              "    </tr>\n",
              "    <tr>\n",
              "      <th>3</th>\n",
              "      <td>gini</td>\n",
              "      <td>random</td>\n",
              "      <td>None</td>\n",
              "      <td>8</td>\n",
              "      <td>0.934592</td>\n",
              "      <td>0.841434</td>\n",
              "      <td>0.003928</td>\n",
              "    </tr>\n",
              "    <tr>\n",
              "      <th>4</th>\n",
              "      <td>gini</td>\n",
              "      <td>random</td>\n",
              "      <td>None</td>\n",
              "      <td>10</td>\n",
              "      <td>0.989463</td>\n",
              "      <td>0.822311</td>\n",
              "      <td>0.003909</td>\n",
              "    </tr>\n",
              "    <tr>\n",
              "      <th>...</th>\n",
              "      <td>...</td>\n",
              "      <td>...</td>\n",
              "      <td>...</td>\n",
              "      <td>...</td>\n",
              "      <td>...</td>\n",
              "      <td>...</td>\n",
              "      <td>...</td>\n",
              "    </tr>\n",
              "    <tr>\n",
              "      <th>219</th>\n",
              "      <td>entropy</td>\n",
              "      <td>best</td>\n",
              "      <td>log2</td>\n",
              "      <td>20</td>\n",
              "      <td>1.000000</td>\n",
              "      <td>0.785657</td>\n",
              "      <td>0.002798</td>\n",
              "    </tr>\n",
              "    <tr>\n",
              "      <th>220</th>\n",
              "      <td>entropy</td>\n",
              "      <td>best</td>\n",
              "      <td>log2</td>\n",
              "      <td>22</td>\n",
              "      <td>1.000000</td>\n",
              "      <td>0.795219</td>\n",
              "      <td>0.002798</td>\n",
              "    </tr>\n",
              "    <tr>\n",
              "      <th>221</th>\n",
              "      <td>entropy</td>\n",
              "      <td>best</td>\n",
              "      <td>log2</td>\n",
              "      <td>24</td>\n",
              "      <td>1.000000</td>\n",
              "      <td>0.768924</td>\n",
              "      <td>0.003130</td>\n",
              "    </tr>\n",
              "    <tr>\n",
              "      <th>222</th>\n",
              "      <td>entropy</td>\n",
              "      <td>best</td>\n",
              "      <td>log2</td>\n",
              "      <td>26</td>\n",
              "      <td>1.000000</td>\n",
              "      <td>0.780876</td>\n",
              "      <td>0.002836</td>\n",
              "    </tr>\n",
              "    <tr>\n",
              "      <th>223</th>\n",
              "      <td>entropy</td>\n",
              "      <td>best</td>\n",
              "      <td>log2</td>\n",
              "      <td>28</td>\n",
              "      <td>1.000000</td>\n",
              "      <td>0.788845</td>\n",
              "      <td>0.003070</td>\n",
              "    </tr>\n",
              "  </tbody>\n",
              "</table>\n",
              "<p>224 rows × 7 columns</p>\n",
              "</div>"
            ],
            "text/plain": [
              "    criterion splitter  ... testingAccuracy performance\n",
              "0        gini   random  ...        0.328287    0.001553\n",
              "1        gini   random  ...        0.654980    0.002037\n",
              "2        gini   random  ...        0.749004    0.002871\n",
              "3        gini   random  ...        0.841434    0.003928\n",
              "4        gini   random  ...        0.822311    0.003909\n",
              "..        ...      ...  ...             ...         ...\n",
              "219   entropy     best  ...        0.785657    0.002798\n",
              "220   entropy     best  ...        0.795219    0.002798\n",
              "221   entropy     best  ...        0.768924    0.003130\n",
              "222   entropy     best  ...        0.780876    0.002836\n",
              "223   entropy     best  ...        0.788845    0.003070\n",
              "\n",
              "[224 rows x 7 columns]"
            ]
          },
          "metadata": {
            "tags": []
          },
          "execution_count": 22
        }
      ]
    },
    {
      "cell_type": "markdown",
      "metadata": {
        "id": "VNuP4wHwz8qB"
      },
      "source": [
        "#### Naive Bayes"
      ]
    },
    {
      "cell_type": "code",
      "metadata": {
        "colab": {
          "base_uri": "https://localhost:8080/",
          "height": 80
        },
        "id": "kFeuhvQvz-eU",
        "outputId": "82b848a2-005b-4d34-894e-59e6175a488a"
      },
      "source": [
        "digits_perf_NB_df = run_analysis_NB(X_train=X_train, y_train=y_train, X_test=X_test, y_test=y_test, betas=betas, learning_rates=learning_rates, batch_sizes=batch_sizes, verbose=False)\n",
        "digits_perf_NB_df"
      ],
      "execution_count": null,
      "outputs": [
        {
          "output_type": "execute_result",
          "data": {
            "text/html": [
              "<div>\n",
              "<style scoped>\n",
              "    .dataframe tbody tr th:only-of-type {\n",
              "        vertical-align: middle;\n",
              "    }\n",
              "\n",
              "    .dataframe tbody tr th {\n",
              "        vertical-align: top;\n",
              "    }\n",
              "\n",
              "    .dataframe thead th {\n",
              "        text-align: right;\n",
              "    }\n",
              "</style>\n",
              "<table border=\"1\" class=\"dataframe\">\n",
              "  <thead>\n",
              "    <tr style=\"text-align: right;\">\n",
              "      <th></th>\n",
              "      <th>trainingAccuracy</th>\n",
              "      <th>testingAccuracy</th>\n",
              "      <th>performance</th>\n",
              "    </tr>\n",
              "  </thead>\n",
              "  <tbody>\n",
              "    <tr>\n",
              "      <th>0</th>\n",
              "      <td>0.884095</td>\n",
              "      <td>0.850199</td>\n",
              "      <td>0.001562</td>\n",
              "    </tr>\n",
              "  </tbody>\n",
              "</table>\n",
              "</div>"
            ],
            "text/plain": [
              "   trainingAccuracy  testingAccuracy  performance\n",
              "0          0.884095         0.850199     0.001562"
            ]
          },
          "metadata": {
            "tags": []
          },
          "execution_count": 23
        }
      ]
    },
    {
      "cell_type": "markdown",
      "metadata": {
        "id": "OXNrt0UXTwrI"
      },
      "source": [
        "### Testing the IRIS OPEN-ML dataset:"
      ]
    },
    {
      "cell_type": "markdown",
      "metadata": {
        "id": "fkVHsjxgw25o"
      },
      "source": [
        "#### Loading and splitting the dataset:"
      ]
    },
    {
      "cell_type": "code",
      "metadata": {
        "colab": {
          "base_uri": "https://localhost:8080/"
        },
        "id": "4kojWho9SSw3",
        "outputId": "ededf0af-60af-4553-b05b-7d31b1b486ef"
      },
      "source": [
        "from sklearn.datasets import fetch_openml\n",
        "dataset_iris = fetch_openml(data_id=42186)\n",
        "\n",
        "dataset_iris['target'] = np.where(dataset_iris['target']=='Iris-setosa', 0, dataset_iris['target'])\n",
        "dataset_iris['target'] = np.where(dataset_iris['target']=='Iris-versicolor', 1, dataset_iris['target'])\n",
        "dataset_iris['target'] = np.where(dataset_iris['target']=='Iris-virginica', 2, dataset_iris['target'])\n",
        "\n",
        "#note that the seeds targets are strings and 1,2,3. so we convert to int and substract 1 cz classes must start at 0\n",
        "x_iris, y_iris = dataset_iris['data'], dataset_iris['target'].astype('int')\n",
        "\n",
        "print(np.unique(y_iris))"
      ],
      "execution_count": null,
      "outputs": [
        {
          "output_type": "stream",
          "text": [
            "[0 1 2]\n"
          ],
          "name": "stdout"
        }
      ]
    },
    {
      "cell_type": "code",
      "metadata": {
        "colab": {
          "base_uri": "https://localhost:8080/"
        },
        "id": "jbwGvib3AzeO",
        "outputId": "6d324ac2-4f85-46d7-977e-1947aaa6f13f"
      },
      "source": [
        "# Split data into train and test subsets\n",
        "\n",
        "X_train, X_test, y_train, y_test, validation_size = data_split(data=x_iris, target=y_iris, test_size=0.7, shuffle=True)\n",
        "\n",
        "batch_sizes = [1, 2, 5, 10, 25, 50]\n",
        "for i in list(range(50, X_test.shape[0]-1, X_test.shape[0]//5)):\n",
        "    if i not in batch_sizes:\n",
        "        batch_sizes.append(i)\n",
        "print(batch_sizes)"
      ],
      "execution_count": null,
      "outputs": [
        {
          "output_type": "stream",
          "text": [
            "[1, 2, 5, 10, 25, 50]\n"
          ],
          "name": "stdout"
        }
      ]
    },
    {
      "cell_type": "markdown",
      "metadata": {
        "id": "slPOcZpKw9G5"
      },
      "source": [
        "#### Softmax:"
      ]
    },
    {
      "cell_type": "code",
      "metadata": {
        "colab": {
          "base_uri": "https://localhost:8080/",
          "height": 419
        },
        "id": "uAV8x8nYAzeP",
        "outputId": "ee382d65-06ea-4edb-9343-d37fc74d3b10"
      },
      "source": [
        "try:\n",
        "    iris_perf_df = pd.read_csv(f'{path}/iris_perf_df.csv')\n",
        "except FileNotFoundError:\n",
        "    iris_perf_df = run_analysis(X_train=X_train, y_train=y_train, X_test=X_test, y_test=y_test,\n",
        "                                  validation_size=validation_size, betas=betas, learning_rates=learning_rates,\n",
        "                                  batch_sizes=batch_sizes, verbose=False, k_fold=5)\n",
        "iris_perf_df"
      ],
      "execution_count": null,
      "outputs": [
        {
          "output_type": "execute_result",
          "data": {
            "text/html": [
              "<div>\n",
              "<style scoped>\n",
              "    .dataframe tbody tr th:only-of-type {\n",
              "        vertical-align: middle;\n",
              "    }\n",
              "\n",
              "    .dataframe tbody tr th {\n",
              "        vertical-align: top;\n",
              "    }\n",
              "\n",
              "    .dataframe thead th {\n",
              "        text-align: right;\n",
              "    }\n",
              "</style>\n",
              "<table border=\"1\" class=\"dataframe\">\n",
              "  <thead>\n",
              "    <tr style=\"text-align: right;\">\n",
              "      <th></th>\n",
              "      <th>beta</th>\n",
              "      <th>learning_rate</th>\n",
              "      <th>batch_size</th>\n",
              "      <th>trainingAccuracy</th>\n",
              "      <th>testingAccuracy</th>\n",
              "      <th>performance</th>\n",
              "    </tr>\n",
              "  </thead>\n",
              "  <tbody>\n",
              "    <tr>\n",
              "      <th>0</th>\n",
              "      <td>0.01</td>\n",
              "      <td>0.0001</td>\n",
              "      <td>1.0</td>\n",
              "      <td>0.364286</td>\n",
              "      <td>0.371429</td>\n",
              "      <td>0.345666</td>\n",
              "    </tr>\n",
              "    <tr>\n",
              "      <th>1</th>\n",
              "      <td>0.01</td>\n",
              "      <td>0.0001</td>\n",
              "      <td>2.0</td>\n",
              "      <td>0.492857</td>\n",
              "      <td>0.361905</td>\n",
              "      <td>0.254783</td>\n",
              "    </tr>\n",
              "    <tr>\n",
              "      <th>2</th>\n",
              "      <td>0.01</td>\n",
              "      <td>0.0001</td>\n",
              "      <td>5.0</td>\n",
              "      <td>0.666667</td>\n",
              "      <td>0.666667</td>\n",
              "      <td>0.204674</td>\n",
              "    </tr>\n",
              "    <tr>\n",
              "      <th>3</th>\n",
              "      <td>0.01</td>\n",
              "      <td>0.0001</td>\n",
              "      <td>10.0</td>\n",
              "      <td>0.740476</td>\n",
              "      <td>0.685714</td>\n",
              "      <td>0.186978</td>\n",
              "    </tr>\n",
              "    <tr>\n",
              "      <th>4</th>\n",
              "      <td>0.01</td>\n",
              "      <td>0.0001</td>\n",
              "      <td>25.0</td>\n",
              "      <td>0.823810</td>\n",
              "      <td>0.752381</td>\n",
              "      <td>0.176795</td>\n",
              "    </tr>\n",
              "    <tr>\n",
              "      <th>...</th>\n",
              "      <td>...</td>\n",
              "      <td>...</td>\n",
              "      <td>...</td>\n",
              "      <td>...</td>\n",
              "      <td>...</td>\n",
              "      <td>...</td>\n",
              "    </tr>\n",
              "    <tr>\n",
              "      <th>247</th>\n",
              "      <td>0.99</td>\n",
              "      <td>1.0000</td>\n",
              "      <td>2.0</td>\n",
              "      <td>0.916667</td>\n",
              "      <td>0.866667</td>\n",
              "      <td>0.259059</td>\n",
              "    </tr>\n",
              "    <tr>\n",
              "      <th>248</th>\n",
              "      <td>0.99</td>\n",
              "      <td>1.0000</td>\n",
              "      <td>5.0</td>\n",
              "      <td>0.919048</td>\n",
              "      <td>0.933333</td>\n",
              "      <td>0.210001</td>\n",
              "    </tr>\n",
              "    <tr>\n",
              "      <th>249</th>\n",
              "      <td>0.99</td>\n",
              "      <td>1.0000</td>\n",
              "      <td>10.0</td>\n",
              "      <td>0.971429</td>\n",
              "      <td>0.971429</td>\n",
              "      <td>0.191581</td>\n",
              "    </tr>\n",
              "    <tr>\n",
              "      <th>250</th>\n",
              "      <td>0.99</td>\n",
              "      <td>1.0000</td>\n",
              "      <td>25.0</td>\n",
              "      <td>0.973810</td>\n",
              "      <td>0.933333</td>\n",
              "      <td>0.176858</td>\n",
              "    </tr>\n",
              "    <tr>\n",
              "      <th>251</th>\n",
              "      <td>0.99</td>\n",
              "      <td>1.0000</td>\n",
              "      <td>50.0</td>\n",
              "      <td>0.983333</td>\n",
              "      <td>0.971429</td>\n",
              "      <td>0.170761</td>\n",
              "    </tr>\n",
              "  </tbody>\n",
              "</table>\n",
              "<p>252 rows × 6 columns</p>\n",
              "</div>"
            ],
            "text/plain": [
              "     beta  learning_rate  ...  testingAccuracy  performance\n",
              "0    0.01         0.0001  ...         0.371429     0.345666\n",
              "1    0.01         0.0001  ...         0.361905     0.254783\n",
              "2    0.01         0.0001  ...         0.666667     0.204674\n",
              "3    0.01         0.0001  ...         0.685714     0.186978\n",
              "4    0.01         0.0001  ...         0.752381     0.176795\n",
              "..    ...            ...  ...              ...          ...\n",
              "247  0.99         1.0000  ...         0.866667     0.259059\n",
              "248  0.99         1.0000  ...         0.933333     0.210001\n",
              "249  0.99         1.0000  ...         0.971429     0.191581\n",
              "250  0.99         1.0000  ...         0.933333     0.176858\n",
              "251  0.99         1.0000  ...         0.971429     0.170761\n",
              "\n",
              "[252 rows x 6 columns]"
            ]
          },
          "metadata": {
            "tags": []
          },
          "execution_count": 26
        }
      ]
    },
    {
      "cell_type": "markdown",
      "metadata": {
        "id": "oEyTTHTJxEVF"
      },
      "source": [
        "#### KNN"
      ]
    },
    {
      "cell_type": "code",
      "metadata": {
        "colab": {
          "base_uri": "https://localhost:8080/",
          "height": 1000
        },
        "id": "rW8BBbhQ8uta",
        "outputId": "b393a03d-cfa3-42fd-a306-5a556f18f915"
      },
      "source": [
        "iris_perf_KNN_df = run_analysis_KNN(X_train=X_train, y_train=y_train, X_test=X_test, y_test=y_test, \n",
        "                                    betas=betas, learning_rates=learning_rates, batch_sizes=batch_sizes, verbose=False, k_fold=5)\n",
        "iris_perf_KNN_df"
      ],
      "execution_count": null,
      "outputs": [
        {
          "output_type": "stream",
          "text": [
            "0.00% completed\n",
            "6.67% completed\n",
            "13.33% completed\n",
            "20.00% completed\n",
            "26.67% completed\n",
            "33.33% completed\n",
            "40.00% completed\n",
            "46.67% completed\n",
            "53.33% completed\n",
            "60.00% completed\n",
            "66.67% completed\n",
            "73.33% completed\n",
            "80.00% completed\n",
            "86.67% completed\n",
            "93.33% completed\n"
          ],
          "name": "stdout"
        },
        {
          "output_type": "execute_result",
          "data": {
            "text/html": [
              "<div>\n",
              "<style scoped>\n",
              "    .dataframe tbody tr th:only-of-type {\n",
              "        vertical-align: middle;\n",
              "    }\n",
              "\n",
              "    .dataframe tbody tr th {\n",
              "        vertical-align: top;\n",
              "    }\n",
              "\n",
              "    .dataframe thead th {\n",
              "        text-align: right;\n",
              "    }\n",
              "</style>\n",
              "<table border=\"1\" class=\"dataframe\">\n",
              "  <thead>\n",
              "    <tr style=\"text-align: right;\">\n",
              "      <th></th>\n",
              "      <th>num_neighbours</th>\n",
              "      <th>power_parameter</th>\n",
              "      <th>trainingAccuracy</th>\n",
              "      <th>testingAccuracy</th>\n",
              "      <th>performance</th>\n",
              "    </tr>\n",
              "  </thead>\n",
              "  <tbody>\n",
              "    <tr>\n",
              "      <th>0</th>\n",
              "      <td>1.0</td>\n",
              "      <td>1.0</td>\n",
              "      <td>1.000000</td>\n",
              "      <td>0.942857</td>\n",
              "      <td>0.000615</td>\n",
              "    </tr>\n",
              "    <tr>\n",
              "      <th>1</th>\n",
              "      <td>3.0</td>\n",
              "      <td>1.0</td>\n",
              "      <td>0.973810</td>\n",
              "      <td>0.961905</td>\n",
              "      <td>0.000312</td>\n",
              "    </tr>\n",
              "    <tr>\n",
              "      <th>2</th>\n",
              "      <td>5.0</td>\n",
              "      <td>1.0</td>\n",
              "      <td>0.969048</td>\n",
              "      <td>0.952381</td>\n",
              "      <td>0.000391</td>\n",
              "    </tr>\n",
              "    <tr>\n",
              "      <th>3</th>\n",
              "      <td>7.0</td>\n",
              "      <td>1.0</td>\n",
              "      <td>0.957143</td>\n",
              "      <td>0.952381</td>\n",
              "      <td>0.000348</td>\n",
              "    </tr>\n",
              "    <tr>\n",
              "      <th>4</th>\n",
              "      <td>9.0</td>\n",
              "      <td>1.0</td>\n",
              "      <td>0.969048</td>\n",
              "      <td>0.961905</td>\n",
              "      <td>0.000504</td>\n",
              "    </tr>\n",
              "    <tr>\n",
              "      <th>5</th>\n",
              "      <td>11.0</td>\n",
              "      <td>1.0</td>\n",
              "      <td>0.966667</td>\n",
              "      <td>0.971429</td>\n",
              "      <td>0.000306</td>\n",
              "    </tr>\n",
              "    <tr>\n",
              "      <th>6</th>\n",
              "      <td>13.0</td>\n",
              "      <td>1.0</td>\n",
              "      <td>0.969048</td>\n",
              "      <td>0.971429</td>\n",
              "      <td>0.000373</td>\n",
              "    </tr>\n",
              "    <tr>\n",
              "      <th>7</th>\n",
              "      <td>15.0</td>\n",
              "      <td>1.0</td>\n",
              "      <td>0.952381</td>\n",
              "      <td>0.961905</td>\n",
              "      <td>0.000314</td>\n",
              "    </tr>\n",
              "    <tr>\n",
              "      <th>8</th>\n",
              "      <td>17.0</td>\n",
              "      <td>1.0</td>\n",
              "      <td>0.950000</td>\n",
              "      <td>0.933333</td>\n",
              "      <td>0.000439</td>\n",
              "    </tr>\n",
              "    <tr>\n",
              "      <th>9</th>\n",
              "      <td>19.0</td>\n",
              "      <td>1.0</td>\n",
              "      <td>0.954762</td>\n",
              "      <td>0.952381</td>\n",
              "      <td>0.000390</td>\n",
              "    </tr>\n",
              "    <tr>\n",
              "      <th>10</th>\n",
              "      <td>21.0</td>\n",
              "      <td>1.0</td>\n",
              "      <td>0.940476</td>\n",
              "      <td>0.933333</td>\n",
              "      <td>0.000376</td>\n",
              "    </tr>\n",
              "    <tr>\n",
              "      <th>11</th>\n",
              "      <td>23.0</td>\n",
              "      <td>1.0</td>\n",
              "      <td>0.942857</td>\n",
              "      <td>0.933333</td>\n",
              "      <td>0.000305</td>\n",
              "    </tr>\n",
              "    <tr>\n",
              "      <th>12</th>\n",
              "      <td>25.0</td>\n",
              "      <td>1.0</td>\n",
              "      <td>0.945238</td>\n",
              "      <td>0.923810</td>\n",
              "      <td>0.000468</td>\n",
              "    </tr>\n",
              "    <tr>\n",
              "      <th>13</th>\n",
              "      <td>27.0</td>\n",
              "      <td>1.0</td>\n",
              "      <td>0.945238</td>\n",
              "      <td>0.942857</td>\n",
              "      <td>0.000316</td>\n",
              "    </tr>\n",
              "    <tr>\n",
              "      <th>14</th>\n",
              "      <td>29.0</td>\n",
              "      <td>1.0</td>\n",
              "      <td>0.930952</td>\n",
              "      <td>0.933333</td>\n",
              "      <td>0.000397</td>\n",
              "    </tr>\n",
              "    <tr>\n",
              "      <th>15</th>\n",
              "      <td>1.0</td>\n",
              "      <td>2.0</td>\n",
              "      <td>1.000000</td>\n",
              "      <td>0.952381</td>\n",
              "      <td>0.000309</td>\n",
              "    </tr>\n",
              "    <tr>\n",
              "      <th>16</th>\n",
              "      <td>3.0</td>\n",
              "      <td>2.0</td>\n",
              "      <td>0.973810</td>\n",
              "      <td>0.961905</td>\n",
              "      <td>0.000333</td>\n",
              "    </tr>\n",
              "    <tr>\n",
              "      <th>17</th>\n",
              "      <td>5.0</td>\n",
              "      <td>2.0</td>\n",
              "      <td>0.976190</td>\n",
              "      <td>0.971429</td>\n",
              "      <td>0.000313</td>\n",
              "    </tr>\n",
              "    <tr>\n",
              "      <th>18</th>\n",
              "      <td>7.0</td>\n",
              "      <td>2.0</td>\n",
              "      <td>0.969048</td>\n",
              "      <td>0.971429</td>\n",
              "      <td>0.000400</td>\n",
              "    </tr>\n",
              "    <tr>\n",
              "      <th>19</th>\n",
              "      <td>9.0</td>\n",
              "      <td>2.0</td>\n",
              "      <td>0.973810</td>\n",
              "      <td>0.952381</td>\n",
              "      <td>0.000352</td>\n",
              "    </tr>\n",
              "    <tr>\n",
              "      <th>20</th>\n",
              "      <td>11.0</td>\n",
              "      <td>2.0</td>\n",
              "      <td>0.971429</td>\n",
              "      <td>0.942857</td>\n",
              "      <td>0.000450</td>\n",
              "    </tr>\n",
              "    <tr>\n",
              "      <th>21</th>\n",
              "      <td>13.0</td>\n",
              "      <td>2.0</td>\n",
              "      <td>0.952381</td>\n",
              "      <td>0.952381</td>\n",
              "      <td>0.000316</td>\n",
              "    </tr>\n",
              "    <tr>\n",
              "      <th>22</th>\n",
              "      <td>15.0</td>\n",
              "      <td>2.0</td>\n",
              "      <td>0.964286</td>\n",
              "      <td>0.961905</td>\n",
              "      <td>0.000350</td>\n",
              "    </tr>\n",
              "    <tr>\n",
              "      <th>23</th>\n",
              "      <td>17.0</td>\n",
              "      <td>2.0</td>\n",
              "      <td>0.952381</td>\n",
              "      <td>0.961905</td>\n",
              "      <td>0.000300</td>\n",
              "    </tr>\n",
              "    <tr>\n",
              "      <th>24</th>\n",
              "      <td>19.0</td>\n",
              "      <td>2.0</td>\n",
              "      <td>0.947619</td>\n",
              "      <td>0.933333</td>\n",
              "      <td>0.000407</td>\n",
              "    </tr>\n",
              "    <tr>\n",
              "      <th>25</th>\n",
              "      <td>21.0</td>\n",
              "      <td>2.0</td>\n",
              "      <td>0.945238</td>\n",
              "      <td>0.942857</td>\n",
              "      <td>0.000319</td>\n",
              "    </tr>\n",
              "    <tr>\n",
              "      <th>26</th>\n",
              "      <td>23.0</td>\n",
              "      <td>2.0</td>\n",
              "      <td>0.945238</td>\n",
              "      <td>0.942857</td>\n",
              "      <td>0.000394</td>\n",
              "    </tr>\n",
              "    <tr>\n",
              "      <th>27</th>\n",
              "      <td>25.0</td>\n",
              "      <td>2.0</td>\n",
              "      <td>0.950000</td>\n",
              "      <td>0.942857</td>\n",
              "      <td>0.000318</td>\n",
              "    </tr>\n",
              "    <tr>\n",
              "      <th>28</th>\n",
              "      <td>27.0</td>\n",
              "      <td>2.0</td>\n",
              "      <td>0.942857</td>\n",
              "      <td>0.952381</td>\n",
              "      <td>0.000477</td>\n",
              "    </tr>\n",
              "    <tr>\n",
              "      <th>29</th>\n",
              "      <td>29.0</td>\n",
              "      <td>2.0</td>\n",
              "      <td>0.935714</td>\n",
              "      <td>0.942857</td>\n",
              "      <td>0.000326</td>\n",
              "    </tr>\n",
              "  </tbody>\n",
              "</table>\n",
              "</div>"
            ],
            "text/plain": [
              "    num_neighbours  power_parameter  ...  testingAccuracy  performance\n",
              "0              1.0              1.0  ...         0.942857     0.000615\n",
              "1              3.0              1.0  ...         0.961905     0.000312\n",
              "2              5.0              1.0  ...         0.952381     0.000391\n",
              "3              7.0              1.0  ...         0.952381     0.000348\n",
              "4              9.0              1.0  ...         0.961905     0.000504\n",
              "5             11.0              1.0  ...         0.971429     0.000306\n",
              "6             13.0              1.0  ...         0.971429     0.000373\n",
              "7             15.0              1.0  ...         0.961905     0.000314\n",
              "8             17.0              1.0  ...         0.933333     0.000439\n",
              "9             19.0              1.0  ...         0.952381     0.000390\n",
              "10            21.0              1.0  ...         0.933333     0.000376\n",
              "11            23.0              1.0  ...         0.933333     0.000305\n",
              "12            25.0              1.0  ...         0.923810     0.000468\n",
              "13            27.0              1.0  ...         0.942857     0.000316\n",
              "14            29.0              1.0  ...         0.933333     0.000397\n",
              "15             1.0              2.0  ...         0.952381     0.000309\n",
              "16             3.0              2.0  ...         0.961905     0.000333\n",
              "17             5.0              2.0  ...         0.971429     0.000313\n",
              "18             7.0              2.0  ...         0.971429     0.000400\n",
              "19             9.0              2.0  ...         0.952381     0.000352\n",
              "20            11.0              2.0  ...         0.942857     0.000450\n",
              "21            13.0              2.0  ...         0.952381     0.000316\n",
              "22            15.0              2.0  ...         0.961905     0.000350\n",
              "23            17.0              2.0  ...         0.961905     0.000300\n",
              "24            19.0              2.0  ...         0.933333     0.000407\n",
              "25            21.0              2.0  ...         0.942857     0.000319\n",
              "26            23.0              2.0  ...         0.942857     0.000394\n",
              "27            25.0              2.0  ...         0.942857     0.000318\n",
              "28            27.0              2.0  ...         0.952381     0.000477\n",
              "29            29.0              2.0  ...         0.942857     0.000326\n",
              "\n",
              "[30 rows x 5 columns]"
            ]
          },
          "metadata": {
            "tags": []
          },
          "execution_count": 27
        }
      ]
    },
    {
      "cell_type": "markdown",
      "metadata": {
        "id": "_Hf1dwUyxGAz"
      },
      "source": [
        "#### Decision Tree:"
      ]
    },
    {
      "cell_type": "code",
      "metadata": {
        "colab": {
          "base_uri": "https://localhost:8080/",
          "height": 1000
        },
        "id": "Jp4AAXcnwmCY",
        "outputId": "161481a6-d123-4b5d-916a-9a888049fa69"
      },
      "source": [
        "iris_perf_tree_df = run_analysis_tree(X_train=X_train, y_train=y_train, X_test=X_test, y_test=y_test, betas=betas, learning_rates=learning_rates, batch_sizes=batch_sizes, verbose=False)\n",
        "iris_perf_tree_df"
      ],
      "execution_count": null,
      "outputs": [
        {
          "output_type": "stream",
          "text": [
            "0.00% completed\n",
            "0.89% completed\n",
            "1.79% completed\n",
            "2.68% completed\n",
            "3.57% completed\n",
            "4.46% completed\n",
            "5.36% completed\n",
            "6.25% completed\n",
            "7.14% completed\n",
            "8.04% completed\n",
            "8.93% completed\n",
            "9.82% completed\n",
            "10.71% completed\n",
            "11.61% completed\n",
            "12.50% completed\n",
            "13.39% completed\n",
            "14.29% completed\n",
            "15.18% completed\n",
            "16.07% completed\n",
            "16.96% completed\n",
            "17.86% completed\n",
            "18.75% completed\n",
            "19.64% completed\n",
            "20.54% completed\n",
            "21.43% completed\n",
            "22.32% completed\n",
            "23.21% completed\n",
            "24.11% completed\n",
            "25.00% completed\n",
            "25.89% completed\n",
            "26.79% completed\n",
            "27.68% completed\n",
            "28.57% completed\n",
            "29.46% completed\n",
            "30.36% completed\n",
            "31.25% completed\n",
            "32.14% completed\n",
            "33.04% completed\n",
            "33.93% completed\n",
            "34.82% completed\n",
            "35.71% completed\n",
            "36.61% completed\n",
            "37.50% completed\n",
            "38.39% completed\n",
            "39.29% completed\n",
            "40.18% completed\n",
            "41.07% completed\n",
            "41.96% completed\n",
            "42.86% completed\n",
            "43.75% completed\n",
            "44.64% completed\n",
            "45.54% completed\n",
            "46.43% completed\n",
            "47.32% completed\n",
            "48.21% completed\n",
            "49.11% completed\n",
            "50.00% completed\n",
            "50.89% completed\n",
            "51.79% completed\n",
            "52.68% completed\n",
            "53.57% completed\n",
            "54.46% completed\n",
            "55.36% completed\n",
            "56.25% completed\n",
            "57.14% completed\n",
            "58.04% completed\n",
            "58.93% completed\n",
            "59.82% completed\n",
            "60.71% completed\n",
            "61.61% completed\n",
            "62.50% completed\n",
            "63.39% completed\n",
            "64.29% completed\n",
            "65.18% completed\n",
            "66.07% completed\n",
            "66.96% completed\n",
            "67.86% completed\n",
            "68.75% completed\n",
            "69.64% completed\n",
            "70.54% completed\n",
            "71.43% completed\n",
            "72.32% completed\n",
            "73.21% completed\n",
            "74.11% completed\n",
            "75.00% completed\n",
            "75.89% completed\n",
            "76.79% completed\n",
            "77.68% completed\n",
            "78.57% completed\n",
            "79.46% completed\n",
            "80.36% completed\n",
            "81.25% completed\n",
            "82.14% completed\n",
            "83.04% completed\n",
            "83.93% completed\n",
            "84.82% completed\n",
            "85.71% completed\n",
            "86.61% completed\n",
            "87.50% completed\n",
            "88.39% completed\n",
            "89.29% completed\n",
            "90.18% completed\n",
            "91.07% completed\n",
            "91.96% completed\n",
            "92.86% completed\n",
            "93.75% completed\n",
            "94.64% completed\n",
            "95.54% completed\n",
            "96.43% completed\n",
            "97.32% completed\n",
            "98.21% completed\n",
            "99.11% completed\n"
          ],
          "name": "stdout"
        },
        {
          "output_type": "execute_result",
          "data": {
            "text/html": [
              "<div>\n",
              "<style scoped>\n",
              "    .dataframe tbody tr th:only-of-type {\n",
              "        vertical-align: middle;\n",
              "    }\n",
              "\n",
              "    .dataframe tbody tr th {\n",
              "        vertical-align: top;\n",
              "    }\n",
              "\n",
              "    .dataframe thead th {\n",
              "        text-align: right;\n",
              "    }\n",
              "</style>\n",
              "<table border=\"1\" class=\"dataframe\">\n",
              "  <thead>\n",
              "    <tr style=\"text-align: right;\">\n",
              "      <th></th>\n",
              "      <th>criterion</th>\n",
              "      <th>splitter</th>\n",
              "      <th>max_features</th>\n",
              "      <th>max_depth</th>\n",
              "      <th>trainingAccuracy</th>\n",
              "      <th>testingAccuracy</th>\n",
              "      <th>performance</th>\n",
              "    </tr>\n",
              "  </thead>\n",
              "  <tbody>\n",
              "    <tr>\n",
              "      <th>0</th>\n",
              "      <td>gini</td>\n",
              "      <td>random</td>\n",
              "      <td>None</td>\n",
              "      <td>2</td>\n",
              "      <td>0.835714</td>\n",
              "      <td>0.838095</td>\n",
              "      <td>0.000347</td>\n",
              "    </tr>\n",
              "    <tr>\n",
              "      <th>1</th>\n",
              "      <td>gini</td>\n",
              "      <td>random</td>\n",
              "      <td>None</td>\n",
              "      <td>4</td>\n",
              "      <td>0.950000</td>\n",
              "      <td>0.904762</td>\n",
              "      <td>0.000281</td>\n",
              "    </tr>\n",
              "    <tr>\n",
              "      <th>2</th>\n",
              "      <td>gini</td>\n",
              "      <td>random</td>\n",
              "      <td>None</td>\n",
              "      <td>6</td>\n",
              "      <td>0.990476</td>\n",
              "      <td>0.923810</td>\n",
              "      <td>0.000356</td>\n",
              "    </tr>\n",
              "    <tr>\n",
              "      <th>3</th>\n",
              "      <td>gini</td>\n",
              "      <td>random</td>\n",
              "      <td>None</td>\n",
              "      <td>8</td>\n",
              "      <td>0.992857</td>\n",
              "      <td>0.923810</td>\n",
              "      <td>0.000266</td>\n",
              "    </tr>\n",
              "    <tr>\n",
              "      <th>4</th>\n",
              "      <td>gini</td>\n",
              "      <td>random</td>\n",
              "      <td>None</td>\n",
              "      <td>10</td>\n",
              "      <td>1.000000</td>\n",
              "      <td>0.923810</td>\n",
              "      <td>0.000353</td>\n",
              "    </tr>\n",
              "    <tr>\n",
              "      <th>...</th>\n",
              "      <td>...</td>\n",
              "      <td>...</td>\n",
              "      <td>...</td>\n",
              "      <td>...</td>\n",
              "      <td>...</td>\n",
              "      <td>...</td>\n",
              "      <td>...</td>\n",
              "    </tr>\n",
              "    <tr>\n",
              "      <th>219</th>\n",
              "      <td>entropy</td>\n",
              "      <td>best</td>\n",
              "      <td>log2</td>\n",
              "      <td>20</td>\n",
              "      <td>1.000000</td>\n",
              "      <td>0.961905</td>\n",
              "      <td>0.000425</td>\n",
              "    </tr>\n",
              "    <tr>\n",
              "      <th>220</th>\n",
              "      <td>entropy</td>\n",
              "      <td>best</td>\n",
              "      <td>log2</td>\n",
              "      <td>22</td>\n",
              "      <td>1.000000</td>\n",
              "      <td>0.942857</td>\n",
              "      <td>0.000388</td>\n",
              "    </tr>\n",
              "    <tr>\n",
              "      <th>221</th>\n",
              "      <td>entropy</td>\n",
              "      <td>best</td>\n",
              "      <td>log2</td>\n",
              "      <td>24</td>\n",
              "      <td>1.000000</td>\n",
              "      <td>0.942857</td>\n",
              "      <td>0.000321</td>\n",
              "    </tr>\n",
              "    <tr>\n",
              "      <th>222</th>\n",
              "      <td>entropy</td>\n",
              "      <td>best</td>\n",
              "      <td>log2</td>\n",
              "      <td>26</td>\n",
              "      <td>1.000000</td>\n",
              "      <td>0.876190</td>\n",
              "      <td>0.000524</td>\n",
              "    </tr>\n",
              "    <tr>\n",
              "      <th>223</th>\n",
              "      <td>entropy</td>\n",
              "      <td>best</td>\n",
              "      <td>log2</td>\n",
              "      <td>28</td>\n",
              "      <td>1.000000</td>\n",
              "      <td>0.933333</td>\n",
              "      <td>0.000306</td>\n",
              "    </tr>\n",
              "  </tbody>\n",
              "</table>\n",
              "<p>224 rows × 7 columns</p>\n",
              "</div>"
            ],
            "text/plain": [
              "    criterion splitter  ... testingAccuracy performance\n",
              "0        gini   random  ...        0.838095    0.000347\n",
              "1        gini   random  ...        0.904762    0.000281\n",
              "2        gini   random  ...        0.923810    0.000356\n",
              "3        gini   random  ...        0.923810    0.000266\n",
              "4        gini   random  ...        0.923810    0.000353\n",
              "..        ...      ...  ...             ...         ...\n",
              "219   entropy     best  ...        0.961905    0.000425\n",
              "220   entropy     best  ...        0.942857    0.000388\n",
              "221   entropy     best  ...        0.942857    0.000321\n",
              "222   entropy     best  ...        0.876190    0.000524\n",
              "223   entropy     best  ...        0.933333    0.000306\n",
              "\n",
              "[224 rows x 7 columns]"
            ]
          },
          "metadata": {
            "tags": []
          },
          "execution_count": 28
        }
      ]
    },
    {
      "cell_type": "markdown",
      "metadata": {
        "id": "eSS6MOFjxILe"
      },
      "source": [
        "#### Naive Bayes:"
      ]
    },
    {
      "cell_type": "code",
      "metadata": {
        "colab": {
          "base_uri": "https://localhost:8080/",
          "height": 80
        },
        "id": "dv12jfKvs2Be",
        "outputId": "d0f0dce5-35bc-43a7-91f4-abefdd576088"
      },
      "source": [
        "iris_perf_NB_df = run_analysis_NB(X_train=X_train, y_train=y_train, X_test=X_test, y_test=y_test, betas=betas, learning_rates=learning_rates, batch_sizes=batch_sizes, verbose=False)\n",
        "iris_perf_NB_df"
      ],
      "execution_count": null,
      "outputs": [
        {
          "output_type": "execute_result",
          "data": {
            "text/html": [
              "<div>\n",
              "<style scoped>\n",
              "    .dataframe tbody tr th:only-of-type {\n",
              "        vertical-align: middle;\n",
              "    }\n",
              "\n",
              "    .dataframe tbody tr th {\n",
              "        vertical-align: top;\n",
              "    }\n",
              "\n",
              "    .dataframe thead th {\n",
              "        text-align: right;\n",
              "    }\n",
              "</style>\n",
              "<table border=\"1\" class=\"dataframe\">\n",
              "  <thead>\n",
              "    <tr style=\"text-align: right;\">\n",
              "      <th></th>\n",
              "      <th>trainingAccuracy</th>\n",
              "      <th>testingAccuracy</th>\n",
              "      <th>performance</th>\n",
              "    </tr>\n",
              "  </thead>\n",
              "  <tbody>\n",
              "    <tr>\n",
              "      <th>0</th>\n",
              "      <td>0.95</td>\n",
              "      <td>0.942857</td>\n",
              "      <td>0.000752</td>\n",
              "    </tr>\n",
              "  </tbody>\n",
              "</table>\n",
              "</div>"
            ],
            "text/plain": [
              "   trainingAccuracy  testingAccuracy  performance\n",
              "0              0.95         0.942857     0.000752"
            ]
          },
          "metadata": {
            "tags": []
          },
          "execution_count": 29
        }
      ]
    },
    {
      "cell_type": "markdown",
      "metadata": {
        "id": "7isqgnbsdA8D"
      },
      "source": [
        "### Testing seismic-bumps OPEN-ML dataset"
      ]
    },
    {
      "cell_type": "markdown",
      "metadata": {
        "id": "O2ot4aZXxgld"
      },
      "source": [
        "#### Loading and splitting the dataset:"
      ]
    },
    {
      "cell_type": "code",
      "metadata": {
        "colab": {
          "base_uri": "https://localhost:8080/"
        },
        "id": "xRPSYOKcdKoU",
        "outputId": "c65ea82c-7531-4555-ffa5-59cdea3eb4f4"
      },
      "source": [
        "from sklearn.datasets import fetch_openml\n",
        "dataset_seisms = fetch_openml(data_id=1500)\n",
        "\n",
        "# #note that the seeds targets are strings and 1,2,3. so we convert to int and substract 1 cz classes must start at 0\n",
        "x_seisms, y_seisms = dataset_seisms['data'], (np.array(list(map(int, dataset_seisms['target']))) - 1).astype('int')\n",
        "\n",
        "print(len(y_seisms))\n",
        "print(np.unique(y_seisms))"
      ],
      "execution_count": null,
      "outputs": [
        {
          "output_type": "stream",
          "text": [
            "210\n",
            "[0 1 2]\n"
          ],
          "name": "stdout"
        }
      ]
    },
    {
      "cell_type": "code",
      "metadata": {
        "colab": {
          "base_uri": "https://localhost:8080/"
        },
        "id": "31Wci3g5dLj6",
        "outputId": "461ce858-c98b-41d0-ca0c-e4307cc32087"
      },
      "source": [
        "# Split data into train and test subsets\n",
        "\n",
        "X_train, X_test, y_train, y_test, validation_size = data_split(data=x_seisms, target=y_seisms, test_size=0.7, shuffle=True)\n",
        "\n",
        "batch_sizes = [1, 2, 5, 10, 25, 50]\n",
        "for i in list(range(50, X_test.shape[0]-1, X_test.shape[0]//5)):\n",
        "    if i not in batch_sizes:\n",
        "        batch_sizes.append(i)\n",
        "print(batch_sizes)"
      ],
      "execution_count": null,
      "outputs": [
        {
          "output_type": "stream",
          "text": [
            "[1, 2, 5, 10, 25, 50]\n"
          ],
          "name": "stdout"
        }
      ]
    },
    {
      "cell_type": "markdown",
      "metadata": {
        "id": "wl_46gSVzQHz"
      },
      "source": [
        "#### Softmax:"
      ]
    },
    {
      "cell_type": "code",
      "metadata": {
        "colab": {
          "base_uri": "https://localhost:8080/",
          "height": 419
        },
        "id": "jZMr8mhZdNyp",
        "outputId": "8ce5e866-e402-4ec5-92dd-b684ebc17f11"
      },
      "source": [
        "try:\n",
        "    seisms_perf_df = pd.read_csv(f'{path}/seisms_perf_df.csv')\n",
        "except FileNotFoundError:\n",
        "    seisms_perf_df = run_analysis(X_train=X_train, y_train=y_train, X_test=X_test, y_test=y_test,\n",
        "                                  validation_size=validation_size, betas=betas, learning_rates=learning_rates,\n",
        "                                  batch_sizes=batch_sizes, verbose=False, k_fold=5)\n",
        "seisms_perf_df"
      ],
      "execution_count": null,
      "outputs": [
        {
          "output_type": "execute_result",
          "data": {
            "text/html": [
              "<div>\n",
              "<style scoped>\n",
              "    .dataframe tbody tr th:only-of-type {\n",
              "        vertical-align: middle;\n",
              "    }\n",
              "\n",
              "    .dataframe tbody tr th {\n",
              "        vertical-align: top;\n",
              "    }\n",
              "\n",
              "    .dataframe thead th {\n",
              "        text-align: right;\n",
              "    }\n",
              "</style>\n",
              "<table border=\"1\" class=\"dataframe\">\n",
              "  <thead>\n",
              "    <tr style=\"text-align: right;\">\n",
              "      <th></th>\n",
              "      <th>beta</th>\n",
              "      <th>learning_rate</th>\n",
              "      <th>batch_size</th>\n",
              "      <th>trainingAccuracy</th>\n",
              "      <th>testingAccuracy</th>\n",
              "      <th>performance</th>\n",
              "    </tr>\n",
              "  </thead>\n",
              "  <tbody>\n",
              "    <tr>\n",
              "      <th>0</th>\n",
              "      <td>0.01</td>\n",
              "      <td>0.0001</td>\n",
              "      <td>1.0</td>\n",
              "      <td>0.365079</td>\n",
              "      <td>0.319728</td>\n",
              "      <td>0.324975</td>\n",
              "    </tr>\n",
              "    <tr>\n",
              "      <th>1</th>\n",
              "      <td>0.01</td>\n",
              "      <td>0.0001</td>\n",
              "      <td>2.0</td>\n",
              "      <td>0.460317</td>\n",
              "      <td>0.408163</td>\n",
              "      <td>0.265106</td>\n",
              "    </tr>\n",
              "    <tr>\n",
              "      <th>2</th>\n",
              "      <td>0.01</td>\n",
              "      <td>0.0001</td>\n",
              "      <td>5.0</td>\n",
              "      <td>0.682540</td>\n",
              "      <td>0.680272</td>\n",
              "      <td>0.210353</td>\n",
              "    </tr>\n",
              "    <tr>\n",
              "      <th>3</th>\n",
              "      <td>0.01</td>\n",
              "      <td>0.0001</td>\n",
              "      <td>10.0</td>\n",
              "      <td>0.730159</td>\n",
              "      <td>0.775510</td>\n",
              "      <td>0.198882</td>\n",
              "    </tr>\n",
              "    <tr>\n",
              "      <th>4</th>\n",
              "      <td>0.01</td>\n",
              "      <td>0.0001</td>\n",
              "      <td>25.0</td>\n",
              "      <td>0.888889</td>\n",
              "      <td>0.911565</td>\n",
              "      <td>0.185216</td>\n",
              "    </tr>\n",
              "    <tr>\n",
              "      <th>...</th>\n",
              "      <td>...</td>\n",
              "      <td>...</td>\n",
              "      <td>...</td>\n",
              "      <td>...</td>\n",
              "      <td>...</td>\n",
              "      <td>...</td>\n",
              "    </tr>\n",
              "    <tr>\n",
              "      <th>415</th>\n",
              "      <td>0.99</td>\n",
              "      <td>1.0000</td>\n",
              "      <td>50.0</td>\n",
              "      <td>0.920635</td>\n",
              "      <td>0.884354</td>\n",
              "      <td>0.171697</td>\n",
              "    </tr>\n",
              "    <tr>\n",
              "      <th>416</th>\n",
              "      <td>0.99</td>\n",
              "      <td>1.0000</td>\n",
              "      <td>50.0</td>\n",
              "      <td>0.920635</td>\n",
              "      <td>0.870748</td>\n",
              "      <td>0.177411</td>\n",
              "    </tr>\n",
              "    <tr>\n",
              "      <th>417</th>\n",
              "      <td>0.99</td>\n",
              "      <td>1.0000</td>\n",
              "      <td>79.0</td>\n",
              "      <td>0.920635</td>\n",
              "      <td>0.877551</td>\n",
              "      <td>0.171682</td>\n",
              "    </tr>\n",
              "    <tr>\n",
              "      <th>418</th>\n",
              "      <td>0.99</td>\n",
              "      <td>1.0000</td>\n",
              "      <td>108.0</td>\n",
              "      <td>0.920635</td>\n",
              "      <td>0.891156</td>\n",
              "      <td>0.172749</td>\n",
              "    </tr>\n",
              "    <tr>\n",
              "      <th>419</th>\n",
              "      <td>0.99</td>\n",
              "      <td>1.0000</td>\n",
              "      <td>137.0</td>\n",
              "      <td>0.904762</td>\n",
              "      <td>0.884354</td>\n",
              "      <td>0.173302</td>\n",
              "    </tr>\n",
              "  </tbody>\n",
              "</table>\n",
              "<p>420 rows × 6 columns</p>\n",
              "</div>"
            ],
            "text/plain": [
              "     beta  learning_rate  ...  testingAccuracy  performance\n",
              "0    0.01         0.0001  ...         0.319728     0.324975\n",
              "1    0.01         0.0001  ...         0.408163     0.265106\n",
              "2    0.01         0.0001  ...         0.680272     0.210353\n",
              "3    0.01         0.0001  ...         0.775510     0.198882\n",
              "4    0.01         0.0001  ...         0.911565     0.185216\n",
              "..    ...            ...  ...              ...          ...\n",
              "415  0.99         1.0000  ...         0.884354     0.171697\n",
              "416  0.99         1.0000  ...         0.870748     0.177411\n",
              "417  0.99         1.0000  ...         0.877551     0.171682\n",
              "418  0.99         1.0000  ...         0.891156     0.172749\n",
              "419  0.99         1.0000  ...         0.884354     0.173302\n",
              "\n",
              "[420 rows x 6 columns]"
            ]
          },
          "metadata": {
            "tags": []
          },
          "execution_count": 32
        }
      ]
    },
    {
      "cell_type": "markdown",
      "metadata": {
        "id": "D7ac_rSbxj9p"
      },
      "source": [
        "#### KNN:"
      ]
    },
    {
      "cell_type": "code",
      "metadata": {
        "colab": {
          "base_uri": "https://localhost:8080/",
          "height": 1000
        },
        "id": "zA3aFuCpdRfC",
        "outputId": "55f6700e-bff8-4f27-819e-7993e732bcc4"
      },
      "source": [
        "seisms_perf_KNN_df = run_analysis_KNN(X_train=X_train, y_train=y_train, X_test=X_test, y_test=y_test, betas=betas, learning_rates=learning_rates, batch_sizes=batch_sizes, verbose=False)\n",
        "seisms_perf_KNN_df"
      ],
      "execution_count": null,
      "outputs": [
        {
          "output_type": "stream",
          "text": [
            "0.00% completed\n",
            "6.67% completed\n",
            "13.33% completed\n",
            "20.00% completed\n",
            "26.67% completed\n",
            "33.33% completed\n",
            "40.00% completed\n",
            "46.67% completed\n",
            "53.33% completed\n",
            "60.00% completed\n",
            "66.67% completed\n",
            "73.33% completed\n",
            "80.00% completed\n",
            "86.67% completed\n",
            "93.33% completed\n"
          ],
          "name": "stdout"
        },
        {
          "output_type": "execute_result",
          "data": {
            "text/html": [
              "<div>\n",
              "<style scoped>\n",
              "    .dataframe tbody tr th:only-of-type {\n",
              "        vertical-align: middle;\n",
              "    }\n",
              "\n",
              "    .dataframe tbody tr th {\n",
              "        vertical-align: top;\n",
              "    }\n",
              "\n",
              "    .dataframe thead th {\n",
              "        text-align: right;\n",
              "    }\n",
              "</style>\n",
              "<table border=\"1\" class=\"dataframe\">\n",
              "  <thead>\n",
              "    <tr style=\"text-align: right;\">\n",
              "      <th></th>\n",
              "      <th>num_neighbours</th>\n",
              "      <th>power_parameter</th>\n",
              "      <th>trainingAccuracy</th>\n",
              "      <th>testingAccuracy</th>\n",
              "      <th>performance</th>\n",
              "    </tr>\n",
              "  </thead>\n",
              "  <tbody>\n",
              "    <tr>\n",
              "      <th>0</th>\n",
              "      <td>1.0</td>\n",
              "      <td>1.0</td>\n",
              "      <td>1.000000</td>\n",
              "      <td>0.889655</td>\n",
              "      <td>0.000534</td>\n",
              "    </tr>\n",
              "    <tr>\n",
              "      <th>1</th>\n",
              "      <td>3.0</td>\n",
              "      <td>1.0</td>\n",
              "      <td>0.947458</td>\n",
              "      <td>0.889655</td>\n",
              "      <td>0.000355</td>\n",
              "    </tr>\n",
              "    <tr>\n",
              "      <th>2</th>\n",
              "      <td>5.0</td>\n",
              "      <td>1.0</td>\n",
              "      <td>0.918644</td>\n",
              "      <td>0.903448</td>\n",
              "      <td>0.000402</td>\n",
              "    </tr>\n",
              "    <tr>\n",
              "      <th>3</th>\n",
              "      <td>7.0</td>\n",
              "      <td>1.0</td>\n",
              "      <td>0.922034</td>\n",
              "      <td>0.903448</td>\n",
              "      <td>0.000507</td>\n",
              "    </tr>\n",
              "    <tr>\n",
              "      <th>4</th>\n",
              "      <td>9.0</td>\n",
              "      <td>1.0</td>\n",
              "      <td>0.905085</td>\n",
              "      <td>0.903448</td>\n",
              "      <td>0.000485</td>\n",
              "    </tr>\n",
              "    <tr>\n",
              "      <th>5</th>\n",
              "      <td>11.0</td>\n",
              "      <td>1.0</td>\n",
              "      <td>0.913559</td>\n",
              "      <td>0.896552</td>\n",
              "      <td>0.000322</td>\n",
              "    </tr>\n",
              "    <tr>\n",
              "      <th>6</th>\n",
              "      <td>13.0</td>\n",
              "      <td>1.0</td>\n",
              "      <td>0.915254</td>\n",
              "      <td>0.903448</td>\n",
              "      <td>0.000416</td>\n",
              "    </tr>\n",
              "    <tr>\n",
              "      <th>7</th>\n",
              "      <td>15.0</td>\n",
              "      <td>1.0</td>\n",
              "      <td>0.913559</td>\n",
              "      <td>0.896552</td>\n",
              "      <td>0.000405</td>\n",
              "    </tr>\n",
              "    <tr>\n",
              "      <th>8</th>\n",
              "      <td>17.0</td>\n",
              "      <td>1.0</td>\n",
              "      <td>0.913559</td>\n",
              "      <td>0.896552</td>\n",
              "      <td>0.000407</td>\n",
              "    </tr>\n",
              "    <tr>\n",
              "      <th>9</th>\n",
              "      <td>19.0</td>\n",
              "      <td>1.0</td>\n",
              "      <td>0.908475</td>\n",
              "      <td>0.903448</td>\n",
              "      <td>0.000354</td>\n",
              "    </tr>\n",
              "    <tr>\n",
              "      <th>10</th>\n",
              "      <td>21.0</td>\n",
              "      <td>1.0</td>\n",
              "      <td>0.905085</td>\n",
              "      <td>0.910345</td>\n",
              "      <td>0.000464</td>\n",
              "    </tr>\n",
              "    <tr>\n",
              "      <th>11</th>\n",
              "      <td>23.0</td>\n",
              "      <td>1.0</td>\n",
              "      <td>0.906780</td>\n",
              "      <td>0.910345</td>\n",
              "      <td>0.000484</td>\n",
              "    </tr>\n",
              "    <tr>\n",
              "      <th>12</th>\n",
              "      <td>25.0</td>\n",
              "      <td>1.0</td>\n",
              "      <td>0.901695</td>\n",
              "      <td>0.910345</td>\n",
              "      <td>0.000468</td>\n",
              "    </tr>\n",
              "    <tr>\n",
              "      <th>13</th>\n",
              "      <td>27.0</td>\n",
              "      <td>1.0</td>\n",
              "      <td>0.908475</td>\n",
              "      <td>0.910345</td>\n",
              "      <td>0.000359</td>\n",
              "    </tr>\n",
              "    <tr>\n",
              "      <th>14</th>\n",
              "      <td>29.0</td>\n",
              "      <td>1.0</td>\n",
              "      <td>0.905085</td>\n",
              "      <td>0.917241</td>\n",
              "      <td>0.000475</td>\n",
              "    </tr>\n",
              "    <tr>\n",
              "      <th>15</th>\n",
              "      <td>1.0</td>\n",
              "      <td>2.0</td>\n",
              "      <td>1.000000</td>\n",
              "      <td>0.882759</td>\n",
              "      <td>0.000409</td>\n",
              "    </tr>\n",
              "    <tr>\n",
              "      <th>16</th>\n",
              "      <td>3.0</td>\n",
              "      <td>2.0</td>\n",
              "      <td>0.935593</td>\n",
              "      <td>0.875862</td>\n",
              "      <td>0.000448</td>\n",
              "    </tr>\n",
              "    <tr>\n",
              "      <th>17</th>\n",
              "      <td>5.0</td>\n",
              "      <td>2.0</td>\n",
              "      <td>0.932203</td>\n",
              "      <td>0.896552</td>\n",
              "      <td>0.000437</td>\n",
              "    </tr>\n",
              "    <tr>\n",
              "      <th>18</th>\n",
              "      <td>7.0</td>\n",
              "      <td>2.0</td>\n",
              "      <td>0.915254</td>\n",
              "      <td>0.896552</td>\n",
              "      <td>0.000433</td>\n",
              "    </tr>\n",
              "    <tr>\n",
              "      <th>19</th>\n",
              "      <td>9.0</td>\n",
              "      <td>2.0</td>\n",
              "      <td>0.900000</td>\n",
              "      <td>0.896552</td>\n",
              "      <td>0.000318</td>\n",
              "    </tr>\n",
              "    <tr>\n",
              "      <th>20</th>\n",
              "      <td>11.0</td>\n",
              "      <td>2.0</td>\n",
              "      <td>0.910169</td>\n",
              "      <td>0.896552</td>\n",
              "      <td>0.000391</td>\n",
              "    </tr>\n",
              "    <tr>\n",
              "      <th>21</th>\n",
              "      <td>13.0</td>\n",
              "      <td>2.0</td>\n",
              "      <td>0.903390</td>\n",
              "      <td>0.903448</td>\n",
              "      <td>0.000335</td>\n",
              "    </tr>\n",
              "    <tr>\n",
              "      <th>22</th>\n",
              "      <td>15.0</td>\n",
              "      <td>2.0</td>\n",
              "      <td>0.906780</td>\n",
              "      <td>0.896552</td>\n",
              "      <td>0.000438</td>\n",
              "    </tr>\n",
              "    <tr>\n",
              "      <th>23</th>\n",
              "      <td>17.0</td>\n",
              "      <td>2.0</td>\n",
              "      <td>0.908475</td>\n",
              "      <td>0.910345</td>\n",
              "      <td>0.000324</td>\n",
              "    </tr>\n",
              "    <tr>\n",
              "      <th>24</th>\n",
              "      <td>19.0</td>\n",
              "      <td>2.0</td>\n",
              "      <td>0.905085</td>\n",
              "      <td>0.903448</td>\n",
              "      <td>0.000409</td>\n",
              "    </tr>\n",
              "    <tr>\n",
              "      <th>25</th>\n",
              "      <td>21.0</td>\n",
              "      <td>2.0</td>\n",
              "      <td>0.905085</td>\n",
              "      <td>0.903448</td>\n",
              "      <td>0.000321</td>\n",
              "    </tr>\n",
              "    <tr>\n",
              "      <th>26</th>\n",
              "      <td>23.0</td>\n",
              "      <td>2.0</td>\n",
              "      <td>0.903390</td>\n",
              "      <td>0.903448</td>\n",
              "      <td>0.000389</td>\n",
              "    </tr>\n",
              "    <tr>\n",
              "      <th>27</th>\n",
              "      <td>25.0</td>\n",
              "      <td>2.0</td>\n",
              "      <td>0.900000</td>\n",
              "      <td>0.903448</td>\n",
              "      <td>0.000394</td>\n",
              "    </tr>\n",
              "    <tr>\n",
              "      <th>28</th>\n",
              "      <td>27.0</td>\n",
              "      <td>2.0</td>\n",
              "      <td>0.900000</td>\n",
              "      <td>0.903448</td>\n",
              "      <td>0.000428</td>\n",
              "    </tr>\n",
              "    <tr>\n",
              "      <th>29</th>\n",
              "      <td>29.0</td>\n",
              "      <td>2.0</td>\n",
              "      <td>0.900000</td>\n",
              "      <td>0.896552</td>\n",
              "      <td>0.000315</td>\n",
              "    </tr>\n",
              "  </tbody>\n",
              "</table>\n",
              "</div>"
            ],
            "text/plain": [
              "    num_neighbours  power_parameter  ...  testingAccuracy  performance\n",
              "0              1.0              1.0  ...         0.889655     0.000534\n",
              "1              3.0              1.0  ...         0.889655     0.000355\n",
              "2              5.0              1.0  ...         0.903448     0.000402\n",
              "3              7.0              1.0  ...         0.903448     0.000507\n",
              "4              9.0              1.0  ...         0.903448     0.000485\n",
              "5             11.0              1.0  ...         0.896552     0.000322\n",
              "6             13.0              1.0  ...         0.903448     0.000416\n",
              "7             15.0              1.0  ...         0.896552     0.000405\n",
              "8             17.0              1.0  ...         0.896552     0.000407\n",
              "9             19.0              1.0  ...         0.903448     0.000354\n",
              "10            21.0              1.0  ...         0.910345     0.000464\n",
              "11            23.0              1.0  ...         0.910345     0.000484\n",
              "12            25.0              1.0  ...         0.910345     0.000468\n",
              "13            27.0              1.0  ...         0.910345     0.000359\n",
              "14            29.0              1.0  ...         0.917241     0.000475\n",
              "15             1.0              2.0  ...         0.882759     0.000409\n",
              "16             3.0              2.0  ...         0.875862     0.000448\n",
              "17             5.0              2.0  ...         0.896552     0.000437\n",
              "18             7.0              2.0  ...         0.896552     0.000433\n",
              "19             9.0              2.0  ...         0.896552     0.000318\n",
              "20            11.0              2.0  ...         0.896552     0.000391\n",
              "21            13.0              2.0  ...         0.903448     0.000335\n",
              "22            15.0              2.0  ...         0.896552     0.000438\n",
              "23            17.0              2.0  ...         0.910345     0.000324\n",
              "24            19.0              2.0  ...         0.903448     0.000409\n",
              "25            21.0              2.0  ...         0.903448     0.000321\n",
              "26            23.0              2.0  ...         0.903448     0.000389\n",
              "27            25.0              2.0  ...         0.903448     0.000394\n",
              "28            27.0              2.0  ...         0.903448     0.000428\n",
              "29            29.0              2.0  ...         0.896552     0.000315\n",
              "\n",
              "[30 rows x 5 columns]"
            ]
          },
          "metadata": {
            "tags": []
          },
          "execution_count": 33
        }
      ]
    },
    {
      "cell_type": "markdown",
      "metadata": {
        "id": "rBNnxZGRxmz3"
      },
      "source": [
        "#### Decision Tree"
      ]
    },
    {
      "cell_type": "code",
      "metadata": {
        "colab": {
          "base_uri": "https://localhost:8080/",
          "height": 1000
        },
        "id": "hv7fX28txpHo",
        "outputId": "92fdaec0-1633-4efa-904b-74218054127a"
      },
      "source": [
        "seisms_perf_tree_df = run_analysis_tree(X_train=X_train, y_train=y_train, X_test=X_test, y_test=y_test, betas=betas, learning_rates=learning_rates, batch_sizes=batch_sizes, verbose=False)\n",
        "seisms_perf_tree_df"
      ],
      "execution_count": null,
      "outputs": [
        {
          "output_type": "stream",
          "text": [
            "0.00% completed\n",
            "0.89% completed\n",
            "1.79% completed\n",
            "2.68% completed\n",
            "3.57% completed\n",
            "4.46% completed\n",
            "5.36% completed\n",
            "6.25% completed\n",
            "7.14% completed\n",
            "8.04% completed\n",
            "8.93% completed\n",
            "9.82% completed\n",
            "10.71% completed\n",
            "11.61% completed\n",
            "12.50% completed\n",
            "13.39% completed\n",
            "14.29% completed\n",
            "15.18% completed\n",
            "16.07% completed\n",
            "16.96% completed\n",
            "17.86% completed\n",
            "18.75% completed\n",
            "19.64% completed\n",
            "20.54% completed\n",
            "21.43% completed\n",
            "22.32% completed\n",
            "23.21% completed\n",
            "24.11% completed\n",
            "25.00% completed\n",
            "25.89% completed\n",
            "26.79% completed\n",
            "27.68% completed\n",
            "28.57% completed\n",
            "29.46% completed\n",
            "30.36% completed\n",
            "31.25% completed\n",
            "32.14% completed\n",
            "33.04% completed\n",
            "33.93% completed\n",
            "34.82% completed\n",
            "35.71% completed\n",
            "36.61% completed\n",
            "37.50% completed\n",
            "38.39% completed\n",
            "39.29% completed\n",
            "40.18% completed\n",
            "41.07% completed\n",
            "41.96% completed\n",
            "42.86% completed\n",
            "43.75% completed\n",
            "44.64% completed\n",
            "45.54% completed\n",
            "46.43% completed\n",
            "47.32% completed\n",
            "48.21% completed\n",
            "49.11% completed\n",
            "50.00% completed\n",
            "50.89% completed\n",
            "51.79% completed\n",
            "52.68% completed\n",
            "53.57% completed\n",
            "54.46% completed\n",
            "55.36% completed\n",
            "56.25% completed\n",
            "57.14% completed\n",
            "58.04% completed\n",
            "58.93% completed\n",
            "59.82% completed\n",
            "60.71% completed\n",
            "61.61% completed\n",
            "62.50% completed\n",
            "63.39% completed\n",
            "64.29% completed\n",
            "65.18% completed\n",
            "66.07% completed\n",
            "66.96% completed\n",
            "67.86% completed\n",
            "68.75% completed\n",
            "69.64% completed\n",
            "70.54% completed\n",
            "71.43% completed\n",
            "72.32% completed\n",
            "73.21% completed\n",
            "74.11% completed\n",
            "75.00% completed\n",
            "75.89% completed\n",
            "76.79% completed\n",
            "77.68% completed\n",
            "78.57% completed\n",
            "79.46% completed\n",
            "80.36% completed\n",
            "81.25% completed\n",
            "82.14% completed\n",
            "83.04% completed\n",
            "83.93% completed\n",
            "84.82% completed\n",
            "85.71% completed\n",
            "86.61% completed\n",
            "87.50% completed\n",
            "88.39% completed\n",
            "89.29% completed\n",
            "90.18% completed\n",
            "91.07% completed\n",
            "91.96% completed\n",
            "92.86% completed\n",
            "93.75% completed\n",
            "94.64% completed\n",
            "95.54% completed\n",
            "96.43% completed\n",
            "97.32% completed\n",
            "98.21% completed\n",
            "99.11% completed\n"
          ],
          "name": "stdout"
        },
        {
          "output_type": "execute_result",
          "data": {
            "text/html": [
              "<div>\n",
              "<style scoped>\n",
              "    .dataframe tbody tr th:only-of-type {\n",
              "        vertical-align: middle;\n",
              "    }\n",
              "\n",
              "    .dataframe tbody tr th {\n",
              "        vertical-align: top;\n",
              "    }\n",
              "\n",
              "    .dataframe thead th {\n",
              "        text-align: right;\n",
              "    }\n",
              "</style>\n",
              "<table border=\"1\" class=\"dataframe\">\n",
              "  <thead>\n",
              "    <tr style=\"text-align: right;\">\n",
              "      <th></th>\n",
              "      <th>criterion</th>\n",
              "      <th>splitter</th>\n",
              "      <th>max_features</th>\n",
              "      <th>max_depth</th>\n",
              "      <th>trainingAccuracy</th>\n",
              "      <th>testingAccuracy</th>\n",
              "      <th>performance</th>\n",
              "    </tr>\n",
              "  </thead>\n",
              "  <tbody>\n",
              "    <tr>\n",
              "      <th>0</th>\n",
              "      <td>gini</td>\n",
              "      <td>random</td>\n",
              "      <td>None</td>\n",
              "      <td>2</td>\n",
              "      <td>0.827119</td>\n",
              "      <td>0.848276</td>\n",
              "      <td>0.000549</td>\n",
              "    </tr>\n",
              "    <tr>\n",
              "      <th>1</th>\n",
              "      <td>gini</td>\n",
              "      <td>random</td>\n",
              "      <td>None</td>\n",
              "      <td>4</td>\n",
              "      <td>0.910169</td>\n",
              "      <td>0.868966</td>\n",
              "      <td>0.000289</td>\n",
              "    </tr>\n",
              "    <tr>\n",
              "      <th>2</th>\n",
              "      <td>gini</td>\n",
              "      <td>random</td>\n",
              "      <td>None</td>\n",
              "      <td>6</td>\n",
              "      <td>0.984746</td>\n",
              "      <td>0.882759</td>\n",
              "      <td>0.000414</td>\n",
              "    </tr>\n",
              "    <tr>\n",
              "      <th>3</th>\n",
              "      <td>gini</td>\n",
              "      <td>random</td>\n",
              "      <td>None</td>\n",
              "      <td>8</td>\n",
              "      <td>0.996610</td>\n",
              "      <td>0.868966</td>\n",
              "      <td>0.000308</td>\n",
              "    </tr>\n",
              "    <tr>\n",
              "      <th>4</th>\n",
              "      <td>gini</td>\n",
              "      <td>random</td>\n",
              "      <td>None</td>\n",
              "      <td>10</td>\n",
              "      <td>1.000000</td>\n",
              "      <td>0.848276</td>\n",
              "      <td>0.000904</td>\n",
              "    </tr>\n",
              "    <tr>\n",
              "      <th>...</th>\n",
              "      <td>...</td>\n",
              "      <td>...</td>\n",
              "      <td>...</td>\n",
              "      <td>...</td>\n",
              "      <td>...</td>\n",
              "      <td>...</td>\n",
              "      <td>...</td>\n",
              "    </tr>\n",
              "    <tr>\n",
              "      <th>219</th>\n",
              "      <td>entropy</td>\n",
              "      <td>best</td>\n",
              "      <td>log2</td>\n",
              "      <td>20</td>\n",
              "      <td>1.000000</td>\n",
              "      <td>0.903448</td>\n",
              "      <td>0.000499</td>\n",
              "    </tr>\n",
              "    <tr>\n",
              "      <th>220</th>\n",
              "      <td>entropy</td>\n",
              "      <td>best</td>\n",
              "      <td>log2</td>\n",
              "      <td>22</td>\n",
              "      <td>1.000000</td>\n",
              "      <td>0.882759</td>\n",
              "      <td>0.000530</td>\n",
              "    </tr>\n",
              "    <tr>\n",
              "      <th>221</th>\n",
              "      <td>entropy</td>\n",
              "      <td>best</td>\n",
              "      <td>log2</td>\n",
              "      <td>24</td>\n",
              "      <td>1.000000</td>\n",
              "      <td>0.868966</td>\n",
              "      <td>0.000481</td>\n",
              "    </tr>\n",
              "    <tr>\n",
              "      <th>222</th>\n",
              "      <td>entropy</td>\n",
              "      <td>best</td>\n",
              "      <td>log2</td>\n",
              "      <td>26</td>\n",
              "      <td>1.000000</td>\n",
              "      <td>0.896552</td>\n",
              "      <td>0.000532</td>\n",
              "    </tr>\n",
              "    <tr>\n",
              "      <th>223</th>\n",
              "      <td>entropy</td>\n",
              "      <td>best</td>\n",
              "      <td>log2</td>\n",
              "      <td>28</td>\n",
              "      <td>1.000000</td>\n",
              "      <td>0.910345</td>\n",
              "      <td>0.000599</td>\n",
              "    </tr>\n",
              "  </tbody>\n",
              "</table>\n",
              "<p>224 rows × 7 columns</p>\n",
              "</div>"
            ],
            "text/plain": [
              "    criterion splitter  ... testingAccuracy performance\n",
              "0        gini   random  ...        0.848276    0.000549\n",
              "1        gini   random  ...        0.868966    0.000289\n",
              "2        gini   random  ...        0.882759    0.000414\n",
              "3        gini   random  ...        0.868966    0.000308\n",
              "4        gini   random  ...        0.848276    0.000904\n",
              "..        ...      ...  ...             ...         ...\n",
              "219   entropy     best  ...        0.903448    0.000499\n",
              "220   entropy     best  ...        0.882759    0.000530\n",
              "221   entropy     best  ...        0.868966    0.000481\n",
              "222   entropy     best  ...        0.896552    0.000532\n",
              "223   entropy     best  ...        0.910345    0.000599\n",
              "\n",
              "[224 rows x 7 columns]"
            ]
          },
          "metadata": {
            "tags": []
          },
          "execution_count": 34
        }
      ]
    },
    {
      "cell_type": "markdown",
      "metadata": {
        "id": "CNRODPSrxpNy"
      },
      "source": [
        "#### Naive Bayes"
      ]
    },
    {
      "cell_type": "code",
      "metadata": {
        "colab": {
          "base_uri": "https://localhost:8080/",
          "height": 80
        },
        "id": "RXK40OLPyF0x",
        "outputId": "0a20a671-5c02-45a5-a000-f589d925fd27"
      },
      "source": [
        "seisms_perf_NB_df = run_analysis_NB(X_train=X_train, y_train=y_train, X_test=X_test, y_test=y_test, betas=betas, learning_rates=learning_rates, batch_sizes=batch_sizes, verbose=False)\n",
        "seisms_perf_NB_df"
      ],
      "execution_count": null,
      "outputs": [
        {
          "output_type": "execute_result",
          "data": {
            "text/html": [
              "<div>\n",
              "<style scoped>\n",
              "    .dataframe tbody tr th:only-of-type {\n",
              "        vertical-align: middle;\n",
              "    }\n",
              "\n",
              "    .dataframe tbody tr th {\n",
              "        vertical-align: top;\n",
              "    }\n",
              "\n",
              "    .dataframe thead th {\n",
              "        text-align: right;\n",
              "    }\n",
              "</style>\n",
              "<table border=\"1\" class=\"dataframe\">\n",
              "  <thead>\n",
              "    <tr style=\"text-align: right;\">\n",
              "      <th></th>\n",
              "      <th>trainingAccuracy</th>\n",
              "      <th>testingAccuracy</th>\n",
              "      <th>performance</th>\n",
              "    </tr>\n",
              "  </thead>\n",
              "  <tbody>\n",
              "    <tr>\n",
              "      <th>0</th>\n",
              "      <td>0.911864</td>\n",
              "      <td>0.917241</td>\n",
              "      <td>0.000652</td>\n",
              "    </tr>\n",
              "  </tbody>\n",
              "</table>\n",
              "</div>"
            ],
            "text/plain": [
              "   trainingAccuracy  testingAccuracy  performance\n",
              "0          0.911864         0.917241     0.000652"
            ]
          },
          "metadata": {
            "tags": []
          },
          "execution_count": 35
        }
      ]
    },
    {
      "cell_type": "markdown",
      "metadata": {
        "id": "n3ev4WkieKgV"
      },
      "source": [
        "### Testing credit-G 2 classes OPEN-ML Dataset:\n"
      ]
    },
    {
      "cell_type": "markdown",
      "metadata": {
        "id": "X2k5a4i-zFn_"
      },
      "source": [
        "#### Loading and splitting the dataset:"
      ]
    },
    {
      "cell_type": "code",
      "metadata": {
        "colab": {
          "base_uri": "https://localhost:8080/"
        },
        "id": "91YyX71weOsb",
        "outputId": "fa3e0d1a-f6eb-4763-b63b-64654205a7f8"
      },
      "source": [
        "betas = [0.01,0.2,0.5,0.8, 0.9, 0.95, 0.99]\n",
        "learning_rates = [0.0001, 0.001, 0.01, 0.1, 0.5, 1]\n",
        "\n",
        "from sklearn.datasets import fetch_openml\n",
        "dataset_credit = fetch_openml(data_id=1500)\n",
        "\n",
        "x_credit, y_credit = dataset_credit['data'], (np.array(list(map(int, dataset_credit['target']))) - 1).astype('int')\n",
        "\n",
        "print(np.unique(y_credit))"
      ],
      "execution_count": null,
      "outputs": [
        {
          "output_type": "stream",
          "text": [
            "[0 1 2]\n"
          ],
          "name": "stdout"
        }
      ]
    },
    {
      "cell_type": "code",
      "metadata": {
        "colab": {
          "base_uri": "https://localhost:8080/"
        },
        "id": "gsUiAr6JBw9Q",
        "outputId": "b21a49fd-7fa4-49ab-f4cb-80ffb86105fd"
      },
      "source": [
        "# Split data into train and test subsets\n",
        "X_train, X_test, y_train, y_test, validation_size = data_split(data=x_credit, target=y_credit, test_size=0.7, shuffle=True)\n",
        "\n",
        "batch_sizes = [1, 2, 5, 10, 25, 50]\n",
        "for i in list(range(50, X_test.shape[0]-1, X_test.shape[0]//5)):\n",
        "    if i not in batch_sizes:\n",
        "        batch_sizes.append(i)\n",
        "print(batch_sizes)"
      ],
      "execution_count": null,
      "outputs": [
        {
          "output_type": "stream",
          "text": [
            "[1, 2, 5, 10, 25, 50]\n"
          ],
          "name": "stdout"
        }
      ]
    },
    {
      "cell_type": "markdown",
      "metadata": {
        "id": "r_ebV-KgBw9Q"
      },
      "source": [
        "#### Softmax:"
      ]
    },
    {
      "cell_type": "code",
      "metadata": {
        "colab": {
          "base_uri": "https://localhost:8080/",
          "height": 419
        },
        "id": "oxmBIU08Bw9Q",
        "outputId": "fdc6c622-eebc-4205-aaab-8adffc1d1583"
      },
      "source": [
        "try:\n",
        "    credit_perf_df = pd.read_csv(f'{path}/credit_perf_df.csv')\n",
        "except FileNotFoundError:\n",
        "    credit_perf_df = run_analysis(X_train=X_train, y_train=y_train, X_test=X_test, y_test=y_test,\n",
        "                                  validation_size=validation_size, betas=betas, learning_rates=learning_rates,\n",
        "                                  batch_sizes=batch_sizes, verbose=False, k_fold=5)\n",
        "credit_perf_df"
      ],
      "execution_count": null,
      "outputs": [
        {
          "output_type": "execute_result",
          "data": {
            "text/html": [
              "<div>\n",
              "<style scoped>\n",
              "    .dataframe tbody tr th:only-of-type {\n",
              "        vertical-align: middle;\n",
              "    }\n",
              "\n",
              "    .dataframe tbody tr th {\n",
              "        vertical-align: top;\n",
              "    }\n",
              "\n",
              "    .dataframe thead th {\n",
              "        text-align: right;\n",
              "    }\n",
              "</style>\n",
              "<table border=\"1\" class=\"dataframe\">\n",
              "  <thead>\n",
              "    <tr style=\"text-align: right;\">\n",
              "      <th></th>\n",
              "      <th>beta</th>\n",
              "      <th>learning_rate</th>\n",
              "      <th>batch_size</th>\n",
              "      <th>trainingAccuracy</th>\n",
              "      <th>testingAccuracy</th>\n",
              "      <th>performance</th>\n",
              "    </tr>\n",
              "  </thead>\n",
              "  <tbody>\n",
              "    <tr>\n",
              "      <th>0</th>\n",
              "      <td>0.01</td>\n",
              "      <td>0.0001</td>\n",
              "      <td>1.0</td>\n",
              "      <td>0.365079</td>\n",
              "      <td>0.408163</td>\n",
              "      <td>0.343601</td>\n",
              "    </tr>\n",
              "    <tr>\n",
              "      <th>1</th>\n",
              "      <td>0.01</td>\n",
              "      <td>0.0001</td>\n",
              "      <td>2.0</td>\n",
              "      <td>0.555556</td>\n",
              "      <td>0.551020</td>\n",
              "      <td>0.260316</td>\n",
              "    </tr>\n",
              "    <tr>\n",
              "      <th>2</th>\n",
              "      <td>0.01</td>\n",
              "      <td>0.0001</td>\n",
              "      <td>5.0</td>\n",
              "      <td>0.904762</td>\n",
              "      <td>0.857143</td>\n",
              "      <td>0.204104</td>\n",
              "    </tr>\n",
              "    <tr>\n",
              "      <th>3</th>\n",
              "      <td>0.01</td>\n",
              "      <td>0.0001</td>\n",
              "      <td>10.0</td>\n",
              "      <td>0.888889</td>\n",
              "      <td>0.877551</td>\n",
              "      <td>0.201605</td>\n",
              "    </tr>\n",
              "    <tr>\n",
              "      <th>4</th>\n",
              "      <td>0.01</td>\n",
              "      <td>0.0001</td>\n",
              "      <td>25.0</td>\n",
              "      <td>0.920635</td>\n",
              "      <td>0.884354</td>\n",
              "      <td>0.194676</td>\n",
              "    </tr>\n",
              "    <tr>\n",
              "      <th>...</th>\n",
              "      <td>...</td>\n",
              "      <td>...</td>\n",
              "      <td>...</td>\n",
              "      <td>...</td>\n",
              "      <td>...</td>\n",
              "      <td>...</td>\n",
              "    </tr>\n",
              "    <tr>\n",
              "      <th>415</th>\n",
              "      <td>0.99</td>\n",
              "      <td>1.0000</td>\n",
              "      <td>50.0</td>\n",
              "      <td>0.888889</td>\n",
              "      <td>0.870748</td>\n",
              "      <td>0.172930</td>\n",
              "    </tr>\n",
              "    <tr>\n",
              "      <th>416</th>\n",
              "      <td>0.99</td>\n",
              "      <td>1.0000</td>\n",
              "      <td>50.0</td>\n",
              "      <td>0.888889</td>\n",
              "      <td>0.870748</td>\n",
              "      <td>0.172563</td>\n",
              "    </tr>\n",
              "    <tr>\n",
              "      <th>417</th>\n",
              "      <td>0.99</td>\n",
              "      <td>1.0000</td>\n",
              "      <td>79.0</td>\n",
              "      <td>0.888889</td>\n",
              "      <td>0.870748</td>\n",
              "      <td>0.174380</td>\n",
              "    </tr>\n",
              "    <tr>\n",
              "      <th>418</th>\n",
              "      <td>0.99</td>\n",
              "      <td>1.0000</td>\n",
              "      <td>108.0</td>\n",
              "      <td>0.888889</td>\n",
              "      <td>0.870748</td>\n",
              "      <td>0.174607</td>\n",
              "    </tr>\n",
              "    <tr>\n",
              "      <th>419</th>\n",
              "      <td>0.99</td>\n",
              "      <td>1.0000</td>\n",
              "      <td>137.0</td>\n",
              "      <td>0.888889</td>\n",
              "      <td>0.870748</td>\n",
              "      <td>0.196500</td>\n",
              "    </tr>\n",
              "  </tbody>\n",
              "</table>\n",
              "<p>420 rows × 6 columns</p>\n",
              "</div>"
            ],
            "text/plain": [
              "     beta  learning_rate  ...  testingAccuracy  performance\n",
              "0    0.01         0.0001  ...         0.408163     0.343601\n",
              "1    0.01         0.0001  ...         0.551020     0.260316\n",
              "2    0.01         0.0001  ...         0.857143     0.204104\n",
              "3    0.01         0.0001  ...         0.877551     0.201605\n",
              "4    0.01         0.0001  ...         0.884354     0.194676\n",
              "..    ...            ...  ...              ...          ...\n",
              "415  0.99         1.0000  ...         0.870748     0.172930\n",
              "416  0.99         1.0000  ...         0.870748     0.172563\n",
              "417  0.99         1.0000  ...         0.870748     0.174380\n",
              "418  0.99         1.0000  ...         0.870748     0.174607\n",
              "419  0.99         1.0000  ...         0.870748     0.196500\n",
              "\n",
              "[420 rows x 6 columns]"
            ]
          },
          "metadata": {
            "tags": []
          },
          "execution_count": 38
        }
      ]
    },
    {
      "cell_type": "markdown",
      "metadata": {
        "id": "NO-j7tydzU1V"
      },
      "source": [
        "#### Softmax:"
      ]
    },
    {
      "cell_type": "markdown",
      "metadata": {
        "id": "HLkRanpozXFZ"
      },
      "source": [
        "#### KNN:"
      ]
    },
    {
      "cell_type": "code",
      "metadata": {
        "colab": {
          "base_uri": "https://localhost:8080/",
          "height": 1000
        },
        "id": "eQ8d2EOdefJZ",
        "outputId": "2bfdf734-8ebe-4215-8efe-a49414840d01"
      },
      "source": [
        "credit_perf_KNN_df = run_analysis_KNN(X_train=X_train, y_train=y_train, X_test=X_test, y_test=y_test, betas=betas, learning_rates=learning_rates, batch_sizes=batch_sizes, verbose=False)\n",
        "credit_perf_KNN_df"
      ],
      "execution_count": null,
      "outputs": [
        {
          "output_type": "stream",
          "text": [
            "0.00% completed\n",
            "6.67% completed\n",
            "13.33% completed\n",
            "20.00% completed\n",
            "26.67% completed\n",
            "33.33% completed\n",
            "40.00% completed\n",
            "46.67% completed\n",
            "53.33% completed\n",
            "60.00% completed\n",
            "66.67% completed\n",
            "73.33% completed\n",
            "80.00% completed\n",
            "86.67% completed\n",
            "93.33% completed\n"
          ],
          "name": "stdout"
        },
        {
          "output_type": "execute_result",
          "data": {
            "text/html": [
              "<div>\n",
              "<style scoped>\n",
              "    .dataframe tbody tr th:only-of-type {\n",
              "        vertical-align: middle;\n",
              "    }\n",
              "\n",
              "    .dataframe tbody tr th {\n",
              "        vertical-align: top;\n",
              "    }\n",
              "\n",
              "    .dataframe thead th {\n",
              "        text-align: right;\n",
              "    }\n",
              "</style>\n",
              "<table border=\"1\" class=\"dataframe\">\n",
              "  <thead>\n",
              "    <tr style=\"text-align: right;\">\n",
              "      <th></th>\n",
              "      <th>num_neighbours</th>\n",
              "      <th>power_parameter</th>\n",
              "      <th>trainingAccuracy</th>\n",
              "      <th>testingAccuracy</th>\n",
              "      <th>performance</th>\n",
              "    </tr>\n",
              "  </thead>\n",
              "  <tbody>\n",
              "    <tr>\n",
              "      <th>0</th>\n",
              "      <td>1.0</td>\n",
              "      <td>1.0</td>\n",
              "      <td>1.000000</td>\n",
              "      <td>0.917241</td>\n",
              "      <td>0.000449</td>\n",
              "    </tr>\n",
              "    <tr>\n",
              "      <th>1</th>\n",
              "      <td>3.0</td>\n",
              "      <td>1.0</td>\n",
              "      <td>0.959322</td>\n",
              "      <td>0.910345</td>\n",
              "      <td>0.000324</td>\n",
              "    </tr>\n",
              "    <tr>\n",
              "      <th>2</th>\n",
              "      <td>5.0</td>\n",
              "      <td>1.0</td>\n",
              "      <td>0.930508</td>\n",
              "      <td>0.889655</td>\n",
              "      <td>0.000388</td>\n",
              "    </tr>\n",
              "    <tr>\n",
              "      <th>3</th>\n",
              "      <td>7.0</td>\n",
              "      <td>1.0</td>\n",
              "      <td>0.925424</td>\n",
              "      <td>0.917241</td>\n",
              "      <td>0.000536</td>\n",
              "    </tr>\n",
              "    <tr>\n",
              "      <th>4</th>\n",
              "      <td>9.0</td>\n",
              "      <td>1.0</td>\n",
              "      <td>0.925424</td>\n",
              "      <td>0.910345</td>\n",
              "      <td>0.000420</td>\n",
              "    </tr>\n",
              "    <tr>\n",
              "      <th>5</th>\n",
              "      <td>11.0</td>\n",
              "      <td>1.0</td>\n",
              "      <td>0.922034</td>\n",
              "      <td>0.917241</td>\n",
              "      <td>0.000332</td>\n",
              "    </tr>\n",
              "    <tr>\n",
              "      <th>6</th>\n",
              "      <td>13.0</td>\n",
              "      <td>1.0</td>\n",
              "      <td>0.925424</td>\n",
              "      <td>0.917241</td>\n",
              "      <td>0.000428</td>\n",
              "    </tr>\n",
              "    <tr>\n",
              "      <th>7</th>\n",
              "      <td>15.0</td>\n",
              "      <td>1.0</td>\n",
              "      <td>0.925424</td>\n",
              "      <td>0.917241</td>\n",
              "      <td>0.000326</td>\n",
              "    </tr>\n",
              "    <tr>\n",
              "      <th>8</th>\n",
              "      <td>17.0</td>\n",
              "      <td>1.0</td>\n",
              "      <td>0.928814</td>\n",
              "      <td>0.910345</td>\n",
              "      <td>0.000397</td>\n",
              "    </tr>\n",
              "    <tr>\n",
              "      <th>9</th>\n",
              "      <td>19.0</td>\n",
              "      <td>1.0</td>\n",
              "      <td>0.925424</td>\n",
              "      <td>0.910345</td>\n",
              "      <td>0.000455</td>\n",
              "    </tr>\n",
              "    <tr>\n",
              "      <th>10</th>\n",
              "      <td>21.0</td>\n",
              "      <td>1.0</td>\n",
              "      <td>0.918644</td>\n",
              "      <td>0.896552</td>\n",
              "      <td>0.000412</td>\n",
              "    </tr>\n",
              "    <tr>\n",
              "      <th>11</th>\n",
              "      <td>23.0</td>\n",
              "      <td>1.0</td>\n",
              "      <td>0.922034</td>\n",
              "      <td>0.903448</td>\n",
              "      <td>0.000363</td>\n",
              "    </tr>\n",
              "    <tr>\n",
              "      <th>12</th>\n",
              "      <td>25.0</td>\n",
              "      <td>1.0</td>\n",
              "      <td>0.922034</td>\n",
              "      <td>0.896552</td>\n",
              "      <td>0.000463</td>\n",
              "    </tr>\n",
              "    <tr>\n",
              "      <th>13</th>\n",
              "      <td>27.0</td>\n",
              "      <td>1.0</td>\n",
              "      <td>0.910169</td>\n",
              "      <td>0.903448</td>\n",
              "      <td>0.000322</td>\n",
              "    </tr>\n",
              "    <tr>\n",
              "      <th>14</th>\n",
              "      <td>29.0</td>\n",
              "      <td>1.0</td>\n",
              "      <td>0.905085</td>\n",
              "      <td>0.889655</td>\n",
              "      <td>0.000430</td>\n",
              "    </tr>\n",
              "    <tr>\n",
              "      <th>15</th>\n",
              "      <td>1.0</td>\n",
              "      <td>2.0</td>\n",
              "      <td>1.000000</td>\n",
              "      <td>0.896552</td>\n",
              "      <td>0.000378</td>\n",
              "    </tr>\n",
              "    <tr>\n",
              "      <th>16</th>\n",
              "      <td>3.0</td>\n",
              "      <td>2.0</td>\n",
              "      <td>0.940678</td>\n",
              "      <td>0.903448</td>\n",
              "      <td>0.000471</td>\n",
              "    </tr>\n",
              "    <tr>\n",
              "      <th>17</th>\n",
              "      <td>5.0</td>\n",
              "      <td>2.0</td>\n",
              "      <td>0.923729</td>\n",
              "      <td>0.896552</td>\n",
              "      <td>0.000329</td>\n",
              "    </tr>\n",
              "    <tr>\n",
              "      <th>18</th>\n",
              "      <td>7.0</td>\n",
              "      <td>2.0</td>\n",
              "      <td>0.930508</td>\n",
              "      <td>0.917241</td>\n",
              "      <td>0.000343</td>\n",
              "    </tr>\n",
              "    <tr>\n",
              "      <th>19</th>\n",
              "      <td>9.0</td>\n",
              "      <td>2.0</td>\n",
              "      <td>0.940678</td>\n",
              "      <td>0.910345</td>\n",
              "      <td>0.000366</td>\n",
              "    </tr>\n",
              "    <tr>\n",
              "      <th>20</th>\n",
              "      <td>11.0</td>\n",
              "      <td>2.0</td>\n",
              "      <td>0.930508</td>\n",
              "      <td>0.917241</td>\n",
              "      <td>0.000353</td>\n",
              "    </tr>\n",
              "    <tr>\n",
              "      <th>21</th>\n",
              "      <td>13.0</td>\n",
              "      <td>2.0</td>\n",
              "      <td>0.935593</td>\n",
              "      <td>0.924138</td>\n",
              "      <td>0.000326</td>\n",
              "    </tr>\n",
              "    <tr>\n",
              "      <th>22</th>\n",
              "      <td>15.0</td>\n",
              "      <td>2.0</td>\n",
              "      <td>0.937288</td>\n",
              "      <td>0.917241</td>\n",
              "      <td>0.000463</td>\n",
              "    </tr>\n",
              "    <tr>\n",
              "      <th>23</th>\n",
              "      <td>17.0</td>\n",
              "      <td>2.0</td>\n",
              "      <td>0.937288</td>\n",
              "      <td>0.910345</td>\n",
              "      <td>0.000331</td>\n",
              "    </tr>\n",
              "    <tr>\n",
              "      <th>24</th>\n",
              "      <td>19.0</td>\n",
              "      <td>2.0</td>\n",
              "      <td>0.933898</td>\n",
              "      <td>0.910345</td>\n",
              "      <td>0.000419</td>\n",
              "    </tr>\n",
              "    <tr>\n",
              "      <th>25</th>\n",
              "      <td>21.0</td>\n",
              "      <td>2.0</td>\n",
              "      <td>0.937288</td>\n",
              "      <td>0.910345</td>\n",
              "      <td>0.000328</td>\n",
              "    </tr>\n",
              "    <tr>\n",
              "      <th>26</th>\n",
              "      <td>23.0</td>\n",
              "      <td>2.0</td>\n",
              "      <td>0.933898</td>\n",
              "      <td>0.903448</td>\n",
              "      <td>0.000354</td>\n",
              "    </tr>\n",
              "    <tr>\n",
              "      <th>27</th>\n",
              "      <td>25.0</td>\n",
              "      <td>2.0</td>\n",
              "      <td>0.923729</td>\n",
              "      <td>0.903448</td>\n",
              "      <td>0.000342</td>\n",
              "    </tr>\n",
              "    <tr>\n",
              "      <th>28</th>\n",
              "      <td>27.0</td>\n",
              "      <td>2.0</td>\n",
              "      <td>0.928814</td>\n",
              "      <td>0.889655</td>\n",
              "      <td>0.000427</td>\n",
              "    </tr>\n",
              "    <tr>\n",
              "      <th>29</th>\n",
              "      <td>29.0</td>\n",
              "      <td>2.0</td>\n",
              "      <td>0.922034</td>\n",
              "      <td>0.896552</td>\n",
              "      <td>0.000382</td>\n",
              "    </tr>\n",
              "  </tbody>\n",
              "</table>\n",
              "</div>"
            ],
            "text/plain": [
              "    num_neighbours  power_parameter  ...  testingAccuracy  performance\n",
              "0              1.0              1.0  ...         0.917241     0.000449\n",
              "1              3.0              1.0  ...         0.910345     0.000324\n",
              "2              5.0              1.0  ...         0.889655     0.000388\n",
              "3              7.0              1.0  ...         0.917241     0.000536\n",
              "4              9.0              1.0  ...         0.910345     0.000420\n",
              "5             11.0              1.0  ...         0.917241     0.000332\n",
              "6             13.0              1.0  ...         0.917241     0.000428\n",
              "7             15.0              1.0  ...         0.917241     0.000326\n",
              "8             17.0              1.0  ...         0.910345     0.000397\n",
              "9             19.0              1.0  ...         0.910345     0.000455\n",
              "10            21.0              1.0  ...         0.896552     0.000412\n",
              "11            23.0              1.0  ...         0.903448     0.000363\n",
              "12            25.0              1.0  ...         0.896552     0.000463\n",
              "13            27.0              1.0  ...         0.903448     0.000322\n",
              "14            29.0              1.0  ...         0.889655     0.000430\n",
              "15             1.0              2.0  ...         0.896552     0.000378\n",
              "16             3.0              2.0  ...         0.903448     0.000471\n",
              "17             5.0              2.0  ...         0.896552     0.000329\n",
              "18             7.0              2.0  ...         0.917241     0.000343\n",
              "19             9.0              2.0  ...         0.910345     0.000366\n",
              "20            11.0              2.0  ...         0.917241     0.000353\n",
              "21            13.0              2.0  ...         0.924138     0.000326\n",
              "22            15.0              2.0  ...         0.917241     0.000463\n",
              "23            17.0              2.0  ...         0.910345     0.000331\n",
              "24            19.0              2.0  ...         0.910345     0.000419\n",
              "25            21.0              2.0  ...         0.910345     0.000328\n",
              "26            23.0              2.0  ...         0.903448     0.000354\n",
              "27            25.0              2.0  ...         0.903448     0.000342\n",
              "28            27.0              2.0  ...         0.889655     0.000427\n",
              "29            29.0              2.0  ...         0.896552     0.000382\n",
              "\n",
              "[30 rows x 5 columns]"
            ]
          },
          "metadata": {
            "tags": []
          },
          "execution_count": 39
        }
      ]
    },
    {
      "cell_type": "markdown",
      "metadata": {
        "id": "natWkV9bzZ1-"
      },
      "source": [
        "#### Decision Tree"
      ]
    },
    {
      "cell_type": "code",
      "metadata": {
        "colab": {
          "base_uri": "https://localhost:8080/",
          "height": 1000
        },
        "id": "Rdla5b2prblv",
        "outputId": "4e8d3e76-7aef-4e6c-93ef-e870894f4dea"
      },
      "source": [
        "credit_perf_tree_df = run_analysis_tree(X_train=X_train, y_train=y_train, X_test=X_test, y_test=y_test, betas=betas, learning_rates=learning_rates, batch_sizes=batch_sizes, verbose=False)\n",
        "credit_perf_tree_df"
      ],
      "execution_count": null,
      "outputs": [
        {
          "output_type": "stream",
          "text": [
            "0.00% completed\n",
            "0.89% completed\n",
            "1.79% completed\n",
            "2.68% completed\n",
            "3.57% completed\n",
            "4.46% completed\n",
            "5.36% completed\n",
            "6.25% completed\n",
            "7.14% completed\n",
            "8.04% completed\n",
            "8.93% completed\n",
            "9.82% completed\n",
            "10.71% completed\n",
            "11.61% completed\n",
            "12.50% completed\n",
            "13.39% completed\n",
            "14.29% completed\n",
            "15.18% completed\n",
            "16.07% completed\n",
            "16.96% completed\n",
            "17.86% completed\n",
            "18.75% completed\n",
            "19.64% completed\n",
            "20.54% completed\n",
            "21.43% completed\n",
            "22.32% completed\n",
            "23.21% completed\n",
            "24.11% completed\n",
            "25.00% completed\n",
            "25.89% completed\n",
            "26.79% completed\n",
            "27.68% completed\n",
            "28.57% completed\n",
            "29.46% completed\n",
            "30.36% completed\n",
            "31.25% completed\n",
            "32.14% completed\n",
            "33.04% completed\n",
            "33.93% completed\n",
            "34.82% completed\n",
            "35.71% completed\n",
            "36.61% completed\n",
            "37.50% completed\n",
            "38.39% completed\n",
            "39.29% completed\n",
            "40.18% completed\n",
            "41.07% completed\n",
            "41.96% completed\n",
            "42.86% completed\n",
            "43.75% completed\n",
            "44.64% completed\n",
            "45.54% completed\n",
            "46.43% completed\n",
            "47.32% completed\n",
            "48.21% completed\n",
            "49.11% completed\n",
            "50.00% completed\n",
            "50.89% completed\n",
            "51.79% completed\n",
            "52.68% completed\n",
            "53.57% completed\n",
            "54.46% completed\n",
            "55.36% completed\n",
            "56.25% completed\n",
            "57.14% completed\n",
            "58.04% completed\n",
            "58.93% completed\n",
            "59.82% completed\n",
            "60.71% completed\n",
            "61.61% completed\n",
            "62.50% completed\n",
            "63.39% completed\n",
            "64.29% completed\n",
            "65.18% completed\n",
            "66.07% completed\n",
            "66.96% completed\n",
            "67.86% completed\n",
            "68.75% completed\n",
            "69.64% completed\n",
            "70.54% completed\n",
            "71.43% completed\n",
            "72.32% completed\n",
            "73.21% completed\n",
            "74.11% completed\n",
            "75.00% completed\n",
            "75.89% completed\n",
            "76.79% completed\n",
            "77.68% completed\n",
            "78.57% completed\n",
            "79.46% completed\n",
            "80.36% completed\n",
            "81.25% completed\n",
            "82.14% completed\n",
            "83.04% completed\n",
            "83.93% completed\n",
            "84.82% completed\n",
            "85.71% completed\n",
            "86.61% completed\n",
            "87.50% completed\n",
            "88.39% completed\n",
            "89.29% completed\n",
            "90.18% completed\n",
            "91.07% completed\n",
            "91.96% completed\n",
            "92.86% completed\n",
            "93.75% completed\n",
            "94.64% completed\n",
            "95.54% completed\n",
            "96.43% completed\n",
            "97.32% completed\n",
            "98.21% completed\n",
            "99.11% completed\n"
          ],
          "name": "stdout"
        },
        {
          "output_type": "execute_result",
          "data": {
            "text/html": [
              "<div>\n",
              "<style scoped>\n",
              "    .dataframe tbody tr th:only-of-type {\n",
              "        vertical-align: middle;\n",
              "    }\n",
              "\n",
              "    .dataframe tbody tr th {\n",
              "        vertical-align: top;\n",
              "    }\n",
              "\n",
              "    .dataframe thead th {\n",
              "        text-align: right;\n",
              "    }\n",
              "</style>\n",
              "<table border=\"1\" class=\"dataframe\">\n",
              "  <thead>\n",
              "    <tr style=\"text-align: right;\">\n",
              "      <th></th>\n",
              "      <th>criterion</th>\n",
              "      <th>splitter</th>\n",
              "      <th>max_features</th>\n",
              "      <th>max_depth</th>\n",
              "      <th>trainingAccuracy</th>\n",
              "      <th>testingAccuracy</th>\n",
              "      <th>performance</th>\n",
              "    </tr>\n",
              "  </thead>\n",
              "  <tbody>\n",
              "    <tr>\n",
              "      <th>0</th>\n",
              "      <td>gini</td>\n",
              "      <td>random</td>\n",
              "      <td>None</td>\n",
              "      <td>2</td>\n",
              "      <td>0.864407</td>\n",
              "      <td>0.875862</td>\n",
              "      <td>0.000463</td>\n",
              "    </tr>\n",
              "    <tr>\n",
              "      <th>1</th>\n",
              "      <td>gini</td>\n",
              "      <td>random</td>\n",
              "      <td>None</td>\n",
              "      <td>4</td>\n",
              "      <td>0.942373</td>\n",
              "      <td>0.855172</td>\n",
              "      <td>0.000278</td>\n",
              "    </tr>\n",
              "    <tr>\n",
              "      <th>2</th>\n",
              "      <td>gini</td>\n",
              "      <td>random</td>\n",
              "      <td>None</td>\n",
              "      <td>6</td>\n",
              "      <td>0.988136</td>\n",
              "      <td>0.868966</td>\n",
              "      <td>0.000362</td>\n",
              "    </tr>\n",
              "    <tr>\n",
              "      <th>3</th>\n",
              "      <td>gini</td>\n",
              "      <td>random</td>\n",
              "      <td>None</td>\n",
              "      <td>8</td>\n",
              "      <td>1.000000</td>\n",
              "      <td>0.931034</td>\n",
              "      <td>0.000318</td>\n",
              "    </tr>\n",
              "    <tr>\n",
              "      <th>4</th>\n",
              "      <td>gini</td>\n",
              "      <td>random</td>\n",
              "      <td>None</td>\n",
              "      <td>10</td>\n",
              "      <td>1.000000</td>\n",
              "      <td>0.875862</td>\n",
              "      <td>0.000455</td>\n",
              "    </tr>\n",
              "    <tr>\n",
              "      <th>...</th>\n",
              "      <td>...</td>\n",
              "      <td>...</td>\n",
              "      <td>...</td>\n",
              "      <td>...</td>\n",
              "      <td>...</td>\n",
              "      <td>...</td>\n",
              "      <td>...</td>\n",
              "    </tr>\n",
              "    <tr>\n",
              "      <th>219</th>\n",
              "      <td>entropy</td>\n",
              "      <td>best</td>\n",
              "      <td>log2</td>\n",
              "      <td>20</td>\n",
              "      <td>1.000000</td>\n",
              "      <td>0.917241</td>\n",
              "      <td>0.000415</td>\n",
              "    </tr>\n",
              "    <tr>\n",
              "      <th>220</th>\n",
              "      <td>entropy</td>\n",
              "      <td>best</td>\n",
              "      <td>log2</td>\n",
              "      <td>22</td>\n",
              "      <td>1.000000</td>\n",
              "      <td>0.855172</td>\n",
              "      <td>0.000528</td>\n",
              "    </tr>\n",
              "    <tr>\n",
              "      <th>221</th>\n",
              "      <td>entropy</td>\n",
              "      <td>best</td>\n",
              "      <td>log2</td>\n",
              "      <td>24</td>\n",
              "      <td>1.000000</td>\n",
              "      <td>0.924138</td>\n",
              "      <td>0.000446</td>\n",
              "    </tr>\n",
              "    <tr>\n",
              "      <th>222</th>\n",
              "      <td>entropy</td>\n",
              "      <td>best</td>\n",
              "      <td>log2</td>\n",
              "      <td>26</td>\n",
              "      <td>1.000000</td>\n",
              "      <td>0.910345</td>\n",
              "      <td>0.000534</td>\n",
              "    </tr>\n",
              "    <tr>\n",
              "      <th>223</th>\n",
              "      <td>entropy</td>\n",
              "      <td>best</td>\n",
              "      <td>log2</td>\n",
              "      <td>28</td>\n",
              "      <td>1.000000</td>\n",
              "      <td>0.889655</td>\n",
              "      <td>0.000466</td>\n",
              "    </tr>\n",
              "  </tbody>\n",
              "</table>\n",
              "<p>224 rows × 7 columns</p>\n",
              "</div>"
            ],
            "text/plain": [
              "    criterion splitter  ... testingAccuracy performance\n",
              "0        gini   random  ...        0.875862    0.000463\n",
              "1        gini   random  ...        0.855172    0.000278\n",
              "2        gini   random  ...        0.868966    0.000362\n",
              "3        gini   random  ...        0.931034    0.000318\n",
              "4        gini   random  ...        0.875862    0.000455\n",
              "..        ...      ...  ...             ...         ...\n",
              "219   entropy     best  ...        0.917241    0.000415\n",
              "220   entropy     best  ...        0.855172    0.000528\n",
              "221   entropy     best  ...        0.924138    0.000446\n",
              "222   entropy     best  ...        0.910345    0.000534\n",
              "223   entropy     best  ...        0.889655    0.000466\n",
              "\n",
              "[224 rows x 7 columns]"
            ]
          },
          "metadata": {
            "tags": []
          },
          "execution_count": 40
        }
      ]
    },
    {
      "cell_type": "markdown",
      "metadata": {
        "id": "o8JtooyXzbpz"
      },
      "source": [
        "#### Naive Bayes"
      ]
    },
    {
      "cell_type": "code",
      "metadata": {
        "colab": {
          "base_uri": "https://localhost:8080/",
          "height": 80
        },
        "id": "X0E808kWzjq4",
        "outputId": "a3be46c1-5e31-4c8c-8ff2-f9302e157670"
      },
      "source": [
        "credit_perf_NB_df = run_analysis_NB(X_train=X_train, y_train=y_train, X_test=X_test, y_test=y_test, betas=betas, learning_rates=learning_rates, batch_sizes=batch_sizes, verbose=False)\n",
        "credit_perf_NB_df"
      ],
      "execution_count": null,
      "outputs": [
        {
          "output_type": "execute_result",
          "data": {
            "text/html": [
              "<div>\n",
              "<style scoped>\n",
              "    .dataframe tbody tr th:only-of-type {\n",
              "        vertical-align: middle;\n",
              "    }\n",
              "\n",
              "    .dataframe tbody tr th {\n",
              "        vertical-align: top;\n",
              "    }\n",
              "\n",
              "    .dataframe thead th {\n",
              "        text-align: right;\n",
              "    }\n",
              "</style>\n",
              "<table border=\"1\" class=\"dataframe\">\n",
              "  <thead>\n",
              "    <tr style=\"text-align: right;\">\n",
              "      <th></th>\n",
              "      <th>trainingAccuracy</th>\n",
              "      <th>testingAccuracy</th>\n",
              "      <th>performance</th>\n",
              "    </tr>\n",
              "  </thead>\n",
              "  <tbody>\n",
              "    <tr>\n",
              "      <th>0</th>\n",
              "      <td>0.918644</td>\n",
              "      <td>0.896552</td>\n",
              "      <td>0.00103</td>\n",
              "    </tr>\n",
              "  </tbody>\n",
              "</table>\n",
              "</div>"
            ],
            "text/plain": [
              "   trainingAccuracy  testingAccuracy  performance\n",
              "0          0.918644         0.896552      0.00103"
            ]
          },
          "metadata": {
            "tags": []
          },
          "execution_count": 41
        }
      ]
    },
    {
      "cell_type": "markdown",
      "metadata": {
        "id": "WGmd7p9bZ7zV"
      },
      "source": [
        "## 3.2 Implement and use 5-fold cross validation to estimate performance, in terms of accuracy"
      ]
    },
    {
      "cell_type": "code",
      "metadata": {
        "id": "MtaBHQghaJiv"
      },
      "source": [
        "# In all of the experiments with respect to batch sizes, learning rates, and momentum parameters, and report the best hyper-parameters you found.\n",
        "# 5 fold here..\n",
        "\n",
        "\n",
        "# track and analyze the validation and training accuracy\n"
      ],
      "execution_count": null,
      "outputs": []
    },
    {
      "cell_type": "markdown",
      "metadata": {
        "id": "klQBmTHVEXNE"
      },
      "source": [
        "## Visualization of hyper-parameters optimization"
      ]
    },
    {
      "cell_type": "code",
      "metadata": {
        "id": "Xuzi2Fb8EkpD"
      },
      "source": [
        "import matplotlib.pyplot as plt\n",
        "from matplotlib import cm\n",
        "from mpl_toolkits.mplot3d import Axes3D\n",
        "\n",
        "def show_3d_plot(perf_df, vmin=None, vmax=None):\n",
        "    betas, learning_rates, batch_sizes = list(zip(*perf_df.index))\n",
        "\n",
        "    fig = plt.figure(figsize=(12,10))\n",
        "    ax = fig.add_subplot(projection='3d')\n",
        "    c = perf_df['testingAccuracy']\n",
        "\n",
        "    p = ax.scatter(xs=learning_rates, ys=betas, zs=batch_sizes, c=c, cmap='YlGnBu', vmin=vmin, vmax=vmax)\n",
        "\n",
        "    ax.set_xlabel('learning rate')\n",
        "    ax.set_ylabel('beta')\n",
        "    ax.set_zlabel('batch size')\n",
        "    cbar = fig.colorbar(p)\n",
        "    cbar.set_label('mean validation accuracy', rotation=270)"
      ],
      "execution_count": null,
      "outputs": []
    },
    {
      "cell_type": "code",
      "metadata": {
        "id": "U-7J2KcsaErC"
      },
      "source": [
        "def get_algo_perf_comparison_df(perf_df):\n",
        "    dict_list = []\n",
        "    for i, df in enumerate(perf_df):\n",
        "        performance_summary = {'mean':df['testingAccuracy'].quantile([0.90, 1]).mean(),\n",
        "                               'std':df['testingAccuracy'].std(),\n",
        "                               'min':df['testingAccuracy'].min(),\n",
        "                               'max':df['testingAccuracy'].max()}\n",
        "        dict_list.append(performance_summary)\n",
        "\n",
        "    return pd.DataFrame(dict_list)"
      ],
      "execution_count": null,
      "outputs": []
    },
    {
      "cell_type": "code",
      "metadata": {
        "id": "65L2AOH-F_tb"
      },
      "source": [
        "def get_algo_time_comparison_df(perf_df):\n",
        "    dict_list = []\n",
        "    for i, df in enumerate(perf_df):\n",
        "        running_time_summary = {'mean':df['performance'].mean(),\n",
        "                               'std':df['performance'].std(),\n",
        "                               }\n",
        "        dict_list.append(running_time_summary)\n",
        "\n",
        "    return pd.DataFrame(dict_list)"
      ],
      "execution_count": null,
      "outputs": []
    },
    {
      "cell_type": "code",
      "metadata": {
        "id": "ApGfnWwtiOQG"
      },
      "source": [
        "def plot_perf_comparison_df(df):\n",
        "    colors=[\"red\", \"green\", \"blue\", \"purple\"]\n",
        "    plt.axhline(y=100, zorder=0)\n",
        "\n",
        "    shift = df['mean'].mean()*100\n",
        "\n",
        "    plt.bar(range(len(['Softmax', 'KNN', 'Decision Tree', 'Naive Bayes'])), (df['max'])*100-shift, bottom=shift, \n",
        "            yerr=df['std'], align='center', alpha=0.5, color=colors)\n",
        "\n",
        "    plt.xticks(range(len(df.columns)), ['Softmax', 'KNN', 'Decision Tree', 'Naive Bayes'])\n",
        "    plt.ylabel('Testing Accuracy')\n",
        "    plt.title('Testing Accuracy across different classifier')\n",
        "    plt.show()"
      ],
      "execution_count": null,
      "outputs": []
    },
    {
      "cell_type": "markdown",
      "metadata": {
        "id": "r8gBij5Oi_3z"
      },
      "source": [
        "#### MNIST Digits:"
      ]
    },
    {
      "cell_type": "code",
      "metadata": {
        "colab": {
          "base_uri": "https://localhost:8080/",
          "height": 450
        },
        "id": "vzvmSHYSLe7C",
        "outputId": "c153bd36-d0de-4c64-bdd7-6af34624bf0a"
      },
      "source": [
        "try:\n",
        "    digits_perf_df.set_index(['beta', 'learning_rate', 'batch_size'], inplace=True)\n",
        "except KeyError:\n",
        "    # indices have already been updated!\n",
        "    pass\n",
        "digits_perf_df.to_csv('./data/digits_perf_df.csv')\n",
        "digits_perf_df"
      ],
      "execution_count": null,
      "outputs": [
        {
          "output_type": "execute_result",
          "data": {
            "text/html": [
              "<div>\n",
              "<style scoped>\n",
              "    .dataframe tbody tr th:only-of-type {\n",
              "        vertical-align: middle;\n",
              "    }\n",
              "\n",
              "    .dataframe tbody tr th {\n",
              "        vertical-align: top;\n",
              "    }\n",
              "\n",
              "    .dataframe thead th {\n",
              "        text-align: right;\n",
              "    }\n",
              "</style>\n",
              "<table border=\"1\" class=\"dataframe\">\n",
              "  <thead>\n",
              "    <tr style=\"text-align: right;\">\n",
              "      <th></th>\n",
              "      <th></th>\n",
              "      <th></th>\n",
              "      <th>trainingAccuracy</th>\n",
              "      <th>testingAccuracy</th>\n",
              "      <th>performance</th>\n",
              "    </tr>\n",
              "    <tr>\n",
              "      <th>beta</th>\n",
              "      <th>learning_rate</th>\n",
              "      <th>batch_size</th>\n",
              "      <th></th>\n",
              "      <th></th>\n",
              "      <th></th>\n",
              "    </tr>\n",
              "  </thead>\n",
              "  <tbody>\n",
              "    <tr>\n",
              "      <th rowspan=\"5\" valign=\"top\">0.01</th>\n",
              "      <th rowspan=\"5\" valign=\"top\">0.0001</th>\n",
              "      <th>1.0</th>\n",
              "      <td>0.918708</td>\n",
              "      <td>0.875417</td>\n",
              "      <td>4.467430</td>\n",
              "    </tr>\n",
              "    <tr>\n",
              "      <th>2.0</th>\n",
              "      <td>0.939866</td>\n",
              "      <td>0.899889</td>\n",
              "      <td>2.895208</td>\n",
              "    </tr>\n",
              "    <tr>\n",
              "      <th>5.0</th>\n",
              "      <td>0.965479</td>\n",
              "      <td>0.915462</td>\n",
              "      <td>1.947239</td>\n",
              "    </tr>\n",
              "    <tr>\n",
              "      <th>10.0</th>\n",
              "      <td>0.983296</td>\n",
              "      <td>0.933259</td>\n",
              "      <td>1.651118</td>\n",
              "    </tr>\n",
              "    <tr>\n",
              "      <th>25.0</th>\n",
              "      <td>0.993318</td>\n",
              "      <td>0.948832</td>\n",
              "      <td>1.483165</td>\n",
              "    </tr>\n",
              "    <tr>\n",
              "      <th>...</th>\n",
              "      <th>...</th>\n",
              "      <th>...</th>\n",
              "      <td>...</td>\n",
              "      <td>...</td>\n",
              "      <td>...</td>\n",
              "    </tr>\n",
              "    <tr>\n",
              "      <th rowspan=\"5\" valign=\"top\">0.99</th>\n",
              "      <th rowspan=\"5\" valign=\"top\">1.0000</th>\n",
              "      <th>50.0</th>\n",
              "      <td>1.000000</td>\n",
              "      <td>0.956618</td>\n",
              "      <td>1.467563</td>\n",
              "    </tr>\n",
              "    <tr>\n",
              "      <th>229.0</th>\n",
              "      <td>1.000000</td>\n",
              "      <td>0.937709</td>\n",
              "      <td>1.871449</td>\n",
              "    </tr>\n",
              "    <tr>\n",
              "      <th>408.0</th>\n",
              "      <td>1.000000</td>\n",
              "      <td>0.935484</td>\n",
              "      <td>1.719678</td>\n",
              "    </tr>\n",
              "    <tr>\n",
              "      <th>587.0</th>\n",
              "      <td>1.000000</td>\n",
              "      <td>0.935484</td>\n",
              "      <td>2.086926</td>\n",
              "    </tr>\n",
              "    <tr>\n",
              "      <th>766.0</th>\n",
              "      <td>1.000000</td>\n",
              "      <td>0.933259</td>\n",
              "      <td>2.092856</td>\n",
              "    </tr>\n",
              "  </tbody>\n",
              "</table>\n",
              "<p>462 rows × 3 columns</p>\n",
              "</div>"
            ],
            "text/plain": [
              "                               trainingAccuracy  testingAccuracy  performance\n",
              "beta learning_rate batch_size                                                \n",
              "0.01 0.0001        1.0                 0.918708         0.875417     4.467430\n",
              "                   2.0                 0.939866         0.899889     2.895208\n",
              "                   5.0                 0.965479         0.915462     1.947239\n",
              "                   10.0                0.983296         0.933259     1.651118\n",
              "                   25.0                0.993318         0.948832     1.483165\n",
              "...                                         ...              ...          ...\n",
              "0.99 1.0000        50.0                1.000000         0.956618     1.467563\n",
              "                   229.0               1.000000         0.937709     1.871449\n",
              "                   408.0               1.000000         0.935484     1.719678\n",
              "                   587.0               1.000000         0.935484     2.086926\n",
              "                   766.0               1.000000         0.933259     2.092856\n",
              "\n",
              "[462 rows x 3 columns]"
            ]
          },
          "metadata": {
            "tags": []
          },
          "execution_count": 47
        }
      ]
    },
    {
      "cell_type": "code",
      "metadata": {
        "colab": {
          "base_uri": "https://localhost:8080/",
          "height": 173
        },
        "id": "V7a3oCm9jixF",
        "outputId": "ad44c1d8-f7b9-4159-977d-1f0f97d11392"
      },
      "source": [
        "digits_comparison_list = [digits_perf_df, digits_perf_KNN_df, digits_perf_tree_df, digits_perf_NB_df]\n",
        "\n",
        "digits_perf_comp_df = get_algo_perf_comparison_df(digits_comparison_list)\n",
        "digits_perf_comp_df['std'] = digits_perf_comp_df['std'].fillna(0)\n",
        "digits_perf_comp_df"
      ],
      "execution_count": null,
      "outputs": [
        {
          "output_type": "execute_result",
          "data": {
            "text/html": [
              "<div>\n",
              "<style scoped>\n",
              "    .dataframe tbody tr th:only-of-type {\n",
              "        vertical-align: middle;\n",
              "    }\n",
              "\n",
              "    .dataframe tbody tr th {\n",
              "        vertical-align: top;\n",
              "    }\n",
              "\n",
              "    .dataframe thead th {\n",
              "        text-align: right;\n",
              "    }\n",
              "</style>\n",
              "<table border=\"1\" class=\"dataframe\">\n",
              "  <thead>\n",
              "    <tr style=\"text-align: right;\">\n",
              "      <th></th>\n",
              "      <th>mean</th>\n",
              "      <th>std</th>\n",
              "      <th>min</th>\n",
              "      <th>max</th>\n",
              "    </tr>\n",
              "  </thead>\n",
              "  <tbody>\n",
              "    <tr>\n",
              "      <th>0</th>\n",
              "      <td>0.956007</td>\n",
              "      <td>0.086472</td>\n",
              "      <td>0.110122</td>\n",
              "      <td>0.958843</td>\n",
              "    </tr>\n",
              "    <tr>\n",
              "      <th>1</th>\n",
              "      <td>0.986853</td>\n",
              "      <td>0.010754</td>\n",
              "      <td>0.950598</td>\n",
              "      <td>0.989641</td>\n",
              "    </tr>\n",
              "    <tr>\n",
              "      <th>2</th>\n",
              "      <td>0.848367</td>\n",
              "      <td>0.139217</td>\n",
              "      <td>0.262948</td>\n",
              "      <td>0.859761</td>\n",
              "    </tr>\n",
              "    <tr>\n",
              "      <th>3</th>\n",
              "      <td>0.850199</td>\n",
              "      <td>0.000000</td>\n",
              "      <td>0.850199</td>\n",
              "      <td>0.850199</td>\n",
              "    </tr>\n",
              "  </tbody>\n",
              "</table>\n",
              "</div>"
            ],
            "text/plain": [
              "       mean       std       min       max\n",
              "0  0.956007  0.086472  0.110122  0.958843\n",
              "1  0.986853  0.010754  0.950598  0.989641\n",
              "2  0.848367  0.139217  0.262948  0.859761\n",
              "3  0.850199  0.000000  0.850199  0.850199"
            ]
          },
          "metadata": {
            "tags": []
          },
          "execution_count": 48
        }
      ]
    },
    {
      "cell_type": "code",
      "metadata": {
        "colab": {
          "base_uri": "https://localhost:8080/",
          "height": 281
        },
        "id": "frB9rSmIjkfp",
        "outputId": "6c9c543e-464e-4483-998f-bf650e032887"
      },
      "source": [
        "plot_perf_comparison_df(digits_perf_comp_df)"
      ],
      "execution_count": null,
      "outputs": [
        {
          "output_type": "display_data",
          "data": {
            "image/png": "[encoded data removed]",
            "text/plain": [
              "<Figure size 432x288 with 1 Axes>"
            ]
          },
          "metadata": {
            "tags": [],
            "needs_background": "light"
          }
        }
      ]
    },
    {
      "cell_type": "code",
      "metadata": {
        "id": "cF0rkXn_KoIi",
        "colab": {
          "base_uri": "https://localhost:8080/",
          "height": 173
        },
        "outputId": "ec9809cb-e3e2-4b83-d0bb-8c61b31c2bee"
      },
      "source": [
        "digits_comparison_list = [digits_perf_df, digits_perf_KNN_df, digits_perf_tree_df, digits_perf_NB_df]\n",
        "\n",
        "digits_time_comp_df = get_algo_time_comparison_df(digits_comparison_list)\n",
        "digits_time_comp_df['std'] = digits_time_comp_df['std'].fillna(0)\n",
        "digits_time_comp_df.rename(columns={0:'Softmax'})"
      ],
      "execution_count": null,
      "outputs": [
        {
          "output_type": "execute_result",
          "data": {
            "text/html": [
              "<div>\n",
              "<style scoped>\n",
              "    .dataframe tbody tr th:only-of-type {\n",
              "        vertical-align: middle;\n",
              "    }\n",
              "\n",
              "    .dataframe tbody tr th {\n",
              "        vertical-align: top;\n",
              "    }\n",
              "\n",
              "    .dataframe thead th {\n",
              "        text-align: right;\n",
              "    }\n",
              "</style>\n",
              "<table border=\"1\" class=\"dataframe\">\n",
              "  <thead>\n",
              "    <tr style=\"text-align: right;\">\n",
              "      <th></th>\n",
              "      <th>mean</th>\n",
              "      <th>std</th>\n",
              "    </tr>\n",
              "  </thead>\n",
              "  <tbody>\n",
              "    <tr>\n",
              "      <th>0</th>\n",
              "      <td>2.096849</td>\n",
              "      <td>0.858572</td>\n",
              "    </tr>\n",
              "    <tr>\n",
              "      <th>1</th>\n",
              "      <td>0.004268</td>\n",
              "      <td>0.000174</td>\n",
              "    </tr>\n",
              "    <tr>\n",
              "      <th>2</th>\n",
              "      <td>0.003507</td>\n",
              "      <td>0.004075</td>\n",
              "    </tr>\n",
              "    <tr>\n",
              "      <th>3</th>\n",
              "      <td>0.001562</td>\n",
              "      <td>0.000000</td>\n",
              "    </tr>\n",
              "  </tbody>\n",
              "</table>\n",
              "</div>"
            ],
            "text/plain": [
              "       mean       std\n",
              "0  2.096849  0.858572\n",
              "1  0.004268  0.000174\n",
              "2  0.003507  0.004075\n",
              "3  0.001562  0.000000"
            ]
          },
          "metadata": {
            "tags": []
          },
          "execution_count": 50
        }
      ]
    },
    {
      "cell_type": "code",
      "metadata": {
        "colab": {
          "base_uri": "https://localhost:8080/"
        },
        "id": "UALHj9EiidBe",
        "outputId": "7da5eb7c-c6f5-4d54-be5b-ffcc5fd2679e"
      },
      "source": [
        "best_parameters_index = digits_perf_df['testingAccuracy'].argmax()\n",
        "digits_perf_df.iloc[best_parameters_index]"
      ],
      "execution_count": null,
      "outputs": [
        {
          "output_type": "execute_result",
          "data": {
            "text/plain": [
              "trainingAccuracy    1.000000\n",
              "testingAccuracy     0.958843\n",
              "performance         1.433596\n",
              "Name: (0.5, 0.001, 50.0), dtype: float64"
            ]
          },
          "metadata": {
            "tags": []
          },
          "execution_count": 51
        }
      ]
    },
    {
      "cell_type": "code",
      "metadata": {
        "colab": {
          "base_uri": "https://localhost:8080/"
        },
        "id": "xdJhH6cImEjx",
        "outputId": "79704167-1569-4a1b-9982-e1196a5c2321"
      },
      "source": [
        "worst_parameters_index = digits_perf_df['testingAccuracy'].argmin()\n",
        "digits_perf_df.iloc[worst_parameters_index]"
      ],
      "execution_count": null,
      "outputs": [
        {
          "output_type": "execute_result",
          "data": {
            "text/plain": [
              "trainingAccuracy    0.110245\n",
              "testingAccuracy     0.110122\n",
              "performance         4.437975\n",
              "Name: (0.99, 0.0001, 1.0), dtype: float64"
            ]
          },
          "metadata": {
            "tags": []
          },
          "execution_count": 52
        }
      ]
    },
    {
      "cell_type": "markdown",
      "metadata": {
        "id": "FLY6-2llSjav"
      },
      "source": [
        "To avoid outliers, we compute \\[0.20, 1.00\\] accuracy interval\n"
      ]
    },
    {
      "cell_type": "code",
      "metadata": {
        "colab": {
          "base_uri": "https://localhost:8080/"
        },
        "id": "V0zM9s0eSoAq",
        "outputId": "fd4e802c-3728-42be-fd7e-d2555b4ecec1"
      },
      "source": [
        "lower_bound, upper_bound = seisms_perf_df['testingAccuracy'].quantile([0.20, 1.0])\n",
        "print(lower_bound, upper_bound)"
      ],
      "execution_count": null,
      "outputs": [
        {
          "output_type": "stream",
          "text": [
            "0.6721088435374151 0.9387755102040816\n"
          ],
          "name": "stdout"
        }
      ]
    },
    {
      "cell_type": "code",
      "metadata": {
        "colab": {
          "base_uri": "https://localhost:8080/",
          "height": 575
        },
        "id": "hUe7KS9Nb1Wo",
        "outputId": "30e76ee2-209c-438b-be93-e3a2423d613b"
      },
      "source": [
        "show_3d_plot(digits_perf_df, vmin=lower_bound, vmax=upper_bound)"
      ],
      "execution_count": null,
      "outputs": [
        {
          "output_type": "display_data",
          "data": {
            "image/png": "[encoded data removed]",
            "text/plain": [
              "<Figure size 864x720 with 2 Axes>"
            ]
          },
          "metadata": {
            "tags": [],
            "needs_background": "light"
          }
        }
      ]
    },
    {
      "cell_type": "markdown",
      "metadata": {
        "id": "tBFlR6VNjijH"
      },
      "source": [
        "#### Iris:"
      ]
    },
    {
      "cell_type": "code",
      "metadata": {
        "colab": {
          "base_uri": "https://localhost:8080/",
          "height": 450
        },
        "id": "alzHceP8GSvg",
        "outputId": "a320ec07-51b8-4ea2-99c3-b06a80254dcc"
      },
      "source": [
        "try:\n",
        "    iris_perf_df.set_index(['beta', 'learning_rate', 'batch_size'], inplace=True)\n",
        "except KeyError:\n",
        "    # indices have already been updated!\n",
        "    pass\n",
        "iris_perf_df.to_csv('./data/iris_perf_df.csv')\n",
        "iris_perf_df"
      ],
      "execution_count": null,
      "outputs": [
        {
          "output_type": "execute_result",
          "data": {
            "text/html": [
              "<div>\n",
              "<style scoped>\n",
              "    .dataframe tbody tr th:only-of-type {\n",
              "        vertical-align: middle;\n",
              "    }\n",
              "\n",
              "    .dataframe tbody tr th {\n",
              "        vertical-align: top;\n",
              "    }\n",
              "\n",
              "    .dataframe thead th {\n",
              "        text-align: right;\n",
              "    }\n",
              "</style>\n",
              "<table border=\"1\" class=\"dataframe\">\n",
              "  <thead>\n",
              "    <tr style=\"text-align: right;\">\n",
              "      <th></th>\n",
              "      <th></th>\n",
              "      <th></th>\n",
              "      <th>trainingAccuracy</th>\n",
              "      <th>testingAccuracy</th>\n",
              "      <th>performance</th>\n",
              "    </tr>\n",
              "    <tr>\n",
              "      <th>beta</th>\n",
              "      <th>learning_rate</th>\n",
              "      <th>batch_size</th>\n",
              "      <th></th>\n",
              "      <th></th>\n",
              "      <th></th>\n",
              "    </tr>\n",
              "  </thead>\n",
              "  <tbody>\n",
              "    <tr>\n",
              "      <th rowspan=\"5\" valign=\"top\">0.01</th>\n",
              "      <th rowspan=\"5\" valign=\"top\">0.0001</th>\n",
              "      <th>1.0</th>\n",
              "      <td>0.364286</td>\n",
              "      <td>0.371429</td>\n",
              "      <td>0.345666</td>\n",
              "    </tr>\n",
              "    <tr>\n",
              "      <th>2.0</th>\n",
              "      <td>0.492857</td>\n",
              "      <td>0.361905</td>\n",
              "      <td>0.254783</td>\n",
              "    </tr>\n",
              "    <tr>\n",
              "      <th>5.0</th>\n",
              "      <td>0.666667</td>\n",
              "      <td>0.666667</td>\n",
              "      <td>0.204674</td>\n",
              "    </tr>\n",
              "    <tr>\n",
              "      <th>10.0</th>\n",
              "      <td>0.740476</td>\n",
              "      <td>0.685714</td>\n",
              "      <td>0.186978</td>\n",
              "    </tr>\n",
              "    <tr>\n",
              "      <th>25.0</th>\n",
              "      <td>0.823810</td>\n",
              "      <td>0.752381</td>\n",
              "      <td>0.176795</td>\n",
              "    </tr>\n",
              "    <tr>\n",
              "      <th>...</th>\n",
              "      <th>...</th>\n",
              "      <th>...</th>\n",
              "      <td>...</td>\n",
              "      <td>...</td>\n",
              "      <td>...</td>\n",
              "    </tr>\n",
              "    <tr>\n",
              "      <th rowspan=\"5\" valign=\"top\">0.99</th>\n",
              "      <th rowspan=\"5\" valign=\"top\">1.0000</th>\n",
              "      <th>2.0</th>\n",
              "      <td>0.916667</td>\n",
              "      <td>0.866667</td>\n",
              "      <td>0.259059</td>\n",
              "    </tr>\n",
              "    <tr>\n",
              "      <th>5.0</th>\n",
              "      <td>0.919048</td>\n",
              "      <td>0.933333</td>\n",
              "      <td>0.210001</td>\n",
              "    </tr>\n",
              "    <tr>\n",
              "      <th>10.0</th>\n",
              "      <td>0.971429</td>\n",
              "      <td>0.971429</td>\n",
              "      <td>0.191581</td>\n",
              "    </tr>\n",
              "    <tr>\n",
              "      <th>25.0</th>\n",
              "      <td>0.973810</td>\n",
              "      <td>0.933333</td>\n",
              "      <td>0.176858</td>\n",
              "    </tr>\n",
              "    <tr>\n",
              "      <th>50.0</th>\n",
              "      <td>0.983333</td>\n",
              "      <td>0.971429</td>\n",
              "      <td>0.170761</td>\n",
              "    </tr>\n",
              "  </tbody>\n",
              "</table>\n",
              "<p>252 rows × 3 columns</p>\n",
              "</div>"
            ],
            "text/plain": [
              "                               trainingAccuracy  testingAccuracy  performance\n",
              "beta learning_rate batch_size                                                \n",
              "0.01 0.0001        1.0                 0.364286         0.371429     0.345666\n",
              "                   2.0                 0.492857         0.361905     0.254783\n",
              "                   5.0                 0.666667         0.666667     0.204674\n",
              "                   10.0                0.740476         0.685714     0.186978\n",
              "                   25.0                0.823810         0.752381     0.176795\n",
              "...                                         ...              ...          ...\n",
              "0.99 1.0000        2.0                 0.916667         0.866667     0.259059\n",
              "                   5.0                 0.919048         0.933333     0.210001\n",
              "                   10.0                0.971429         0.971429     0.191581\n",
              "                   25.0                0.973810         0.933333     0.176858\n",
              "                   50.0                0.983333         0.971429     0.170761\n",
              "\n",
              "[252 rows x 3 columns]"
            ]
          },
          "metadata": {
            "tags": []
          },
          "execution_count": 55
        }
      ]
    },
    {
      "cell_type": "code",
      "metadata": {
        "colab": {
          "base_uri": "https://localhost:8080/",
          "height": 173
        },
        "id": "oNYT0hE3iOQF",
        "outputId": "843d6ea6-4551-497c-b94b-b3fb8dadfd2b"
      },
      "source": [
        "iris_comparison_list = [iris_perf_df, iris_perf_KNN_df, iris_perf_tree_df, iris_perf_NB_df]\n",
        "\n",
        "iris_perf_comp_df = get_algo_perf_comparison_df(iris_comparison_list)\n",
        "iris_perf_comp_df['std'] = iris_perf_comp_df['std'].fillna(0)\n",
        "iris_perf_comp_df"
      ],
      "execution_count": null,
      "outputs": [
        {
          "output_type": "execute_result",
          "data": {
            "text/html": [
              "<div>\n",
              "<style scoped>\n",
              "    .dataframe tbody tr th:only-of-type {\n",
              "        vertical-align: middle;\n",
              "    }\n",
              "\n",
              "    .dataframe tbody tr th {\n",
              "        vertical-align: top;\n",
              "    }\n",
              "\n",
              "    .dataframe thead th {\n",
              "        text-align: right;\n",
              "    }\n",
              "</style>\n",
              "<table border=\"1\" class=\"dataframe\">\n",
              "  <thead>\n",
              "    <tr style=\"text-align: right;\">\n",
              "      <th></th>\n",
              "      <th>mean</th>\n",
              "      <th>std</th>\n",
              "      <th>min</th>\n",
              "      <th>max</th>\n",
              "    </tr>\n",
              "  </thead>\n",
              "  <tbody>\n",
              "    <tr>\n",
              "      <th>0</th>\n",
              "      <td>0.985714</td>\n",
              "      <td>0.213983</td>\n",
              "      <td>0.247619</td>\n",
              "      <td>0.990476</td>\n",
              "    </tr>\n",
              "    <tr>\n",
              "      <th>1</th>\n",
              "      <td>0.971429</td>\n",
              "      <td>0.013329</td>\n",
              "      <td>0.923810</td>\n",
              "      <td>0.971429</td>\n",
              "    </tr>\n",
              "    <tr>\n",
              "      <th>2</th>\n",
              "      <td>0.966667</td>\n",
              "      <td>0.043241</td>\n",
              "      <td>0.619048</td>\n",
              "      <td>0.980952</td>\n",
              "    </tr>\n",
              "    <tr>\n",
              "      <th>3</th>\n",
              "      <td>0.942857</td>\n",
              "      <td>0.000000</td>\n",
              "      <td>0.942857</td>\n",
              "      <td>0.942857</td>\n",
              "    </tr>\n",
              "  </tbody>\n",
              "</table>\n",
              "</div>"
            ],
            "text/plain": [
              "       mean       std       min       max\n",
              "0  0.985714  0.213983  0.247619  0.990476\n",
              "1  0.971429  0.013329  0.923810  0.971429\n",
              "2  0.966667  0.043241  0.619048  0.980952\n",
              "3  0.942857  0.000000  0.942857  0.942857"
            ]
          },
          "metadata": {
            "tags": []
          },
          "execution_count": 56
        }
      ]
    },
    {
      "cell_type": "code",
      "metadata": {
        "colab": {
          "base_uri": "https://localhost:8080/",
          "height": 281
        },
        "id": "78erLIpYjasC",
        "outputId": "604cbf93-9699-4060-b3b4-dab88252a232"
      },
      "source": [
        "plot_perf_comparison_df(iris_perf_comp_df)"
      ],
      "execution_count": null,
      "outputs": [
        {
          "output_type": "display_data",
          "data": {
            "image/png": "[encoded data removed]",
            "text/plain": [
              "<Figure size 432x288 with 1 Axes>"
            ]
          },
          "metadata": {
            "tags": [],
            "needs_background": "light"
          }
        }
      ]
    },
    {
      "cell_type": "code",
      "metadata": {
        "colab": {
          "base_uri": "https://localhost:8080/"
        },
        "id": "NKsreTCCjoLl",
        "outputId": "751423d6-fb34-4aa5-f7d5-f5ecebdd0e45"
      },
      "source": [
        "best_parameters_index = iris_perf_df['testingAccuracy'].argmax()\n",
        "iris_perf_df.iloc[best_parameters_index]"
      ],
      "execution_count": null,
      "outputs": [
        {
          "output_type": "execute_result",
          "data": {
            "text/plain": [
              "trainingAccuracy    0.978571\n",
              "testingAccuracy     0.990476\n",
              "performance         0.174195\n",
              "Name: (0.8, 0.1, 25.0), dtype: float64"
            ]
          },
          "metadata": {
            "tags": []
          },
          "execution_count": 58
        }
      ]
    },
    {
      "cell_type": "code",
      "metadata": {
        "colab": {
          "base_uri": "https://localhost:8080/"
        },
        "id": "3h-UXLbwl_WD",
        "outputId": "c583e9c9-5889-414f-91c0-5ce7dda76213"
      },
      "source": [
        "worst_parameters_index = iris_perf_df['testingAccuracy'].argmin()\n",
        "iris_perf_df.iloc[worst_parameters_index]"
      ],
      "execution_count": null,
      "outputs": [
        {
          "output_type": "execute_result",
          "data": {
            "text/plain": [
              "trainingAccuracy    0.309524\n",
              "testingAccuracy     0.247619\n",
              "performance         0.200729\n",
              "Name: (0.99, 0.0001, 5.0), dtype: float64"
            ]
          },
          "metadata": {
            "tags": []
          },
          "execution_count": 59
        }
      ]
    },
    {
      "cell_type": "markdown",
      "metadata": {
        "id": "U__RgY2yS1HV"
      },
      "source": [
        "To avoid outliers, we compute \\[0.20, 1.00\\] accuracy interval\n"
      ]
    },
    {
      "cell_type": "code",
      "metadata": {
        "colab": {
          "base_uri": "https://localhost:8080/"
        },
        "id": "qzAFe0LtS1HV",
        "outputId": "b6a64e2e-cb69-4fd6-e5b3-8d272a7788fc"
      },
      "source": [
        "lower_bound, upper_bound = seisms_perf_df['testingAccuracy'].quantile([0.20, 1.0])\n",
        "print(lower_bound, upper_bound)"
      ],
      "execution_count": null,
      "outputs": [
        {
          "output_type": "stream",
          "text": [
            "0.6721088435374151 0.9387755102040816\n"
          ],
          "name": "stdout"
        }
      ]
    },
    {
      "cell_type": "code",
      "metadata": {
        "colab": {
          "base_uri": "https://localhost:8080/",
          "height": 575
        },
        "id": "sk9BSpj3brdo",
        "outputId": "52a5c3d1-ea74-4f2e-a02d-6a1cdf21cc6c"
      },
      "source": [
        "show_3d_plot(iris_perf_df, vmin=lower_bound, vmax=upper_bound)"
      ],
      "execution_count": null,
      "outputs": [
        {
          "output_type": "display_data",
          "data": {
            "image/png": "[encoded data removed]",
            "text/plain": [
              "<Figure size 864x720 with 2 Axes>"
            ]
          },
          "metadata": {
            "tags": [],
            "needs_background": "light"
          }
        }
      ]
    },
    {
      "cell_type": "markdown",
      "metadata": {
        "id": "a3_KybYTlMlQ"
      },
      "source": [
        "#### Seismic-bumps"
      ]
    },
    {
      "cell_type": "code",
      "metadata": {
        "colab": {
          "base_uri": "https://localhost:8080/",
          "height": 450
        },
        "id": "YoqOfo-zfq1_",
        "outputId": "7e81c799-404f-45e4-eba1-a1f81d45665e"
      },
      "source": [
        "try:\n",
        "    seisms_perf_df.set_index(['beta', 'learning_rate', 'batch_size'], inplace=True)\n",
        "except KeyError:\n",
        "    # indices have already been updated!\n",
        "    pass\n",
        "seisms_perf_df.to_csv('./data/seisms_perf_df.csv')\n",
        "seisms_perf_df"
      ],
      "execution_count": null,
      "outputs": [
        {
          "output_type": "execute_result",
          "data": {
            "text/html": [
              "<div>\n",
              "<style scoped>\n",
              "    .dataframe tbody tr th:only-of-type {\n",
              "        vertical-align: middle;\n",
              "    }\n",
              "\n",
              "    .dataframe tbody tr th {\n",
              "        vertical-align: top;\n",
              "    }\n",
              "\n",
              "    .dataframe thead th {\n",
              "        text-align: right;\n",
              "    }\n",
              "</style>\n",
              "<table border=\"1\" class=\"dataframe\">\n",
              "  <thead>\n",
              "    <tr style=\"text-align: right;\">\n",
              "      <th></th>\n",
              "      <th></th>\n",
              "      <th></th>\n",
              "      <th>trainingAccuracy</th>\n",
              "      <th>testingAccuracy</th>\n",
              "      <th>performance</th>\n",
              "    </tr>\n",
              "    <tr>\n",
              "      <th>beta</th>\n",
              "      <th>learning_rate</th>\n",
              "      <th>batch_size</th>\n",
              "      <th></th>\n",
              "      <th></th>\n",
              "      <th></th>\n",
              "    </tr>\n",
              "  </thead>\n",
              "  <tbody>\n",
              "    <tr>\n",
              "      <th rowspan=\"5\" valign=\"top\">0.01</th>\n",
              "      <th rowspan=\"5\" valign=\"top\">0.0001</th>\n",
              "      <th>1.0</th>\n",
              "      <td>0.365079</td>\n",
              "      <td>0.319728</td>\n",
              "      <td>0.324975</td>\n",
              "    </tr>\n",
              "    <tr>\n",
              "      <th>2.0</th>\n",
              "      <td>0.460317</td>\n",
              "      <td>0.408163</td>\n",
              "      <td>0.265106</td>\n",
              "    </tr>\n",
              "    <tr>\n",
              "      <th>5.0</th>\n",
              "      <td>0.682540</td>\n",
              "      <td>0.680272</td>\n",
              "      <td>0.210353</td>\n",
              "    </tr>\n",
              "    <tr>\n",
              "      <th>10.0</th>\n",
              "      <td>0.730159</td>\n",
              "      <td>0.775510</td>\n",
              "      <td>0.198882</td>\n",
              "    </tr>\n",
              "    <tr>\n",
              "      <th>25.0</th>\n",
              "      <td>0.888889</td>\n",
              "      <td>0.911565</td>\n",
              "      <td>0.185216</td>\n",
              "    </tr>\n",
              "    <tr>\n",
              "      <th>...</th>\n",
              "      <th>...</th>\n",
              "      <th>...</th>\n",
              "      <td>...</td>\n",
              "      <td>...</td>\n",
              "      <td>...</td>\n",
              "    </tr>\n",
              "    <tr>\n",
              "      <th rowspan=\"5\" valign=\"top\">0.99</th>\n",
              "      <th rowspan=\"5\" valign=\"top\">1.0000</th>\n",
              "      <th>50.0</th>\n",
              "      <td>0.920635</td>\n",
              "      <td>0.884354</td>\n",
              "      <td>0.171697</td>\n",
              "    </tr>\n",
              "    <tr>\n",
              "      <th>50.0</th>\n",
              "      <td>0.920635</td>\n",
              "      <td>0.870748</td>\n",
              "      <td>0.177411</td>\n",
              "    </tr>\n",
              "    <tr>\n",
              "      <th>79.0</th>\n",
              "      <td>0.920635</td>\n",
              "      <td>0.877551</td>\n",
              "      <td>0.171682</td>\n",
              "    </tr>\n",
              "    <tr>\n",
              "      <th>108.0</th>\n",
              "      <td>0.920635</td>\n",
              "      <td>0.891156</td>\n",
              "      <td>0.172749</td>\n",
              "    </tr>\n",
              "    <tr>\n",
              "      <th>137.0</th>\n",
              "      <td>0.904762</td>\n",
              "      <td>0.884354</td>\n",
              "      <td>0.173302</td>\n",
              "    </tr>\n",
              "  </tbody>\n",
              "</table>\n",
              "<p>420 rows × 3 columns</p>\n",
              "</div>"
            ],
            "text/plain": [
              "                               trainingAccuracy  testingAccuracy  performance\n",
              "beta learning_rate batch_size                                                \n",
              "0.01 0.0001        1.0                 0.365079         0.319728     0.324975\n",
              "                   2.0                 0.460317         0.408163     0.265106\n",
              "                   5.0                 0.682540         0.680272     0.210353\n",
              "                   10.0                0.730159         0.775510     0.198882\n",
              "                   25.0                0.888889         0.911565     0.185216\n",
              "...                                         ...              ...          ...\n",
              "0.99 1.0000        50.0                0.920635         0.884354     0.171697\n",
              "                   50.0                0.920635         0.870748     0.177411\n",
              "                   79.0                0.920635         0.877551     0.171682\n",
              "                   108.0               0.920635         0.891156     0.172749\n",
              "                   137.0               0.904762         0.884354     0.173302\n",
              "\n",
              "[420 rows x 3 columns]"
            ]
          },
          "metadata": {
            "tags": []
          },
          "execution_count": 62
        }
      ]
    },
    {
      "cell_type": "code",
      "metadata": {
        "colab": {
          "base_uri": "https://localhost:8080/",
          "height": 173
        },
        "id": "HW57H8UkauGV",
        "outputId": "3fae1d47-c040-49bd-a01e-89bd743f2e66"
      },
      "source": [
        "seisms_comparison_list = [seisms_perf_df, seisms_perf_KNN_df, seisms_perf_tree_df, seisms_perf_NB_df]\n",
        "\n",
        "seisms_perf_comp_df = get_algo_perf_comparison_df(seisms_comparison_list)\n",
        "seisms_perf_comp_df['std'] = seisms_perf_comp_df['std'].fillna(0)\n",
        "seisms_perf_comp_df"
      ],
      "execution_count": null,
      "outputs": [
        {
          "output_type": "execute_result",
          "data": {
            "text/html": [
              "<div>\n",
              "<style scoped>\n",
              "    .dataframe tbody tr th:only-of-type {\n",
              "        vertical-align: middle;\n",
              "    }\n",
              "\n",
              "    .dataframe tbody tr th {\n",
              "        vertical-align: top;\n",
              "    }\n",
              "\n",
              "    .dataframe thead th {\n",
              "        text-align: right;\n",
              "    }\n",
              "</style>\n",
              "<table border=\"1\" class=\"dataframe\">\n",
              "  <thead>\n",
              "    <tr style=\"text-align: right;\">\n",
              "      <th></th>\n",
              "      <th>mean</th>\n",
              "      <th>std</th>\n",
              "      <th>min</th>\n",
              "      <th>max</th>\n",
              "    </tr>\n",
              "  </thead>\n",
              "  <tbody>\n",
              "    <tr>\n",
              "      <th>0</th>\n",
              "      <td>0.928571</td>\n",
              "      <td>0.172294</td>\n",
              "      <td>0.319728</td>\n",
              "      <td>0.938776</td>\n",
              "    </tr>\n",
              "    <tr>\n",
              "      <th>1</th>\n",
              "      <td>0.913793</td>\n",
              "      <td>0.008626</td>\n",
              "      <td>0.875862</td>\n",
              "      <td>0.917241</td>\n",
              "    </tr>\n",
              "    <tr>\n",
              "      <th>2</th>\n",
              "      <td>0.910345</td>\n",
              "      <td>0.040150</td>\n",
              "      <td>0.586207</td>\n",
              "      <td>0.924138</td>\n",
              "    </tr>\n",
              "    <tr>\n",
              "      <th>3</th>\n",
              "      <td>0.917241</td>\n",
              "      <td>0.000000</td>\n",
              "      <td>0.917241</td>\n",
              "      <td>0.917241</td>\n",
              "    </tr>\n",
              "  </tbody>\n",
              "</table>\n",
              "</div>"
            ],
            "text/plain": [
              "       mean       std       min       max\n",
              "0  0.928571  0.172294  0.319728  0.938776\n",
              "1  0.913793  0.008626  0.875862  0.917241\n",
              "2  0.910345  0.040150  0.586207  0.924138\n",
              "3  0.917241  0.000000  0.917241  0.917241"
            ]
          },
          "metadata": {
            "tags": []
          },
          "execution_count": 63
        }
      ]
    },
    {
      "cell_type": "code",
      "metadata": {
        "colab": {
          "base_uri": "https://localhost:8080/",
          "height": 281
        },
        "id": "7jGq2ht0mHl3",
        "outputId": "f77400b8-6275-436e-b7c6-309fdc1641a3"
      },
      "source": [
        "plot_perf_comparison_df(seisms_perf_comp_df)"
      ],
      "execution_count": null,
      "outputs": [
        {
          "output_type": "display_data",
          "data": {
            "image/png": "[encoded data removed]",
            "text/plain": [
              "<Figure size 432x288 with 1 Axes>"
            ]
          },
          "metadata": {
            "tags": [],
            "needs_background": "light"
          }
        }
      ]
    },
    {
      "cell_type": "code",
      "metadata": {
        "colab": {
          "base_uri": "https://localhost:8080/"
        },
        "id": "fqflx3vmlWzK",
        "outputId": "0067e8c1-6c39-4584-b4da-bb0d4b241b55"
      },
      "source": [
        "best_parameters_index = seisms_perf_df['testingAccuracy'].argmax()\n",
        "seisms_perf_df.iloc[best_parameters_index]"
      ],
      "execution_count": null,
      "outputs": [
        {
          "output_type": "execute_result",
          "data": {
            "text/plain": [
              "trainingAccuracy    0.920635\n",
              "testingAccuracy     0.938776\n",
              "performance         0.174740\n",
              "Name: (0.2, 1.0, 50.0), dtype: float64"
            ]
          },
          "metadata": {
            "tags": []
          },
          "execution_count": 65
        }
      ]
    },
    {
      "cell_type": "code",
      "metadata": {
        "colab": {
          "base_uri": "https://localhost:8080/"
        },
        "id": "XjaBtQx6lgJM",
        "outputId": "f68a2341-2da0-4a53-b5f8-c3e0631c9c16"
      },
      "source": [
        "worst_parameters_index = seisms_perf_df['testingAccuracy'].argmin()\n",
        "seisms_perf_df.iloc[worst_parameters_index]"
      ],
      "execution_count": null,
      "outputs": [
        {
          "output_type": "execute_result",
          "data": {
            "text/plain": [
              "trainingAccuracy    0.365079\n",
              "testingAccuracy     0.319728\n",
              "performance         0.324975\n",
              "Name: (0.01, 0.0001, 1.0), dtype: float64"
            ]
          },
          "metadata": {
            "tags": []
          },
          "execution_count": 66
        }
      ]
    },
    {
      "cell_type": "markdown",
      "metadata": {
        "id": "aqYvmWfhTQt9"
      },
      "source": [
        "To avoid outliers, we compute \\[0.20, 1.00\\] accuracy interval\n"
      ]
    },
    {
      "cell_type": "code",
      "metadata": {
        "colab": {
          "base_uri": "https://localhost:8080/"
        },
        "id": "DHUZpuouTQt9",
        "outputId": "5b552dc4-95f5-4d16-81ae-156bb5658097"
      },
      "source": [
        "lower_bound, upper_bound = seisms_perf_df['testingAccuracy'].quantile([0.20, 1.0])\n",
        "print(lower_bound, upper_bound)"
      ],
      "execution_count": null,
      "outputs": [
        {
          "output_type": "stream",
          "text": [
            "0.6721088435374151 0.9387755102040816\n"
          ],
          "name": "stdout"
        }
      ]
    },
    {
      "cell_type": "code",
      "metadata": {
        "colab": {
          "base_uri": "https://localhost:8080/",
          "height": 575
        },
        "id": "I7wW6wtOTQuD",
        "outputId": "48acd753-4f96-47c3-ae8d-971a0fc51cbe"
      },
      "source": [
        "show_3d_plot(seisms_perf_df, vmin=lower_bound, vmax=upper_bound)"
      ],
      "execution_count": null,
      "outputs": [
        {
          "output_type": "display_data",
          "data": {
            "image/png": "[encoded data removed]",
            "text/plain": [
              "<Figure size 864x720 with 2 Axes>"
            ]
          },
          "metadata": {
            "tags": [],
            "needs_background": "light"
          }
        }
      ]
    },
    {
      "cell_type": "markdown",
      "metadata": {
        "id": "ULLZAdXbltI-"
      },
      "source": [
        "#### Credit-G"
      ]
    },
    {
      "cell_type": "code",
      "metadata": {
        "colab": {
          "base_uri": "https://localhost:8080/",
          "height": 450
        },
        "id": "AMXheW0df1__",
        "outputId": "a75f43de-73c6-426f-eca5-0c306b203239"
      },
      "source": [
        "try:\n",
        "    credit_perf_df.set_index(['beta', 'learning_rate', 'batch_size'], inplace=True)\n",
        "except KeyError:\n",
        "    # indices have already been updated!\n",
        "    pass\n",
        "credit_perf_df.to_csv('./data/credit_perf_df.csv')\n",
        "\n",
        "credit_perf_df"
      ],
      "execution_count": null,
      "outputs": [
        {
          "output_type": "execute_result",
          "data": {
            "text/html": [
              "<div>\n",
              "<style scoped>\n",
              "    .dataframe tbody tr th:only-of-type {\n",
              "        vertical-align: middle;\n",
              "    }\n",
              "\n",
              "    .dataframe tbody tr th {\n",
              "        vertical-align: top;\n",
              "    }\n",
              "\n",
              "    .dataframe thead th {\n",
              "        text-align: right;\n",
              "    }\n",
              "</style>\n",
              "<table border=\"1\" class=\"dataframe\">\n",
              "  <thead>\n",
              "    <tr style=\"text-align: right;\">\n",
              "      <th></th>\n",
              "      <th></th>\n",
              "      <th></th>\n",
              "      <th>trainingAccuracy</th>\n",
              "      <th>testingAccuracy</th>\n",
              "      <th>performance</th>\n",
              "    </tr>\n",
              "    <tr>\n",
              "      <th>beta</th>\n",
              "      <th>learning_rate</th>\n",
              "      <th>batch_size</th>\n",
              "      <th></th>\n",
              "      <th></th>\n",
              "      <th></th>\n",
              "    </tr>\n",
              "  </thead>\n",
              "  <tbody>\n",
              "    <tr>\n",
              "      <th rowspan=\"5\" valign=\"top\">0.01</th>\n",
              "      <th rowspan=\"5\" valign=\"top\">0.0001</th>\n",
              "      <th>1.0</th>\n",
              "      <td>0.365079</td>\n",
              "      <td>0.408163</td>\n",
              "      <td>0.343601</td>\n",
              "    </tr>\n",
              "    <tr>\n",
              "      <th>2.0</th>\n",
              "      <td>0.555556</td>\n",
              "      <td>0.551020</td>\n",
              "      <td>0.260316</td>\n",
              "    </tr>\n",
              "    <tr>\n",
              "      <th>5.0</th>\n",
              "      <td>0.904762</td>\n",
              "      <td>0.857143</td>\n",
              "      <td>0.204104</td>\n",
              "    </tr>\n",
              "    <tr>\n",
              "      <th>10.0</th>\n",
              "      <td>0.888889</td>\n",
              "      <td>0.877551</td>\n",
              "      <td>0.201605</td>\n",
              "    </tr>\n",
              "    <tr>\n",
              "      <th>25.0</th>\n",
              "      <td>0.920635</td>\n",
              "      <td>0.884354</td>\n",
              "      <td>0.194676</td>\n",
              "    </tr>\n",
              "    <tr>\n",
              "      <th>...</th>\n",
              "      <th>...</th>\n",
              "      <th>...</th>\n",
              "      <td>...</td>\n",
              "      <td>...</td>\n",
              "      <td>...</td>\n",
              "    </tr>\n",
              "    <tr>\n",
              "      <th rowspan=\"5\" valign=\"top\">0.99</th>\n",
              "      <th rowspan=\"5\" valign=\"top\">1.0000</th>\n",
              "      <th>50.0</th>\n",
              "      <td>0.888889</td>\n",
              "      <td>0.870748</td>\n",
              "      <td>0.172930</td>\n",
              "    </tr>\n",
              "    <tr>\n",
              "      <th>50.0</th>\n",
              "      <td>0.888889</td>\n",
              "      <td>0.870748</td>\n",
              "      <td>0.172563</td>\n",
              "    </tr>\n",
              "    <tr>\n",
              "      <th>79.0</th>\n",
              "      <td>0.888889</td>\n",
              "      <td>0.870748</td>\n",
              "      <td>0.174380</td>\n",
              "    </tr>\n",
              "    <tr>\n",
              "      <th>108.0</th>\n",
              "      <td>0.888889</td>\n",
              "      <td>0.870748</td>\n",
              "      <td>0.174607</td>\n",
              "    </tr>\n",
              "    <tr>\n",
              "      <th>137.0</th>\n",
              "      <td>0.888889</td>\n",
              "      <td>0.870748</td>\n",
              "      <td>0.196500</td>\n",
              "    </tr>\n",
              "  </tbody>\n",
              "</table>\n",
              "<p>420 rows × 3 columns</p>\n",
              "</div>"
            ],
            "text/plain": [
              "                               trainingAccuracy  testingAccuracy  performance\n",
              "beta learning_rate batch_size                                                \n",
              "0.01 0.0001        1.0                 0.365079         0.408163     0.343601\n",
              "                   2.0                 0.555556         0.551020     0.260316\n",
              "                   5.0                 0.904762         0.857143     0.204104\n",
              "                   10.0                0.888889         0.877551     0.201605\n",
              "                   25.0                0.920635         0.884354     0.194676\n",
              "...                                         ...              ...          ...\n",
              "0.99 1.0000        50.0                0.888889         0.870748     0.172930\n",
              "                   50.0                0.888889         0.870748     0.172563\n",
              "                   79.0                0.888889         0.870748     0.174380\n",
              "                   108.0               0.888889         0.870748     0.174607\n",
              "                   137.0               0.888889         0.870748     0.196500\n",
              "\n",
              "[420 rows x 3 columns]"
            ]
          },
          "metadata": {
            "tags": []
          },
          "execution_count": 69
        }
      ]
    },
    {
      "cell_type": "code",
      "metadata": {
        "colab": {
          "base_uri": "https://localhost:8080/",
          "height": 173
        },
        "id": "5hCaS0zmmeSi",
        "outputId": "598d304d-df0e-43e3-e7a1-14261a6a1c0d"
      },
      "source": [
        "credit_comparison_list = [credit_perf_df, credit_perf_KNN_df, credit_perf_tree_df, credit_perf_NB_df]\n",
        "\n",
        "credit_perf_comp_df = get_algo_perf_comparison_df(credit_comparison_list)\n",
        "credit_perf_comp_df['std'] = credit_perf_comp_df['std'].fillna(0)\n",
        "credit_perf_comp_df"
      ],
      "execution_count": null,
      "outputs": [
        {
          "output_type": "execute_result",
          "data": {
            "text/html": [
              "<div>\n",
              "<style scoped>\n",
              "    .dataframe tbody tr th:only-of-type {\n",
              "        vertical-align: middle;\n",
              "    }\n",
              "\n",
              "    .dataframe tbody tr th {\n",
              "        vertical-align: top;\n",
              "    }\n",
              "\n",
              "    .dataframe thead th {\n",
              "        text-align: right;\n",
              "    }\n",
              "</style>\n",
              "<table border=\"1\" class=\"dataframe\">\n",
              "  <thead>\n",
              "    <tr style=\"text-align: right;\">\n",
              "      <th></th>\n",
              "      <th>mean</th>\n",
              "      <th>std</th>\n",
              "      <th>min</th>\n",
              "      <th>max</th>\n",
              "    </tr>\n",
              "  </thead>\n",
              "  <tbody>\n",
              "    <tr>\n",
              "      <th>0</th>\n",
              "      <td>0.904762</td>\n",
              "      <td>0.146672</td>\n",
              "      <td>0.319728</td>\n",
              "      <td>0.911565</td>\n",
              "    </tr>\n",
              "    <tr>\n",
              "      <th>1</th>\n",
              "      <td>0.920690</td>\n",
              "      <td>0.009708</td>\n",
              "      <td>0.889655</td>\n",
              "      <td>0.924138</td>\n",
              "    </tr>\n",
              "    <tr>\n",
              "      <th>2</th>\n",
              "      <td>0.920690</td>\n",
              "      <td>0.037965</td>\n",
              "      <td>0.600000</td>\n",
              "      <td>0.931034</td>\n",
              "    </tr>\n",
              "    <tr>\n",
              "      <th>3</th>\n",
              "      <td>0.896552</td>\n",
              "      <td>0.000000</td>\n",
              "      <td>0.896552</td>\n",
              "      <td>0.896552</td>\n",
              "    </tr>\n",
              "  </tbody>\n",
              "</table>\n",
              "</div>"
            ],
            "text/plain": [
              "       mean       std       min       max\n",
              "0  0.904762  0.146672  0.319728  0.911565\n",
              "1  0.920690  0.009708  0.889655  0.924138\n",
              "2  0.920690  0.037965  0.600000  0.931034\n",
              "3  0.896552  0.000000  0.896552  0.896552"
            ]
          },
          "metadata": {
            "tags": []
          },
          "execution_count": 70
        }
      ]
    },
    {
      "cell_type": "code",
      "metadata": {
        "colab": {
          "base_uri": "https://localhost:8080/",
          "height": 281
        },
        "id": "MlqP5FFAmeSj",
        "outputId": "21b3a19b-1e3a-42fc-f4f3-7a6015d39586"
      },
      "source": [
        "plot_perf_comparison_df(credit_perf_comp_df)"
      ],
      "execution_count": null,
      "outputs": [
        {
          "output_type": "display_data",
          "data": {
            "image/png": "[encoded data removed]",
            "text/plain": [
              "<Figure size 432x288 with 1 Axes>"
            ]
          },
          "metadata": {
            "tags": [],
            "needs_background": "light"
          }
        }
      ]
    },
    {
      "cell_type": "code",
      "metadata": {
        "colab": {
          "base_uri": "https://localhost:8080/"
        },
        "id": "Rd9RCLz6l2iQ",
        "outputId": "cda3b2f3-3025-42e4-9516-9cf80b437042"
      },
      "source": [
        "best_parameters_index = credit_perf_df['testingAccuracy'].argmax()\n",
        "credit_perf_df.iloc[best_parameters_index]"
      ],
      "execution_count": null,
      "outputs": [
        {
          "output_type": "execute_result",
          "data": {
            "text/plain": [
              "trainingAccuracy    0.936508\n",
              "testingAccuracy     0.911565\n",
              "performance         0.187248\n",
              "Name: (0.2, 0.001, 25.0), dtype: float64"
            ]
          },
          "metadata": {
            "tags": []
          },
          "execution_count": 72
        }
      ]
    },
    {
      "cell_type": "code",
      "metadata": {
        "colab": {
          "base_uri": "https://localhost:8080/"
        },
        "id": "N1rD-j4il6OP",
        "outputId": "714993ae-015f-46c0-a39e-f4b2486eab85"
      },
      "source": [
        "worst_parameters_index = credit_perf_df['testingAccuracy'].argmin()\n",
        "credit_perf_df.iloc[worst_parameters_index]"
      ],
      "execution_count": null,
      "outputs": [
        {
          "output_type": "execute_result",
          "data": {
            "text/plain": [
              "trainingAccuracy    0.365079\n",
              "testingAccuracy     0.319728\n",
              "performance         0.316129\n",
              "Name: (0.99, 0.0001, 1.0), dtype: float64"
            ]
          },
          "metadata": {
            "tags": []
          },
          "execution_count": 73
        }
      ]
    },
    {
      "cell_type": "markdown",
      "metadata": {
        "id": "k74AMBz-TaFB"
      },
      "source": [
        "To avoid outliers, we compute \\[0.20, 1.00\\] accuracy interval\n"
      ]
    },
    {
      "cell_type": "code",
      "metadata": {
        "colab": {
          "base_uri": "https://localhost:8080/"
        },
        "id": "3L8NPpwRTaFB",
        "outputId": "805b6935-2868-4034-88d5-634d93a121a8"
      },
      "source": [
        "lower_bound, upper_bound = seisms_perf_df['testingAccuracy'].quantile([0.20, 1.0])\n",
        "print(lower_bound, upper_bound)"
      ],
      "execution_count": null,
      "outputs": [
        {
          "output_type": "stream",
          "text": [
            "0.6721088435374151 0.9387755102040816\n"
          ],
          "name": "stdout"
        }
      ]
    },
    {
      "cell_type": "code",
      "metadata": {
        "colab": {
          "base_uri": "https://localhost:8080/",
          "height": 575
        },
        "id": "6-xCIgDcTaFB",
        "outputId": "43cd24c0-b2a3-4ec4-d7c0-41bcbd89f239"
      },
      "source": [
        "show_3d_plot(credit_perf_df, vmin=lower_bound, vmax=upper_bound)"
      ],
      "execution_count": null,
      "outputs": [
        {
          "output_type": "display_data",
          "data": {
            "image/png": "[encoded data removed]",
            "text/plain": [
              "<Figure size 864x720 with 2 Axes>"
            ]
          },
          "metadata": {
            "tags": [],
            "needs_background": "light"
          }
        }
      ]
    }
  ]
}